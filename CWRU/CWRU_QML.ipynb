{
 "cells": [
  {
   "cell_type": "code",
   "execution_count": 177,
   "metadata": {
    "colab": {
     "base_uri": "https://localhost:8080/"
    },
    "id": "ldKRTfoKwZDD",
    "outputId": "bfa45af4-fc30-4a13-eb79-ebaaa257dff2"
   },
   "outputs": [
    {
     "data": {
      "text/plain": [
       "'\\n#To Google Colab\\n\\nfrom google.colab import drive\\ndrive.mount(\\'/content/drive\\')\\n%cd \"/content/drive/MyDrive/Codes/CWRU\" \\n'"
      ]
     },
     "execution_count": 177,
     "metadata": {},
     "output_type": "execute_result"
    }
   ],
   "source": [
    "'''\n",
    "#To Google Colab\n",
    "\n",
    "from google.colab import drive\n",
    "drive.mount('/content/drive')\n",
    "%cd \"/content/drive/MyDrive/Codes/CWRU\" \n",
    "'''"
   ]
  },
  {
   "cell_type": "code",
   "execution_count": 178,
   "metadata": {
    "id": "M1UjBcbpnUDk"
   },
   "outputs": [],
   "source": [
    "import os\n",
    "import scipy\n",
    "import scipy.io as sio\n",
    "import numpy as np\n",
    "import pandas as pd\n",
    "import seaborn as sns\n",
    "sns.set_palette(\"tab10\")"
   ]
  },
  {
   "cell_type": "code",
   "execution_count": 179,
   "metadata": {
    "colab": {
     "base_uri": "https://localhost:8080/"
    },
    "id": "DHMKLEaoponw",
    "outputId": "ca9131b4-4d98-46fe-9381-d36c75436365"
   },
   "outputs": [
    {
     "name": "stdout",
     "output_type": "stream",
     "text": [
      "scipy: 1.4.1\n",
      "numpy: 1.19.5\n",
      "pandas: 1.1.5\n",
      "seaborn: 0.11.2\n"
     ]
    }
   ],
   "source": [
    "print(f\"scipy: {scipy.__version__}\")\n",
    "print(f\"numpy: {np.__version__}\")\n",
    "print(f\"pandas: {pd.__version__}\")\n",
    "print(f\"seaborn: {sns .__version__}\")"
   ]
  },
  {
   "cell_type": "markdown",
   "metadata": {
    "id": "-Rp1bSytpzvq"
   },
   "source": [
    "## CWRU Data Generator\n",
    "\n",
    "1. Download the CWRU dataset [here.](https://engineering.case.edu/bearingdatacenter/download-data-file)\n"
   ]
  },
  {
   "cell_type": "markdown",
   "metadata": {
    "id": "MtezCPimmLhw"
   },
   "source": [
    "# Load data"
   ]
  },
  {
   "cell_type": "code",
   "execution_count": 180,
   "metadata": {
    "colab": {
     "base_uri": "https://localhost:8080/"
    },
    "id": "E767IGGGmHDJ",
    "outputId": "4c1176c3-7e39-4d34-cfb7-bd387bf05e8b"
   },
   "outputs": [
    {
     "name": "stdout",
     "output_type": "stream",
     "text": [
      "Requirement already satisfied: datasets in c:\\anaconda\\envs\\tensorflow_quantum\\lib\\site-packages (2.4.0)\n",
      "Requirement already satisfied: xxhash in c:\\anaconda\\envs\\tensorflow_quantum\\lib\\site-packages (from datasets) (3.1.0)\n",
      "Requirement already satisfied: packaging in c:\\anaconda\\envs\\tensorflow_quantum\\lib\\site-packages (from datasets) (21.3)\n",
      "Requirement already satisfied: fsspec[http]>=2021.11.1 in c:\\anaconda\\envs\\tensorflow_quantum\\lib\\site-packages (from datasets) (2022.1.0)\n",
      "Requirement already satisfied: requests>=2.19.0 in c:\\anaconda\\envs\\tensorflow_quantum\\lib\\site-packages (from datasets) (2.27.1)\n",
      "Requirement already satisfied: dataclasses in c:\\anaconda\\envs\\tensorflow_quantum\\lib\\site-packages (from datasets) (0.8)\n",
      "Requirement already satisfied: huggingface-hub<1.0.0,>=0.1.0 in c:\\anaconda\\envs\\tensorflow_quantum\\lib\\site-packages (from datasets) (0.4.0)\n",
      "Requirement already satisfied: importlib-metadata in c:\\anaconda\\envs\\tensorflow_quantum\\lib\\site-packages (from datasets) (4.8.3)\n",
      "Requirement already satisfied: tqdm>=4.62.1 in c:\\anaconda\\envs\\tensorflow_quantum\\lib\\site-packages (from datasets) (4.64.1)\n",
      "Requirement already satisfied: multiprocess in c:\\anaconda\\envs\\tensorflow_quantum\\lib\\site-packages (from datasets) (0.70.12.2)\n",
      "Requirement already satisfied: numpy>=1.17 in c:\\anaconda\\envs\\tensorflow_quantum\\lib\\site-packages (from datasets) (1.19.5)\n",
      "Requirement already satisfied: aiohttp in c:\\anaconda\\envs\\tensorflow_quantum\\lib\\site-packages (from datasets) (3.8.3)\n",
      "Requirement already satisfied: pandas in c:\\anaconda\\envs\\tensorflow_quantum\\lib\\site-packages (from datasets) (1.1.5)\n",
      "Requirement already satisfied: dill<0.3.6 in c:\\anaconda\\envs\\tensorflow_quantum\\lib\\site-packages (from datasets) (0.3.4)\n",
      "Requirement already satisfied: pyarrow>=6.0.0 in c:\\anaconda\\envs\\tensorflow_quantum\\lib\\site-packages (from datasets) (6.0.1)\n",
      "Requirement already satisfied: responses<0.19 in c:\\anaconda\\envs\\tensorflow_quantum\\lib\\site-packages (from datasets) (0.17.0)\n",
      "Requirement already satisfied: filelock in c:\\anaconda\\envs\\tensorflow_quantum\\lib\\site-packages (from huggingface-hub<1.0.0,>=0.1.0->datasets) (3.4.1)\n",
      "Requirement already satisfied: pyyaml in c:\\anaconda\\envs\\tensorflow_quantum\\lib\\site-packages (from huggingface-hub<1.0.0,>=0.1.0->datasets) (6.0)\n",
      "Requirement already satisfied: typing-extensions>=3.7.4.3 in c:\\anaconda\\envs\\tensorflow_quantum\\lib\\site-packages (from huggingface-hub<1.0.0,>=0.1.0->datasets) (4.1.1)\n",
      "Requirement already satisfied: pyparsing!=3.0.5,>=2.0.2 in c:\\anaconda\\envs\\tensorflow_quantum\\lib\\site-packages (from packaging->datasets) (3.0.9)\n",
      "Requirement already satisfied: certifi>=2017.4.17 in c:\\anaconda\\envs\\tensorflow_quantum\\lib\\site-packages (from requests>=2.19.0->datasets) (2021.5.30)\n",
      "Requirement already satisfied: charset-normalizer~=2.0.0 in c:\\anaconda\\envs\\tensorflow_quantum\\lib\\site-packages (from requests>=2.19.0->datasets) (2.0.12)\n",
      "Requirement already satisfied: urllib3<1.27,>=1.21.1 in c:\\anaconda\\envs\\tensorflow_quantum\\lib\\site-packages (from requests>=2.19.0->datasets) (1.26.12)\n",
      "Requirement already satisfied: idna<4,>=2.5 in c:\\anaconda\\envs\\tensorflow_quantum\\lib\\site-packages (from requests>=2.19.0->datasets) (3.4)\n",
      "Requirement already satisfied: six in c:\\anaconda\\envs\\tensorflow_quantum\\lib\\site-packages (from responses<0.19->datasets) (1.16.0)\n",
      "Requirement already satisfied: importlib-resources in c:\\anaconda\\envs\\tensorflow_quantum\\lib\\site-packages (from tqdm>=4.62.1->datasets) (5.4.0)\n",
      "Requirement already satisfied: colorama in c:\\anaconda\\envs\\tensorflow_quantum\\lib\\site-packages (from tqdm>=4.62.1->datasets) (0.4.5)\n",
      "Requirement already satisfied: idna-ssl>=1.0 in c:\\anaconda\\envs\\tensorflow_quantum\\lib\\site-packages (from aiohttp->datasets) (1.1.0)\n",
      "Requirement already satisfied: async-timeout<5.0,>=4.0.0a3 in c:\\anaconda\\envs\\tensorflow_quantum\\lib\\site-packages (from aiohttp->datasets) (4.0.2)\n",
      "Requirement already satisfied: aiosignal>=1.1.2 in c:\\anaconda\\envs\\tensorflow_quantum\\lib\\site-packages (from aiohttp->datasets) (1.2.0)\n",
      "Requirement already satisfied: multidict<7.0,>=4.5 in c:\\anaconda\\envs\\tensorflow_quantum\\lib\\site-packages (from aiohttp->datasets) (5.2.0)\n",
      "Requirement already satisfied: asynctest==0.13.0 in c:\\anaconda\\envs\\tensorflow_quantum\\lib\\site-packages (from aiohttp->datasets) (0.13.0)\n",
      "Requirement already satisfied: attrs>=17.3.0 in c:\\anaconda\\envs\\tensorflow_quantum\\lib\\site-packages (from aiohttp->datasets) (22.1.0)\n",
      "Requirement already satisfied: frozenlist>=1.1.1 in c:\\anaconda\\envs\\tensorflow_quantum\\lib\\site-packages (from aiohttp->datasets) (1.2.0)\n",
      "Requirement already satisfied: yarl<2.0,>=1.0 in c:\\anaconda\\envs\\tensorflow_quantum\\lib\\site-packages (from aiohttp->datasets) (1.7.2)\n",
      "Requirement already satisfied: zipp>=0.5 in c:\\anaconda\\envs\\tensorflow_quantum\\lib\\site-packages (from importlib-metadata->datasets) (3.6.0)\n",
      "Requirement already satisfied: pytz>=2017.2 in c:\\anaconda\\envs\\tensorflow_quantum\\lib\\site-packages (from pandas->datasets) (2022.5)\n",
      "Requirement already satisfied: python-dateutil>=2.7.3 in c:\\anaconda\\envs\\tensorflow_quantum\\lib\\site-packages (from pandas->datasets) (2.8.2)\n"
     ]
    }
   ],
   "source": [
    "!pip install datasets"
   ]
  },
  {
   "cell_type": "code",
   "execution_count": 181,
   "metadata": {
    "colab": {
     "base_uri": "https://localhost:8080/",
     "height": 35
    },
    "id": "KiTuqqB0kyPK",
    "outputId": "95e50906-ab09-44ca-ce8f-791394508cbf"
   },
   "outputs": [
    {
     "data": {
      "text/plain": [
       "'\\nDE - drive end accelerometer data\\nFE - fan end accelerometer data\\nBA - base accelerometer data\\n'"
      ]
     },
     "execution_count": 181,
     "metadata": {},
     "output_type": "execute_result"
    }
   ],
   "source": [
    "from tqdm import tqdm\n",
    "import datasets\n",
    "from glob import glob #finds all the pathnames matching a specified pattern according to the rules used\n",
    "import pandas as pd\n",
    "import os , scipy.io # os = if you want to manipulate paths\n",
    "from tqdm import tqdm #create progress bars and estimate TTC (Time To Completion)\n",
    "import numpy as np\n",
    "#import torch\n",
    "from scipy.io import loadmat\n",
    "import pickle\n",
    "from scipy import signal\n",
    "import scipy.stats as ss\n",
    "\n",
    "path_cwd = os.getcwd() \n",
    "\n",
    "data_directory = \"\\CWRU\"\n",
    "\n",
    "#label directory\n",
    "'''\n",
    "Fault Mode Description\n",
    "0- Health State the normal bearing at 1797 rpm and 0 HP\n",
    "1- Inner ring 1 0.007 inch inner ring fault at 1797 rpm and 0 HP\n",
    "2- Inner ring 2 0.014 inch inner ring fault at 1797 rpm and 0 HP\n",
    "3- Inner ring 3 0.021 inch inner ring fault at 1797 rpm and 0 HP\n",
    "4- Rolling Element 1 0.007 inch rolling element fault at 1797 rpm and 0 HP\n",
    "5- Rolling Element 2 0.014 inch rolling element fault at 1797 rpm and 0 HP\n",
    "6- Rolling Element 3 0.021 inch rolling element fault at 1797 rpm and 0 HP\n",
    "7- Outer ring 1 0.007 inch outer ring fault at 1797rpm and 0 HP\n",
    "8- Outer ring 2 0.014 inch outer ring fault at 1797rpm and 0 HP\n",
    "9- Outer ring 3 0.021 inch outer ring fault at 1797rpm and 0 HP\n",
    "'''\n",
    "\n",
    "#label = [1, 2]  # The failure data is labeled 1-9  -> 2 modos de falha para encaixar nos qubits\n",
    "label = [1, 2, 3, 4, 5, 6, 7, 8, 9]\n",
    "axis = [\"_DE_time\", \"_FE_time\", \"_BA_time\"]\n",
    "\n",
    "signal_size = 1024\n",
    "jump = 50\n",
    "'''\n",
    "DE - drive end accelerometer data\n",
    "FE - fan end accelerometer data\n",
    "BA - base accelerometer data\n",
    "'''"
   ]
  },
  {
   "cell_type": "code",
   "execution_count": 184,
   "metadata": {
    "id": "zp_YIrZckt3h"
   },
   "outputs": [],
   "source": [
    "\n",
    "def data_load(filename, axisname, label):\n",
    "\n",
    "    '''\n",
    "    This function is mainly used to generate test data and training data.\n",
    "    filename:Data location\n",
    "    axisname:Select which channel's data,---->\"_DE_time\",\"_FE_time\",\"_BA_time\"\n",
    "    '''\n",
    "\n",
    "    datanumber = axisname.split(\".\")\n",
    "    if eval(datanumber[0]) < 100:\n",
    "        realaxis = \"X0\" + datanumber[0] + axis[0]\n",
    "    else:\n",
    "        realaxis = \"X\" + datanumber[0] + axis[0]\n",
    "    fl = loadmat(filename)[realaxis]\n",
    "    fl = fl.reshape(-1,)\n",
    "    data = []\n",
    "    lab = []\n",
    "    start, end = 0, signal_size\n",
    "    while end <= fl.shape[0]:\n",
    "        signal_data = fl[start:end]\n",
    "        #signal_data = np.fft.fft(signal_data)\n",
    "        #signal_data = np.abs(signal_data) / len(signal_data)\n",
    "        #signal_data = signal_data[range(int(signal_data.shape[0] / 2))]\n",
    "        #signal_data = signal_data.reshape(-1,1)\n",
    "        #              #mean                 #variance             #rms                            #peak to peak                               #max aplitude\n",
    "        #signal_data = [np.mean(signal_data),np.var(signal_data), np.sqrt(np.mean(signal_data**2)), np.amax(signal_data)-np.amin(signal_data), np.amax(signal_data) ]        \n",
    "        \n",
    "                        # Mean               , Variance          , RMS_amplitude                             , peak to peak                   , max amplit.         ,     CrestFactor                                                ,  Kurtosis                   , Skewness                 ]                                           \n",
    "        #signal_data = [np.mean(signal_data), np.var(signal_data), np.sqrt(np.mean(signal_data**2)), np.amax(signal_data)-np.amin(signal_data), np.amax(signal_data), np.amax(signal_data)/np.sqrt(np.mean(np.power(signal_data, 2))) ,  ss.kurtosis(signal_data)[0],  ss.skew(signal_data)[0] ]\n",
    "        signal_data = [np.mean(signal_data), np.var(signal_data), np.sqrt(np.mean(signal_data**2)), np.amax(signal_data)-np.amin(signal_data), np.amax(signal_data), np.amax(signal_data)/np.sqrt(np.mean(np.power(signal_data, 2)))\n",
    "        ,  ss.kurtosis(signal_data[0]),  ss.skew(signal_data[0]) ]\n",
    "        data.append(signal_data)\n",
    "        lab.append(label)\n",
    "        start += signal_size\n",
    "        end += signal_size\n",
    "    return data, lab\n"
   ]
  },
  {
   "cell_type": "code",
   "execution_count": 185,
   "metadata": {
    "colab": {
     "base_uri": "https://localhost:8080/"
    },
    "id": "3qefuAwXk_AA",
    "outputId": "2e47c3ea-b2d6-40de-9e91-ccaff9ed8720"
   },
   "outputs": [
    {
     "name": "stderr",
     "output_type": "stream",
     "text": [
      "100%|████████████████████████████████████████████████████████████████████████████████████| 9/9 [00:01<00:00,  6.96it/s]\n"
     ]
    }
   ],
   "source": [
    "\n",
    "#Digital data was collected at 12,000 samples per second\n",
    "\n",
    "datasetname = [\"12k Drive End Bearing Fault Data\", \"12k Fan End Bearing Fault Data\", \"48k Drive End Bearing Fault Data\",\n",
    "               \"Normal Baseline Data\"]\n",
    "normalname = [\"97.mat\", \"98.mat\", \"99.mat\", \"100.mat\"]\n",
    "# For 12k Drive End Bearing Fault Data\n",
    "dataname1 = [\"105.mat\", \"118.mat\", \"130.mat\", \"169.mat\", \"185.mat\", \"197.mat\", \"209.mat\", \"222.mat\",\n",
    "             \"234.mat\"]  # 1797rpm\n",
    "#dataname1 = [\"105.mat\", \"118.mat\"]  # 1797rpm\n",
    "\n",
    "data = []\n",
    "lab =[]\n",
    "\n",
    "path1 = os.path.join(path_cwd,\"Normal Baseline Data\", normalname[0])  \n",
    "data, lab = data_load(path1, axisname=normalname[0],label=0)  # The label for normal data is 0\n",
    "\n",
    "for i in tqdm(range(len(dataname1))):\n",
    "    path1 = os.path.join(path_cwd,\"12k Drive End Bearing Fault Data\",dataname1[i])\n",
    "    data1, lab1 = data_load(path1,axisname=dataname1[i],label=label[i])\n",
    "    data += data1\n",
    "    lab +=lab1\n",
    "\n",
    "  "
   ]
  },
  {
   "cell_type": "code",
   "execution_count": 186,
   "metadata": {
    "id": "HNxvnuOxSRyP"
   },
   "outputs": [],
   "source": [
    "np.savez('CWRU_Quantum_8.npz', data=np.array(data), label=np.array(lab))"
   ]
  },
  {
   "cell_type": "code",
   "execution_count": 187,
   "metadata": {
    "id": "URO628AqQgjI"
   },
   "outputs": [],
   "source": [
    "dataset = np.load('CWRU_Quantum_8.npz')"
   ]
  },
  {
   "cell_type": "code",
   "execution_count": 188,
   "metadata": {
    "colab": {
     "base_uri": "https://localhost:8080/"
    },
    "id": "HayTObm5Qf9c",
    "outputId": "936d9c4b-7f9c-44d0-d9c7-3de08b22829b"
   },
   "outputs": [
    {
     "name": "stdout",
     "output_type": "stream",
     "text": [
      "[[ 1.24209681e-02  5.61899448e-03  7.59820698e-02 ...  2.86639285e+00\n",
      "  -3.00000000e+00  0.00000000e+00]\n",
      " [ 1.15889513e-02  4.82543586e-03  7.04254191e-02 ...  3.01257485e+00\n",
      "  -3.00000000e+00  0.00000000e+00]\n",
      " [ 1.46434147e-02  5.92844959e-03  7.83765219e-02 ...  2.70961835e+00\n",
      "  -3.00000000e+00  0.00000000e+00]\n",
      " ...\n",
      " [ 4.27066385e-03  2.86213699e-01  5.35006484e-01 ...  5.86201543e+00\n",
      "  -3.00000000e+00  0.00000000e+00]\n",
      " [ 4.59228223e-03  2.91095217e-01  5.39551950e-01 ...  9.16940059e+00\n",
      "  -3.00000000e+00  0.00000000e+00]\n",
      " [ 5.00035291e-03  3.88521474e-01  6.23334964e-01 ...  9.39363372e+00\n",
      "  -3.00000000e+00  0.00000000e+00]]\n"
     ]
    }
   ],
   "source": [
    "\n",
    "X = dataset['data']\n",
    "y = dataset['label']\n",
    "\n",
    "print(X)"
   ]
  },
  {
   "cell_type": "code",
   "execution_count": 189,
   "metadata": {
    "colab": {
     "base_uri": "https://localhost:8080/"
    },
    "id": "p-LptPS5U2Do",
    "outputId": "0ffcea4e-f208-4eab-9220-e1d29de34a0b"
   },
   "outputs": [
    {
     "name": "stdout",
     "output_type": "stream",
     "text": [
      "(1305, 8)\n"
     ]
    }
   ],
   "source": [
    "print(X.shape)"
   ]
  },
  {
   "cell_type": "code",
   "execution_count": 190,
   "metadata": {
    "colab": {
     "base_uri": "https://localhost:8080/",
     "height": 53
    },
    "id": "-CzjdCAxUAJy",
    "outputId": "a002500e-7353-47b9-dac6-bb1adb097a81"
   },
   "outputs": [
    {
     "data": {
      "text/plain": [
       "'\\n\\ndata_df = pd.DataFrame(np.hstack((X ,y.reshape(-1,1)) ), columns= [\"Mean\", \"Variance\", \"RMS_amplitude\", \"peak to peak\", \"Max_amplitude\", \"CrestFactor\", \"kurtosis\", \"skewness\" ,\"category\" ])\\n\\n\\nsns.pairplot(data_df, hue = \"category\")\\n'"
      ]
     },
     "execution_count": 190,
     "metadata": {},
     "output_type": "execute_result"
    }
   ],
   "source": [
    "#cwru_features = np.append(X, y, axis = 5)\n",
    "#print(cwru_features)\n",
    "'''\n",
    "\n",
    "data_df = pd.DataFrame(np.hstack((X ,y.reshape(-1,1)) ), columns= [\"Mean\", \"Variance\", \"RMS_amplitude\", \"peak to peak\", \"Max_amplitude\", \"CrestFactor\", \"kurtosis\", \"skewness\" ,\"category\" ])\n",
    "\n",
    "\n",
    "sns.pairplot(data_df, hue = \"category\")\n",
    "'''\n"
   ]
  },
  {
   "cell_type": "markdown",
   "metadata": {
    "id": "dSZJlxQ-Zq5r"
   },
   "source": [
    "#PQC"
   ]
  },
  {
   "cell_type": "markdown",
   "metadata": {
    "id": "71IScLhRHrNN"
   },
   "source": [
    "## Hybrid Quantum Classical Machine Learning - Framework 1"
   ]
  },
  {
   "cell_type": "markdown",
   "metadata": {
    "id": "xHHCICDpHz67"
   },
   "source": [
    "* We shall perform health state diagnostics of ball bearings (__CWRU__) with __TensorFlow Quantum (TFQ)__\n",
    "* For that, we use the framework 1 that is comprised of 4 steps as illustrated in the following figure."
   ]
  },
  {
   "cell_type": "markdown",
   "metadata": {
    "id": "NYKuju5XHXtw"
   },
   "source": [
    "\n",
    "#### Framework 1\n",
    "* It consists of four steps:\n",
    "    * Preprocessing data step:\n",
    "        * It could be the normalization of images to a color-map range or dimensionality reductionof raw multi-sensor data \n",
    "        * Then, the processed classical data is encoded into quantum circuits via an encoding schema\n",
    "    * Parameterized Quantum Circuit (PQC):\n",
    "        * The quantum encoded data is fed to a PQC\n",
    "        * It consists of a user defined quantum circuit composed of multiple gates that can accept external, free parameters, and that will be later optimized in the training phase\n",
    "    * Measurement:\n",
    "        * It returns the now processed quantum data to classical data\n",
    "    * Classical (deep) Neural Network:\n",
    "        * It receives the classical data from the measured PQC\n",
    "        * It performs the required fault diagnostics / prognostics or RUL prediction\n",
    "\n",
    "![image.png](data:image/png;base64,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)"
   ]
  },
  {
   "cell_type": "code",
   "execution_count": 191,
   "metadata": {
    "colab": {
     "base_uri": "https://localhost:8080/"
    },
    "id": "0n-PH42Tth--",
    "outputId": "cf1bd02b-cd93-4e67-ea4b-630a7867a522"
   },
   "outputs": [],
   "source": [
    "#!pip install --upgrade pip"
   ]
  },
  {
   "cell_type": "code",
   "execution_count": 192,
   "metadata": {
    "colab": {
     "base_uri": "https://localhost:8080/"
    },
    "id": "u-t7tHrLFlZs",
    "outputId": "92ddcd21-0e6e-4fe1-aa4e-591515f0527f"
   },
   "outputs": [],
   "source": [
    "#!pip install tensorflow==2.7.0"
   ]
  },
  {
   "cell_type": "code",
   "execution_count": 193,
   "metadata": {
    "colab": {
     "base_uri": "https://localhost:8080/"
    },
    "id": "-TrAUouRHXuF",
    "outputId": "e7395181-6a37-4064-818c-bedf3f767e9d"
   },
   "outputs": [],
   "source": [
    "#!pip install tensorflow-quantum==0.7.2"
   ]
  },
  {
   "cell_type": "code",
   "execution_count": 194,
   "metadata": {
    "colab": {
     "base_uri": "https://localhost:8080/"
    },
    "id": "yUkbMhGjFAcJ",
    "outputId": "0a043fdd-120f-427d-828e-8b9581372697"
   },
   "outputs": [
    {
     "data": {
      "text/plain": [
       "<module 'pkg_resources' from 'C:\\\\Anaconda\\\\envs\\\\tensorflow_quantum\\\\lib\\\\site-packages\\\\pkg_resources\\\\__init__.py'>"
      ]
     },
     "execution_count": 194,
     "metadata": {},
     "output_type": "execute_result"
    }
   ],
   "source": [
    "# Update package resources to account for version changes.\n",
    "import importlib, pkg_resources\n",
    "importlib.reload(pkg_resources)"
   ]
  },
  {
   "cell_type": "code",
   "execution_count": 195,
   "metadata": {
    "id": "gXwqvQU2HXuG"
   },
   "outputs": [],
   "source": [
    "import tensorflow as tf\n",
    "import tensorflow_quantum as tfq\n",
    "import cirq  #simulador de circuitos quanticos do tfq\n",
    "import sympy #biblioteca de matematica simbolica que o tfq utiliza para denominar os parâmetros dentro do PQC que vão ser aprendidos durante o treinamento\n",
    "import numpy as np\n",
    "from sklearn.model_selection import train_test_split\n",
    "from sklearn.preprocessing import MinMaxScaler\n",
    "from sklearn.metrics import confusion_matrix\n",
    "\n",
    "# visualization tools\n",
    "%matplotlib inline\n",
    "import matplotlib.pyplot as plt\n",
    "from cirq.contrib.svg import SVGCircuit #to print the circuit"
   ]
  },
  {
   "cell_type": "markdown",
   "metadata": {
    "id": "1R3ZxASAHXuG"
   },
   "source": [
    "### Classical Data Preprocessing"
   ]
  },
  {
   "cell_type": "code",
   "execution_count": 196,
   "metadata": {
    "id": "OIyiR_5-HXuH"
   },
   "outputs": [],
   "source": [
    "# Code a function to perform preprocessing on the classical dataset\n",
    "def prepare_classic_dataset():\n",
    "    \n",
    "    #np.load('CWRU_Quantum_Slice.npz') #carregar os dados\n",
    "\n",
    "    x_train, x_test, y_train, y_test = train_test_split(X, y, test_size = 0.2, random_state =1)\n",
    "    \n",
    "    scaler = MinMaxScaler(feature_range = [0, np.pi])                                                  #o valor de cada característica é classificada como o angulo do qubit, portanto, em vez de normalizar entre 0 e 1, normalizamos entre 0 e pi\n",
    "    x_train = scaler.fit_transform(x_train)\n",
    "    x_test = scaler.transform(x_test)                                                                  #só o transform, se não vai contaminar os dados de teste\n",
    "     \n",
    "    y_train = np.eye(10)[y_train]                                                                      #one hot encoder para otimizar, tem 3 características dos dados de treinamento (0, 1, 2 - modos de falha)\n",
    "    y_test = np.eye(10)[y_test]\n",
    "\n",
    "    \n",
    "    return x_train, x_test, y_train, y_test\n"
   ]
  },
  {
   "cell_type": "code",
   "execution_count": 197,
   "metadata": {
    "colab": {
     "base_uri": "https://localhost:8080/"
    },
    "id": "MHZuKS7ZHXuH",
    "outputId": "6b8e1326-4b4b-41a6-dbd9-41b5a9ebbb4d"
   },
   "outputs": [
    {
     "name": "stdout",
     "output_type": "stream",
     "text": [
      "[1.61956594 1.46152269 2.05895785 1.13290918 1.21137884 1.17523119\n",
      " 0.         0.        ]\n",
      "(1044, 8)\n",
      "(1044, 10)\n",
      "(261, 10)\n"
     ]
    }
   ],
   "source": [
    "# Prepare the classical dataset by calling the previous function\n",
    "\n",
    "x_train, x_test, y_train, y_test = prepare_classic_dataset()\n",
    "\n",
    "print(x_train[0])\n",
    "print(x_train.shape)\n",
    "print(y_train.shape)\n",
    "print(y_test.shape)\n",
    "\n",
    "#precisamos codificar as 5 características para qubits"
   ]
  },
  {
   "cell_type": "markdown",
   "metadata": {
    "id": "cfwLgphkHXuI"
   },
   "source": [
    "### Quantum Data Preprocessing: Encoding Schemas\n",
    "* One of the main challenges when working with quantum circuits and algorithms is to encode real-valued data into qubits\n",
    "* The simpler schema is called __Angle Encoding__:\n",
    "    * It generates a circuit that takes as input N qubits set in a |0⟩ state and a N-dimensional real valued vector\n",
    "    * It outputs a system of N qubits with the classical data encoded into their phases\n",
    "    * For this, the operation that is performed is as follows:\n",
    "\n",
    "$$ \\vec{x} \\rightarrow |\\psi\\rangle = S(x_0) \\otimes S(x_1) \\otimes \\cdots \\otimes S(x_{N-1}) $$ \n",
    "    \n",
    "where $S$ represents the following operation performed to each element of the classical vector:\n",
    "\n",
    "$$ S(x_i) = \\cos \\left( \\frac{\\pi}{2} x_i \\right) |0\\rangle + \\sin \\left( \\frac{\\pi}{2} x_i \\right) |1\\rangle $$\n",
    "\n",
    "* Note that this encoding schema uses $N$ qubits to encode a $N$-dimensional vector which values lie in a given interval (e.g., $[0,1]$)\n",
    "    "
   ]
  },
  {
   "cell_type": "code",
   "execution_count": 198,
   "metadata": {
    "id": "y3t9bQWeHXuI"
   },
   "outputs": [],
   "source": [
    "# Code a function to perform Angle Encoding of the preprocssed classical data\n",
    "\n",
    "#Angle encoding é o mais rápido, mas é o menos eficiente.\n",
    "#mapeamento de um vetor 1x5 para o estado quantico |psi>, a partir do produto tensorial entre cada uma das caracteristicas. \n",
    "#codificado dentro do angulo teta do qubit com relação ao |0>\n",
    "#é como se fosse um Hadamard forçado, onde o angulo que se tem de rotação é proporcional ao valor da característica sendo codificada.\n",
    "\n",
    "def prepare_quantum_dataset(x):\n",
    "\n",
    "    #a partir de circuito entre o cirq e o qskit é parecida  \n",
    "    q = cirq.GridQubit.rect(1, len(x)) #Semelhante ao QuantumRegister on qiskit \n",
    "    #no GridQubit cria uma matriz de multiplos qubits, nesse caso um vetor 1x5\n",
    "    \n",
    "    #Operações\n",
    "\n",
    "    #as operações no angle encoding são semelhantes a uma rotação ry\n",
    "    \n",
    "    ops = [cirq.ry(2 * x[i]).on(q[i]) for i in range(len(x))] #ry operando \"on\" qubit i dentro da lista\n",
    "    #na esfera de blohr que tem no cirq do tfq, o angulo que se define é 2*pi/2. portanto, se quer uma rotação de pi/2 tem que multiplicar o angulo por 2\n",
    "    #se quer o x multiplicado por meia volta, tem que considerar a volta inteira\n",
    "\n",
    "    circuit = cirq.Circuit(ops) #equivalente a classe quantumcircuit do qiskit\n",
    "    \n",
    "    return circuit\n",
    "    "
   ]
  },
  {
   "cell_type": "code",
   "execution_count": 199,
   "metadata": {
    "colab": {
     "base_uri": "https://localhost:8080/",
     "height": 306
    },
    "id": "W8hKdJkAHXuI",
    "outputId": "32fe6f62-cee0-4bc1-97c4-bb138818c34e"
   },
   "outputs": [
    {
     "name": "stdout",
     "output_type": "stream",
     "text": [
      "[1.61956594 1.46152269 2.05895785 1.13290918 1.21137884 1.17523119\n",
      " 0.         0.        ]\n"
     ]
    },
    {
     "data": {
      "image/svg+xml": [
       "<svg xmlns=\"http://www.w3.org/2000/svg\" width=\"204.0153515625\" height=\"400.0\"><line x1=\"32.246796875\" x2=\"174.0153515625\" y1=\"25.0\" y2=\"25.0\" stroke=\"#1967d2\" stroke-width=\"1\" /><line x1=\"32.246796875\" x2=\"174.0153515625\" y1=\"75.0\" y2=\"75.0\" stroke=\"#1967d2\" stroke-width=\"1\" /><line x1=\"32.246796875\" x2=\"174.0153515625\" y1=\"125.0\" y2=\"125.0\" stroke=\"#1967d2\" stroke-width=\"1\" /><line x1=\"32.246796875\" x2=\"174.0153515625\" y1=\"175.0\" y2=\"175.0\" stroke=\"#1967d2\" stroke-width=\"1\" /><line x1=\"32.246796875\" x2=\"174.0153515625\" y1=\"225.0\" y2=\"225.0\" stroke=\"#1967d2\" stroke-width=\"1\" /><line x1=\"32.246796875\" x2=\"174.0153515625\" y1=\"275.0\" y2=\"275.0\" stroke=\"#1967d2\" stroke-width=\"1\" /><line x1=\"32.246796875\" x2=\"174.0153515625\" y1=\"325.0\" y2=\"325.0\" stroke=\"#1967d2\" stroke-width=\"1\" /><line x1=\"32.246796875\" x2=\"174.0153515625\" y1=\"375.0\" y2=\"375.0\" stroke=\"#1967d2\" stroke-width=\"1\" /><rect x=\"10.0\" y=\"5.0\" width=\"44.49359375\" height=\"40\" stroke=\"black\" fill=\"white\" stroke-width=\"0\" /><text x=\"32.246796875\" y=\"25.0\" dominant-baseline=\"middle\" text-anchor=\"middle\" font-size=\"14px\">(0, 0): </text><rect x=\"10.0\" y=\"55.0\" width=\"44.49359375\" height=\"40\" stroke=\"black\" fill=\"white\" stroke-width=\"0\" /><text x=\"32.246796875\" y=\"75.0\" dominant-baseline=\"middle\" text-anchor=\"middle\" font-size=\"14px\">(0, 1): </text><rect x=\"10.0\" y=\"105.0\" width=\"44.49359375\" height=\"40\" stroke=\"black\" fill=\"white\" stroke-width=\"0\" /><text x=\"32.246796875\" y=\"125.0\" dominant-baseline=\"middle\" text-anchor=\"middle\" font-size=\"14px\">(0, 2): </text><rect x=\"10.0\" y=\"155.0\" width=\"44.49359375\" height=\"40\" stroke=\"black\" fill=\"white\" stroke-width=\"0\" /><text x=\"32.246796875\" y=\"175.0\" dominant-baseline=\"middle\" text-anchor=\"middle\" font-size=\"14px\">(0, 3): </text><rect x=\"10.0\" y=\"205.0\" width=\"44.49359375\" height=\"40\" stroke=\"black\" fill=\"white\" stroke-width=\"0\" /><text x=\"32.246796875\" y=\"225.0\" dominant-baseline=\"middle\" text-anchor=\"middle\" font-size=\"14px\">(0, 4): </text><rect x=\"10.0\" y=\"255.0\" width=\"44.49359375\" height=\"40\" stroke=\"black\" fill=\"white\" stroke-width=\"0\" /><text x=\"32.246796875\" y=\"275.0\" dominant-baseline=\"middle\" text-anchor=\"middle\" font-size=\"14px\">(0, 5): </text><rect x=\"10.0\" y=\"305.0\" width=\"44.49359375\" height=\"40\" stroke=\"black\" fill=\"white\" stroke-width=\"0\" /><text x=\"32.246796875\" y=\"325.0\" dominant-baseline=\"middle\" text-anchor=\"middle\" font-size=\"14px\">(0, 6): </text><rect x=\"10.0\" y=\"355.0\" width=\"44.49359375\" height=\"40\" stroke=\"black\" fill=\"white\" stroke-width=\"0\" /><text x=\"32.246796875\" y=\"375.0\" dominant-baseline=\"middle\" text-anchor=\"middle\" font-size=\"14px\">(0, 7): </text><rect x=\"74.49359375\" y=\"5.0\" width=\"79.5217578125\" height=\"40\" stroke=\"black\" fill=\"white\" stroke-width=\"1\" /><text x=\"114.25447265625\" y=\"25.0\" dominant-baseline=\"middle\" text-anchor=\"middle\" font-size=\"14px\">Ry(1.031π)</text><rect x=\"74.49359375\" y=\"55.0\" width=\"79.5217578125\" height=\"40\" stroke=\"black\" fill=\"white\" stroke-width=\"1\" /><text x=\"114.25447265625\" y=\"75.0\" dominant-baseline=\"middle\" text-anchor=\"middle\" font-size=\"14px\">Ry(0.93π)</text><rect x=\"74.49359375\" y=\"105.0\" width=\"79.5217578125\" height=\"40\" stroke=\"black\" fill=\"white\" stroke-width=\"1\" /><text x=\"114.25447265625\" y=\"125.0\" dominant-baseline=\"middle\" text-anchor=\"middle\" font-size=\"14px\">Ry(1.311π)</text><rect x=\"74.49359375\" y=\"155.0\" width=\"79.5217578125\" height=\"40\" stroke=\"black\" fill=\"white\" stroke-width=\"1\" /><text x=\"114.25447265625\" y=\"175.0\" dominant-baseline=\"middle\" text-anchor=\"middle\" font-size=\"14px\">Ry(0.721π)</text><rect x=\"74.49359375\" y=\"205.0\" width=\"79.5217578125\" height=\"40\" stroke=\"black\" fill=\"white\" stroke-width=\"1\" /><text x=\"114.25447265625\" y=\"225.0\" dominant-baseline=\"middle\" text-anchor=\"middle\" font-size=\"14px\">Ry(0.771π)</text><rect x=\"74.49359375\" y=\"255.0\" width=\"79.5217578125\" height=\"40\" stroke=\"black\" fill=\"white\" stroke-width=\"1\" /><text x=\"114.25447265625\" y=\"275.0\" dominant-baseline=\"middle\" text-anchor=\"middle\" font-size=\"14px\">Ry(0.748π)</text><rect x=\"74.49359375\" y=\"305.0\" width=\"79.5217578125\" height=\"40\" stroke=\"black\" fill=\"white\" stroke-width=\"1\" /><text x=\"114.25447265625\" y=\"325.0\" dominant-baseline=\"middle\" text-anchor=\"middle\" font-size=\"14px\">Ry(0.0π)</text><rect x=\"74.49359375\" y=\"355.0\" width=\"79.5217578125\" height=\"40\" stroke=\"black\" fill=\"white\" stroke-width=\"1\" /><text x=\"114.25447265625\" y=\"375.0\" dominant-baseline=\"middle\" text-anchor=\"middle\" font-size=\"14px\">Ry(0.0π)</text></svg>"
      ],
      "text/plain": [
       "<cirq.contrib.svg.svg.SVGCircuit at 0x1bf130f1160>"
      ]
     },
     "execution_count": 199,
     "metadata": {},
     "output_type": "execute_result"
    }
   ],
   "source": [
    "# Do the actual quantum dataset preparation from the preprocessed classical data\n",
    "\n",
    "x_train_q = [prepare_quantum_dataset(x) for x in x_train] #faz um for pq a função \"prepare_quantum_dataset\" só processa um registro por vez\n",
    "x_test_q = [prepare_quantum_dataset(x) for x in x_test]\n",
    "\n",
    "print(x_train[0])\n",
    "SVGCircuit(x_train_q[0]) #visualizar o circuito\n",
    "\n",
    "#os qubits não estão em sobreposição, nem entrelaçados"
   ]
  },
  {
   "cell_type": "markdown",
   "metadata": {
    "id": "IpLzbze5HXuJ"
   },
   "source": [
    "### Parameterized Quantum Circuit (PQC)"
   ]
  },
  {
   "cell_type": "code",
   "execution_count": 240,
   "metadata": {
    "colab": {
     "base_uri": "https://localhost:8080/",
     "height": 291
    },
    "id": "icVbjoxCHXuJ",
    "outputId": "51c22515-5cba-4d1b-f83a-16bcb1ffb669",
    "scrolled": true
   },
   "outputs": [
    {
     "data": {
      "image/svg+xml": [
       "<svg xmlns=\"http://www.w3.org/2000/svg\" width=\"7276.2528906250045\" height=\"440.0\"><line x1=\"32.246796875\" x2=\"7246.2528906250045\" y1=\"45.0\" y2=\"45.0\" stroke=\"#1967d2\" stroke-width=\"1\" /><line x1=\"32.246796875\" x2=\"7246.2528906250045\" y1=\"95.0\" y2=\"95.0\" stroke=\"#1967d2\" stroke-width=\"1\" /><line x1=\"32.246796875\" x2=\"7246.2528906250045\" y1=\"145.0\" y2=\"145.0\" stroke=\"#1967d2\" stroke-width=\"1\" /><line x1=\"32.246796875\" x2=\"7246.2528906250045\" y1=\"195.0\" y2=\"195.0\" stroke=\"#1967d2\" stroke-width=\"1\" /><line x1=\"32.246796875\" x2=\"7246.2528906250045\" y1=\"245.0\" y2=\"245.0\" stroke=\"#1967d2\" stroke-width=\"1\" /><line x1=\"32.246796875\" x2=\"7246.2528906250045\" y1=\"295.0\" y2=\"295.0\" stroke=\"#1967d2\" stroke-width=\"1\" /><line x1=\"32.246796875\" x2=\"7246.2528906250045\" y1=\"345.0\" y2=\"345.0\" stroke=\"#1967d2\" stroke-width=\"1\" /><line x1=\"32.246796875\" x2=\"7246.2528906250045\" y1=\"395.0\" y2=\"395.0\" stroke=\"#1967d2\" stroke-width=\"1\" /><line x1=\"6466.5808984375035\" x2=\"6559.195429687504\" y1=\"5.0\" y2=\"5.0\" stroke=\"black\" stroke-width=\"1\" /><line x1=\"6466.5808984375035\" x2=\"6559.195429687504\" y1=\"435.0\" y2=\"435.0\" stroke=\"black\" stroke-width=\"1\" /><line x1=\"5743.836250000001\" x2=\"5836.4507812500015\" y1=\"5.0\" y2=\"5.0\" stroke=\"black\" stroke-width=\"1\" /><line x1=\"5743.836250000001\" x2=\"5836.4507812500015\" y1=\"435.0\" y2=\"435.0\" stroke=\"black\" stroke-width=\"1\" /><line x1=\"5021.091601562499\" x2=\"5113.706132812499\" y1=\"5.0\" y2=\"5.0\" stroke=\"black\" stroke-width=\"1\" /><line x1=\"5021.091601562499\" x2=\"5113.706132812499\" y1=\"435.0\" y2=\"435.0\" stroke=\"black\" stroke-width=\"1\" /><line x1=\"4298.346953124997\" x2=\"4390.961484374997\" y1=\"5.0\" y2=\"5.0\" stroke=\"black\" stroke-width=\"1\" /><line x1=\"4298.346953124997\" x2=\"4390.961484374997\" y1=\"435.0\" y2=\"435.0\" stroke=\"black\" stroke-width=\"1\" /><line x1=\"3575.6023046874966\" x2=\"3668.2168359374964\" y1=\"5.0\" y2=\"5.0\" stroke=\"black\" stroke-width=\"1\" /><line x1=\"3575.6023046874966\" x2=\"3668.2168359374964\" y1=\"435.0\" y2=\"435.0\" stroke=\"black\" stroke-width=\"1\" /><line x1=\"2852.8576562499984\" x2=\"2945.472187499998\" y1=\"5.0\" y2=\"5.0\" stroke=\"black\" stroke-width=\"1\" /><line x1=\"2852.8576562499984\" x2=\"2945.472187499998\" y1=\"435.0\" y2=\"435.0\" stroke=\"black\" stroke-width=\"1\" /><line x1=\"2130.1130078125\" x2=\"2222.7275390625\" y1=\"5.0\" y2=\"5.0\" stroke=\"black\" stroke-width=\"1\" /><line x1=\"2130.1130078125\" x2=\"2222.7275390625\" y1=\"435.0\" y2=\"435.0\" stroke=\"black\" stroke-width=\"1\" /><line x1=\"1407.3683593750004\" x2=\"1499.9828906250004\" y1=\"5.0\" y2=\"5.0\" stroke=\"black\" stroke-width=\"1\" /><line x1=\"1407.3683593750004\" x2=\"1499.9828906250004\" y1=\"435.0\" y2=\"435.0\" stroke=\"black\" stroke-width=\"1\" /><line x1=\"684.6237109375002\" x2=\"777.2382421875002\" y1=\"5.0\" y2=\"5.0\" stroke=\"black\" stroke-width=\"1\" /><line x1=\"684.6237109375002\" x2=\"777.2382421875002\" y1=\"435.0\" y2=\"435.0\" stroke=\"black\" stroke-width=\"1\" /><line x1=\"281.5510546875\" x2=\"281.5510546875\" y1=\"45.0\" y2=\"95.0\" stroke=\"black\" stroke-width=\"3\" /><line x1=\"341.5510546875\" x2=\"341.5510546875\" y1=\"95.0\" y2=\"145.0\" stroke=\"black\" stroke-width=\"3\" /><line x1=\"402.85832031250004\" x2=\"402.85832031250004\" y1=\"145.0\" y2=\"195.0\" stroke=\"black\" stroke-width=\"3\" /><line x1=\"465.47285156250007\" x2=\"465.47285156250007\" y1=\"195.0\" y2=\"245.0\" stroke=\"black\" stroke-width=\"3\" /><line x1=\"528.0873828125001\" x2=\"528.0873828125001\" y1=\"245.0\" y2=\"295.0\" stroke=\"black\" stroke-width=\"3\" /><line x1=\"590.7019140625001\" x2=\"590.7019140625001\" y1=\"295.0\" y2=\"345.0\" stroke=\"black\" stroke-width=\"3\" /><line x1=\"653.3164453125002\" x2=\"653.3164453125002\" y1=\"345.0\" y2=\"395.0\" stroke=\"black\" stroke-width=\"3\" /><line x1=\"704.6237109375002\" x2=\"704.6237109375002\" y1=\"45.0\" y2=\"395.0\" stroke=\"black\" stroke-width=\"3\" /><line x1=\"1004.2957031250003\" x2=\"1004.2957031250003\" y1=\"45.0\" y2=\"95.0\" stroke=\"black\" stroke-width=\"3\" /><line x1=\"1064.2957031250003\" x2=\"1064.2957031250003\" y1=\"95.0\" y2=\"145.0\" stroke=\"black\" stroke-width=\"3\" /><line x1=\"1125.6029687500002\" x2=\"1125.6029687500002\" y1=\"145.0\" y2=\"195.0\" stroke=\"black\" stroke-width=\"3\" /><line x1=\"1188.2175000000002\" x2=\"1188.2175000000002\" y1=\"195.0\" y2=\"245.0\" stroke=\"black\" stroke-width=\"3\" /><line x1=\"1250.8320312500002\" x2=\"1250.8320312500002\" y1=\"245.0\" y2=\"295.0\" stroke=\"black\" stroke-width=\"3\" /><line x1=\"1313.4465625000003\" x2=\"1313.4465625000003\" y1=\"295.0\" y2=\"345.0\" stroke=\"black\" stroke-width=\"3\" /><line x1=\"1376.0610937500003\" x2=\"1376.0610937500003\" y1=\"345.0\" y2=\"395.0\" stroke=\"black\" stroke-width=\"3\" /><line x1=\"1427.3683593750004\" x2=\"1427.3683593750004\" y1=\"45.0\" y2=\"395.0\" stroke=\"black\" stroke-width=\"3\" /><line x1=\"1727.0403515625005\" x2=\"1727.0403515625005\" y1=\"45.0\" y2=\"95.0\" stroke=\"black\" stroke-width=\"3\" /><line x1=\"1787.0403515625005\" x2=\"1787.0403515625005\" y1=\"95.0\" y2=\"145.0\" stroke=\"black\" stroke-width=\"3\" /><line x1=\"1848.3476171875004\" x2=\"1848.3476171875004\" y1=\"145.0\" y2=\"195.0\" stroke=\"black\" stroke-width=\"3\" /><line x1=\"1910.9621484375004\" x2=\"1910.9621484375004\" y1=\"195.0\" y2=\"245.0\" stroke=\"black\" stroke-width=\"3\" /><line x1=\"1973.5766796875005\" x2=\"1973.5766796875005\" y1=\"245.0\" y2=\"295.0\" stroke=\"black\" stroke-width=\"3\" /><line x1=\"2036.1912109375005\" x2=\"2036.1912109375005\" y1=\"295.0\" y2=\"345.0\" stroke=\"black\" stroke-width=\"3\" /><line x1=\"2098.8057421875005\" x2=\"2098.8057421875005\" y1=\"345.0\" y2=\"395.0\" stroke=\"black\" stroke-width=\"3\" /><line x1=\"2150.1130078125\" x2=\"2150.1130078125\" y1=\"45.0\" y2=\"395.0\" stroke=\"black\" stroke-width=\"3\" /><line x1=\"2449.7849999999994\" x2=\"2449.7849999999994\" y1=\"45.0\" y2=\"95.0\" stroke=\"black\" stroke-width=\"3\" /><line x1=\"2509.7849999999994\" x2=\"2509.7849999999994\" y1=\"95.0\" y2=\"145.0\" stroke=\"black\" stroke-width=\"3\" /><line x1=\"2571.0922656249995\" x2=\"2571.0922656249995\" y1=\"145.0\" y2=\"195.0\" stroke=\"black\" stroke-width=\"3\" /><line x1=\"2633.7067968749993\" x2=\"2633.7067968749993\" y1=\"195.0\" y2=\"245.0\" stroke=\"black\" stroke-width=\"3\" /><line x1=\"2696.321328124999\" x2=\"2696.321328124999\" y1=\"245.0\" y2=\"295.0\" stroke=\"black\" stroke-width=\"3\" /><line x1=\"2758.935859374999\" x2=\"2758.935859374999\" y1=\"295.0\" y2=\"345.0\" stroke=\"black\" stroke-width=\"3\" /><line x1=\"2821.5503906249987\" x2=\"2821.5503906249987\" y1=\"345.0\" y2=\"395.0\" stroke=\"black\" stroke-width=\"3\" /><line x1=\"2872.8576562499984\" x2=\"2872.8576562499984\" y1=\"45.0\" y2=\"395.0\" stroke=\"black\" stroke-width=\"3\" /><line x1=\"3172.5296484374976\" x2=\"3172.5296484374976\" y1=\"45.0\" y2=\"95.0\" stroke=\"black\" stroke-width=\"3\" /><line x1=\"3232.5296484374976\" x2=\"3232.5296484374976\" y1=\"95.0\" y2=\"145.0\" stroke=\"black\" stroke-width=\"3\" /><line x1=\"3293.8369140624977\" x2=\"3293.8369140624977\" y1=\"145.0\" y2=\"195.0\" stroke=\"black\" stroke-width=\"3\" /><line x1=\"3356.4514453124975\" x2=\"3356.4514453124975\" y1=\"195.0\" y2=\"245.0\" stroke=\"black\" stroke-width=\"3\" /><line x1=\"3419.0659765624973\" x2=\"3419.0659765624973\" y1=\"245.0\" y2=\"295.0\" stroke=\"black\" stroke-width=\"3\" /><line x1=\"3481.680507812497\" x2=\"3481.680507812497\" y1=\"295.0\" y2=\"345.0\" stroke=\"black\" stroke-width=\"3\" /><line x1=\"3544.295039062497\" x2=\"3544.295039062497\" y1=\"345.0\" y2=\"395.0\" stroke=\"black\" stroke-width=\"3\" /><line x1=\"3595.6023046874966\" x2=\"3595.6023046874966\" y1=\"45.0\" y2=\"395.0\" stroke=\"black\" stroke-width=\"3\" /><line x1=\"3895.274296874996\" x2=\"3895.274296874996\" y1=\"45.0\" y2=\"95.0\" stroke=\"black\" stroke-width=\"3\" /><line x1=\"3955.274296874996\" x2=\"3955.274296874996\" y1=\"95.0\" y2=\"145.0\" stroke=\"black\" stroke-width=\"3\" /><line x1=\"4016.581562499996\" x2=\"4016.581562499996\" y1=\"145.0\" y2=\"195.0\" stroke=\"black\" stroke-width=\"3\" /><line x1=\"4079.1960937499957\" x2=\"4079.1960937499957\" y1=\"195.0\" y2=\"245.0\" stroke=\"black\" stroke-width=\"3\" /><line x1=\"4141.8106249999955\" x2=\"4141.8106249999955\" y1=\"245.0\" y2=\"295.0\" stroke=\"black\" stroke-width=\"3\" /><line x1=\"4204.425156249996\" x2=\"4204.425156249996\" y1=\"295.0\" y2=\"345.0\" stroke=\"black\" stroke-width=\"3\" /><line x1=\"4267.039687499996\" x2=\"4267.039687499996\" y1=\"345.0\" y2=\"395.0\" stroke=\"black\" stroke-width=\"3\" /><line x1=\"4318.346953124997\" x2=\"4318.346953124997\" y1=\"45.0\" y2=\"395.0\" stroke=\"black\" stroke-width=\"3\" /><line x1=\"4618.018945312498\" x2=\"4618.018945312498\" y1=\"45.0\" y2=\"95.0\" stroke=\"black\" stroke-width=\"3\" /><line x1=\"4678.018945312498\" x2=\"4678.018945312498\" y1=\"95.0\" y2=\"145.0\" stroke=\"black\" stroke-width=\"3\" /><line x1=\"4739.326210937497\" x2=\"4739.326210937497\" y1=\"145.0\" y2=\"195.0\" stroke=\"black\" stroke-width=\"3\" /><line x1=\"4801.940742187498\" x2=\"4801.940742187498\" y1=\"195.0\" y2=\"245.0\" stroke=\"black\" stroke-width=\"3\" /><line x1=\"4864.555273437498\" x2=\"4864.555273437498\" y1=\"245.0\" y2=\"295.0\" stroke=\"black\" stroke-width=\"3\" /><line x1=\"4927.169804687498\" x2=\"4927.169804687498\" y1=\"295.0\" y2=\"345.0\" stroke=\"black\" stroke-width=\"3\" /><line x1=\"4989.784335937498\" x2=\"4989.784335937498\" y1=\"345.0\" y2=\"395.0\" stroke=\"black\" stroke-width=\"3\" /><line x1=\"5041.091601562499\" x2=\"5041.091601562499\" y1=\"45.0\" y2=\"395.0\" stroke=\"black\" stroke-width=\"3\" /><line x1=\"5340.76359375\" x2=\"5340.76359375\" y1=\"45.0\" y2=\"95.0\" stroke=\"black\" stroke-width=\"3\" /><line x1=\"5400.76359375\" x2=\"5400.76359375\" y1=\"95.0\" y2=\"145.0\" stroke=\"black\" stroke-width=\"3\" /><line x1=\"5462.070859375\" x2=\"5462.070859375\" y1=\"145.0\" y2=\"195.0\" stroke=\"black\" stroke-width=\"3\" /><line x1=\"5524.685390625\" x2=\"5524.685390625\" y1=\"195.0\" y2=\"245.0\" stroke=\"black\" stroke-width=\"3\" /><line x1=\"5587.299921875\" x2=\"5587.299921875\" y1=\"245.0\" y2=\"295.0\" stroke=\"black\" stroke-width=\"3\" /><line x1=\"5649.914453125\" x2=\"5649.914453125\" y1=\"295.0\" y2=\"345.0\" stroke=\"black\" stroke-width=\"3\" /><line x1=\"5712.528984375001\" x2=\"5712.528984375001\" y1=\"345.0\" y2=\"395.0\" stroke=\"black\" stroke-width=\"3\" /><line x1=\"5763.836250000001\" x2=\"5763.836250000001\" y1=\"45.0\" y2=\"395.0\" stroke=\"black\" stroke-width=\"3\" /><line x1=\"6063.508242187502\" x2=\"6063.508242187502\" y1=\"45.0\" y2=\"95.0\" stroke=\"black\" stroke-width=\"3\" /><line x1=\"6123.508242187502\" x2=\"6123.508242187502\" y1=\"95.0\" y2=\"145.0\" stroke=\"black\" stroke-width=\"3\" /><line x1=\"6184.815507812502\" x2=\"6184.815507812502\" y1=\"145.0\" y2=\"195.0\" stroke=\"black\" stroke-width=\"3\" /><line x1=\"6247.430039062502\" x2=\"6247.430039062502\" y1=\"195.0\" y2=\"245.0\" stroke=\"black\" stroke-width=\"3\" /><line x1=\"6310.044570312502\" x2=\"6310.044570312502\" y1=\"245.0\" y2=\"295.0\" stroke=\"black\" stroke-width=\"3\" /><line x1=\"6372.659101562503\" x2=\"6372.659101562503\" y1=\"295.0\" y2=\"345.0\" stroke=\"black\" stroke-width=\"3\" /><line x1=\"6435.273632812503\" x2=\"6435.273632812503\" y1=\"345.0\" y2=\"395.0\" stroke=\"black\" stroke-width=\"3\" /><line x1=\"6486.5808984375035\" x2=\"6486.5808984375035\" y1=\"45.0\" y2=\"395.0\" stroke=\"black\" stroke-width=\"3\" /><line x1=\"6786.2528906250045\" x2=\"6786.2528906250045\" y1=\"45.0\" y2=\"95.0\" stroke=\"black\" stroke-width=\"3\" /><line x1=\"6846.2528906250045\" x2=\"6846.2528906250045\" y1=\"95.0\" y2=\"145.0\" stroke=\"black\" stroke-width=\"3\" /><line x1=\"6906.2528906250045\" x2=\"6906.2528906250045\" y1=\"145.0\" y2=\"195.0\" stroke=\"black\" stroke-width=\"3\" /><line x1=\"6966.2528906250045\" x2=\"6966.2528906250045\" y1=\"195.0\" y2=\"245.0\" stroke=\"black\" stroke-width=\"3\" /><line x1=\"7026.2528906250045\" x2=\"7026.2528906250045\" y1=\"245.0\" y2=\"295.0\" stroke=\"black\" stroke-width=\"3\" /><line x1=\"7086.2528906250045\" x2=\"7086.2528906250045\" y1=\"295.0\" y2=\"345.0\" stroke=\"black\" stroke-width=\"3\" /><line x1=\"7146.2528906250045\" x2=\"7146.2528906250045\" y1=\"345.0\" y2=\"395.0\" stroke=\"black\" stroke-width=\"3\" /><line x1=\"7206.2528906250045\" x2=\"7206.2528906250045\" y1=\"45.0\" y2=\"395.0\" stroke=\"black\" stroke-width=\"3\" /><line x1=\"6466.5808984375035\" x2=\"6466.5808984375035\" y1=\"5.0\" y2=\"15.0\" stroke=\"black\" stroke-width=\"3\" /><line x1=\"6559.195429687504\" x2=\"6559.195429687504\" y1=\"5.0\" y2=\"15.0\" stroke=\"black\" stroke-width=\"3\" /><line x1=\"6466.5808984375035\" x2=\"6466.5808984375035\" y1=\"425.0\" y2=\"435.0\" stroke=\"black\" stroke-width=\"3\" /><line x1=\"6559.195429687504\" x2=\"6559.195429687504\" y1=\"425.0\" y2=\"435.0\" stroke=\"black\" stroke-width=\"3\" /><line x1=\"5743.836250000001\" x2=\"5743.836250000001\" y1=\"5.0\" y2=\"15.0\" stroke=\"black\" stroke-width=\"3\" /><line x1=\"5836.4507812500015\" x2=\"5836.4507812500015\" y1=\"5.0\" y2=\"15.0\" stroke=\"black\" stroke-width=\"3\" /><line x1=\"5743.836250000001\" x2=\"5743.836250000001\" y1=\"425.0\" y2=\"435.0\" stroke=\"black\" stroke-width=\"3\" /><line x1=\"5836.4507812500015\" x2=\"5836.4507812500015\" y1=\"425.0\" y2=\"435.0\" stroke=\"black\" stroke-width=\"3\" /><line x1=\"5021.091601562499\" x2=\"5021.091601562499\" y1=\"5.0\" y2=\"15.0\" stroke=\"black\" stroke-width=\"3\" /><line x1=\"5113.706132812499\" x2=\"5113.706132812499\" y1=\"5.0\" y2=\"15.0\" stroke=\"black\" stroke-width=\"3\" /><line x1=\"5021.091601562499\" x2=\"5021.091601562499\" y1=\"425.0\" y2=\"435.0\" stroke=\"black\" stroke-width=\"3\" /><line x1=\"5113.706132812499\" x2=\"5113.706132812499\" y1=\"425.0\" y2=\"435.0\" stroke=\"black\" stroke-width=\"3\" /><line x1=\"4298.346953124997\" x2=\"4298.346953124997\" y1=\"5.0\" y2=\"15.0\" stroke=\"black\" stroke-width=\"3\" /><line x1=\"4390.961484374997\" x2=\"4390.961484374997\" y1=\"5.0\" y2=\"15.0\" stroke=\"black\" stroke-width=\"3\" /><line x1=\"4298.346953124997\" x2=\"4298.346953124997\" y1=\"425.0\" y2=\"435.0\" stroke=\"black\" stroke-width=\"3\" /><line x1=\"4390.961484374997\" x2=\"4390.961484374997\" y1=\"425.0\" y2=\"435.0\" stroke=\"black\" stroke-width=\"3\" /><line x1=\"3575.6023046874966\" x2=\"3575.6023046874966\" y1=\"5.0\" y2=\"15.0\" stroke=\"black\" stroke-width=\"3\" /><line x1=\"3668.2168359374964\" x2=\"3668.2168359374964\" y1=\"5.0\" y2=\"15.0\" stroke=\"black\" stroke-width=\"3\" /><line x1=\"3575.6023046874966\" x2=\"3575.6023046874966\" y1=\"425.0\" y2=\"435.0\" stroke=\"black\" stroke-width=\"3\" /><line x1=\"3668.2168359374964\" x2=\"3668.2168359374964\" y1=\"425.0\" y2=\"435.0\" stroke=\"black\" stroke-width=\"3\" /><line x1=\"2852.8576562499984\" x2=\"2852.8576562499984\" y1=\"5.0\" y2=\"15.0\" stroke=\"black\" stroke-width=\"3\" /><line x1=\"2945.472187499998\" x2=\"2945.472187499998\" y1=\"5.0\" y2=\"15.0\" stroke=\"black\" stroke-width=\"3\" /><line x1=\"2852.8576562499984\" x2=\"2852.8576562499984\" y1=\"425.0\" y2=\"435.0\" stroke=\"black\" stroke-width=\"3\" /><line x1=\"2945.472187499998\" x2=\"2945.472187499998\" y1=\"425.0\" y2=\"435.0\" stroke=\"black\" stroke-width=\"3\" /><line x1=\"2130.1130078125\" x2=\"2130.1130078125\" y1=\"5.0\" y2=\"15.0\" stroke=\"black\" stroke-width=\"3\" /><line x1=\"2222.7275390625\" x2=\"2222.7275390625\" y1=\"5.0\" y2=\"15.0\" stroke=\"black\" stroke-width=\"3\" /><line x1=\"2130.1130078125\" x2=\"2130.1130078125\" y1=\"425.0\" y2=\"435.0\" stroke=\"black\" stroke-width=\"3\" /><line x1=\"2222.7275390625\" x2=\"2222.7275390625\" y1=\"425.0\" y2=\"435.0\" stroke=\"black\" stroke-width=\"3\" /><line x1=\"1407.3683593750004\" x2=\"1407.3683593750004\" y1=\"5.0\" y2=\"15.0\" stroke=\"black\" stroke-width=\"3\" /><line x1=\"1499.9828906250004\" x2=\"1499.9828906250004\" y1=\"5.0\" y2=\"15.0\" stroke=\"black\" stroke-width=\"3\" /><line x1=\"1407.3683593750004\" x2=\"1407.3683593750004\" y1=\"425.0\" y2=\"435.0\" stroke=\"black\" stroke-width=\"3\" /><line x1=\"1499.9828906250004\" x2=\"1499.9828906250004\" y1=\"425.0\" y2=\"435.0\" stroke=\"black\" stroke-width=\"3\" /><line x1=\"684.6237109375002\" x2=\"684.6237109375002\" y1=\"5.0\" y2=\"15.0\" stroke=\"black\" stroke-width=\"3\" /><line x1=\"777.2382421875002\" x2=\"777.2382421875002\" y1=\"5.0\" y2=\"15.0\" stroke=\"black\" stroke-width=\"3\" /><line x1=\"684.6237109375002\" x2=\"684.6237109375002\" y1=\"425.0\" y2=\"435.0\" stroke=\"black\" stroke-width=\"3\" /><line x1=\"777.2382421875002\" x2=\"777.2382421875002\" y1=\"425.0\" y2=\"435.0\" stroke=\"black\" stroke-width=\"3\" /><rect x=\"10.0\" y=\"25.0\" width=\"44.49359375\" height=\"40\" stroke=\"black\" fill=\"white\" stroke-width=\"0\" /><text x=\"32.246796875\" y=\"45.0\" dominant-baseline=\"middle\" text-anchor=\"middle\" font-size=\"14px\">(0, 0): </text><rect x=\"10.0\" y=\"75.0\" width=\"44.49359375\" height=\"40\" stroke=\"black\" fill=\"white\" stroke-width=\"0\" /><text x=\"32.246796875\" y=\"95.0\" dominant-baseline=\"middle\" text-anchor=\"middle\" font-size=\"14px\">(0, 1): </text><rect x=\"10.0\" y=\"125.0\" width=\"44.49359375\" height=\"40\" stroke=\"black\" fill=\"white\" stroke-width=\"0\" /><text x=\"32.246796875\" y=\"145.0\" dominant-baseline=\"middle\" text-anchor=\"middle\" font-size=\"14px\">(0, 2): </text><rect x=\"10.0\" y=\"175.0\" width=\"44.49359375\" height=\"40\" stroke=\"black\" fill=\"white\" stroke-width=\"0\" /><text x=\"32.246796875\" y=\"195.0\" dominant-baseline=\"middle\" text-anchor=\"middle\" font-size=\"14px\">(0, 3): </text><rect x=\"10.0\" y=\"225.0\" width=\"44.49359375\" height=\"40\" stroke=\"black\" fill=\"white\" stroke-width=\"0\" /><text x=\"32.246796875\" y=\"245.0\" dominant-baseline=\"middle\" text-anchor=\"middle\" font-size=\"14px\">(0, 4): </text><rect x=\"10.0\" y=\"275.0\" width=\"44.49359375\" height=\"40\" stroke=\"black\" fill=\"white\" stroke-width=\"0\" /><text x=\"32.246796875\" y=\"295.0\" dominant-baseline=\"middle\" text-anchor=\"middle\" font-size=\"14px\">(0, 5): </text><rect x=\"10.0\" y=\"325.0\" width=\"44.49359375\" height=\"40\" stroke=\"black\" fill=\"white\" stroke-width=\"0\" /><text x=\"32.246796875\" y=\"345.0\" dominant-baseline=\"middle\" text-anchor=\"middle\" font-size=\"14px\">(0, 6): </text><rect x=\"10.0\" y=\"375.0\" width=\"44.49359375\" height=\"40\" stroke=\"black\" fill=\"white\" stroke-width=\"0\" /><text x=\"32.246796875\" y=\"395.0\" dominant-baseline=\"middle\" text-anchor=\"middle\" font-size=\"14px\">(0, 7): </text><rect x=\"74.49359375\" y=\"25.0\" width=\"42.61453125\" height=\"40\" stroke=\"black\" fill=\"white\" stroke-width=\"1\" /><text x=\"95.800859375\" y=\"45.0\" dominant-baseline=\"middle\" text-anchor=\"middle\" font-size=\"14px\">Ry(a)</text><rect x=\"74.49359375\" y=\"75.0\" width=\"42.61453125\" height=\"40\" stroke=\"black\" fill=\"white\" stroke-width=\"1\" /><text x=\"95.800859375\" y=\"95.0\" dominant-baseline=\"middle\" text-anchor=\"middle\" font-size=\"14px\">Ry(a)</text><rect x=\"74.49359375\" y=\"125.0\" width=\"42.61453125\" height=\"40\" stroke=\"black\" fill=\"white\" stroke-width=\"1\" /><text x=\"95.800859375\" y=\"145.0\" dominant-baseline=\"middle\" text-anchor=\"middle\" font-size=\"14px\">Ry(a)</text><rect x=\"74.49359375\" y=\"175.0\" width=\"42.61453125\" height=\"40\" stroke=\"black\" fill=\"white\" stroke-width=\"1\" /><text x=\"95.800859375\" y=\"195.0\" dominant-baseline=\"middle\" text-anchor=\"middle\" font-size=\"14px\">Ry(a)</text><rect x=\"74.49359375\" y=\"225.0\" width=\"42.61453125\" height=\"40\" stroke=\"black\" fill=\"white\" stroke-width=\"1\" /><text x=\"95.800859375\" y=\"245.0\" dominant-baseline=\"middle\" text-anchor=\"middle\" font-size=\"14px\">Ry(a)</text><rect x=\"74.49359375\" y=\"275.0\" width=\"42.61453125\" height=\"40\" stroke=\"black\" fill=\"white\" stroke-width=\"1\" /><text x=\"95.800859375\" y=\"295.0\" dominant-baseline=\"middle\" text-anchor=\"middle\" font-size=\"14px\">Ry(a)</text><rect x=\"74.49359375\" y=\"325.0\" width=\"42.61453125\" height=\"40\" stroke=\"black\" fill=\"white\" stroke-width=\"1\" /><text x=\"95.800859375\" y=\"345.0\" dominant-baseline=\"middle\" text-anchor=\"middle\" font-size=\"14px\">Ry(a)</text><rect x=\"74.49359375\" y=\"375.0\" width=\"42.61453125\" height=\"40\" stroke=\"black\" fill=\"white\" stroke-width=\"1\" /><text x=\"95.800859375\" y=\"395.0\" dominant-baseline=\"middle\" text-anchor=\"middle\" font-size=\"14px\">Ry(a)</text><rect x=\"137.10812499999997\" y=\"25.0\" width=\"42.61453125\" height=\"40\" stroke=\"black\" fill=\"white\" stroke-width=\"1\" /><text x=\"158.415390625\" y=\"45.0\" dominant-baseline=\"middle\" text-anchor=\"middle\" font-size=\"14px\">Rz(b)</text><rect x=\"137.10812499999997\" y=\"75.0\" width=\"42.61453125\" height=\"40\" stroke=\"black\" fill=\"white\" stroke-width=\"1\" /><text x=\"158.415390625\" y=\"95.0\" dominant-baseline=\"middle\" text-anchor=\"middle\" font-size=\"14px\">Rz(b)</text><rect x=\"137.10812499999997\" y=\"125.0\" width=\"42.61453125\" height=\"40\" stroke=\"black\" fill=\"white\" stroke-width=\"1\" /><text x=\"158.415390625\" y=\"145.0\" dominant-baseline=\"middle\" text-anchor=\"middle\" font-size=\"14px\">Rz(b)</text><rect x=\"137.10812499999997\" y=\"175.0\" width=\"42.61453125\" height=\"40\" stroke=\"black\" fill=\"white\" stroke-width=\"1\" /><text x=\"158.415390625\" y=\"195.0\" dominant-baseline=\"middle\" text-anchor=\"middle\" font-size=\"14px\">Rz(b)</text><rect x=\"137.10812499999997\" y=\"225.0\" width=\"42.61453125\" height=\"40\" stroke=\"black\" fill=\"white\" stroke-width=\"1\" /><text x=\"158.415390625\" y=\"245.0\" dominant-baseline=\"middle\" text-anchor=\"middle\" font-size=\"14px\">Rz(b)</text><rect x=\"137.10812499999997\" y=\"275.0\" width=\"42.61453125\" height=\"40\" stroke=\"black\" fill=\"white\" stroke-width=\"1\" /><text x=\"158.415390625\" y=\"295.0\" dominant-baseline=\"middle\" text-anchor=\"middle\" font-size=\"14px\">Rz(b)</text><rect x=\"137.10812499999997\" y=\"325.0\" width=\"42.61453125\" height=\"40\" stroke=\"black\" fill=\"white\" stroke-width=\"1\" /><text x=\"158.415390625\" y=\"345.0\" dominant-baseline=\"middle\" text-anchor=\"middle\" font-size=\"14px\">Rz(b)</text><rect x=\"137.10812499999997\" y=\"375.0\" width=\"42.61453125\" height=\"40\" stroke=\"black\" fill=\"white\" stroke-width=\"1\" /><text x=\"158.415390625\" y=\"395.0\" dominant-baseline=\"middle\" text-anchor=\"middle\" font-size=\"14px\">Rz(b)</text><rect x=\"199.72265625\" y=\"25.0\" width=\"41.8283984375\" height=\"40\" stroke=\"black\" fill=\"white\" stroke-width=\"1\" /><text x=\"220.63685546875\" y=\"45.0\" dominant-baseline=\"middle\" text-anchor=\"middle\" font-size=\"14px\">Ry(c)</text><rect x=\"199.72265625\" y=\"75.0\" width=\"41.8283984375\" height=\"40\" stroke=\"black\" fill=\"white\" stroke-width=\"1\" /><text x=\"220.63685546875\" y=\"95.0\" dominant-baseline=\"middle\" text-anchor=\"middle\" font-size=\"14px\">Ry(c)</text><rect x=\"199.72265625\" y=\"125.0\" width=\"41.8283984375\" height=\"40\" stroke=\"black\" fill=\"white\" stroke-width=\"1\" /><text x=\"220.63685546875\" y=\"145.0\" dominant-baseline=\"middle\" text-anchor=\"middle\" font-size=\"14px\">Ry(c)</text><rect x=\"199.72265625\" y=\"175.0\" width=\"41.8283984375\" height=\"40\" stroke=\"black\" fill=\"white\" stroke-width=\"1\" /><text x=\"220.63685546875\" y=\"195.0\" dominant-baseline=\"middle\" text-anchor=\"middle\" font-size=\"14px\">Ry(c)</text><rect x=\"199.72265625\" y=\"225.0\" width=\"41.8283984375\" height=\"40\" stroke=\"black\" fill=\"white\" stroke-width=\"1\" /><text x=\"220.63685546875\" y=\"245.0\" dominant-baseline=\"middle\" text-anchor=\"middle\" font-size=\"14px\">Ry(c)</text><rect x=\"199.72265625\" y=\"275.0\" width=\"41.8283984375\" height=\"40\" stroke=\"black\" fill=\"white\" stroke-width=\"1\" /><text x=\"220.63685546875\" y=\"295.0\" dominant-baseline=\"middle\" text-anchor=\"middle\" font-size=\"14px\">Ry(c)</text><rect x=\"199.72265625\" y=\"325.0\" width=\"41.8283984375\" height=\"40\" stroke=\"black\" fill=\"white\" stroke-width=\"1\" /><text x=\"220.63685546875\" y=\"345.0\" dominant-baseline=\"middle\" text-anchor=\"middle\" font-size=\"14px\">Ry(c)</text><rect x=\"199.72265625\" y=\"375.0\" width=\"41.8283984375\" height=\"40\" stroke=\"black\" fill=\"white\" stroke-width=\"1\" /><text x=\"220.63685546875\" y=\"395.0\" dominant-baseline=\"middle\" text-anchor=\"middle\" font-size=\"14px\">Ry(c)</text><circle cx=\"281.5510546875\" cy=\"45.0\" r=\"10.0\" /><circle cx=\"281.5510546875\" cy=\"95.0\" r=\"10.0\" /><circle cx=\"341.5510546875\" cy=\"95.0\" r=\"10.0\" /><circle cx=\"341.5510546875\" cy=\"145.0\" r=\"10.0\" /><circle cx=\"402.85832031250004\" cy=\"145.0\" r=\"10.0\" /><circle cx=\"402.85832031250004\" cy=\"195.0\" r=\"10.0\" /><rect x=\"381.5510546875\" y=\"75.0\" width=\"42.61453125\" height=\"40\" stroke=\"black\" fill=\"white\" stroke-width=\"1\" /><text x=\"402.85832031250004\" y=\"95.0\" dominant-baseline=\"middle\" text-anchor=\"middle\" font-size=\"14px\">Ry(a)</text><circle cx=\"465.47285156250007\" cy=\"195.0\" r=\"10.0\" /><circle cx=\"465.47285156250007\" cy=\"245.0\" r=\"10.0\" /><rect x=\"444.16558593750005\" y=\"75.0\" width=\"42.61453125\" height=\"40\" stroke=\"black\" fill=\"white\" stroke-width=\"1\" /><text x=\"465.47285156250007\" y=\"95.0\" dominant-baseline=\"middle\" text-anchor=\"middle\" font-size=\"14px\">Rz(b)</text><rect x=\"444.16558593750005\" y=\"125.0\" width=\"42.61453125\" height=\"40\" stroke=\"black\" fill=\"white\" stroke-width=\"1\" /><text x=\"465.47285156250007\" y=\"145.0\" dominant-baseline=\"middle\" text-anchor=\"middle\" font-size=\"14px\">Ry(a)</text><circle cx=\"528.0873828125001\" cy=\"245.0\" r=\"10.0\" /><circle cx=\"528.0873828125001\" cy=\"295.0\" r=\"10.0\" /><rect x=\"506.7801171875001\" y=\"75.0\" width=\"42.61453125\" height=\"40\" stroke=\"black\" fill=\"white\" stroke-width=\"1\" /><text x=\"528.0873828125001\" y=\"95.0\" dominant-baseline=\"middle\" text-anchor=\"middle\" font-size=\"14px\">Ry(c)</text><rect x=\"506.7801171875001\" y=\"125.0\" width=\"42.61453125\" height=\"40\" stroke=\"black\" fill=\"white\" stroke-width=\"1\" /><text x=\"528.0873828125001\" y=\"145.0\" dominant-baseline=\"middle\" text-anchor=\"middle\" font-size=\"14px\">Rz(b)</text><rect x=\"506.7801171875001\" y=\"175.0\" width=\"42.61453125\" height=\"40\" stroke=\"black\" fill=\"white\" stroke-width=\"1\" /><text x=\"528.0873828125001\" y=\"195.0\" dominant-baseline=\"middle\" text-anchor=\"middle\" font-size=\"14px\">Ry(a)</text><circle cx=\"590.7019140625001\" cy=\"295.0\" r=\"10.0\" /><circle cx=\"590.7019140625001\" cy=\"345.0\" r=\"10.0\" /><rect x=\"569.3946484375001\" y=\"125.0\" width=\"42.61453125\" height=\"40\" stroke=\"black\" fill=\"white\" stroke-width=\"1\" /><text x=\"590.7019140625001\" y=\"145.0\" dominant-baseline=\"middle\" text-anchor=\"middle\" font-size=\"14px\">Ry(c)</text><rect x=\"569.3946484375001\" y=\"175.0\" width=\"42.61453125\" height=\"40\" stroke=\"black\" fill=\"white\" stroke-width=\"1\" /><text x=\"590.7019140625001\" y=\"195.0\" dominant-baseline=\"middle\" text-anchor=\"middle\" font-size=\"14px\">Rz(b)</text><rect x=\"569.3946484375001\" y=\"225.0\" width=\"42.61453125\" height=\"40\" stroke=\"black\" fill=\"white\" stroke-width=\"1\" /><text x=\"590.7019140625001\" y=\"245.0\" dominant-baseline=\"middle\" text-anchor=\"middle\" font-size=\"14px\">Ry(a)</text><circle cx=\"653.3164453125002\" cy=\"345.0\" r=\"10.0\" /><circle cx=\"653.3164453125002\" cy=\"395.0\" r=\"10.0\" /><rect x=\"632.0091796875001\" y=\"175.0\" width=\"42.61453125\" height=\"40\" stroke=\"black\" fill=\"white\" stroke-width=\"1\" /><text x=\"653.3164453125002\" y=\"195.0\" dominant-baseline=\"middle\" text-anchor=\"middle\" font-size=\"14px\">Ry(c)</text><rect x=\"632.0091796875001\" y=\"225.0\" width=\"42.61453125\" height=\"40\" stroke=\"black\" fill=\"white\" stroke-width=\"1\" /><text x=\"653.3164453125002\" y=\"245.0\" dominant-baseline=\"middle\" text-anchor=\"middle\" font-size=\"14px\">Rz(b)</text><rect x=\"632.0091796875001\" y=\"275.0\" width=\"42.61453125\" height=\"40\" stroke=\"black\" fill=\"white\" stroke-width=\"1\" /><text x=\"653.3164453125002\" y=\"295.0\" dominant-baseline=\"middle\" text-anchor=\"middle\" font-size=\"14px\">Ry(a)</text><circle cx=\"704.6237109375002\" cy=\"395.0\" r=\"10.0\" /><circle cx=\"704.6237109375002\" cy=\"45.0\" r=\"10.0\" /><rect x=\"724.6237109375002\" y=\"225.0\" width=\"42.61453125\" height=\"40\" stroke=\"black\" fill=\"white\" stroke-width=\"1\" /><text x=\"745.9309765625002\" y=\"245.0\" dominant-baseline=\"middle\" text-anchor=\"middle\" font-size=\"14px\">Ry(c)</text><rect x=\"724.6237109375002\" y=\"275.0\" width=\"42.61453125\" height=\"40\" stroke=\"black\" fill=\"white\" stroke-width=\"1\" /><text x=\"745.9309765625002\" y=\"295.0\" dominant-baseline=\"middle\" text-anchor=\"middle\" font-size=\"14px\">Rz(b)</text><rect x=\"724.6237109375002\" y=\"325.0\" width=\"42.61453125\" height=\"40\" stroke=\"black\" fill=\"white\" stroke-width=\"1\" /><text x=\"745.9309765625002\" y=\"345.0\" dominant-baseline=\"middle\" text-anchor=\"middle\" font-size=\"14px\">Ry(a)</text><rect x=\"797.2382421875002\" y=\"25.0\" width=\"42.61453125\" height=\"40\" stroke=\"black\" fill=\"white\" stroke-width=\"1\" /><text x=\"818.5455078125002\" y=\"45.0\" dominant-baseline=\"middle\" text-anchor=\"middle\" font-size=\"14px\">Ry(a)</text><rect x=\"797.2382421875002\" y=\"275.0\" width=\"42.61453125\" height=\"40\" stroke=\"black\" fill=\"white\" stroke-width=\"1\" /><text x=\"818.5455078125002\" y=\"295.0\" dominant-baseline=\"middle\" text-anchor=\"middle\" font-size=\"14px\">Ry(c)</text><rect x=\"797.2382421875002\" y=\"325.0\" width=\"42.61453125\" height=\"40\" stroke=\"black\" fill=\"white\" stroke-width=\"1\" /><text x=\"818.5455078125002\" y=\"345.0\" dominant-baseline=\"middle\" text-anchor=\"middle\" font-size=\"14px\">Rz(b)</text><rect x=\"797.2382421875002\" y=\"375.0\" width=\"42.61453125\" height=\"40\" stroke=\"black\" fill=\"white\" stroke-width=\"1\" /><text x=\"818.5455078125002\" y=\"395.0\" dominant-baseline=\"middle\" text-anchor=\"middle\" font-size=\"14px\">Ry(a)</text><rect x=\"859.8527734375002\" y=\"25.0\" width=\"42.61453125\" height=\"40\" stroke=\"black\" fill=\"white\" stroke-width=\"1\" /><text x=\"881.1600390625002\" y=\"45.0\" dominant-baseline=\"middle\" text-anchor=\"middle\" font-size=\"14px\">Rz(b)</text><rect x=\"859.8527734375002\" y=\"325.0\" width=\"42.61453125\" height=\"40\" stroke=\"black\" fill=\"white\" stroke-width=\"1\" /><text x=\"881.1600390625002\" y=\"345.0\" dominant-baseline=\"middle\" text-anchor=\"middle\" font-size=\"14px\">Ry(c)</text><rect x=\"859.8527734375002\" y=\"375.0\" width=\"42.61453125\" height=\"40\" stroke=\"black\" fill=\"white\" stroke-width=\"1\" /><text x=\"881.1600390625002\" y=\"395.0\" dominant-baseline=\"middle\" text-anchor=\"middle\" font-size=\"14px\">Rz(b)</text><rect x=\"922.4673046875002\" y=\"25.0\" width=\"41.8283984375\" height=\"40\" stroke=\"black\" fill=\"white\" stroke-width=\"1\" /><text x=\"943.3815039062503\" y=\"45.0\" dominant-baseline=\"middle\" text-anchor=\"middle\" font-size=\"14px\">Ry(c)</text><rect x=\"922.4673046875002\" y=\"375.0\" width=\"41.8283984375\" height=\"40\" stroke=\"black\" fill=\"white\" stroke-width=\"1\" /><text x=\"943.3815039062503\" y=\"395.0\" dominant-baseline=\"middle\" text-anchor=\"middle\" font-size=\"14px\">Ry(c)</text><circle cx=\"1004.2957031250003\" cy=\"45.0\" r=\"10.0\" /><circle cx=\"1004.2957031250003\" cy=\"95.0\" r=\"10.0\" /><circle cx=\"1064.2957031250003\" cy=\"95.0\" r=\"10.0\" /><circle cx=\"1064.2957031250003\" cy=\"145.0\" r=\"10.0\" /><circle cx=\"1125.6029687500002\" cy=\"145.0\" r=\"10.0\" /><circle cx=\"1125.6029687500002\" cy=\"195.0\" r=\"10.0\" /><rect x=\"1104.2957031250003\" y=\"75.0\" width=\"42.61453125\" height=\"40\" stroke=\"black\" fill=\"white\" stroke-width=\"1\" /><text x=\"1125.6029687500002\" y=\"95.0\" dominant-baseline=\"middle\" text-anchor=\"middle\" font-size=\"14px\">Ry(a)</text><circle cx=\"1188.2175000000002\" cy=\"195.0\" r=\"10.0\" /><circle cx=\"1188.2175000000002\" cy=\"245.0\" r=\"10.0\" /><rect x=\"1166.9102343750003\" y=\"75.0\" width=\"42.61453125\" height=\"40\" stroke=\"black\" fill=\"white\" stroke-width=\"1\" /><text x=\"1188.2175000000002\" y=\"95.0\" dominant-baseline=\"middle\" text-anchor=\"middle\" font-size=\"14px\">Rz(b)</text><rect x=\"1166.9102343750003\" y=\"125.0\" width=\"42.61453125\" height=\"40\" stroke=\"black\" fill=\"white\" stroke-width=\"1\" /><text x=\"1188.2175000000002\" y=\"145.0\" dominant-baseline=\"middle\" text-anchor=\"middle\" font-size=\"14px\">Ry(a)</text><circle cx=\"1250.8320312500002\" cy=\"245.0\" r=\"10.0\" /><circle cx=\"1250.8320312500002\" cy=\"295.0\" r=\"10.0\" /><rect x=\"1229.5247656250003\" y=\"75.0\" width=\"42.61453125\" height=\"40\" stroke=\"black\" fill=\"white\" stroke-width=\"1\" /><text x=\"1250.8320312500002\" y=\"95.0\" dominant-baseline=\"middle\" text-anchor=\"middle\" font-size=\"14px\">Ry(c)</text><rect x=\"1229.5247656250003\" y=\"125.0\" width=\"42.61453125\" height=\"40\" stroke=\"black\" fill=\"white\" stroke-width=\"1\" /><text x=\"1250.8320312500002\" y=\"145.0\" dominant-baseline=\"middle\" text-anchor=\"middle\" font-size=\"14px\">Rz(b)</text><rect x=\"1229.5247656250003\" y=\"175.0\" width=\"42.61453125\" height=\"40\" stroke=\"black\" fill=\"white\" stroke-width=\"1\" /><text x=\"1250.8320312500002\" y=\"195.0\" dominant-baseline=\"middle\" text-anchor=\"middle\" font-size=\"14px\">Ry(a)</text><circle cx=\"1313.4465625000003\" cy=\"295.0\" r=\"10.0\" /><circle cx=\"1313.4465625000003\" cy=\"345.0\" r=\"10.0\" /><rect x=\"1292.1392968750004\" y=\"125.0\" width=\"42.61453125\" height=\"40\" stroke=\"black\" fill=\"white\" stroke-width=\"1\" /><text x=\"1313.4465625000003\" y=\"145.0\" dominant-baseline=\"middle\" text-anchor=\"middle\" font-size=\"14px\">Ry(c)</text><rect x=\"1292.1392968750004\" y=\"175.0\" width=\"42.61453125\" height=\"40\" stroke=\"black\" fill=\"white\" stroke-width=\"1\" /><text x=\"1313.4465625000003\" y=\"195.0\" dominant-baseline=\"middle\" text-anchor=\"middle\" font-size=\"14px\">Rz(b)</text><rect x=\"1292.1392968750004\" y=\"225.0\" width=\"42.61453125\" height=\"40\" stroke=\"black\" fill=\"white\" stroke-width=\"1\" /><text x=\"1313.4465625000003\" y=\"245.0\" dominant-baseline=\"middle\" text-anchor=\"middle\" font-size=\"14px\">Ry(a)</text><circle cx=\"1376.0610937500003\" cy=\"345.0\" r=\"10.0\" /><circle cx=\"1376.0610937500003\" cy=\"395.0\" r=\"10.0\" /><rect x=\"1354.7538281250004\" y=\"175.0\" width=\"42.61453125\" height=\"40\" stroke=\"black\" fill=\"white\" stroke-width=\"1\" /><text x=\"1376.0610937500003\" y=\"195.0\" dominant-baseline=\"middle\" text-anchor=\"middle\" font-size=\"14px\">Ry(c)</text><rect x=\"1354.7538281250004\" y=\"225.0\" width=\"42.61453125\" height=\"40\" stroke=\"black\" fill=\"white\" stroke-width=\"1\" /><text x=\"1376.0610937500003\" y=\"245.0\" dominant-baseline=\"middle\" text-anchor=\"middle\" font-size=\"14px\">Rz(b)</text><rect x=\"1354.7538281250004\" y=\"275.0\" width=\"42.61453125\" height=\"40\" stroke=\"black\" fill=\"white\" stroke-width=\"1\" /><text x=\"1376.0610937500003\" y=\"295.0\" dominant-baseline=\"middle\" text-anchor=\"middle\" font-size=\"14px\">Ry(a)</text><circle cx=\"1427.3683593750004\" cy=\"395.0\" r=\"10.0\" /><circle cx=\"1427.3683593750004\" cy=\"45.0\" r=\"10.0\" /><rect x=\"1447.3683593750004\" y=\"225.0\" width=\"42.61453125\" height=\"40\" stroke=\"black\" fill=\"white\" stroke-width=\"1\" /><text x=\"1468.6756250000003\" y=\"245.0\" dominant-baseline=\"middle\" text-anchor=\"middle\" font-size=\"14px\">Ry(c)</text><rect x=\"1447.3683593750004\" y=\"275.0\" width=\"42.61453125\" height=\"40\" stroke=\"black\" fill=\"white\" stroke-width=\"1\" /><text x=\"1468.6756250000003\" y=\"295.0\" dominant-baseline=\"middle\" text-anchor=\"middle\" font-size=\"14px\">Rz(b)</text><rect x=\"1447.3683593750004\" y=\"325.0\" width=\"42.61453125\" height=\"40\" stroke=\"black\" fill=\"white\" stroke-width=\"1\" /><text x=\"1468.6756250000003\" y=\"345.0\" dominant-baseline=\"middle\" text-anchor=\"middle\" font-size=\"14px\">Ry(a)</text><rect x=\"1519.9828906250004\" y=\"25.0\" width=\"42.61453125\" height=\"40\" stroke=\"black\" fill=\"white\" stroke-width=\"1\" /><text x=\"1541.2901562500003\" y=\"45.0\" dominant-baseline=\"middle\" text-anchor=\"middle\" font-size=\"14px\">Ry(a)</text><rect x=\"1519.9828906250004\" y=\"275.0\" width=\"42.61453125\" height=\"40\" stroke=\"black\" fill=\"white\" stroke-width=\"1\" /><text x=\"1541.2901562500003\" y=\"295.0\" dominant-baseline=\"middle\" text-anchor=\"middle\" font-size=\"14px\">Ry(c)</text><rect x=\"1519.9828906250004\" y=\"325.0\" width=\"42.61453125\" height=\"40\" stroke=\"black\" fill=\"white\" stroke-width=\"1\" /><text x=\"1541.2901562500003\" y=\"345.0\" dominant-baseline=\"middle\" text-anchor=\"middle\" font-size=\"14px\">Rz(b)</text><rect x=\"1519.9828906250004\" y=\"375.0\" width=\"42.61453125\" height=\"40\" stroke=\"black\" fill=\"white\" stroke-width=\"1\" /><text x=\"1541.2901562500003\" y=\"395.0\" dominant-baseline=\"middle\" text-anchor=\"middle\" font-size=\"14px\">Ry(a)</text><rect x=\"1582.5974218750005\" y=\"25.0\" width=\"42.61453125\" height=\"40\" stroke=\"black\" fill=\"white\" stroke-width=\"1\" /><text x=\"1603.9046875000004\" y=\"45.0\" dominant-baseline=\"middle\" text-anchor=\"middle\" font-size=\"14px\">Rz(b)</text><rect x=\"1582.5974218750005\" y=\"325.0\" width=\"42.61453125\" height=\"40\" stroke=\"black\" fill=\"white\" stroke-width=\"1\" /><text x=\"1603.9046875000004\" y=\"345.0\" dominant-baseline=\"middle\" text-anchor=\"middle\" font-size=\"14px\">Ry(c)</text><rect x=\"1582.5974218750005\" y=\"375.0\" width=\"42.61453125\" height=\"40\" stroke=\"black\" fill=\"white\" stroke-width=\"1\" /><text x=\"1603.9046875000004\" y=\"395.0\" dominant-baseline=\"middle\" text-anchor=\"middle\" font-size=\"14px\">Rz(b)</text><rect x=\"1645.2119531250005\" y=\"25.0\" width=\"41.8283984375\" height=\"40\" stroke=\"black\" fill=\"white\" stroke-width=\"1\" /><text x=\"1666.1261523437504\" y=\"45.0\" dominant-baseline=\"middle\" text-anchor=\"middle\" font-size=\"14px\">Ry(c)</text><rect x=\"1645.2119531250005\" y=\"375.0\" width=\"41.8283984375\" height=\"40\" stroke=\"black\" fill=\"white\" stroke-width=\"1\" /><text x=\"1666.1261523437504\" y=\"395.0\" dominant-baseline=\"middle\" text-anchor=\"middle\" font-size=\"14px\">Ry(c)</text><circle cx=\"1727.0403515625005\" cy=\"45.0\" r=\"10.0\" /><circle cx=\"1727.0403515625005\" cy=\"95.0\" r=\"10.0\" /><circle cx=\"1787.0403515625005\" cy=\"95.0\" r=\"10.0\" /><circle cx=\"1787.0403515625005\" cy=\"145.0\" r=\"10.0\" /><circle cx=\"1848.3476171875004\" cy=\"145.0\" r=\"10.0\" /><circle cx=\"1848.3476171875004\" cy=\"195.0\" r=\"10.0\" /><rect x=\"1827.0403515625005\" y=\"75.0\" width=\"42.61453125\" height=\"40\" stroke=\"black\" fill=\"white\" stroke-width=\"1\" /><text x=\"1848.3476171875004\" y=\"95.0\" dominant-baseline=\"middle\" text-anchor=\"middle\" font-size=\"14px\">Ry(a)</text><circle cx=\"1910.9621484375004\" cy=\"195.0\" r=\"10.0\" /><circle cx=\"1910.9621484375004\" cy=\"245.0\" r=\"10.0\" /><rect x=\"1889.6548828125005\" y=\"75.0\" width=\"42.61453125\" height=\"40\" stroke=\"black\" fill=\"white\" stroke-width=\"1\" /><text x=\"1910.9621484375004\" y=\"95.0\" dominant-baseline=\"middle\" text-anchor=\"middle\" font-size=\"14px\">Rz(b)</text><rect x=\"1889.6548828125005\" y=\"125.0\" width=\"42.61453125\" height=\"40\" stroke=\"black\" fill=\"white\" stroke-width=\"1\" /><text x=\"1910.9621484375004\" y=\"145.0\" dominant-baseline=\"middle\" text-anchor=\"middle\" font-size=\"14px\">Ry(a)</text><circle cx=\"1973.5766796875005\" cy=\"245.0\" r=\"10.0\" /><circle cx=\"1973.5766796875005\" cy=\"295.0\" r=\"10.0\" /><rect x=\"1952.2694140625006\" y=\"75.0\" width=\"42.61453125\" height=\"40\" stroke=\"black\" fill=\"white\" stroke-width=\"1\" /><text x=\"1973.5766796875005\" y=\"95.0\" dominant-baseline=\"middle\" text-anchor=\"middle\" font-size=\"14px\">Ry(c)</text><rect x=\"1952.2694140625006\" y=\"125.0\" width=\"42.61453125\" height=\"40\" stroke=\"black\" fill=\"white\" stroke-width=\"1\" /><text x=\"1973.5766796875005\" y=\"145.0\" dominant-baseline=\"middle\" text-anchor=\"middle\" font-size=\"14px\">Rz(b)</text><rect x=\"1952.2694140625006\" y=\"175.0\" width=\"42.61453125\" height=\"40\" stroke=\"black\" fill=\"white\" stroke-width=\"1\" /><text x=\"1973.5766796875005\" y=\"195.0\" dominant-baseline=\"middle\" text-anchor=\"middle\" font-size=\"14px\">Ry(a)</text><circle cx=\"2036.1912109375005\" cy=\"295.0\" r=\"10.0\" /><circle cx=\"2036.1912109375005\" cy=\"345.0\" r=\"10.0\" /><rect x=\"2014.8839453125006\" y=\"125.0\" width=\"42.61453125\" height=\"40\" stroke=\"black\" fill=\"white\" stroke-width=\"1\" /><text x=\"2036.1912109375005\" y=\"145.0\" dominant-baseline=\"middle\" text-anchor=\"middle\" font-size=\"14px\">Ry(c)</text><rect x=\"2014.8839453125006\" y=\"175.0\" width=\"42.61453125\" height=\"40\" stroke=\"black\" fill=\"white\" stroke-width=\"1\" /><text x=\"2036.1912109375005\" y=\"195.0\" dominant-baseline=\"middle\" text-anchor=\"middle\" font-size=\"14px\">Rz(b)</text><rect x=\"2014.8839453125006\" y=\"225.0\" width=\"42.61453125\" height=\"40\" stroke=\"black\" fill=\"white\" stroke-width=\"1\" /><text x=\"2036.1912109375005\" y=\"245.0\" dominant-baseline=\"middle\" text-anchor=\"middle\" font-size=\"14px\">Ry(a)</text><circle cx=\"2098.8057421875005\" cy=\"345.0\" r=\"10.0\" /><circle cx=\"2098.8057421875005\" cy=\"395.0\" r=\"10.0\" /><rect x=\"2077.4984765625004\" y=\"175.0\" width=\"42.61453125\" height=\"40\" stroke=\"black\" fill=\"white\" stroke-width=\"1\" /><text x=\"2098.8057421875005\" y=\"195.0\" dominant-baseline=\"middle\" text-anchor=\"middle\" font-size=\"14px\">Ry(c)</text><rect x=\"2077.4984765625004\" y=\"225.0\" width=\"42.61453125\" height=\"40\" stroke=\"black\" fill=\"white\" stroke-width=\"1\" /><text x=\"2098.8057421875005\" y=\"245.0\" dominant-baseline=\"middle\" text-anchor=\"middle\" font-size=\"14px\">Rz(b)</text><rect x=\"2077.4984765625004\" y=\"275.0\" width=\"42.61453125\" height=\"40\" stroke=\"black\" fill=\"white\" stroke-width=\"1\" /><text x=\"2098.8057421875005\" y=\"295.0\" dominant-baseline=\"middle\" text-anchor=\"middle\" font-size=\"14px\">Ry(a)</text><circle cx=\"2150.1130078125\" cy=\"395.0\" r=\"10.0\" /><circle cx=\"2150.1130078125\" cy=\"45.0\" r=\"10.0\" /><rect x=\"2170.1130078125\" y=\"225.0\" width=\"42.61453125\" height=\"40\" stroke=\"black\" fill=\"white\" stroke-width=\"1\" /><text x=\"2191.4202734375003\" y=\"245.0\" dominant-baseline=\"middle\" text-anchor=\"middle\" font-size=\"14px\">Ry(c)</text><rect x=\"2170.1130078125\" y=\"275.0\" width=\"42.61453125\" height=\"40\" stroke=\"black\" fill=\"white\" stroke-width=\"1\" /><text x=\"2191.4202734375003\" y=\"295.0\" dominant-baseline=\"middle\" text-anchor=\"middle\" font-size=\"14px\">Rz(b)</text><rect x=\"2170.1130078125\" y=\"325.0\" width=\"42.61453125\" height=\"40\" stroke=\"black\" fill=\"white\" stroke-width=\"1\" /><text x=\"2191.4202734375003\" y=\"345.0\" dominant-baseline=\"middle\" text-anchor=\"middle\" font-size=\"14px\">Ry(a)</text><rect x=\"2242.7275390625\" y=\"25.0\" width=\"42.61453125\" height=\"40\" stroke=\"black\" fill=\"white\" stroke-width=\"1\" /><text x=\"2264.0348046875\" y=\"45.0\" dominant-baseline=\"middle\" text-anchor=\"middle\" font-size=\"14px\">Ry(a)</text><rect x=\"2242.7275390625\" y=\"275.0\" width=\"42.61453125\" height=\"40\" stroke=\"black\" fill=\"white\" stroke-width=\"1\" /><text x=\"2264.0348046875\" y=\"295.0\" dominant-baseline=\"middle\" text-anchor=\"middle\" font-size=\"14px\">Ry(c)</text><rect x=\"2242.7275390625\" y=\"325.0\" width=\"42.61453125\" height=\"40\" stroke=\"black\" fill=\"white\" stroke-width=\"1\" /><text x=\"2264.0348046875\" y=\"345.0\" dominant-baseline=\"middle\" text-anchor=\"middle\" font-size=\"14px\">Rz(b)</text><rect x=\"2242.7275390625\" y=\"375.0\" width=\"42.61453125\" height=\"40\" stroke=\"black\" fill=\"white\" stroke-width=\"1\" /><text x=\"2264.0348046875\" y=\"395.0\" dominant-baseline=\"middle\" text-anchor=\"middle\" font-size=\"14px\">Ry(a)</text><rect x=\"2305.3420703125\" y=\"25.0\" width=\"42.61453125\" height=\"40\" stroke=\"black\" fill=\"white\" stroke-width=\"1\" /><text x=\"2326.6493359375\" y=\"45.0\" dominant-baseline=\"middle\" text-anchor=\"middle\" font-size=\"14px\">Rz(b)</text><rect x=\"2305.3420703125\" y=\"325.0\" width=\"42.61453125\" height=\"40\" stroke=\"black\" fill=\"white\" stroke-width=\"1\" /><text x=\"2326.6493359375\" y=\"345.0\" dominant-baseline=\"middle\" text-anchor=\"middle\" font-size=\"14px\">Ry(c)</text><rect x=\"2305.3420703125\" y=\"375.0\" width=\"42.61453125\" height=\"40\" stroke=\"black\" fill=\"white\" stroke-width=\"1\" /><text x=\"2326.6493359375\" y=\"395.0\" dominant-baseline=\"middle\" text-anchor=\"middle\" font-size=\"14px\">Rz(b)</text><rect x=\"2367.9566015624996\" y=\"25.0\" width=\"41.8283984375\" height=\"40\" stroke=\"black\" fill=\"white\" stroke-width=\"1\" /><text x=\"2388.8708007812497\" y=\"45.0\" dominant-baseline=\"middle\" text-anchor=\"middle\" font-size=\"14px\">Ry(c)</text><rect x=\"2367.9566015624996\" y=\"375.0\" width=\"41.8283984375\" height=\"40\" stroke=\"black\" fill=\"white\" stroke-width=\"1\" /><text x=\"2388.8708007812497\" y=\"395.0\" dominant-baseline=\"middle\" text-anchor=\"middle\" font-size=\"14px\">Ry(c)</text><circle cx=\"2449.7849999999994\" cy=\"45.0\" r=\"10.0\" /><circle cx=\"2449.7849999999994\" cy=\"95.0\" r=\"10.0\" /><circle cx=\"2509.7849999999994\" cy=\"95.0\" r=\"10.0\" /><circle cx=\"2509.7849999999994\" cy=\"145.0\" r=\"10.0\" /><circle cx=\"2571.0922656249995\" cy=\"145.0\" r=\"10.0\" /><circle cx=\"2571.0922656249995\" cy=\"195.0\" r=\"10.0\" /><rect x=\"2549.7849999999994\" y=\"75.0\" width=\"42.61453125\" height=\"40\" stroke=\"black\" fill=\"white\" stroke-width=\"1\" /><text x=\"2571.0922656249995\" y=\"95.0\" dominant-baseline=\"middle\" text-anchor=\"middle\" font-size=\"14px\">Ry(a)</text><circle cx=\"2633.7067968749993\" cy=\"195.0\" r=\"10.0\" /><circle cx=\"2633.7067968749993\" cy=\"245.0\" r=\"10.0\" /><rect x=\"2612.399531249999\" y=\"75.0\" width=\"42.61453125\" height=\"40\" stroke=\"black\" fill=\"white\" stroke-width=\"1\" /><text x=\"2633.7067968749993\" y=\"95.0\" dominant-baseline=\"middle\" text-anchor=\"middle\" font-size=\"14px\">Rz(b)</text><rect x=\"2612.399531249999\" y=\"125.0\" width=\"42.61453125\" height=\"40\" stroke=\"black\" fill=\"white\" stroke-width=\"1\" /><text x=\"2633.7067968749993\" y=\"145.0\" dominant-baseline=\"middle\" text-anchor=\"middle\" font-size=\"14px\">Ry(a)</text><circle cx=\"2696.321328124999\" cy=\"245.0\" r=\"10.0\" /><circle cx=\"2696.321328124999\" cy=\"295.0\" r=\"10.0\" /><rect x=\"2675.014062499999\" y=\"75.0\" width=\"42.61453125\" height=\"40\" stroke=\"black\" fill=\"white\" stroke-width=\"1\" /><text x=\"2696.321328124999\" y=\"95.0\" dominant-baseline=\"middle\" text-anchor=\"middle\" font-size=\"14px\">Ry(c)</text><rect x=\"2675.014062499999\" y=\"125.0\" width=\"42.61453125\" height=\"40\" stroke=\"black\" fill=\"white\" stroke-width=\"1\" /><text x=\"2696.321328124999\" y=\"145.0\" dominant-baseline=\"middle\" text-anchor=\"middle\" font-size=\"14px\">Rz(b)</text><rect x=\"2675.014062499999\" y=\"175.0\" width=\"42.61453125\" height=\"40\" stroke=\"black\" fill=\"white\" stroke-width=\"1\" /><text x=\"2696.321328124999\" y=\"195.0\" dominant-baseline=\"middle\" text-anchor=\"middle\" font-size=\"14px\">Ry(a)</text><circle cx=\"2758.935859374999\" cy=\"295.0\" r=\"10.0\" /><circle cx=\"2758.935859374999\" cy=\"345.0\" r=\"10.0\" /><rect x=\"2737.628593749999\" y=\"125.0\" width=\"42.61453125\" height=\"40\" stroke=\"black\" fill=\"white\" stroke-width=\"1\" /><text x=\"2758.935859374999\" y=\"145.0\" dominant-baseline=\"middle\" text-anchor=\"middle\" font-size=\"14px\">Ry(c)</text><rect x=\"2737.628593749999\" y=\"175.0\" width=\"42.61453125\" height=\"40\" stroke=\"black\" fill=\"white\" stroke-width=\"1\" /><text x=\"2758.935859374999\" y=\"195.0\" dominant-baseline=\"middle\" text-anchor=\"middle\" font-size=\"14px\">Rz(b)</text><rect x=\"2737.628593749999\" y=\"225.0\" width=\"42.61453125\" height=\"40\" stroke=\"black\" fill=\"white\" stroke-width=\"1\" /><text x=\"2758.935859374999\" y=\"245.0\" dominant-baseline=\"middle\" text-anchor=\"middle\" font-size=\"14px\">Ry(a)</text><circle cx=\"2821.5503906249987\" cy=\"345.0\" r=\"10.0\" /><circle cx=\"2821.5503906249987\" cy=\"395.0\" r=\"10.0\" /><rect x=\"2800.2431249999986\" y=\"175.0\" width=\"42.61453125\" height=\"40\" stroke=\"black\" fill=\"white\" stroke-width=\"1\" /><text x=\"2821.5503906249987\" y=\"195.0\" dominant-baseline=\"middle\" text-anchor=\"middle\" font-size=\"14px\">Ry(c)</text><rect x=\"2800.2431249999986\" y=\"225.0\" width=\"42.61453125\" height=\"40\" stroke=\"black\" fill=\"white\" stroke-width=\"1\" /><text x=\"2821.5503906249987\" y=\"245.0\" dominant-baseline=\"middle\" text-anchor=\"middle\" font-size=\"14px\">Rz(b)</text><rect x=\"2800.2431249999986\" y=\"275.0\" width=\"42.61453125\" height=\"40\" stroke=\"black\" fill=\"white\" stroke-width=\"1\" /><text x=\"2821.5503906249987\" y=\"295.0\" dominant-baseline=\"middle\" text-anchor=\"middle\" font-size=\"14px\">Ry(a)</text><circle cx=\"2872.8576562499984\" cy=\"395.0\" r=\"10.0\" /><circle cx=\"2872.8576562499984\" cy=\"45.0\" r=\"10.0\" /><rect x=\"2892.8576562499984\" y=\"225.0\" width=\"42.61453125\" height=\"40\" stroke=\"black\" fill=\"white\" stroke-width=\"1\" /><text x=\"2914.1649218749985\" y=\"245.0\" dominant-baseline=\"middle\" text-anchor=\"middle\" font-size=\"14px\">Ry(c)</text><rect x=\"2892.8576562499984\" y=\"275.0\" width=\"42.61453125\" height=\"40\" stroke=\"black\" fill=\"white\" stroke-width=\"1\" /><text x=\"2914.1649218749985\" y=\"295.0\" dominant-baseline=\"middle\" text-anchor=\"middle\" font-size=\"14px\">Rz(b)</text><rect x=\"2892.8576562499984\" y=\"325.0\" width=\"42.61453125\" height=\"40\" stroke=\"black\" fill=\"white\" stroke-width=\"1\" /><text x=\"2914.1649218749985\" y=\"345.0\" dominant-baseline=\"middle\" text-anchor=\"middle\" font-size=\"14px\">Ry(a)</text><rect x=\"2965.472187499998\" y=\"25.0\" width=\"42.61453125\" height=\"40\" stroke=\"black\" fill=\"white\" stroke-width=\"1\" /><text x=\"2986.7794531249983\" y=\"45.0\" dominant-baseline=\"middle\" text-anchor=\"middle\" font-size=\"14px\">Ry(a)</text><rect x=\"2965.472187499998\" y=\"275.0\" width=\"42.61453125\" height=\"40\" stroke=\"black\" fill=\"white\" stroke-width=\"1\" /><text x=\"2986.7794531249983\" y=\"295.0\" dominant-baseline=\"middle\" text-anchor=\"middle\" font-size=\"14px\">Ry(c)</text><rect x=\"2965.472187499998\" y=\"325.0\" width=\"42.61453125\" height=\"40\" stroke=\"black\" fill=\"white\" stroke-width=\"1\" /><text x=\"2986.7794531249983\" y=\"345.0\" dominant-baseline=\"middle\" text-anchor=\"middle\" font-size=\"14px\">Rz(b)</text><rect x=\"2965.472187499998\" y=\"375.0\" width=\"42.61453125\" height=\"40\" stroke=\"black\" fill=\"white\" stroke-width=\"1\" /><text x=\"2986.7794531249983\" y=\"395.0\" dominant-baseline=\"middle\" text-anchor=\"middle\" font-size=\"14px\">Ry(a)</text><rect x=\"3028.086718749998\" y=\"25.0\" width=\"42.61453125\" height=\"40\" stroke=\"black\" fill=\"white\" stroke-width=\"1\" /><text x=\"3049.393984374998\" y=\"45.0\" dominant-baseline=\"middle\" text-anchor=\"middle\" font-size=\"14px\">Rz(b)</text><rect x=\"3028.086718749998\" y=\"325.0\" width=\"42.61453125\" height=\"40\" stroke=\"black\" fill=\"white\" stroke-width=\"1\" /><text x=\"3049.393984374998\" y=\"345.0\" dominant-baseline=\"middle\" text-anchor=\"middle\" font-size=\"14px\">Ry(c)</text><rect x=\"3028.086718749998\" y=\"375.0\" width=\"42.61453125\" height=\"40\" stroke=\"black\" fill=\"white\" stroke-width=\"1\" /><text x=\"3049.393984374998\" y=\"395.0\" dominant-baseline=\"middle\" text-anchor=\"middle\" font-size=\"14px\">Rz(b)</text><rect x=\"3090.701249999998\" y=\"25.0\" width=\"41.8283984375\" height=\"40\" stroke=\"black\" fill=\"white\" stroke-width=\"1\" /><text x=\"3111.615449218748\" y=\"45.0\" dominant-baseline=\"middle\" text-anchor=\"middle\" font-size=\"14px\">Ry(c)</text><rect x=\"3090.701249999998\" y=\"375.0\" width=\"41.8283984375\" height=\"40\" stroke=\"black\" fill=\"white\" stroke-width=\"1\" /><text x=\"3111.615449218748\" y=\"395.0\" dominant-baseline=\"middle\" text-anchor=\"middle\" font-size=\"14px\">Ry(c)</text><circle cx=\"3172.5296484374976\" cy=\"45.0\" r=\"10.0\" /><circle cx=\"3172.5296484374976\" cy=\"95.0\" r=\"10.0\" /><circle cx=\"3232.5296484374976\" cy=\"95.0\" r=\"10.0\" /><circle cx=\"3232.5296484374976\" cy=\"145.0\" r=\"10.0\" /><circle cx=\"3293.8369140624977\" cy=\"145.0\" r=\"10.0\" /><circle cx=\"3293.8369140624977\" cy=\"195.0\" r=\"10.0\" /><rect x=\"3272.5296484374976\" y=\"75.0\" width=\"42.61453125\" height=\"40\" stroke=\"black\" fill=\"white\" stroke-width=\"1\" /><text x=\"3293.8369140624977\" y=\"95.0\" dominant-baseline=\"middle\" text-anchor=\"middle\" font-size=\"14px\">Ry(a)</text><circle cx=\"3356.4514453124975\" cy=\"195.0\" r=\"10.0\" /><circle cx=\"3356.4514453124975\" cy=\"245.0\" r=\"10.0\" /><rect x=\"3335.1441796874974\" y=\"75.0\" width=\"42.61453125\" height=\"40\" stroke=\"black\" fill=\"white\" stroke-width=\"1\" /><text x=\"3356.4514453124975\" y=\"95.0\" dominant-baseline=\"middle\" text-anchor=\"middle\" font-size=\"14px\">Rz(b)</text><rect x=\"3335.1441796874974\" y=\"125.0\" width=\"42.61453125\" height=\"40\" stroke=\"black\" fill=\"white\" stroke-width=\"1\" /><text x=\"3356.4514453124975\" y=\"145.0\" dominant-baseline=\"middle\" text-anchor=\"middle\" font-size=\"14px\">Ry(a)</text><circle cx=\"3419.0659765624973\" cy=\"245.0\" r=\"10.0\" /><circle cx=\"3419.0659765624973\" cy=\"295.0\" r=\"10.0\" /><rect x=\"3397.758710937497\" y=\"75.0\" width=\"42.61453125\" height=\"40\" stroke=\"black\" fill=\"white\" stroke-width=\"1\" /><text x=\"3419.0659765624973\" y=\"95.0\" dominant-baseline=\"middle\" text-anchor=\"middle\" font-size=\"14px\">Ry(c)</text><rect x=\"3397.758710937497\" y=\"125.0\" width=\"42.61453125\" height=\"40\" stroke=\"black\" fill=\"white\" stroke-width=\"1\" /><text x=\"3419.0659765624973\" y=\"145.0\" dominant-baseline=\"middle\" text-anchor=\"middle\" font-size=\"14px\">Rz(b)</text><rect x=\"3397.758710937497\" y=\"175.0\" width=\"42.61453125\" height=\"40\" stroke=\"black\" fill=\"white\" stroke-width=\"1\" /><text x=\"3419.0659765624973\" y=\"195.0\" dominant-baseline=\"middle\" text-anchor=\"middle\" font-size=\"14px\">Ry(a)</text><circle cx=\"3481.680507812497\" cy=\"295.0\" r=\"10.0\" /><circle cx=\"3481.680507812497\" cy=\"345.0\" r=\"10.0\" /><rect x=\"3460.373242187497\" y=\"125.0\" width=\"42.61453125\" height=\"40\" stroke=\"black\" fill=\"white\" stroke-width=\"1\" /><text x=\"3481.680507812497\" y=\"145.0\" dominant-baseline=\"middle\" text-anchor=\"middle\" font-size=\"14px\">Ry(c)</text><rect x=\"3460.373242187497\" y=\"175.0\" width=\"42.61453125\" height=\"40\" stroke=\"black\" fill=\"white\" stroke-width=\"1\" /><text x=\"3481.680507812497\" y=\"195.0\" dominant-baseline=\"middle\" text-anchor=\"middle\" font-size=\"14px\">Rz(b)</text><rect x=\"3460.373242187497\" y=\"225.0\" width=\"42.61453125\" height=\"40\" stroke=\"black\" fill=\"white\" stroke-width=\"1\" /><text x=\"3481.680507812497\" y=\"245.0\" dominant-baseline=\"middle\" text-anchor=\"middle\" font-size=\"14px\">Ry(a)</text><circle cx=\"3544.295039062497\" cy=\"345.0\" r=\"10.0\" /><circle cx=\"3544.295039062497\" cy=\"395.0\" r=\"10.0\" /><rect x=\"3522.987773437497\" y=\"175.0\" width=\"42.61453125\" height=\"40\" stroke=\"black\" fill=\"white\" stroke-width=\"1\" /><text x=\"3544.295039062497\" y=\"195.0\" dominant-baseline=\"middle\" text-anchor=\"middle\" font-size=\"14px\">Ry(c)</text><rect x=\"3522.987773437497\" y=\"225.0\" width=\"42.61453125\" height=\"40\" stroke=\"black\" fill=\"white\" stroke-width=\"1\" /><text x=\"3544.295039062497\" y=\"245.0\" dominant-baseline=\"middle\" text-anchor=\"middle\" font-size=\"14px\">Rz(b)</text><rect x=\"3522.987773437497\" y=\"275.0\" width=\"42.61453125\" height=\"40\" stroke=\"black\" fill=\"white\" stroke-width=\"1\" /><text x=\"3544.295039062497\" y=\"295.0\" dominant-baseline=\"middle\" text-anchor=\"middle\" font-size=\"14px\">Ry(a)</text><circle cx=\"3595.6023046874966\" cy=\"395.0\" r=\"10.0\" /><circle cx=\"3595.6023046874966\" cy=\"45.0\" r=\"10.0\" /><rect x=\"3615.6023046874966\" y=\"225.0\" width=\"42.61453125\" height=\"40\" stroke=\"black\" fill=\"white\" stroke-width=\"1\" /><text x=\"3636.9095703124967\" y=\"245.0\" dominant-baseline=\"middle\" text-anchor=\"middle\" font-size=\"14px\">Ry(c)</text><rect x=\"3615.6023046874966\" y=\"275.0\" width=\"42.61453125\" height=\"40\" stroke=\"black\" fill=\"white\" stroke-width=\"1\" /><text x=\"3636.9095703124967\" y=\"295.0\" dominant-baseline=\"middle\" text-anchor=\"middle\" font-size=\"14px\">Rz(b)</text><rect x=\"3615.6023046874966\" y=\"325.0\" width=\"42.61453125\" height=\"40\" stroke=\"black\" fill=\"white\" stroke-width=\"1\" /><text x=\"3636.9095703124967\" y=\"345.0\" dominant-baseline=\"middle\" text-anchor=\"middle\" font-size=\"14px\">Ry(a)</text><rect x=\"3688.2168359374964\" y=\"25.0\" width=\"42.61453125\" height=\"40\" stroke=\"black\" fill=\"white\" stroke-width=\"1\" /><text x=\"3709.5241015624965\" y=\"45.0\" dominant-baseline=\"middle\" text-anchor=\"middle\" font-size=\"14px\">Ry(a)</text><rect x=\"3688.2168359374964\" y=\"275.0\" width=\"42.61453125\" height=\"40\" stroke=\"black\" fill=\"white\" stroke-width=\"1\" /><text x=\"3709.5241015624965\" y=\"295.0\" dominant-baseline=\"middle\" text-anchor=\"middle\" font-size=\"14px\">Ry(c)</text><rect x=\"3688.2168359374964\" y=\"325.0\" width=\"42.61453125\" height=\"40\" stroke=\"black\" fill=\"white\" stroke-width=\"1\" /><text x=\"3709.5241015624965\" y=\"345.0\" dominant-baseline=\"middle\" text-anchor=\"middle\" font-size=\"14px\">Rz(b)</text><rect x=\"3688.2168359374964\" y=\"375.0\" width=\"42.61453125\" height=\"40\" stroke=\"black\" fill=\"white\" stroke-width=\"1\" /><text x=\"3709.5241015624965\" y=\"395.0\" dominant-baseline=\"middle\" text-anchor=\"middle\" font-size=\"14px\">Ry(a)</text><rect x=\"3750.831367187496\" y=\"25.0\" width=\"42.61453125\" height=\"40\" stroke=\"black\" fill=\"white\" stroke-width=\"1\" /><text x=\"3772.1386328124963\" y=\"45.0\" dominant-baseline=\"middle\" text-anchor=\"middle\" font-size=\"14px\">Rz(b)</text><rect x=\"3750.831367187496\" y=\"325.0\" width=\"42.61453125\" height=\"40\" stroke=\"black\" fill=\"white\" stroke-width=\"1\" /><text x=\"3772.1386328124963\" y=\"345.0\" dominant-baseline=\"middle\" text-anchor=\"middle\" font-size=\"14px\">Ry(c)</text><rect x=\"3750.831367187496\" y=\"375.0\" width=\"42.61453125\" height=\"40\" stroke=\"black\" fill=\"white\" stroke-width=\"1\" /><text x=\"3772.1386328124963\" y=\"395.0\" dominant-baseline=\"middle\" text-anchor=\"middle\" font-size=\"14px\">Rz(b)</text><rect x=\"3813.445898437496\" y=\"25.0\" width=\"41.8283984375\" height=\"40\" stroke=\"black\" fill=\"white\" stroke-width=\"1\" /><text x=\"3834.360097656246\" y=\"45.0\" dominant-baseline=\"middle\" text-anchor=\"middle\" font-size=\"14px\">Ry(c)</text><rect x=\"3813.445898437496\" y=\"375.0\" width=\"41.8283984375\" height=\"40\" stroke=\"black\" fill=\"white\" stroke-width=\"1\" /><text x=\"3834.360097656246\" y=\"395.0\" dominant-baseline=\"middle\" text-anchor=\"middle\" font-size=\"14px\">Ry(c)</text><circle cx=\"3895.274296874996\" cy=\"45.0\" r=\"10.0\" /><circle cx=\"3895.274296874996\" cy=\"95.0\" r=\"10.0\" /><circle cx=\"3955.274296874996\" cy=\"95.0\" r=\"10.0\" /><circle cx=\"3955.274296874996\" cy=\"145.0\" r=\"10.0\" /><circle cx=\"4016.581562499996\" cy=\"145.0\" r=\"10.0\" /><circle cx=\"4016.581562499996\" cy=\"195.0\" r=\"10.0\" /><rect x=\"3995.274296874996\" y=\"75.0\" width=\"42.61453125\" height=\"40\" stroke=\"black\" fill=\"white\" stroke-width=\"1\" /><text x=\"4016.581562499996\" y=\"95.0\" dominant-baseline=\"middle\" text-anchor=\"middle\" font-size=\"14px\">Ry(a)</text><circle cx=\"4079.1960937499957\" cy=\"195.0\" r=\"10.0\" /><circle cx=\"4079.1960937499957\" cy=\"245.0\" r=\"10.0\" /><rect x=\"4057.8888281249956\" y=\"75.0\" width=\"42.61453125\" height=\"40\" stroke=\"black\" fill=\"white\" stroke-width=\"1\" /><text x=\"4079.1960937499957\" y=\"95.0\" dominant-baseline=\"middle\" text-anchor=\"middle\" font-size=\"14px\">Rz(b)</text><rect x=\"4057.8888281249956\" y=\"125.0\" width=\"42.61453125\" height=\"40\" stroke=\"black\" fill=\"white\" stroke-width=\"1\" /><text x=\"4079.1960937499957\" y=\"145.0\" dominant-baseline=\"middle\" text-anchor=\"middle\" font-size=\"14px\">Ry(a)</text><circle cx=\"4141.8106249999955\" cy=\"245.0\" r=\"10.0\" /><circle cx=\"4141.8106249999955\" cy=\"295.0\" r=\"10.0\" /><rect x=\"4120.503359374996\" y=\"75.0\" width=\"42.61453125\" height=\"40\" stroke=\"black\" fill=\"white\" stroke-width=\"1\" /><text x=\"4141.8106249999955\" y=\"95.0\" dominant-baseline=\"middle\" text-anchor=\"middle\" font-size=\"14px\">Ry(c)</text><rect x=\"4120.503359374996\" y=\"125.0\" width=\"42.61453125\" height=\"40\" stroke=\"black\" fill=\"white\" stroke-width=\"1\" /><text x=\"4141.8106249999955\" y=\"145.0\" dominant-baseline=\"middle\" text-anchor=\"middle\" font-size=\"14px\">Rz(b)</text><rect x=\"4120.503359374996\" y=\"175.0\" width=\"42.61453125\" height=\"40\" stroke=\"black\" fill=\"white\" stroke-width=\"1\" /><text x=\"4141.8106249999955\" y=\"195.0\" dominant-baseline=\"middle\" text-anchor=\"middle\" font-size=\"14px\">Ry(a)</text><circle cx=\"4204.425156249996\" cy=\"295.0\" r=\"10.0\" /><circle cx=\"4204.425156249996\" cy=\"345.0\" r=\"10.0\" /><rect x=\"4183.117890624996\" y=\"125.0\" width=\"42.61453125\" height=\"40\" stroke=\"black\" fill=\"white\" stroke-width=\"1\" /><text x=\"4204.425156249996\" y=\"145.0\" dominant-baseline=\"middle\" text-anchor=\"middle\" font-size=\"14px\">Ry(c)</text><rect x=\"4183.117890624996\" y=\"175.0\" width=\"42.61453125\" height=\"40\" stroke=\"black\" fill=\"white\" stroke-width=\"1\" /><text x=\"4204.425156249996\" y=\"195.0\" dominant-baseline=\"middle\" text-anchor=\"middle\" font-size=\"14px\">Rz(b)</text><rect x=\"4183.117890624996\" y=\"225.0\" width=\"42.61453125\" height=\"40\" stroke=\"black\" fill=\"white\" stroke-width=\"1\" /><text x=\"4204.425156249996\" y=\"245.0\" dominant-baseline=\"middle\" text-anchor=\"middle\" font-size=\"14px\">Ry(a)</text><circle cx=\"4267.039687499996\" cy=\"345.0\" r=\"10.0\" /><circle cx=\"4267.039687499996\" cy=\"395.0\" r=\"10.0\" /><rect x=\"4245.732421874996\" y=\"175.0\" width=\"42.61453125\" height=\"40\" stroke=\"black\" fill=\"white\" stroke-width=\"1\" /><text x=\"4267.039687499996\" y=\"195.0\" dominant-baseline=\"middle\" text-anchor=\"middle\" font-size=\"14px\">Ry(c)</text><rect x=\"4245.732421874996\" y=\"225.0\" width=\"42.61453125\" height=\"40\" stroke=\"black\" fill=\"white\" stroke-width=\"1\" /><text x=\"4267.039687499996\" y=\"245.0\" dominant-baseline=\"middle\" text-anchor=\"middle\" font-size=\"14px\">Rz(b)</text><rect x=\"4245.732421874996\" y=\"275.0\" width=\"42.61453125\" height=\"40\" stroke=\"black\" fill=\"white\" stroke-width=\"1\" /><text x=\"4267.039687499996\" y=\"295.0\" dominant-baseline=\"middle\" text-anchor=\"middle\" font-size=\"14px\">Ry(a)</text><circle cx=\"4318.346953124997\" cy=\"395.0\" r=\"10.0\" /><circle cx=\"4318.346953124997\" cy=\"45.0\" r=\"10.0\" /><rect x=\"4338.346953124997\" y=\"225.0\" width=\"42.61453125\" height=\"40\" stroke=\"black\" fill=\"white\" stroke-width=\"1\" /><text x=\"4359.654218749996\" y=\"245.0\" dominant-baseline=\"middle\" text-anchor=\"middle\" font-size=\"14px\">Ry(c)</text><rect x=\"4338.346953124997\" y=\"275.0\" width=\"42.61453125\" height=\"40\" stroke=\"black\" fill=\"white\" stroke-width=\"1\" /><text x=\"4359.654218749996\" y=\"295.0\" dominant-baseline=\"middle\" text-anchor=\"middle\" font-size=\"14px\">Rz(b)</text><rect x=\"4338.346953124997\" y=\"325.0\" width=\"42.61453125\" height=\"40\" stroke=\"black\" fill=\"white\" stroke-width=\"1\" /><text x=\"4359.654218749996\" y=\"345.0\" dominant-baseline=\"middle\" text-anchor=\"middle\" font-size=\"14px\">Ry(a)</text><rect x=\"4410.961484374997\" y=\"25.0\" width=\"42.61453125\" height=\"40\" stroke=\"black\" fill=\"white\" stroke-width=\"1\" /><text x=\"4432.2687499999965\" y=\"45.0\" dominant-baseline=\"middle\" text-anchor=\"middle\" font-size=\"14px\">Ry(a)</text><rect x=\"4410.961484374997\" y=\"275.0\" width=\"42.61453125\" height=\"40\" stroke=\"black\" fill=\"white\" stroke-width=\"1\" /><text x=\"4432.2687499999965\" y=\"295.0\" dominant-baseline=\"middle\" text-anchor=\"middle\" font-size=\"14px\">Ry(c)</text><rect x=\"4410.961484374997\" y=\"325.0\" width=\"42.61453125\" height=\"40\" stroke=\"black\" fill=\"white\" stroke-width=\"1\" /><text x=\"4432.2687499999965\" y=\"345.0\" dominant-baseline=\"middle\" text-anchor=\"middle\" font-size=\"14px\">Rz(b)</text><rect x=\"4410.961484374997\" y=\"375.0\" width=\"42.61453125\" height=\"40\" stroke=\"black\" fill=\"white\" stroke-width=\"1\" /><text x=\"4432.2687499999965\" y=\"395.0\" dominant-baseline=\"middle\" text-anchor=\"middle\" font-size=\"14px\">Ry(a)</text><rect x=\"4473.576015624997\" y=\"25.0\" width=\"42.61453125\" height=\"40\" stroke=\"black\" fill=\"white\" stroke-width=\"1\" /><text x=\"4494.883281249997\" y=\"45.0\" dominant-baseline=\"middle\" text-anchor=\"middle\" font-size=\"14px\">Rz(b)</text><rect x=\"4473.576015624997\" y=\"325.0\" width=\"42.61453125\" height=\"40\" stroke=\"black\" fill=\"white\" stroke-width=\"1\" /><text x=\"4494.883281249997\" y=\"345.0\" dominant-baseline=\"middle\" text-anchor=\"middle\" font-size=\"14px\">Ry(c)</text><rect x=\"4473.576015624997\" y=\"375.0\" width=\"42.61453125\" height=\"40\" stroke=\"black\" fill=\"white\" stroke-width=\"1\" /><text x=\"4494.883281249997\" y=\"395.0\" dominant-baseline=\"middle\" text-anchor=\"middle\" font-size=\"14px\">Rz(b)</text><rect x=\"4536.190546874997\" y=\"25.0\" width=\"41.8283984375\" height=\"40\" stroke=\"black\" fill=\"white\" stroke-width=\"1\" /><text x=\"4557.104746093747\" y=\"45.0\" dominant-baseline=\"middle\" text-anchor=\"middle\" font-size=\"14px\">Ry(c)</text><rect x=\"4536.190546874997\" y=\"375.0\" width=\"41.8283984375\" height=\"40\" stroke=\"black\" fill=\"white\" stroke-width=\"1\" /><text x=\"4557.104746093747\" y=\"395.0\" dominant-baseline=\"middle\" text-anchor=\"middle\" font-size=\"14px\">Ry(c)</text><circle cx=\"4618.018945312498\" cy=\"45.0\" r=\"10.0\" /><circle cx=\"4618.018945312498\" cy=\"95.0\" r=\"10.0\" /><circle cx=\"4678.018945312498\" cy=\"95.0\" r=\"10.0\" /><circle cx=\"4678.018945312498\" cy=\"145.0\" r=\"10.0\" /><circle cx=\"4739.326210937497\" cy=\"145.0\" r=\"10.0\" /><circle cx=\"4739.326210937497\" cy=\"195.0\" r=\"10.0\" /><rect x=\"4718.018945312498\" y=\"75.0\" width=\"42.61453125\" height=\"40\" stroke=\"black\" fill=\"white\" stroke-width=\"1\" /><text x=\"4739.326210937497\" y=\"95.0\" dominant-baseline=\"middle\" text-anchor=\"middle\" font-size=\"14px\">Ry(a)</text><circle cx=\"4801.940742187498\" cy=\"195.0\" r=\"10.0\" /><circle cx=\"4801.940742187498\" cy=\"245.0\" r=\"10.0\" /><rect x=\"4780.633476562498\" y=\"75.0\" width=\"42.61453125\" height=\"40\" stroke=\"black\" fill=\"white\" stroke-width=\"1\" /><text x=\"4801.940742187498\" y=\"95.0\" dominant-baseline=\"middle\" text-anchor=\"middle\" font-size=\"14px\">Rz(b)</text><rect x=\"4780.633476562498\" y=\"125.0\" width=\"42.61453125\" height=\"40\" stroke=\"black\" fill=\"white\" stroke-width=\"1\" /><text x=\"4801.940742187498\" y=\"145.0\" dominant-baseline=\"middle\" text-anchor=\"middle\" font-size=\"14px\">Ry(a)</text><circle cx=\"4864.555273437498\" cy=\"245.0\" r=\"10.0\" /><circle cx=\"4864.555273437498\" cy=\"295.0\" r=\"10.0\" /><rect x=\"4843.248007812498\" y=\"75.0\" width=\"42.61453125\" height=\"40\" stroke=\"black\" fill=\"white\" stroke-width=\"1\" /><text x=\"4864.555273437498\" y=\"95.0\" dominant-baseline=\"middle\" text-anchor=\"middle\" font-size=\"14px\">Ry(c)</text><rect x=\"4843.248007812498\" y=\"125.0\" width=\"42.61453125\" height=\"40\" stroke=\"black\" fill=\"white\" stroke-width=\"1\" /><text x=\"4864.555273437498\" y=\"145.0\" dominant-baseline=\"middle\" text-anchor=\"middle\" font-size=\"14px\">Rz(b)</text><rect x=\"4843.248007812498\" y=\"175.0\" width=\"42.61453125\" height=\"40\" stroke=\"black\" fill=\"white\" stroke-width=\"1\" /><text x=\"4864.555273437498\" y=\"195.0\" dominant-baseline=\"middle\" text-anchor=\"middle\" font-size=\"14px\">Ry(a)</text><circle cx=\"4927.169804687498\" cy=\"295.0\" r=\"10.0\" /><circle cx=\"4927.169804687498\" cy=\"345.0\" r=\"10.0\" /><rect x=\"4905.862539062498\" y=\"125.0\" width=\"42.61453125\" height=\"40\" stroke=\"black\" fill=\"white\" stroke-width=\"1\" /><text x=\"4927.169804687498\" y=\"145.0\" dominant-baseline=\"middle\" text-anchor=\"middle\" font-size=\"14px\">Ry(c)</text><rect x=\"4905.862539062498\" y=\"175.0\" width=\"42.61453125\" height=\"40\" stroke=\"black\" fill=\"white\" stroke-width=\"1\" /><text x=\"4927.169804687498\" y=\"195.0\" dominant-baseline=\"middle\" text-anchor=\"middle\" font-size=\"14px\">Rz(b)</text><rect x=\"4905.862539062498\" y=\"225.0\" width=\"42.61453125\" height=\"40\" stroke=\"black\" fill=\"white\" stroke-width=\"1\" /><text x=\"4927.169804687498\" y=\"245.0\" dominant-baseline=\"middle\" text-anchor=\"middle\" font-size=\"14px\">Ry(a)</text><circle cx=\"4989.784335937498\" cy=\"345.0\" r=\"10.0\" /><circle cx=\"4989.784335937498\" cy=\"395.0\" r=\"10.0\" /><rect x=\"4968.477070312499\" y=\"175.0\" width=\"42.61453125\" height=\"40\" stroke=\"black\" fill=\"white\" stroke-width=\"1\" /><text x=\"4989.784335937498\" y=\"195.0\" dominant-baseline=\"middle\" text-anchor=\"middle\" font-size=\"14px\">Ry(c)</text><rect x=\"4968.477070312499\" y=\"225.0\" width=\"42.61453125\" height=\"40\" stroke=\"black\" fill=\"white\" stroke-width=\"1\" /><text x=\"4989.784335937498\" y=\"245.0\" dominant-baseline=\"middle\" text-anchor=\"middle\" font-size=\"14px\">Rz(b)</text><rect x=\"4968.477070312499\" y=\"275.0\" width=\"42.61453125\" height=\"40\" stroke=\"black\" fill=\"white\" stroke-width=\"1\" /><text x=\"4989.784335937498\" y=\"295.0\" dominant-baseline=\"middle\" text-anchor=\"middle\" font-size=\"14px\">Ry(a)</text><circle cx=\"5041.091601562499\" cy=\"395.0\" r=\"10.0\" /><circle cx=\"5041.091601562499\" cy=\"45.0\" r=\"10.0\" /><rect x=\"5061.091601562499\" y=\"225.0\" width=\"42.61453125\" height=\"40\" stroke=\"black\" fill=\"white\" stroke-width=\"1\" /><text x=\"5082.398867187499\" y=\"245.0\" dominant-baseline=\"middle\" text-anchor=\"middle\" font-size=\"14px\">Ry(c)</text><rect x=\"5061.091601562499\" y=\"275.0\" width=\"42.61453125\" height=\"40\" stroke=\"black\" fill=\"white\" stroke-width=\"1\" /><text x=\"5082.398867187499\" y=\"295.0\" dominant-baseline=\"middle\" text-anchor=\"middle\" font-size=\"14px\">Rz(b)</text><rect x=\"5061.091601562499\" y=\"325.0\" width=\"42.61453125\" height=\"40\" stroke=\"black\" fill=\"white\" stroke-width=\"1\" /><text x=\"5082.398867187499\" y=\"345.0\" dominant-baseline=\"middle\" text-anchor=\"middle\" font-size=\"14px\">Ry(a)</text><rect x=\"5133.706132812499\" y=\"25.0\" width=\"42.61453125\" height=\"40\" stroke=\"black\" fill=\"white\" stroke-width=\"1\" /><text x=\"5155.013398437499\" y=\"45.0\" dominant-baseline=\"middle\" text-anchor=\"middle\" font-size=\"14px\">Ry(a)</text><rect x=\"5133.706132812499\" y=\"275.0\" width=\"42.61453125\" height=\"40\" stroke=\"black\" fill=\"white\" stroke-width=\"1\" /><text x=\"5155.013398437499\" y=\"295.0\" dominant-baseline=\"middle\" text-anchor=\"middle\" font-size=\"14px\">Ry(c)</text><rect x=\"5133.706132812499\" y=\"325.0\" width=\"42.61453125\" height=\"40\" stroke=\"black\" fill=\"white\" stroke-width=\"1\" /><text x=\"5155.013398437499\" y=\"345.0\" dominant-baseline=\"middle\" text-anchor=\"middle\" font-size=\"14px\">Rz(b)</text><rect x=\"5133.706132812499\" y=\"375.0\" width=\"42.61453125\" height=\"40\" stroke=\"black\" fill=\"white\" stroke-width=\"1\" /><text x=\"5155.013398437499\" y=\"395.0\" dominant-baseline=\"middle\" text-anchor=\"middle\" font-size=\"14px\">Ry(a)</text><rect x=\"5196.320664062499\" y=\"25.0\" width=\"42.61453125\" height=\"40\" stroke=\"black\" fill=\"white\" stroke-width=\"1\" /><text x=\"5217.627929687499\" y=\"45.0\" dominant-baseline=\"middle\" text-anchor=\"middle\" font-size=\"14px\">Rz(b)</text><rect x=\"5196.320664062499\" y=\"325.0\" width=\"42.61453125\" height=\"40\" stroke=\"black\" fill=\"white\" stroke-width=\"1\" /><text x=\"5217.627929687499\" y=\"345.0\" dominant-baseline=\"middle\" text-anchor=\"middle\" font-size=\"14px\">Ry(c)</text><rect x=\"5196.320664062499\" y=\"375.0\" width=\"42.61453125\" height=\"40\" stroke=\"black\" fill=\"white\" stroke-width=\"1\" /><text x=\"5217.627929687499\" y=\"395.0\" dominant-baseline=\"middle\" text-anchor=\"middle\" font-size=\"14px\">Rz(b)</text><rect x=\"5258.9351953125\" y=\"25.0\" width=\"41.8283984375\" height=\"40\" stroke=\"black\" fill=\"white\" stroke-width=\"1\" /><text x=\"5279.849394531249\" y=\"45.0\" dominant-baseline=\"middle\" text-anchor=\"middle\" font-size=\"14px\">Ry(c)</text><rect x=\"5258.9351953125\" y=\"375.0\" width=\"41.8283984375\" height=\"40\" stroke=\"black\" fill=\"white\" stroke-width=\"1\" /><text x=\"5279.849394531249\" y=\"395.0\" dominant-baseline=\"middle\" text-anchor=\"middle\" font-size=\"14px\">Ry(c)</text><circle cx=\"5340.76359375\" cy=\"45.0\" r=\"10.0\" /><circle cx=\"5340.76359375\" cy=\"95.0\" r=\"10.0\" /><circle cx=\"5400.76359375\" cy=\"95.0\" r=\"10.0\" /><circle cx=\"5400.76359375\" cy=\"145.0\" r=\"10.0\" /><circle cx=\"5462.070859375\" cy=\"145.0\" r=\"10.0\" /><circle cx=\"5462.070859375\" cy=\"195.0\" r=\"10.0\" /><rect x=\"5440.76359375\" y=\"75.0\" width=\"42.61453125\" height=\"40\" stroke=\"black\" fill=\"white\" stroke-width=\"1\" /><text x=\"5462.070859375\" y=\"95.0\" dominant-baseline=\"middle\" text-anchor=\"middle\" font-size=\"14px\">Ry(a)</text><circle cx=\"5524.685390625\" cy=\"195.0\" r=\"10.0\" /><circle cx=\"5524.685390625\" cy=\"245.0\" r=\"10.0\" /><rect x=\"5503.378125\" y=\"75.0\" width=\"42.61453125\" height=\"40\" stroke=\"black\" fill=\"white\" stroke-width=\"1\" /><text x=\"5524.685390625\" y=\"95.0\" dominant-baseline=\"middle\" text-anchor=\"middle\" font-size=\"14px\">Rz(b)</text><rect x=\"5503.378125\" y=\"125.0\" width=\"42.61453125\" height=\"40\" stroke=\"black\" fill=\"white\" stroke-width=\"1\" /><text x=\"5524.685390625\" y=\"145.0\" dominant-baseline=\"middle\" text-anchor=\"middle\" font-size=\"14px\">Ry(a)</text><circle cx=\"5587.299921875\" cy=\"245.0\" r=\"10.0\" /><circle cx=\"5587.299921875\" cy=\"295.0\" r=\"10.0\" /><rect x=\"5565.99265625\" y=\"75.0\" width=\"42.61453125\" height=\"40\" stroke=\"black\" fill=\"white\" stroke-width=\"1\" /><text x=\"5587.299921875\" y=\"95.0\" dominant-baseline=\"middle\" text-anchor=\"middle\" font-size=\"14px\">Ry(c)</text><rect x=\"5565.99265625\" y=\"125.0\" width=\"42.61453125\" height=\"40\" stroke=\"black\" fill=\"white\" stroke-width=\"1\" /><text x=\"5587.299921875\" y=\"145.0\" dominant-baseline=\"middle\" text-anchor=\"middle\" font-size=\"14px\">Rz(b)</text><rect x=\"5565.99265625\" y=\"175.0\" width=\"42.61453125\" height=\"40\" stroke=\"black\" fill=\"white\" stroke-width=\"1\" /><text x=\"5587.299921875\" y=\"195.0\" dominant-baseline=\"middle\" text-anchor=\"middle\" font-size=\"14px\">Ry(a)</text><circle cx=\"5649.914453125\" cy=\"295.0\" r=\"10.0\" /><circle cx=\"5649.914453125\" cy=\"345.0\" r=\"10.0\" /><rect x=\"5628.607187500001\" y=\"125.0\" width=\"42.61453125\" height=\"40\" stroke=\"black\" fill=\"white\" stroke-width=\"1\" /><text x=\"5649.914453125\" y=\"145.0\" dominant-baseline=\"middle\" text-anchor=\"middle\" font-size=\"14px\">Ry(c)</text><rect x=\"5628.607187500001\" y=\"175.0\" width=\"42.61453125\" height=\"40\" stroke=\"black\" fill=\"white\" stroke-width=\"1\" /><text x=\"5649.914453125\" y=\"195.0\" dominant-baseline=\"middle\" text-anchor=\"middle\" font-size=\"14px\">Rz(b)</text><rect x=\"5628.607187500001\" y=\"225.0\" width=\"42.61453125\" height=\"40\" stroke=\"black\" fill=\"white\" stroke-width=\"1\" /><text x=\"5649.914453125\" y=\"245.0\" dominant-baseline=\"middle\" text-anchor=\"middle\" font-size=\"14px\">Ry(a)</text><circle cx=\"5712.528984375001\" cy=\"345.0\" r=\"10.0\" /><circle cx=\"5712.528984375001\" cy=\"395.0\" r=\"10.0\" /><rect x=\"5691.221718750001\" y=\"175.0\" width=\"42.61453125\" height=\"40\" stroke=\"black\" fill=\"white\" stroke-width=\"1\" /><text x=\"5712.528984375001\" y=\"195.0\" dominant-baseline=\"middle\" text-anchor=\"middle\" font-size=\"14px\">Ry(c)</text><rect x=\"5691.221718750001\" y=\"225.0\" width=\"42.61453125\" height=\"40\" stroke=\"black\" fill=\"white\" stroke-width=\"1\" /><text x=\"5712.528984375001\" y=\"245.0\" dominant-baseline=\"middle\" text-anchor=\"middle\" font-size=\"14px\">Rz(b)</text><rect x=\"5691.221718750001\" y=\"275.0\" width=\"42.61453125\" height=\"40\" stroke=\"black\" fill=\"white\" stroke-width=\"1\" /><text x=\"5712.528984375001\" y=\"295.0\" dominant-baseline=\"middle\" text-anchor=\"middle\" font-size=\"14px\">Ry(a)</text><circle cx=\"5763.836250000001\" cy=\"395.0\" r=\"10.0\" /><circle cx=\"5763.836250000001\" cy=\"45.0\" r=\"10.0\" /><rect x=\"5783.836250000001\" y=\"225.0\" width=\"42.61453125\" height=\"40\" stroke=\"black\" fill=\"white\" stroke-width=\"1\" /><text x=\"5805.143515625001\" y=\"245.0\" dominant-baseline=\"middle\" text-anchor=\"middle\" font-size=\"14px\">Ry(c)</text><rect x=\"5783.836250000001\" y=\"275.0\" width=\"42.61453125\" height=\"40\" stroke=\"black\" fill=\"white\" stroke-width=\"1\" /><text x=\"5805.143515625001\" y=\"295.0\" dominant-baseline=\"middle\" text-anchor=\"middle\" font-size=\"14px\">Rz(b)</text><rect x=\"5783.836250000001\" y=\"325.0\" width=\"42.61453125\" height=\"40\" stroke=\"black\" fill=\"white\" stroke-width=\"1\" /><text x=\"5805.143515625001\" y=\"345.0\" dominant-baseline=\"middle\" text-anchor=\"middle\" font-size=\"14px\">Ry(a)</text><rect x=\"5856.4507812500015\" y=\"25.0\" width=\"42.61453125\" height=\"40\" stroke=\"black\" fill=\"white\" stroke-width=\"1\" /><text x=\"5877.758046875001\" y=\"45.0\" dominant-baseline=\"middle\" text-anchor=\"middle\" font-size=\"14px\">Ry(a)</text><rect x=\"5856.4507812500015\" y=\"275.0\" width=\"42.61453125\" height=\"40\" stroke=\"black\" fill=\"white\" stroke-width=\"1\" /><text x=\"5877.758046875001\" y=\"295.0\" dominant-baseline=\"middle\" text-anchor=\"middle\" font-size=\"14px\">Ry(c)</text><rect x=\"5856.4507812500015\" y=\"325.0\" width=\"42.61453125\" height=\"40\" stroke=\"black\" fill=\"white\" stroke-width=\"1\" /><text x=\"5877.758046875001\" y=\"345.0\" dominant-baseline=\"middle\" text-anchor=\"middle\" font-size=\"14px\">Rz(b)</text><rect x=\"5856.4507812500015\" y=\"375.0\" width=\"42.61453125\" height=\"40\" stroke=\"black\" fill=\"white\" stroke-width=\"1\" /><text x=\"5877.758046875001\" y=\"395.0\" dominant-baseline=\"middle\" text-anchor=\"middle\" font-size=\"14px\">Ry(a)</text><rect x=\"5919.065312500002\" y=\"25.0\" width=\"42.61453125\" height=\"40\" stroke=\"black\" fill=\"white\" stroke-width=\"1\" /><text x=\"5940.372578125001\" y=\"45.0\" dominant-baseline=\"middle\" text-anchor=\"middle\" font-size=\"14px\">Rz(b)</text><rect x=\"5919.065312500002\" y=\"325.0\" width=\"42.61453125\" height=\"40\" stroke=\"black\" fill=\"white\" stroke-width=\"1\" /><text x=\"5940.372578125001\" y=\"345.0\" dominant-baseline=\"middle\" text-anchor=\"middle\" font-size=\"14px\">Ry(c)</text><rect x=\"5919.065312500002\" y=\"375.0\" width=\"42.61453125\" height=\"40\" stroke=\"black\" fill=\"white\" stroke-width=\"1\" /><text x=\"5940.372578125001\" y=\"395.0\" dominant-baseline=\"middle\" text-anchor=\"middle\" font-size=\"14px\">Rz(b)</text><rect x=\"5981.679843750002\" y=\"25.0\" width=\"41.8283984375\" height=\"40\" stroke=\"black\" fill=\"white\" stroke-width=\"1\" /><text x=\"6002.594042968752\" y=\"45.0\" dominant-baseline=\"middle\" text-anchor=\"middle\" font-size=\"14px\">Ry(c)</text><rect x=\"5981.679843750002\" y=\"375.0\" width=\"41.8283984375\" height=\"40\" stroke=\"black\" fill=\"white\" stroke-width=\"1\" /><text x=\"6002.594042968752\" y=\"395.0\" dominant-baseline=\"middle\" text-anchor=\"middle\" font-size=\"14px\">Ry(c)</text><circle cx=\"6063.508242187502\" cy=\"45.0\" r=\"10.0\" /><circle cx=\"6063.508242187502\" cy=\"95.0\" r=\"10.0\" /><circle cx=\"6123.508242187502\" cy=\"95.0\" r=\"10.0\" /><circle cx=\"6123.508242187502\" cy=\"145.0\" r=\"10.0\" /><circle cx=\"6184.815507812502\" cy=\"145.0\" r=\"10.0\" /><circle cx=\"6184.815507812502\" cy=\"195.0\" r=\"10.0\" /><rect x=\"6163.508242187502\" y=\"75.0\" width=\"42.61453125\" height=\"40\" stroke=\"black\" fill=\"white\" stroke-width=\"1\" /><text x=\"6184.815507812502\" y=\"95.0\" dominant-baseline=\"middle\" text-anchor=\"middle\" font-size=\"14px\">Ry(a)</text><circle cx=\"6247.430039062502\" cy=\"195.0\" r=\"10.0\" /><circle cx=\"6247.430039062502\" cy=\"245.0\" r=\"10.0\" /><rect x=\"6226.1227734375025\" y=\"75.0\" width=\"42.61453125\" height=\"40\" stroke=\"black\" fill=\"white\" stroke-width=\"1\" /><text x=\"6247.430039062502\" y=\"95.0\" dominant-baseline=\"middle\" text-anchor=\"middle\" font-size=\"14px\">Rz(b)</text><rect x=\"6226.1227734375025\" y=\"125.0\" width=\"42.61453125\" height=\"40\" stroke=\"black\" fill=\"white\" stroke-width=\"1\" /><text x=\"6247.430039062502\" y=\"145.0\" dominant-baseline=\"middle\" text-anchor=\"middle\" font-size=\"14px\">Ry(a)</text><circle cx=\"6310.044570312502\" cy=\"245.0\" r=\"10.0\" /><circle cx=\"6310.044570312502\" cy=\"295.0\" r=\"10.0\" /><rect x=\"6288.737304687503\" y=\"75.0\" width=\"42.61453125\" height=\"40\" stroke=\"black\" fill=\"white\" stroke-width=\"1\" /><text x=\"6310.044570312502\" y=\"95.0\" dominant-baseline=\"middle\" text-anchor=\"middle\" font-size=\"14px\">Ry(c)</text><rect x=\"6288.737304687503\" y=\"125.0\" width=\"42.61453125\" height=\"40\" stroke=\"black\" fill=\"white\" stroke-width=\"1\" /><text x=\"6310.044570312502\" y=\"145.0\" dominant-baseline=\"middle\" text-anchor=\"middle\" font-size=\"14px\">Rz(b)</text><rect x=\"6288.737304687503\" y=\"175.0\" width=\"42.61453125\" height=\"40\" stroke=\"black\" fill=\"white\" stroke-width=\"1\" /><text x=\"6310.044570312502\" y=\"195.0\" dominant-baseline=\"middle\" text-anchor=\"middle\" font-size=\"14px\">Ry(a)</text><circle cx=\"6372.659101562503\" cy=\"295.0\" r=\"10.0\" /><circle cx=\"6372.659101562503\" cy=\"345.0\" r=\"10.0\" /><rect x=\"6351.351835937503\" y=\"125.0\" width=\"42.61453125\" height=\"40\" stroke=\"black\" fill=\"white\" stroke-width=\"1\" /><text x=\"6372.659101562503\" y=\"145.0\" dominant-baseline=\"middle\" text-anchor=\"middle\" font-size=\"14px\">Ry(c)</text><rect x=\"6351.351835937503\" y=\"175.0\" width=\"42.61453125\" height=\"40\" stroke=\"black\" fill=\"white\" stroke-width=\"1\" /><text x=\"6372.659101562503\" y=\"195.0\" dominant-baseline=\"middle\" text-anchor=\"middle\" font-size=\"14px\">Rz(b)</text><rect x=\"6351.351835937503\" y=\"225.0\" width=\"42.61453125\" height=\"40\" stroke=\"black\" fill=\"white\" stroke-width=\"1\" /><text x=\"6372.659101562503\" y=\"245.0\" dominant-baseline=\"middle\" text-anchor=\"middle\" font-size=\"14px\">Ry(a)</text><circle cx=\"6435.273632812503\" cy=\"345.0\" r=\"10.0\" /><circle cx=\"6435.273632812503\" cy=\"395.0\" r=\"10.0\" /><rect x=\"6413.966367187503\" y=\"175.0\" width=\"42.61453125\" height=\"40\" stroke=\"black\" fill=\"white\" stroke-width=\"1\" /><text x=\"6435.273632812503\" y=\"195.0\" dominant-baseline=\"middle\" text-anchor=\"middle\" font-size=\"14px\">Ry(c)</text><rect x=\"6413.966367187503\" y=\"225.0\" width=\"42.61453125\" height=\"40\" stroke=\"black\" fill=\"white\" stroke-width=\"1\" /><text x=\"6435.273632812503\" y=\"245.0\" dominant-baseline=\"middle\" text-anchor=\"middle\" font-size=\"14px\">Rz(b)</text><rect x=\"6413.966367187503\" y=\"275.0\" width=\"42.61453125\" height=\"40\" stroke=\"black\" fill=\"white\" stroke-width=\"1\" /><text x=\"6435.273632812503\" y=\"295.0\" dominant-baseline=\"middle\" text-anchor=\"middle\" font-size=\"14px\">Ry(a)</text><circle cx=\"6486.5808984375035\" cy=\"395.0\" r=\"10.0\" /><circle cx=\"6486.5808984375035\" cy=\"45.0\" r=\"10.0\" /><rect x=\"6506.5808984375035\" y=\"225.0\" width=\"42.61453125\" height=\"40\" stroke=\"black\" fill=\"white\" stroke-width=\"1\" /><text x=\"6527.888164062503\" y=\"245.0\" dominant-baseline=\"middle\" text-anchor=\"middle\" font-size=\"14px\">Ry(c)</text><rect x=\"6506.5808984375035\" y=\"275.0\" width=\"42.61453125\" height=\"40\" stroke=\"black\" fill=\"white\" stroke-width=\"1\" /><text x=\"6527.888164062503\" y=\"295.0\" dominant-baseline=\"middle\" text-anchor=\"middle\" font-size=\"14px\">Rz(b)</text><rect x=\"6506.5808984375035\" y=\"325.0\" width=\"42.61453125\" height=\"40\" stroke=\"black\" fill=\"white\" stroke-width=\"1\" /><text x=\"6527.888164062503\" y=\"345.0\" dominant-baseline=\"middle\" text-anchor=\"middle\" font-size=\"14px\">Ry(a)</text><rect x=\"6579.195429687504\" y=\"25.0\" width=\"42.61453125\" height=\"40\" stroke=\"black\" fill=\"white\" stroke-width=\"1\" /><text x=\"6600.502695312503\" y=\"45.0\" dominant-baseline=\"middle\" text-anchor=\"middle\" font-size=\"14px\">Ry(a)</text><rect x=\"6579.195429687504\" y=\"275.0\" width=\"42.61453125\" height=\"40\" stroke=\"black\" fill=\"white\" stroke-width=\"1\" /><text x=\"6600.502695312503\" y=\"295.0\" dominant-baseline=\"middle\" text-anchor=\"middle\" font-size=\"14px\">Ry(c)</text><rect x=\"6579.195429687504\" y=\"325.0\" width=\"42.61453125\" height=\"40\" stroke=\"black\" fill=\"white\" stroke-width=\"1\" /><text x=\"6600.502695312503\" y=\"345.0\" dominant-baseline=\"middle\" text-anchor=\"middle\" font-size=\"14px\">Rz(b)</text><rect x=\"6579.195429687504\" y=\"375.0\" width=\"42.61453125\" height=\"40\" stroke=\"black\" fill=\"white\" stroke-width=\"1\" /><text x=\"6600.502695312503\" y=\"395.0\" dominant-baseline=\"middle\" text-anchor=\"middle\" font-size=\"14px\">Ry(a)</text><rect x=\"6641.809960937504\" y=\"25.0\" width=\"42.61453125\" height=\"40\" stroke=\"black\" fill=\"white\" stroke-width=\"1\" /><text x=\"6663.117226562504\" y=\"45.0\" dominant-baseline=\"middle\" text-anchor=\"middle\" font-size=\"14px\">Rz(b)</text><rect x=\"6641.809960937504\" y=\"325.0\" width=\"42.61453125\" height=\"40\" stroke=\"black\" fill=\"white\" stroke-width=\"1\" /><text x=\"6663.117226562504\" y=\"345.0\" dominant-baseline=\"middle\" text-anchor=\"middle\" font-size=\"14px\">Ry(c)</text><rect x=\"6641.809960937504\" y=\"375.0\" width=\"42.61453125\" height=\"40\" stroke=\"black\" fill=\"white\" stroke-width=\"1\" /><text x=\"6663.117226562504\" y=\"395.0\" dominant-baseline=\"middle\" text-anchor=\"middle\" font-size=\"14px\">Rz(b)</text><rect x=\"6704.424492187504\" y=\"25.0\" width=\"41.8283984375\" height=\"40\" stroke=\"black\" fill=\"white\" stroke-width=\"1\" /><text x=\"6725.338691406254\" y=\"45.0\" dominant-baseline=\"middle\" text-anchor=\"middle\" font-size=\"14px\">Ry(c)</text><rect x=\"6704.424492187504\" y=\"375.0\" width=\"41.8283984375\" height=\"40\" stroke=\"black\" fill=\"white\" stroke-width=\"1\" /><text x=\"6725.338691406254\" y=\"395.0\" dominant-baseline=\"middle\" text-anchor=\"middle\" font-size=\"14px\">Ry(c)</text><circle cx=\"6786.2528906250045\" cy=\"45.0\" r=\"10.0\" /><circle cx=\"6786.2528906250045\" cy=\"95.0\" r=\"10.0\" /><circle cx=\"6846.2528906250045\" cy=\"95.0\" r=\"10.0\" /><circle cx=\"6846.2528906250045\" cy=\"145.0\" r=\"10.0\" /><circle cx=\"6906.2528906250045\" cy=\"145.0\" r=\"10.0\" /><circle cx=\"6906.2528906250045\" cy=\"195.0\" r=\"10.0\" /><circle cx=\"6966.2528906250045\" cy=\"195.0\" r=\"10.0\" /><circle cx=\"6966.2528906250045\" cy=\"245.0\" r=\"10.0\" /><circle cx=\"7026.2528906250045\" cy=\"245.0\" r=\"10.0\" /><circle cx=\"7026.2528906250045\" cy=\"295.0\" r=\"10.0\" /><circle cx=\"7086.2528906250045\" cy=\"295.0\" r=\"10.0\" /><circle cx=\"7086.2528906250045\" cy=\"345.0\" r=\"10.0\" /><circle cx=\"7146.2528906250045\" cy=\"345.0\" r=\"10.0\" /><circle cx=\"7146.2528906250045\" cy=\"395.0\" r=\"10.0\" /><circle cx=\"7206.2528906250045\" cy=\"395.0\" r=\"10.0\" /><circle cx=\"7206.2528906250045\" cy=\"45.0\" r=\"10.0\" /></svg>"
      ],
      "text/plain": [
       "<cirq.contrib.svg.svg.SVGCircuit at 0x1bf39142748>"
      ]
     },
     "execution_count": 240,
     "metadata": {},
     "output_type": "execute_result"
    }
   ],
   "source": [
    "# Implement the PQC\n",
    "\n",
    "n_layers = 10\n",
    "qubits = X.shape[1]\n",
    "\n",
    "\n",
    "params = sympy.symbols('a b c')  #Semelhante ao qskit, são parametros simbolicos que vao ser aprendidos\n",
    "#vou montar um circuito em que serão feitas 3 rotações em cada um dos qubits\n",
    "#a = angulo de rotação em y\n",
    "#b = angulo de rotação em x\n",
    "#c = angulo de rotação em z\n",
    "\n",
    "q = cirq.GridQubit.rect(1, qubits)\n",
    "\n",
    "ops = []  #lista vazia de operações, cria o for para serem executadas nos 5 qubits\n",
    "'''\n",
    "for j in range(n_layers):\n",
    "  for i in range(5):\n",
    "    ops.append(cirq.ry(params[0]).on(q[i]))  #o angulo é parametrizado pq ele vai ser aprendido no treinamento\n",
    "    ops.append(cirq.rx(params[1]).on(q[i]))\n",
    "    ops.append(cirq.rz(params[2]).on(q[i]))\n",
    "    #ops.append(cirq.H(params[3]).on(q[i]))\n",
    "\n",
    "'''\n",
    "for j in range(n_layers):\n",
    "  for i in range(qubits):\n",
    "      #Euler rotation\n",
    "      ops.append(cirq.ry(params[0]).on(q[i]))  #o angulo é parametrizado pq ele vai ser aprendido no treinamento\n",
    "      ops.append(cirq.rz(params[1]).on(q[i]))\n",
    "      ops.append(cirq.ry(params[2]).on(q[i]))\n",
    "\n",
    "\n",
    "  ops.append(cirq.CZ(q[0], q[1]))\n",
    "  ops.append(cirq.CZ(q[1], q[2]))\n",
    "  ops.append(cirq.CZ(q[2], q[3]))\n",
    "  ops.append(cirq.CZ(q[3], q[4]))\n",
    "  ops.append(cirq.CZ(q[4], q[5]))\n",
    "  ops.append(cirq.CZ(q[5], q[6]))\n",
    "  ops.append(cirq.CZ(q[6], q[7]))\n",
    "  ops.append(cirq.CZ(q[7], q[0]))\n",
    "\n",
    "\n",
    "#'''\n",
    "\n",
    "#Arquitetura das portas de emaranhamento\n",
    "'''\n",
    "  ops.append(cirq.CNOT(control=q[0], target=q[1]))\n",
    "  ops.append(cirq.CNOT(control=q[1], target=q[2]))\n",
    "  ops.append(cirq.CNOT(control=q[2], target=q[3]))\n",
    "  ops.append(cirq.CNOT(control=q[3], target=q[4]))\n",
    "  ops.append(cirq.CNOT(control=q[4], target=q[5]))\n",
    "  ops.append(cirq.CNOT(control=q[5], target=q[6]))\n",
    "  ops.append(cirq.CNOT(control=q[6], target=q[7]))\n",
    "  ops.append(cirq.CNOT(control=q[7], target=q[0]))\n",
    "'''\n",
    "\n",
    "'''\n",
    "  #Without two-qubit gates parameterized\n",
    "  ops.append(cirq.CZ(q[0], q[1]))\n",
    "  ops.append(cirq.CZ(q[1], q[2]))\n",
    "  ops.append(cirq.CZ(q[2], q[3]))\n",
    "  ops.append(cirq.CZ(q[3], q[4]))\n",
    "  ops.append(cirq.CZ(q[4], q[5]))\n",
    "  ops.append(cirq.CZ(q[5], q[6]))\n",
    "  ops.append(cirq.CZ(q[6], q[7]))\n",
    "  ops.append(cirq.CZ(q[7], q[0]))\n",
    "'''\n",
    "\n",
    "\n",
    "\n",
    "'''\n",
    "  ops.append(cirq.ISWAP(q[0], q[1]))\n",
    "  ops.append(cirq.ISWAP(q[1], q[2]))\n",
    "  ops.append(cirq.ISWAP(q[2], q[3]))\n",
    "  ops.append(cirq.ISWAP(q[3], q[4]))\n",
    "  ops.append(cirq.ISWAP(q[4], q[5]))\n",
    "  ops.append(cirq.ISWAP(q[5], q[6]))\n",
    "  ops.append(cirq.ISWAP(q[6], q[7]))  \n",
    "  ops.append(cirq.ISWAP(q[7], q[0]))\n",
    "'''\n",
    "model_circuit = cirq.Circuit(ops)\n",
    "\n",
    "SVGCircuit(model_circuit)  #SVG é a imagem vetorizada do circuito\n",
    "\n",
    "#Verificar a matriz resultante do circuito."
   ]
  },
  {
   "cell_type": "markdown",
   "metadata": {
    "id": "YgCBSD19HXuJ"
   },
   "source": [
    "### Measurement, Classical Neural Net and Hybrid Model"
   ]
  },
  {
   "cell_type": "code",
   "execution_count": 241,
   "metadata": {
    "colab": {
     "base_uri": "https://localhost:8080/"
    },
    "id": "lZ48tMEIHXuK",
    "outputId": "67685577-1adc-480d-bc3d-83984a4fd0b1",
    "scrolled": true
   },
   "outputs": [
    {
     "name": "stdout",
     "output_type": "stream",
     "text": [
      "Model: \"model_72\"\n",
      "_________________________________________________________________\n",
      "Layer (type)                 Output Shape              Param #   \n",
      "=================================================================\n",
      "circuits_input (InputLayer)  [(None,)]                 0         \n",
      "_________________________________________________________________\n",
      "pqc_72 (PQC)                 (None, 8)                 3         \n",
      "_________________________________________________________________\n",
      "sequential_81 (Sequential)   (None, 10)                1910      \n",
      "=================================================================\n",
      "Total params: 1,913\n",
      "Trainable params: 1,913\n",
      "Non-trainable params: 0\n",
      "_________________________________________________________________\n",
      "<tensorflow_quantum.python.layers.high_level.pqc.PQC object at 0x000001BF37ECF7F0>\n"
     ]
    }
   ],
   "source": [
    "# Code the Hybrid Quantum-Classical Neural Net:\n",
    "from tensorflow.keras.layers import Input\n",
    "\n",
    "#criar o modelo sequencial\n",
    "#iniciou com 5 características, mas sai com 3 - portanto a avaliação na rede é dessas características\n",
    "\n",
    "nn = tf.keras.Sequential([tf.keras.layers.Dense(100,activation = 'relu'), \n",
    "tf.keras.layers.Dense(10,activation = 'sigmoid')]) #sigmoid // softmax\n",
    "                          \n",
    "#nn = tf.keras.Sequential([tf.keras.layers.Dense(10,activation = 'softmax')])\n",
    "\n",
    "#Camada de entrada, define o shape para ser determinado depois; \n",
    "#para poder encaixar circ quanticos ele precisa serializar a string em forma de bits - o ponto de entrada é um bitstring - isso é depois transformado para tensor (isso é uma deficiencia do tensorflow)  \n",
    "circuit_input = tf.keras.Input(shape = (), dtype = tf.string, name = 'circuits_input')\n",
    "\n",
    "#Criação das operações de medição \n",
    "#O cirq faz as medições a partir da operação de Pauli Z \n",
    "\n",
    "measurement_ops = [cirq.Z(q[i]) for i in range(qubits)] \n",
    "\n",
    "#cria a camada de circuito quantica, a partir de agora usa tfq - circuito agregado as operações de medição\n",
    "circuit_layer = tfq.layers.PQC(model_circuit, measurement_ops)\n",
    "\n",
    "\n",
    "#Junta tudo\n",
    "#a entrada é quantica, a saída é o nn - PQC do circuit input; \n",
    "model = tf.keras.Model(inputs = circuit_input, outputs = nn(circuit_layer(circuit_input)))\n",
    "\n",
    "model.summary()\n",
    "\n",
    "print(circuit_layer)"
   ]
  },
  {
   "cell_type": "markdown",
   "metadata": {
    "id": "43W_DtTxHXuK"
   },
   "source": [
    "### Training the Hybrid Quantum - Classical Model"
   ]
  },
  {
   "cell_type": "code",
   "execution_count": 242,
   "metadata": {
    "id": "AEFlrdJ-MPEi"
   },
   "outputs": [],
   "source": [
    "# define our early stopping\n",
    "'''\n",
    "early_stop = tf.keras.callbacks.EarlyStopping(\n",
    "    monitor='val_accuracy',\n",
    "    min_delta=0.0001,\n",
    "    patience=10,\n",
    "    verbose=1, \n",
    "    mode='min',\n",
    "    restore_best_weights=True)\n",
    "'''\n",
    "\n",
    "es = tf.keras.callbacks.EarlyStopping(\n",
    "    monitor='val_accuracy', mode='max', patience = 20)"
   ]
  },
  {
   "cell_type": "code",
   "execution_count": 243,
   "metadata": {
    "colab": {
     "base_uri": "https://localhost:8080/"
    },
    "id": "vhPpXUYMHXuL",
    "outputId": "ed2a0834-8169-4392-eeb1-270cabde164a"
   },
   "outputs": [
    {
     "name": "stdout",
     "output_type": "stream",
     "text": [
      "<tensorflow_quantum.python.layers.high_level.pqc.PQC object at 0x000001BF2C3C9D68>\n",
      "Train on 939 samples, validate on 105 samples\n",
      "Epoch 1/100\n",
      "939/939 [==============================] - 5s 5ms/sample - loss: 1.8451 - accuracy: 0.2907 - val_loss: 1.5594 - val_accuracy: 0.2952\n",
      "Epoch 2/100\n",
      "939/939 [==============================] - 5s 5ms/sample - loss: 1.2633 - accuracy: 0.4462 - val_loss: 1.1628 - val_accuracy: 0.5238\n",
      "Epoch 3/100\n",
      "939/939 [==============================] - 5s 5ms/sample - loss: 0.9497 - accuracy: 0.5729 - val_loss: 1.0211 - val_accuracy: 0.6190\n",
      "Epoch 4/100\n",
      "939/939 [==============================] - 4s 5ms/sample - loss: 0.7151 - accuracy: 0.7412 - val_loss: 0.7328 - val_accuracy: 0.8095\n",
      "Epoch 5/100\n",
      "939/939 [==============================] - 4s 5ms/sample - loss: 0.5402 - accuracy: 0.8104 - val_loss: 0.5728 - val_accuracy: 0.8190\n",
      "Epoch 6/100\n",
      "939/939 [==============================] - 4s 5ms/sample - loss: 0.4483 - accuracy: 0.8679 - val_loss: 0.5369 - val_accuracy: 0.8190\n",
      "Epoch 7/100\n",
      "939/939 [==============================] - 5s 5ms/sample - loss: 0.4149 - accuracy: 0.8722 - val_loss: 0.4756 - val_accuracy: 0.8667\n",
      "Epoch 8/100\n",
      "939/939 [==============================] - 5s 5ms/sample - loss: 0.3703 - accuracy: 0.8946 - val_loss: 0.4188 - val_accuracy: 0.9143\n",
      "Epoch 9/100\n",
      "939/939 [==============================] - 4s 5ms/sample - loss: 0.3228 - accuracy: 0.9191 - val_loss: 0.4064 - val_accuracy: 0.9333\n",
      "Epoch 10/100\n",
      "939/939 [==============================] - 4s 5ms/sample - loss: 0.2933 - accuracy: 0.9212 - val_loss: 0.4153 - val_accuracy: 0.9143\n",
      "Epoch 11/100\n",
      "939/939 [==============================] - 4s 5ms/sample - loss: 0.3108 - accuracy: 0.9052 - val_loss: 0.3873 - val_accuracy: 0.9333\n",
      "Epoch 12/100\n",
      "939/939 [==============================] - 5s 5ms/sample - loss: 0.2607 - accuracy: 0.9350 - val_loss: 0.3648 - val_accuracy: 0.9238\n",
      "Epoch 13/100\n",
      "939/939 [==============================] - 5s 5ms/sample - loss: 0.2439 - accuracy: 0.9255 - val_loss: 0.3325 - val_accuracy: 0.9048\n",
      "Epoch 14/100\n",
      "939/939 [==============================] - 5s 5ms/sample - loss: 0.2183 - accuracy: 0.9468 - val_loss: 0.2978 - val_accuracy: 0.9333\n",
      "Epoch 15/100\n",
      "939/939 [==============================] - 4s 5ms/sample - loss: 0.2095 - accuracy: 0.9542 - val_loss: 0.2798 - val_accuracy: 0.9238\n",
      "Epoch 16/100\n",
      "939/939 [==============================] - 5s 5ms/sample - loss: 0.2017 - accuracy: 0.9489 - val_loss: 0.2821 - val_accuracy: 0.9238\n",
      "Epoch 17/100\n",
      "939/939 [==============================] - 4s 5ms/sample - loss: 0.1974 - accuracy: 0.9446 - val_loss: 0.3276 - val_accuracy: 0.9143\n",
      "Epoch 18/100\n",
      "939/939 [==============================] - 5s 5ms/sample - loss: 0.1774 - accuracy: 0.9659 - val_loss: 0.3124 - val_accuracy: 0.9143\n",
      "Epoch 19/100\n",
      "939/939 [==============================] - 5s 5ms/sample - loss: 0.1692 - accuracy: 0.9595 - val_loss: 0.2511 - val_accuracy: 0.9429\n",
      "Epoch 20/100\n",
      "939/939 [==============================] - 4s 5ms/sample - loss: 0.1766 - accuracy: 0.9478 - val_loss: 0.2604 - val_accuracy: 0.9238\n",
      "Epoch 21/100\n",
      "939/939 [==============================] - 4s 5ms/sample - loss: 0.1635 - accuracy: 0.9617 - val_loss: 0.2504 - val_accuracy: 0.9524\n",
      "Epoch 22/100\n",
      "939/939 [==============================] - 4s 5ms/sample - loss: 0.1561 - accuracy: 0.9595 - val_loss: 0.2564 - val_accuracy: 0.9143\n",
      "Epoch 23/100\n",
      "939/939 [==============================] - 5s 5ms/sample - loss: 0.1883 - accuracy: 0.9350 - val_loss: 0.2876 - val_accuracy: 0.9333\n",
      "Epoch 24/100\n",
      "939/939 [==============================] - 5s 5ms/sample - loss: 0.1619 - accuracy: 0.9553 - val_loss: 0.2997 - val_accuracy: 0.9333\n",
      "Epoch 25/100\n",
      "939/939 [==============================] - 5s 5ms/sample - loss: 0.1554 - accuracy: 0.9553 - val_loss: 0.3057 - val_accuracy: 0.9238\n",
      "Epoch 26/100\n",
      "939/939 [==============================] - 5s 5ms/sample - loss: 0.1617 - accuracy: 0.9563 - val_loss: 0.3336 - val_accuracy: 0.9048\n",
      "Epoch 27/100\n",
      "939/939 [==============================] - 5s 5ms/sample - loss: 0.1467 - accuracy: 0.9606 - val_loss: 0.3303 - val_accuracy: 0.9048\n",
      "Epoch 28/100\n",
      "939/939 [==============================] - 4s 5ms/sample - loss: 0.2117 - accuracy: 0.9169 - val_loss: 0.3306 - val_accuracy: 0.9048\n",
      "Epoch 29/100\n",
      "939/939 [==============================] - 5s 5ms/sample - loss: 0.1381 - accuracy: 0.9627 - val_loss: 0.2123 - val_accuracy: 0.9429\n",
      "Epoch 30/100\n",
      "939/939 [==============================] - 4s 5ms/sample - loss: 0.1186 - accuracy: 0.9755 - val_loss: 0.1972 - val_accuracy: 0.9429\n",
      "Epoch 31/100\n",
      "939/939 [==============================] - 5s 5ms/sample - loss: 0.1108 - accuracy: 0.9776 - val_loss: 0.1989 - val_accuracy: 0.9429\n",
      "Epoch 32/100\n",
      "939/939 [==============================] - 5s 5ms/sample - loss: 0.1225 - accuracy: 0.9670 - val_loss: 0.2124 - val_accuracy: 0.9333\n",
      "Epoch 33/100\n",
      "939/939 [==============================] - 5s 5ms/sample - loss: 0.1069 - accuracy: 0.9787 - val_loss: 0.1879 - val_accuracy: 0.9333\n",
      "Epoch 34/100\n",
      "939/939 [==============================] - 4s 5ms/sample - loss: 0.1263 - accuracy: 0.9681 - val_loss: 0.1910 - val_accuracy: 0.9143\n",
      "Epoch 35/100\n",
      "939/939 [==============================] - 4s 5ms/sample - loss: 0.1085 - accuracy: 0.9734 - val_loss: 0.2158 - val_accuracy: 0.9238\n",
      "Epoch 36/100\n",
      "939/939 [==============================] - 5s 5ms/sample - loss: 0.1246 - accuracy: 0.9670 - val_loss: 0.3112 - val_accuracy: 0.9143\n",
      "Epoch 37/100\n",
      "939/939 [==============================] - 5s 5ms/sample - loss: 0.1105 - accuracy: 0.9691 - val_loss: 0.1924 - val_accuracy: 0.9429\n",
      "Epoch 38/100\n",
      "939/939 [==============================] - 5s 5ms/sample - loss: 0.1153 - accuracy: 0.9712 - val_loss: 0.2473 - val_accuracy: 0.9333\n",
      "Epoch 39/100\n",
      "939/939 [==============================] - 4s 5ms/sample - loss: 0.1063 - accuracy: 0.9702 - val_loss: 0.2846 - val_accuracy: 0.9048\n",
      "Epoch 40/100\n",
      "939/939 [==============================] - 5s 5ms/sample - loss: 0.1303 - accuracy: 0.9553 - val_loss: 0.2204 - val_accuracy: 0.9429\n",
      "Epoch 41/100\n",
      "939/939 [==============================] - 5s 6ms/sample - loss: 0.1023 - accuracy: 0.9734 - val_loss: 0.2090 - val_accuracy: 0.9619\n",
      "Epoch 42/100\n",
      "939/939 [==============================] - 5s 6ms/sample - loss: 0.1205 - accuracy: 0.9617 - val_loss: 0.1782 - val_accuracy: 0.9429\n",
      "Epoch 43/100\n",
      "939/939 [==============================] - 5s 5ms/sample - loss: 0.0901 - accuracy: 0.9830 - val_loss: 0.2076 - val_accuracy: 0.9429\n",
      "Epoch 44/100\n",
      "939/939 [==============================] - 5s 5ms/sample - loss: 0.0935 - accuracy: 0.9712 - val_loss: 0.2292 - val_accuracy: 0.9143\n",
      "Epoch 45/100\n",
      "939/939 [==============================] - 5s 5ms/sample - loss: 0.1102 - accuracy: 0.9670 - val_loss: 0.1856 - val_accuracy: 0.9238\n",
      "Epoch 46/100\n",
      "939/939 [==============================] - 5s 5ms/sample - loss: 0.1012 - accuracy: 0.9766 - val_loss: 0.2147 - val_accuracy: 0.9333\n",
      "Epoch 47/100\n",
      "939/939 [==============================] - 5s 5ms/sample - loss: 0.1081 - accuracy: 0.9744 - val_loss: 0.2471 - val_accuracy: 0.9429\n",
      "Epoch 48/100\n",
      "939/939 [==============================] - 5s 5ms/sample - loss: 0.1074 - accuracy: 0.9670 - val_loss: 0.1610 - val_accuracy: 0.9333\n",
      "Epoch 49/100\n",
      "939/939 [==============================] - 5s 6ms/sample - loss: 0.0879 - accuracy: 0.9776 - val_loss: 0.1693 - val_accuracy: 0.9429\n",
      "Epoch 50/100\n",
      "939/939 [==============================] - 6s 6ms/sample - loss: 0.0910 - accuracy: 0.9702 - val_loss: 0.2025 - val_accuracy: 0.9429\n",
      "Epoch 51/100\n",
      "939/939 [==============================] - 5s 6ms/sample - loss: 0.0927 - accuracy: 0.9744 - val_loss: 0.1829 - val_accuracy: 0.9429\n",
      "Epoch 52/100\n",
      "939/939 [==============================] - 5s 6ms/sample - loss: 0.0785 - accuracy: 0.9787 - val_loss: 0.1471 - val_accuracy: 0.9429\n",
      "Epoch 53/100\n",
      "939/939 [==============================] - 5s 6ms/sample - loss: 0.0833 - accuracy: 0.9723 - val_loss: 0.2088 - val_accuracy: 0.9429\n",
      "Epoch 54/100\n",
      "939/939 [==============================] - 5s 6ms/sample - loss: 0.0834 - accuracy: 0.9808 - val_loss: 0.2119 - val_accuracy: 0.9238\n",
      "Epoch 55/100\n",
      "939/939 [==============================] - 5s 6ms/sample - loss: 0.0771 - accuracy: 0.9798 - val_loss: 0.1633 - val_accuracy: 0.9333\n",
      "Epoch 56/100\n"
     ]
    },
    {
     "name": "stdout",
     "output_type": "stream",
     "text": [
      "939/939 [==============================] - 5s 6ms/sample - loss: 0.0911 - accuracy: 0.9702 - val_loss: 0.3033 - val_accuracy: 0.9429\n",
      "Epoch 57/100\n",
      "939/939 [==============================] - 6s 6ms/sample - loss: 0.1064 - accuracy: 0.9649 - val_loss: 0.1386 - val_accuracy: 0.9429\n",
      "Epoch 58/100\n",
      "939/939 [==============================] - 5s 5ms/sample - loss: 0.1049 - accuracy: 0.9702 - val_loss: 0.1967 - val_accuracy: 0.9429\n",
      "Epoch 59/100\n",
      "939/939 [==============================] - 5s 6ms/sample - loss: 0.0854 - accuracy: 0.9766 - val_loss: 0.1664 - val_accuracy: 0.9333\n",
      "Epoch 60/100\n",
      "939/939 [==============================] - 5s 6ms/sample - loss: 0.0809 - accuracy: 0.9776 - val_loss: 0.2425 - val_accuracy: 0.9238\n",
      "Epoch 61/100\n",
      "939/939 [==============================] - 5s 5ms/sample - loss: 0.0817 - accuracy: 0.9723 - val_loss: 0.1953 - val_accuracy: 0.9524\n",
      "Epoch 62/100\n",
      "939/939 [==============================] - 5s 6ms/sample - loss: 0.0878 - accuracy: 0.9712 - val_loss: 0.1959 - val_accuracy: 0.9333\n",
      "Epoch 63/100\n",
      "939/939 [==============================] - 5s 5ms/sample - loss: 0.1354 - accuracy: 0.9531 - val_loss: 0.3164 - val_accuracy: 0.9048\n",
      "Epoch 64/100\n",
      "939/939 [==============================] - 5s 5ms/sample - loss: 0.1006 - accuracy: 0.9691 - val_loss: 0.2127 - val_accuracy: 0.9333\n",
      "Epoch 65/100\n",
      "939/939 [==============================] - 5s 5ms/sample - loss: 0.0967 - accuracy: 0.9702 - val_loss: 0.1671 - val_accuracy: 0.9333\n",
      "Epoch 66/100\n",
      "939/939 [==============================] - 5s 5ms/sample - loss: 0.0931 - accuracy: 0.9659 - val_loss: 0.1916 - val_accuracy: 0.9333\n",
      "Epoch 67/100\n",
      "939/939 [==============================] - 5s 5ms/sample - loss: 0.0767 - accuracy: 0.9776 - val_loss: 0.1874 - val_accuracy: 0.9333\n",
      "Epoch 68/100\n",
      "939/939 [==============================] - 5s 5ms/sample - loss: 0.0883 - accuracy: 0.9755 - val_loss: 0.1819 - val_accuracy: 0.9429\n",
      "Epoch 69/100\n",
      "939/939 [==============================] - 4s 5ms/sample - loss: 0.0768 - accuracy: 0.9755 - val_loss: 0.1884 - val_accuracy: 0.9429\n",
      "Epoch 70/100\n",
      "939/939 [==============================] - 5s 5ms/sample - loss: 0.0744 - accuracy: 0.9808 - val_loss: 0.1688 - val_accuracy: 0.9429\n",
      "Epoch 71/100\n",
      "939/939 [==============================] - 5s 5ms/sample - loss: 0.0952 - accuracy: 0.9691 - val_loss: 0.1978 - val_accuracy: 0.9429\n",
      "Epoch 72/100\n",
      "939/939 [==============================] - 5s 5ms/sample - loss: 0.0784 - accuracy: 0.9787 - val_loss: 0.1938 - val_accuracy: 0.9238\n",
      "Epoch 73/100\n",
      "939/939 [==============================] - 5s 5ms/sample - loss: 0.0764 - accuracy: 0.9766 - val_loss: 0.1877 - val_accuracy: 0.9333\n",
      "Epoch 74/100\n",
      "939/939 [==============================] - 5s 5ms/sample - loss: 0.0716 - accuracy: 0.9787 - val_loss: 0.2056 - val_accuracy: 0.9238\n",
      "Epoch 75/100\n",
      "939/939 [==============================] - 5s 5ms/sample - loss: 0.0689 - accuracy: 0.9808 - val_loss: 0.1531 - val_accuracy: 0.9429\n",
      "Epoch 76/100\n",
      "939/939 [==============================] - 5s 5ms/sample - loss: 0.1279 - accuracy: 0.9574 - val_loss: 0.2720 - val_accuracy: 0.9429\n",
      "Epoch 77/100\n",
      "939/939 [==============================] - 5s 6ms/sample - loss: 0.0750 - accuracy: 0.9787 - val_loss: 0.1758 - val_accuracy: 0.9429\n",
      "Epoch 78/100\n",
      "939/939 [==============================] - 5s 5ms/sample - loss: 0.0920 - accuracy: 0.9776 - val_loss: 0.1562 - val_accuracy: 0.9619\n",
      "Epoch 79/100\n",
      "939/939 [==============================] - 5s 5ms/sample - loss: 0.1051 - accuracy: 0.9670 - val_loss: 0.1826 - val_accuracy: 0.9619\n",
      "Epoch 80/100\n",
      "939/939 [==============================] - 5s 5ms/sample - loss: 0.0628 - accuracy: 0.9840 - val_loss: 0.1454 - val_accuracy: 0.9429\n",
      "Epoch 81/100\n",
      "939/939 [==============================] - 4s 5ms/sample - loss: 0.0666 - accuracy: 0.9798 - val_loss: 0.1871 - val_accuracy: 0.9238\n",
      "Epoch 82/100\n",
      "939/939 [==============================] - 4s 5ms/sample - loss: 0.0757 - accuracy: 0.9798 - val_loss: 0.1545 - val_accuracy: 0.9429\n",
      "Epoch 83/100\n",
      "939/939 [==============================] - 4s 5ms/sample - loss: 0.0625 - accuracy: 0.9819 - val_loss: 0.1522 - val_accuracy: 0.9429\n",
      "Epoch 84/100\n",
      "939/939 [==============================] - 5s 5ms/sample - loss: 0.0785 - accuracy: 0.9755 - val_loss: 0.1978 - val_accuracy: 0.9429\n",
      "Epoch 85/100\n",
      "939/939 [==============================] - 5s 5ms/sample - loss: 0.0699 - accuracy: 0.9798 - val_loss: 0.1468 - val_accuracy: 0.9524\n",
      "Epoch 86/100\n",
      "939/939 [==============================] - 5s 5ms/sample - loss: 0.0595 - accuracy: 0.9872 - val_loss: 0.1588 - val_accuracy: 0.9524\n",
      "Epoch 87/100\n",
      "939/939 [==============================] - 4s 5ms/sample - loss: 0.0713 - accuracy: 0.9744 - val_loss: 0.2006 - val_accuracy: 0.9429\n",
      "Epoch 88/100\n",
      "939/939 [==============================] - 4s 4ms/sample - loss: 0.0775 - accuracy: 0.9787 - val_loss: 0.1641 - val_accuracy: 0.9238\n",
      "Epoch 89/100\n",
      "939/939 [==============================] - 4s 4ms/sample - loss: 0.0634 - accuracy: 0.9862 - val_loss: 0.2072 - val_accuracy: 0.9238\n",
      "Epoch 90/100\n",
      "939/939 [==============================] - 4s 4ms/sample - loss: 0.0874 - accuracy: 0.9734 - val_loss: 0.2149 - val_accuracy: 0.9429\n",
      "Epoch 91/100\n",
      "939/939 [==============================] - 4s 4ms/sample - loss: 0.0729 - accuracy: 0.9819 - val_loss: 0.1550 - val_accuracy: 0.9429\n",
      "Epoch 92/100\n",
      "939/939 [==============================] - 5s 5ms/sample - loss: 0.0643 - accuracy: 0.9808 - val_loss: 0.1651 - val_accuracy: 0.9429\n",
      "Epoch 93/100\n",
      "939/939 [==============================] - 5s 5ms/sample - loss: 0.0622 - accuracy: 0.9819 - val_loss: 0.1609 - val_accuracy: 0.9524\n",
      "Epoch 94/100\n",
      "939/939 [==============================] - 5s 5ms/sample - loss: 0.0717 - accuracy: 0.9766 - val_loss: 0.1670 - val_accuracy: 0.9333\n",
      "Epoch 95/100\n",
      "939/939 [==============================] - 5s 5ms/sample - loss: 0.0653 - accuracy: 0.9819 - val_loss: 0.1575 - val_accuracy: 0.9333\n",
      "Epoch 96/100\n",
      "939/939 [==============================] - 5s 5ms/sample - loss: 0.0654 - accuracy: 0.9776 - val_loss: 0.1558 - val_accuracy: 0.9429\n",
      "Epoch 97/100\n",
      "939/939 [==============================] - 5s 5ms/sample - loss: 0.0900 - accuracy: 0.9766 - val_loss: 0.1570 - val_accuracy: 0.9429\n",
      "Epoch 98/100\n",
      "939/939 [==============================] - 5s 5ms/sample - loss: 0.0644 - accuracy: 0.9851 - val_loss: 0.2315 - val_accuracy: 0.9238\n",
      "Epoch 99/100\n",
      "939/939 [==============================] - 4s 4ms/sample - loss: 0.0721 - accuracy: 0.9798 - val_loss: 0.2073 - val_accuracy: 0.9524\n",
      "Epoch 100/100\n",
      "939/939 [==============================] - 4s 5ms/sample - loss: 0.0789 - accuracy: 0.9712 - val_loss: 0.1530 - val_accuracy: 0.9429\n",
      "261/261 - 1s - loss: 0.0804 - accuracy: 0.9732\n",
      "<tensorflow_quantum.python.layers.high_level.pqc.PQC object at 0x000001BF391985F8>\n",
      "Train on 939 samples, validate on 105 samples\n",
      "Epoch 1/100\n",
      "939/939 [==============================] - 4s 5ms/sample - loss: 2.1546 - accuracy: 0.2141 - val_loss: 1.8358 - val_accuracy: 0.4095\n",
      "Epoch 2/100\n",
      "939/939 [==============================] - 5s 5ms/sample - loss: 1.3636 - accuracy: 0.6283 - val_loss: 0.9032 - val_accuracy: 0.7333\n",
      "Epoch 3/100\n",
      "939/939 [==============================] - 5s 5ms/sample - loss: 0.7223 - accuracy: 0.8030 - val_loss: 0.5739 - val_accuracy: 0.8381\n",
      "Epoch 4/100\n",
      "939/939 [==============================] - 4s 5ms/sample - loss: 0.5111 - accuracy: 0.8562 - val_loss: 0.4270 - val_accuracy: 0.8667\n",
      "Epoch 5/100\n",
      "939/939 [==============================] - 5s 5ms/sample - loss: 0.4000 - accuracy: 0.8850 - val_loss: 0.3543 - val_accuracy: 0.9143\n",
      "Epoch 6/100\n",
      "939/939 [==============================] - 4s 5ms/sample - loss: 0.3330 - accuracy: 0.9063 - val_loss: 0.3097 - val_accuracy: 0.9333\n",
      "Epoch 7/100\n",
      "939/939 [==============================] - 4s 5ms/sample - loss: 0.2908 - accuracy: 0.9297 - val_loss: 0.2837 - val_accuracy: 0.9143\n",
      "Epoch 8/100\n",
      "939/939 [==============================] - 4s 5ms/sample - loss: 0.2646 - accuracy: 0.9350 - val_loss: 0.2967 - val_accuracy: 0.9143\n",
      "Epoch 9/100\n",
      "939/939 [==============================] - 4s 5ms/sample - loss: 0.2495 - accuracy: 0.9308 - val_loss: 0.2899 - val_accuracy: 0.9048\n",
      "Epoch 10/100\n",
      "939/939 [==============================] - 4s 5ms/sample - loss: 0.2353 - accuracy: 0.9382 - val_loss: 0.2515 - val_accuracy: 0.9048\n",
      "Epoch 11/100\n"
     ]
    },
    {
     "name": "stdout",
     "output_type": "stream",
     "text": [
      "939/939 [==============================] - 5s 5ms/sample - loss: 0.2078 - accuracy: 0.9478 - val_loss: 0.2377 - val_accuracy: 0.9524\n",
      "Epoch 12/100\n",
      "939/939 [==============================] - 4s 5ms/sample - loss: 0.2165 - accuracy: 0.9478 - val_loss: 0.2415 - val_accuracy: 0.9333\n",
      "Epoch 13/100\n",
      "939/939 [==============================] - 4s 5ms/sample - loss: 0.1909 - accuracy: 0.9446 - val_loss: 0.2196 - val_accuracy: 0.9429\n",
      "Epoch 14/100\n",
      "939/939 [==============================] - 4s 5ms/sample - loss: 0.1832 - accuracy: 0.9510 - val_loss: 0.1801 - val_accuracy: 0.9619\n",
      "Epoch 15/100\n",
      "939/939 [==============================] - 5s 5ms/sample - loss: 0.1673 - accuracy: 0.9563 - val_loss: 0.1883 - val_accuracy: 0.9429\n",
      "Epoch 16/100\n",
      "939/939 [==============================] - 5s 5ms/sample - loss: 0.1678 - accuracy: 0.9521 - val_loss: 0.2196 - val_accuracy: 0.9429\n",
      "Epoch 17/100\n",
      "939/939 [==============================] - 5s 5ms/sample - loss: 0.1624 - accuracy: 0.9531 - val_loss: 0.1701 - val_accuracy: 0.9333\n",
      "Epoch 18/100\n",
      "939/939 [==============================] - 4s 5ms/sample - loss: 0.1846 - accuracy: 0.9382 - val_loss: 0.1719 - val_accuracy: 0.9429\n",
      "Epoch 19/100\n",
      "939/939 [==============================] - 4s 5ms/sample - loss: 0.1756 - accuracy: 0.9478 - val_loss: 0.2455 - val_accuracy: 0.9143\n",
      "Epoch 20/100\n",
      "939/939 [==============================] - 4s 5ms/sample - loss: 0.1799 - accuracy: 0.9468 - val_loss: 0.1791 - val_accuracy: 0.9429\n",
      "Epoch 21/100\n",
      "939/939 [==============================] - 4s 5ms/sample - loss: 0.1410 - accuracy: 0.9638 - val_loss: 0.1859 - val_accuracy: 0.9333\n",
      "Epoch 22/100\n",
      "939/939 [==============================] - 4s 5ms/sample - loss: 0.1380 - accuracy: 0.9659 - val_loss: 0.1761 - val_accuracy: 0.9238\n",
      "Epoch 23/100\n",
      "939/939 [==============================] - 4s 5ms/sample - loss: 0.1357 - accuracy: 0.9606 - val_loss: 0.1409 - val_accuracy: 0.9524\n",
      "Epoch 24/100\n",
      "939/939 [==============================] - 4s 5ms/sample - loss: 0.1390 - accuracy: 0.9563 - val_loss: 0.1519 - val_accuracy: 0.9524\n",
      "Epoch 25/100\n",
      "939/939 [==============================] - 4s 5ms/sample - loss: 0.1183 - accuracy: 0.9712 - val_loss: 0.1382 - val_accuracy: 0.9714\n",
      "Epoch 26/100\n",
      "939/939 [==============================] - 4s 5ms/sample - loss: 0.1244 - accuracy: 0.9659 - val_loss: 0.1275 - val_accuracy: 0.9619\n",
      "Epoch 27/100\n",
      "939/939 [==============================] - 4s 5ms/sample - loss: 0.1251 - accuracy: 0.9691 - val_loss: 0.1293 - val_accuracy: 0.9619\n",
      "Epoch 28/100\n",
      "939/939 [==============================] - 4s 5ms/sample - loss: 0.1262 - accuracy: 0.9627 - val_loss: 0.1518 - val_accuracy: 0.9429\n",
      "Epoch 29/100\n",
      "939/939 [==============================] - 4s 5ms/sample - loss: 0.1204 - accuracy: 0.9638 - val_loss: 0.1184 - val_accuracy: 0.9714\n",
      "Epoch 30/100\n",
      "939/939 [==============================] - 4s 5ms/sample - loss: 0.1175 - accuracy: 0.9670 - val_loss: 0.1229 - val_accuracy: 0.9619\n",
      "Epoch 31/100\n",
      "939/939 [==============================] - 4s 5ms/sample - loss: 0.1017 - accuracy: 0.9766 - val_loss: 0.1180 - val_accuracy: 0.9619\n",
      "Epoch 32/100\n",
      "939/939 [==============================] - 4s 5ms/sample - loss: 0.0972 - accuracy: 0.9755 - val_loss: 0.1276 - val_accuracy: 0.9524\n",
      "Epoch 33/100\n",
      "939/939 [==============================] - 5s 5ms/sample - loss: 0.1066 - accuracy: 0.9638 - val_loss: 0.1216 - val_accuracy: 0.9524\n",
      "Epoch 34/100\n",
      "939/939 [==============================] - 4s 5ms/sample - loss: 0.1047 - accuracy: 0.9744 - val_loss: 0.1517 - val_accuracy: 0.9619\n",
      "Epoch 35/100\n",
      "939/939 [==============================] - 4s 5ms/sample - loss: 0.1027 - accuracy: 0.9712 - val_loss: 0.1195 - val_accuracy: 0.9524\n",
      "Epoch 36/100\n",
      "939/939 [==============================] - 4s 5ms/sample - loss: 0.1122 - accuracy: 0.9670 - val_loss: 0.1295 - val_accuracy: 0.9524\n",
      "Epoch 37/100\n",
      "939/939 [==============================] - 4s 5ms/sample - loss: 0.1140 - accuracy: 0.9617 - val_loss: 0.1148 - val_accuracy: 0.9619\n",
      "Epoch 38/100\n",
      "939/939 [==============================] - 4s 5ms/sample - loss: 0.0923 - accuracy: 0.9808 - val_loss: 0.1162 - val_accuracy: 0.9524\n",
      "Epoch 39/100\n",
      "939/939 [==============================] - 5s 5ms/sample - loss: 0.0836 - accuracy: 0.9787 - val_loss: 0.1119 - val_accuracy: 0.9619\n",
      "Epoch 40/100\n",
      "939/939 [==============================] - 5s 5ms/sample - loss: 0.0869 - accuracy: 0.9787 - val_loss: 0.1215 - val_accuracy: 0.9619\n",
      "Epoch 41/100\n",
      "939/939 [==============================] - 4s 5ms/sample - loss: 0.0812 - accuracy: 0.9787 - val_loss: 0.1167 - val_accuracy: 0.9619\n",
      "Epoch 42/100\n",
      "939/939 [==============================] - 4s 5ms/sample - loss: 0.0859 - accuracy: 0.9776 - val_loss: 0.1176 - val_accuracy: 0.9619\n",
      "Epoch 43/100\n",
      "939/939 [==============================] - 5s 5ms/sample - loss: 0.0935 - accuracy: 0.9787 - val_loss: 0.1128 - val_accuracy: 0.9429\n",
      "Epoch 44/100\n",
      "939/939 [==============================] - 5s 5ms/sample - loss: 0.1031 - accuracy: 0.9723 - val_loss: 0.1499 - val_accuracy: 0.9524\n",
      "Epoch 45/100\n",
      "939/939 [==============================] - 5s 5ms/sample - loss: 0.1048 - accuracy: 0.9681 - val_loss: 0.1168 - val_accuracy: 0.9619\n",
      "Epoch 46/100\n",
      "939/939 [==============================] - 5s 5ms/sample - loss: 0.0908 - accuracy: 0.9723 - val_loss: 0.0975 - val_accuracy: 0.9714\n",
      "Epoch 47/100\n",
      "939/939 [==============================] - 5s 5ms/sample - loss: 0.0901 - accuracy: 0.9744 - val_loss: 0.1554 - val_accuracy: 0.9333\n",
      "Epoch 48/100\n",
      "939/939 [==============================] - 5s 5ms/sample - loss: 0.0869 - accuracy: 0.9776 - val_loss: 0.0970 - val_accuracy: 0.9524\n",
      "Epoch 49/100\n",
      "939/939 [==============================] - 5s 5ms/sample - loss: 0.0881 - accuracy: 0.9702 - val_loss: 0.1380 - val_accuracy: 0.9524\n",
      "Epoch 50/100\n",
      "939/939 [==============================] - 6s 6ms/sample - loss: 0.0935 - accuracy: 0.9702 - val_loss: 0.1274 - val_accuracy: 0.94290s - loss: 0.0964 - accuracy: \n",
      "Epoch 51/100\n",
      "939/939 [==============================] - 6s 6ms/sample - loss: 0.0884 - accuracy: 0.9723 - val_loss: 0.1278 - val_accuracy: 0.9524\n",
      "Epoch 52/100\n",
      "939/939 [==============================] - 6s 6ms/sample - loss: 0.0796 - accuracy: 0.9798 - val_loss: 0.1091 - val_accuracy: 0.9714\n",
      "Epoch 53/100\n",
      "939/939 [==============================] - 6s 6ms/sample - loss: 0.0798 - accuracy: 0.9723 - val_loss: 0.1153 - val_accuracy: 0.9524\n",
      "Epoch 54/100\n",
      "939/939 [==============================] - 6s 6ms/sample - loss: 0.0745 - accuracy: 0.9776 - val_loss: 0.1251 - val_accuracy: 0.9619\n",
      "Epoch 55/100\n",
      "939/939 [==============================] - 6s 6ms/sample - loss: 0.0733 - accuracy: 0.9766 - val_loss: 0.1308 - val_accuracy: 0.9429\n",
      "Epoch 56/100\n",
      "939/939 [==============================] - 6s 6ms/sample - loss: 0.0770 - accuracy: 0.9776 - val_loss: 0.1528 - val_accuracy: 0.9429\n",
      "Epoch 57/100\n",
      "939/939 [==============================] - 6s 6ms/sample - loss: 0.0947 - accuracy: 0.9723 - val_loss: 0.1043 - val_accuracy: 0.9714\n",
      "Epoch 58/100\n",
      "939/939 [==============================] - 6s 7ms/sample - loss: 0.0710 - accuracy: 0.9766 - val_loss: 0.1058 - val_accuracy: 0.9524\n",
      "Epoch 59/100\n",
      "939/939 [==============================] - 6s 6ms/sample - loss: 0.0772 - accuracy: 0.9744 - val_loss: 0.3228 - val_accuracy: 0.8667\n",
      "Epoch 60/100\n",
      "939/939 [==============================] - 6s 7ms/sample - loss: 0.1050 - accuracy: 0.9681 - val_loss: 0.1055 - val_accuracy: 0.9524\n",
      "Epoch 61/100\n",
      "939/939 [==============================] - 6s 6ms/sample - loss: 0.0711 - accuracy: 0.9808 - val_loss: 0.1136 - val_accuracy: 0.9524\n",
      "Epoch 62/100\n",
      "939/939 [==============================] - 6s 7ms/sample - loss: 0.0714 - accuracy: 0.9776 - val_loss: 0.1636 - val_accuracy: 0.9333\n",
      "Epoch 63/100\n",
      "939/939 [==============================] - 7s 8ms/sample - loss: 0.0830 - accuracy: 0.9723 - val_loss: 0.0978 - val_accuracy: 0.9619\n",
      "Epoch 64/100\n",
      "939/939 [==============================] - 7s 8ms/sample - loss: 0.0646 - accuracy: 0.9819 - val_loss: 0.0882 - val_accuracy: 0.9619\n",
      "Epoch 65/100\n",
      "939/939 [==============================] - 7s 8ms/sample - loss: 0.0606 - accuracy: 0.9819 - val_loss: 0.1347 - val_accuracy: 0.9619\n",
      "Epoch 66/100\n",
      "939/939 [==============================] - 7s 8ms/sample - loss: 0.0722 - accuracy: 0.9798 - val_loss: 0.1021 - val_accuracy: 0.9619\n"
     ]
    },
    {
     "name": "stdout",
     "output_type": "stream",
     "text": [
      "Epoch 67/100\n",
      "939/939 [==============================] - 7s 7ms/sample - loss: 0.0854 - accuracy: 0.9712 - val_loss: 0.1572 - val_accuracy: 0.9238\n",
      "Epoch 68/100\n",
      "939/939 [==============================] - 7s 8ms/sample - loss: 0.0751 - accuracy: 0.9755 - val_loss: 0.1248 - val_accuracy: 0.9524\n",
      "Epoch 69/100\n",
      "939/939 [==============================] - 7s 8ms/sample - loss: 0.0613 - accuracy: 0.9840 - val_loss: 0.0862 - val_accuracy: 0.9619\n",
      "Epoch 70/100\n",
      "939/939 [==============================] - 7s 8ms/sample - loss: 0.0577 - accuracy: 0.9851 - val_loss: 0.1015 - val_accuracy: 0.9619\n",
      "Epoch 71/100\n",
      "939/939 [==============================] - 7s 8ms/sample - loss: 0.0635 - accuracy: 0.9840 - val_loss: 0.1476 - val_accuracy: 0.9524\n",
      "Epoch 72/100\n",
      "939/939 [==============================] - 7s 8ms/sample - loss: 0.0685 - accuracy: 0.9808 - val_loss: 0.1225 - val_accuracy: 0.9524\n",
      "Epoch 73/100\n",
      "939/939 [==============================] - 8s 8ms/sample - loss: 0.0653 - accuracy: 0.9787 - val_loss: 0.1175 - val_accuracy: 0.9429\n",
      "Epoch 74/100\n",
      "939/939 [==============================] - 8s 8ms/sample - loss: 0.0663 - accuracy: 0.9808 - val_loss: 0.0999 - val_accuracy: 0.9619\n",
      "Epoch 75/100\n",
      "939/939 [==============================] - 8s 8ms/sample - loss: 0.0599 - accuracy: 0.9830 - val_loss: 0.1386 - val_accuracy: 0.9333\n",
      "Epoch 76/100\n",
      "939/939 [==============================] - 7s 8ms/sample - loss: 0.0844 - accuracy: 0.9734 - val_loss: 0.1502 - val_accuracy: 0.9333\n",
      "Epoch 77/100\n",
      "939/939 [==============================] - 7s 8ms/sample - loss: 0.0862 - accuracy: 0.9702 - val_loss: 0.1081 - val_accuracy: 0.9524\n",
      "Epoch 78/100\n",
      "939/939 [==============================] - 7s 8ms/sample - loss: 0.0598 - accuracy: 0.9840 - val_loss: 0.1113 - val_accuracy: 0.9524\n",
      "Epoch 79/100\n",
      "939/939 [==============================] - 7s 8ms/sample - loss: 0.0630 - accuracy: 0.9808 - val_loss: 0.1125 - val_accuracy: 0.9619\n",
      "Epoch 80/100\n",
      "939/939 [==============================] - 7s 8ms/sample - loss: 0.0508 - accuracy: 0.9808 - val_loss: 0.0753 - val_accuracy: 0.9714\n",
      "Epoch 81/100\n",
      "939/939 [==============================] - 7s 8ms/sample - loss: 0.0564 - accuracy: 0.9787 - val_loss: 0.1051 - val_accuracy: 0.9619\n",
      "Epoch 82/100\n",
      "939/939 [==============================] - 8s 9ms/sample - loss: 0.0612 - accuracy: 0.9830 - val_loss: 0.1613 - val_accuracy: 0.9333\n",
      "Epoch 83/100\n",
      "939/939 [==============================] - 8s 9ms/sample - loss: 0.0557 - accuracy: 0.9798 - val_loss: 0.0774 - val_accuracy: 0.9714\n",
      "Epoch 84/100\n",
      "939/939 [==============================] - 9s 9ms/sample - loss: 0.0549 - accuracy: 0.9808 - val_loss: 0.1115 - val_accuracy: 0.9524\n",
      "Epoch 85/100\n",
      "939/939 [==============================] - 8s 8ms/sample - loss: 0.0652 - accuracy: 0.9819 - val_loss: 0.0928 - val_accuracy: 0.9524\n",
      "Epoch 86/100\n",
      "939/939 [==============================] - 9s 9ms/sample - loss: 0.0522 - accuracy: 0.9840 - val_loss: 0.0984 - val_accuracy: 0.9619\n",
      "Epoch 87/100\n",
      "939/939 [==============================] - 9s 9ms/sample - loss: 0.0557 - accuracy: 0.9840 - val_loss: 0.0855 - val_accuracy: 0.9810\n",
      "Epoch 88/100\n",
      "939/939 [==============================] - 9s 9ms/sample - loss: 0.0552 - accuracy: 0.9830 - val_loss: 0.0845 - val_accuracy: 0.9714\n",
      "Epoch 89/100\n",
      "939/939 [==============================] - 9s 9ms/sample - loss: 0.0506 - accuracy: 0.9840 - val_loss: 0.0984 - val_accuracy: 0.9524\n",
      "Epoch 90/100\n",
      "939/939 [==============================] - 8s 9ms/sample - loss: 0.0554 - accuracy: 0.9862 - val_loss: 0.1144 - val_accuracy: 0.9524\n",
      "Epoch 91/100\n",
      "939/939 [==============================] - 8s 9ms/sample - loss: 0.0580 - accuracy: 0.9840 - val_loss: 0.0946 - val_accuracy: 0.9714\n",
      "Epoch 92/100\n",
      "939/939 [==============================] - 8s 9ms/sample - loss: 0.0610 - accuracy: 0.9787 - val_loss: 0.1141 - val_accuracy: 0.9524\n",
      "Epoch 93/100\n",
      "939/939 [==============================] - 8s 9ms/sample - loss: 0.0656 - accuracy: 0.9808 - val_loss: 0.0826 - val_accuracy: 0.9619\n",
      "Epoch 94/100\n",
      "939/939 [==============================] - 8s 9ms/sample - loss: 0.0610 - accuracy: 0.9787 - val_loss: 0.1765 - val_accuracy: 0.9429\n",
      "Epoch 95/100\n",
      "939/939 [==============================] - 9s 9ms/sample - loss: 0.0674 - accuracy: 0.9798 - val_loss: 0.1207 - val_accuracy: 0.9429\n",
      "Epoch 96/100\n",
      "939/939 [==============================] - 10s 10ms/sample - loss: 0.0476 - accuracy: 0.9851 - val_loss: 0.0858 - val_accuracy: 0.9619\n",
      "Epoch 97/100\n",
      "939/939 [==============================] - 10s 10ms/sample - loss: 0.0559 - accuracy: 0.9787 - val_loss: 0.0892 - val_accuracy: 0.9524\n",
      "Epoch 98/100\n",
      "939/939 [==============================] - 11s 11ms/sample - loss: 0.0465 - accuracy: 0.9862 - val_loss: 0.0941 - val_accuracy: 0.9619\n",
      "Epoch 99/100\n",
      "939/939 [==============================] - 10s 10ms/sample - loss: 0.0583 - accuracy: 0.9819 - val_loss: 0.1251 - val_accuracy: 0.9619\n",
      "Epoch 100/100\n",
      "939/939 [==============================] - 10s 11ms/sample - loss: 0.0447 - accuracy: 0.9872 - val_loss: 0.0811 - val_accuracy: 0.9714\n",
      "261/261 - 1s - loss: 0.1327 - accuracy: 0.9540\n",
      "<tensorflow_quantum.python.layers.high_level.pqc.PQC object at 0x000001BF3C398E80>\n",
      "Train on 939 samples, validate on 105 samples\n",
      "Epoch 1/100\n",
      "939/939 [==============================] - 12s 12ms/sample - loss: 1.9279 - accuracy: 0.2556 - val_loss: 1.5671 - val_accuracy: 0.3048\n",
      "Epoch 2/100\n",
      "939/939 [==============================] - 9s 10ms/sample - loss: 1.3239 - accuracy: 0.4547 - val_loss: 1.2333 - val_accuracy: 0.4762\n",
      "Epoch 3/100\n",
      "939/939 [==============================] - 10s 10ms/sample - loss: 0.9822 - accuracy: 0.6337 - val_loss: 0.8443 - val_accuracy: 0.8095\n",
      "Epoch 4/100\n",
      "939/939 [==============================] - 9s 10ms/sample - loss: 0.6681 - accuracy: 0.7700 - val_loss: 0.6395 - val_accuracy: 0.8667\n",
      "Epoch 5/100\n",
      "939/939 [==============================] - 10s 11ms/sample - loss: 0.5790 - accuracy: 0.7987 - val_loss: 0.5968 - val_accuracy: 0.7905\n",
      "Epoch 6/100\n",
      "939/939 [==============================] - 9s 10ms/sample - loss: 0.5276 - accuracy: 0.8232 - val_loss: 0.5980 - val_accuracy: 0.8000\n",
      "Epoch 7/100\n",
      "939/939 [==============================] - 10s 10ms/sample - loss: 0.4702 - accuracy: 0.8488 - val_loss: 0.5549 - val_accuracy: 0.8000\n",
      "Epoch 8/100\n",
      "939/939 [==============================] - 10s 11ms/sample - loss: 0.4369 - accuracy: 0.8552 - val_loss: 0.4617 - val_accuracy: 0.8476\n",
      "Epoch 9/100\n",
      "939/939 [==============================] - 9s 10ms/sample - loss: 0.4170 - accuracy: 0.8520 - val_loss: 0.4697 - val_accuracy: 0.8286\n",
      "Epoch 10/100\n",
      "939/939 [==============================] - 10s 10ms/sample - loss: 0.3949 - accuracy: 0.8530 - val_loss: 0.4317 - val_accuracy: 0.8476\n",
      "Epoch 11/100\n",
      "939/939 [==============================] - 10s 10ms/sample - loss: 0.3822 - accuracy: 0.8584 - val_loss: 0.4093 - val_accuracy: 0.8476\n",
      "Epoch 12/100\n",
      "939/939 [==============================] - 9s 10ms/sample - loss: 0.3281 - accuracy: 0.8797 - val_loss: 0.3796 - val_accuracy: 0.8857\n",
      "Epoch 13/100\n",
      "939/939 [==============================] - 10s 11ms/sample - loss: 0.3389 - accuracy: 0.8754 - val_loss: 0.3685 - val_accuracy: 0.8667\n",
      "Epoch 14/100\n",
      "939/939 [==============================] - 10s 11ms/sample - loss: 0.2966 - accuracy: 0.8882 - val_loss: 0.3572 - val_accuracy: 0.8857\n",
      "Epoch 15/100\n",
      "939/939 [==============================] - 10s 11ms/sample - loss: 0.2661 - accuracy: 0.9180 - val_loss: 0.3416 - val_accuracy: 0.8952\n",
      "Epoch 16/100\n",
      "939/939 [==============================] - 10s 11ms/sample - loss: 0.2824 - accuracy: 0.9031 - val_loss: 0.2817 - val_accuracy: 0.8952\n",
      "Epoch 17/100\n",
      "939/939 [==============================] - 10s 10ms/sample - loss: 0.2853 - accuracy: 0.8956 - val_loss: 0.2989 - val_accuracy: 0.8952\n",
      "Epoch 18/100\n",
      "939/939 [==============================] - 10s 10ms/sample - loss: 0.2936 - accuracy: 0.8892 - val_loss: 0.3127 - val_accuracy: 0.8857\n",
      "Epoch 19/100\n",
      "939/939 [==============================] - 10s 10ms/sample - loss: 0.2647 - accuracy: 0.9116 - val_loss: 0.3259 - val_accuracy: 0.8952\n",
      "Epoch 20/100\n",
      "939/939 [==============================] - 10s 10ms/sample - loss: 0.2337 - accuracy: 0.9148 - val_loss: 0.4415 - val_accuracy: 0.8381\n",
      "Epoch 21/100\n"
     ]
    },
    {
     "name": "stdout",
     "output_type": "stream",
     "text": [
      "939/939 [==============================] - 10s 11ms/sample - loss: 0.2634 - accuracy: 0.8956 - val_loss: 0.2708 - val_accuracy: 0.9143\n",
      "Epoch 22/100\n",
      "939/939 [==============================] - 10s 10ms/sample - loss: 0.2247 - accuracy: 0.9233 - val_loss: 0.2892 - val_accuracy: 0.9048\n",
      "Epoch 23/100\n",
      "939/939 [==============================] - 10s 10ms/sample - loss: 0.2106 - accuracy: 0.9318 - val_loss: 0.3170 - val_accuracy: 0.8762\n",
      "Epoch 24/100\n",
      "939/939 [==============================] - 10s 11ms/sample - loss: 0.2144 - accuracy: 0.9223 - val_loss: 0.2686 - val_accuracy: 0.8952\n",
      "Epoch 25/100\n",
      "939/939 [==============================] - 10s 11ms/sample - loss: 0.2121 - accuracy: 0.9244 - val_loss: 0.2264 - val_accuracy: 0.9143\n",
      "Epoch 26/100\n",
      "939/939 [==============================] - 10s 10ms/sample - loss: 0.2003 - accuracy: 0.9255 - val_loss: 0.3145 - val_accuracy: 0.8857\n",
      "Epoch 27/100\n",
      "939/939 [==============================] - 9s 10ms/sample - loss: 0.2133 - accuracy: 0.9297 - val_loss: 0.2131 - val_accuracy: 0.9238\n",
      "Epoch 28/100\n",
      "939/939 [==============================] - 10s 10ms/sample - loss: 0.1924 - accuracy: 0.9329 - val_loss: 0.2296 - val_accuracy: 0.8857\n",
      "Epoch 29/100\n",
      "939/939 [==============================] - 9s 10ms/sample - loss: 0.2007 - accuracy: 0.9286 - val_loss: 0.2651 - val_accuracy: 0.8857\n",
      "Epoch 30/100\n",
      "939/939 [==============================] - 9s 10ms/sample - loss: 0.1933 - accuracy: 0.9340 - val_loss: 0.2683 - val_accuracy: 0.8952\n",
      "Epoch 31/100\n",
      "939/939 [==============================] - 10s 10ms/sample - loss: 0.2139 - accuracy: 0.9265 - val_loss: 0.1862 - val_accuracy: 0.9429\n",
      "Epoch 32/100\n",
      "939/939 [==============================] - 10s 10ms/sample - loss: 0.1756 - accuracy: 0.9468 - val_loss: 0.3814 - val_accuracy: 0.8476\n",
      "Epoch 33/100\n",
      "939/939 [==============================] - 10s 11ms/sample - loss: 0.2169 - accuracy: 0.9191 - val_loss: 0.2204 - val_accuracy: 0.9143\n",
      "Epoch 34/100\n",
      "939/939 [==============================] - 10s 11ms/sample - loss: 0.2435 - accuracy: 0.9073 - val_loss: 0.3225 - val_accuracy: 0.8952\n",
      "Epoch 35/100\n",
      "939/939 [==============================] - 9s 10ms/sample - loss: 0.2515 - accuracy: 0.9105 - val_loss: 0.2658 - val_accuracy: 0.8857\n",
      "Epoch 36/100\n",
      "939/939 [==============================] - 10s 10ms/sample - loss: 0.2003 - accuracy: 0.9233 - val_loss: 0.1943 - val_accuracy: 0.9429\n",
      "Epoch 37/100\n",
      "939/939 [==============================] - 9s 10ms/sample - loss: 0.1983 - accuracy: 0.9340 - val_loss: 0.1796 - val_accuracy: 0.9524\n",
      "Epoch 38/100\n",
      "939/939 [==============================] - 10s 11ms/sample - loss: 0.1628 - accuracy: 0.9478 - val_loss: 0.1944 - val_accuracy: 0.9524\n",
      "Epoch 39/100\n",
      "939/939 [==============================] - 10s 10ms/sample - loss: 0.1765 - accuracy: 0.9361 - val_loss: 0.2303 - val_accuracy: 0.8952\n",
      "Epoch 40/100\n",
      "939/939 [==============================] - 10s 11ms/sample - loss: 0.1895 - accuracy: 0.9318 - val_loss: 0.2510 - val_accuracy: 0.9048\n",
      "Epoch 41/100\n",
      "939/939 [==============================] - 9s 10ms/sample - loss: 0.1870 - accuracy: 0.9414 - val_loss: 0.1774 - val_accuracy: 0.9524\n",
      "Epoch 42/100\n",
      "939/939 [==============================] - 10s 10ms/sample - loss: 0.1375 - accuracy: 0.9627 - val_loss: 0.2122 - val_accuracy: 0.9333\n",
      "Epoch 43/100\n",
      "939/939 [==============================] - 10s 10ms/sample - loss: 0.1589 - accuracy: 0.9414 - val_loss: 0.1794 - val_accuracy: 0.9238\n",
      "Epoch 44/100\n",
      "939/939 [==============================] - 10s 11ms/sample - loss: 0.2231 - accuracy: 0.9063 - val_loss: 0.1922 - val_accuracy: 0.9143\n",
      "Epoch 45/100\n",
      "939/939 [==============================] - 10s 10ms/sample - loss: 0.2035 - accuracy: 0.9159 - val_loss: 0.2552 - val_accuracy: 0.8762\n",
      "Epoch 46/100\n",
      "939/939 [==============================] - 9s 10ms/sample - loss: 0.1946 - accuracy: 0.9308 - val_loss: 0.2144 - val_accuracy: 0.9048\n",
      "Epoch 47/100\n",
      "939/939 [==============================] - 10s 11ms/sample - loss: 0.1371 - accuracy: 0.9595 - val_loss: 0.1464 - val_accuracy: 0.9524\n",
      "Epoch 48/100\n",
      "939/939 [==============================] - 9s 9ms/sample - loss: 0.1766 - accuracy: 0.9361 - val_loss: 0.1594 - val_accuracy: 0.9333\n",
      "Epoch 49/100\n",
      "939/939 [==============================] - 10s 11ms/sample - loss: 0.1265 - accuracy: 0.9659 - val_loss: 0.1633 - val_accuracy: 0.9524\n",
      "Epoch 50/100\n",
      "939/939 [==============================] - 10s 10ms/sample - loss: 0.1311 - accuracy: 0.9542 - val_loss: 0.1816 - val_accuracy: 0.9143\n",
      "Epoch 51/100\n",
      "939/939 [==============================] - 10s 10ms/sample - loss: 0.1091 - accuracy: 0.9702 - val_loss: 0.2156 - val_accuracy: 0.9238\n",
      "Epoch 52/100\n",
      "939/939 [==============================] - 10s 10ms/sample - loss: 0.1142 - accuracy: 0.9659 - val_loss: 0.2308 - val_accuracy: 0.9048\n",
      "Epoch 53/100\n",
      "939/939 [==============================] - 10s 10ms/sample - loss: 0.1436 - accuracy: 0.9425 - val_loss: 0.2189 - val_accuracy: 0.9143\n",
      "Epoch 54/100\n",
      "939/939 [==============================] - 10s 10ms/sample - loss: 0.1474 - accuracy: 0.9425 - val_loss: 0.1706 - val_accuracy: 0.9333\n",
      "Epoch 55/100\n",
      "939/939 [==============================] - 9s 10ms/sample - loss: 0.1023 - accuracy: 0.9755 - val_loss: 0.1595 - val_accuracy: 0.9524\n",
      "Epoch 56/100\n",
      "939/939 [==============================] - 9s 10ms/sample - loss: 0.1097 - accuracy: 0.9670 - val_loss: 0.1882 - val_accuracy: 0.9143\n",
      "Epoch 57/100\n",
      "939/939 [==============================] - 9s 10ms/sample - loss: 0.1242 - accuracy: 0.9681 - val_loss: 0.1391 - val_accuracy: 0.9524\n",
      "Epoch 58/100\n",
      "939/939 [==============================] - 9s 10ms/sample - loss: 0.1108 - accuracy: 0.9702 - val_loss: 0.1716 - val_accuracy: 0.9429\n",
      "Epoch 59/100\n",
      "939/939 [==============================] - 10s 10ms/sample - loss: 0.1158 - accuracy: 0.9617 - val_loss: 0.2749 - val_accuracy: 0.8857\n",
      "Epoch 60/100\n",
      "939/939 [==============================] - 9s 10ms/sample - loss: 0.1375 - accuracy: 0.9542 - val_loss: 0.1707 - val_accuracy: 0.9429\n",
      "Epoch 61/100\n",
      "939/939 [==============================] - 10s 11ms/sample - loss: 0.1247 - accuracy: 0.9563 - val_loss: 0.1590 - val_accuracy: 0.9333\n",
      "Epoch 62/100\n",
      "939/939 [==============================] - 10s 10ms/sample - loss: 0.1186 - accuracy: 0.9553 - val_loss: 0.1684 - val_accuracy: 0.9238\n",
      "Epoch 63/100\n",
      "939/939 [==============================] - 10s 10ms/sample - loss: 0.1006 - accuracy: 0.9670 - val_loss: 0.1640 - val_accuracy: 0.9333\n",
      "Epoch 64/100\n",
      "939/939 [==============================] - 9s 10ms/sample - loss: 0.0849 - accuracy: 0.9787 - val_loss: 0.1951 - val_accuracy: 0.9048\n",
      "Epoch 65/100\n",
      "939/939 [==============================] - 10s 10ms/sample - loss: 0.1031 - accuracy: 0.9670 - val_loss: 0.1569 - val_accuracy: 0.9429\n",
      "Epoch 66/100\n",
      "939/939 [==============================] - 10s 10ms/sample - loss: 0.1142 - accuracy: 0.9670 - val_loss: 0.2258 - val_accuracy: 0.9238\n",
      "Epoch 67/100\n",
      "939/939 [==============================] - 10s 11ms/sample - loss: 0.1279 - accuracy: 0.9617 - val_loss: 0.1408 - val_accuracy: 0.9714\n",
      "Epoch 68/100\n",
      "939/939 [==============================] - 9s 10ms/sample - loss: 0.1526 - accuracy: 0.9318 - val_loss: 0.3264 - val_accuracy: 0.8476\n",
      "Epoch 69/100\n",
      "939/939 [==============================] - 10s 11ms/sample - loss: 0.1506 - accuracy: 0.9436 - val_loss: 0.3066 - val_accuracy: 0.8476\n",
      "Epoch 70/100\n",
      "939/939 [==============================] - 10s 10ms/sample - loss: 0.1632 - accuracy: 0.9414 - val_loss: 0.2240 - val_accuracy: 0.8857\n",
      "Epoch 71/100\n",
      "939/939 [==============================] - 10s 11ms/sample - loss: 0.0963 - accuracy: 0.9670 - val_loss: 0.2130 - val_accuracy: 0.9238\n",
      "Epoch 72/100\n",
      "939/939 [==============================] - 9s 10ms/sample - loss: 0.0991 - accuracy: 0.9734 - val_loss: 0.1748 - val_accuracy: 0.9238\n",
      "Epoch 73/100\n",
      "939/939 [==============================] - 10s 10ms/sample - loss: 0.0988 - accuracy: 0.9744 - val_loss: 0.1579 - val_accuracy: 0.9524\n",
      "Epoch 74/100\n",
      "939/939 [==============================] - 10s 10ms/sample - loss: 0.0821 - accuracy: 0.9755 - val_loss: 0.2299 - val_accuracy: 0.9238\n",
      "Epoch 75/100\n",
      "939/939 [==============================] - 10s 10ms/sample - loss: 0.0959 - accuracy: 0.9712 - val_loss: 0.1558 - val_accuracy: 0.9429\n",
      "Epoch 76/100\n"
     ]
    },
    {
     "name": "stdout",
     "output_type": "stream",
     "text": [
      "939/939 [==============================] - 10s 10ms/sample - loss: 0.0928 - accuracy: 0.9670 - val_loss: 0.1797 - val_accuracy: 0.9524\n",
      "Epoch 77/100\n",
      "939/939 [==============================] - 11s 11ms/sample - loss: 0.0899 - accuracy: 0.9712 - val_loss: 0.1842 - val_accuracy: 0.9238\n",
      "Epoch 78/100\n",
      "939/939 [==============================] - 10s 11ms/sample - loss: 0.0780 - accuracy: 0.9787 - val_loss: 0.1657 - val_accuracy: 0.9619\n",
      "Epoch 79/100\n",
      "939/939 [==============================] - 9s 10ms/sample - loss: 0.0977 - accuracy: 0.9681 - val_loss: 0.1597 - val_accuracy: 0.9524\n",
      "Epoch 80/100\n",
      "939/939 [==============================] - 10s 10ms/sample - loss: 0.0910 - accuracy: 0.9712 - val_loss: 0.1650 - val_accuracy: 0.9333\n",
      "Epoch 81/100\n",
      "939/939 [==============================] - 10s 10ms/sample - loss: 0.1123 - accuracy: 0.9617 - val_loss: 0.1877 - val_accuracy: 0.9143\n",
      "Epoch 82/100\n",
      "939/939 [==============================] - 9s 10ms/sample - loss: 0.1057 - accuracy: 0.9670 - val_loss: 0.1659 - val_accuracy: 0.9524\n",
      "Epoch 83/100\n",
      "939/939 [==============================] - 9s 10ms/sample - loss: 0.0846 - accuracy: 0.9723 - val_loss: 0.1246 - val_accuracy: 0.9619\n",
      "Epoch 84/100\n",
      "939/939 [==============================] - 9s 10ms/sample - loss: 0.0757 - accuracy: 0.9808 - val_loss: 0.1519 - val_accuracy: 0.9429\n",
      "Epoch 85/100\n",
      "939/939 [==============================] - 10s 10ms/sample - loss: 0.0716 - accuracy: 0.9766 - val_loss: 0.1459 - val_accuracy: 0.9619\n",
      "Epoch 86/100\n",
      "939/939 [==============================] - 10s 10ms/sample - loss: 0.0740 - accuracy: 0.9766 - val_loss: 0.1317 - val_accuracy: 0.9619\n",
      "Epoch 87/100\n",
      "939/939 [==============================] - 10s 10ms/sample - loss: 0.0830 - accuracy: 0.9723 - val_loss: 0.1396 - val_accuracy: 0.9524\n",
      "Epoch 88/100\n",
      "939/939 [==============================] - 10s 11ms/sample - loss: 0.0635 - accuracy: 0.9862 - val_loss: 0.1220 - val_accuracy: 0.9524\n",
      "Epoch 89/100\n",
      "939/939 [==============================] - 10s 10ms/sample - loss: 0.0557 - accuracy: 0.9830 - val_loss: 0.1256 - val_accuracy: 0.9429\n",
      "Epoch 90/100\n",
      "939/939 [==============================] - 10s 10ms/sample - loss: 0.0667 - accuracy: 0.9755 - val_loss: 0.1521 - val_accuracy: 0.9524\n",
      "Epoch 91/100\n",
      "939/939 [==============================] - 10s 10ms/sample - loss: 0.0731 - accuracy: 0.9808 - val_loss: 0.1915 - val_accuracy: 0.9333\n",
      "Epoch 92/100\n",
      "939/939 [==============================] - 10s 11ms/sample - loss: 0.0851 - accuracy: 0.9681 - val_loss: 0.1611 - val_accuracy: 0.9333\n",
      "Epoch 93/100\n",
      "939/939 [==============================] - 10s 10ms/sample - loss: 0.0878 - accuracy: 0.9670 - val_loss: 0.1776 - val_accuracy: 0.9429\n",
      "Epoch 94/100\n",
      "939/939 [==============================] - 9s 10ms/sample - loss: 0.0707 - accuracy: 0.9755 - val_loss: 0.2561 - val_accuracy: 0.9143\n",
      "Epoch 95/100\n",
      "939/939 [==============================] - 9s 10ms/sample - loss: 0.0783 - accuracy: 0.9744 - val_loss: 0.1265 - val_accuracy: 0.9619\n",
      "Epoch 96/100\n",
      "939/939 [==============================] - 9s 10ms/sample - loss: 0.0477 - accuracy: 0.9862 - val_loss: 0.1509 - val_accuracy: 0.9524\n",
      "Epoch 97/100\n",
      "939/939 [==============================] - 10s 10ms/sample - loss: 0.0559 - accuracy: 0.9840 - val_loss: 0.1291 - val_accuracy: 0.9524\n",
      "Epoch 98/100\n",
      "939/939 [==============================] - 10s 10ms/sample - loss: 0.0600 - accuracy: 0.9819 - val_loss: 0.2672 - val_accuracy: 0.8952\n",
      "Epoch 99/100\n",
      "939/939 [==============================] - 10s 10ms/sample - loss: 0.0664 - accuracy: 0.9819 - val_loss: 0.1420 - val_accuracy: 0.9524\n",
      "Epoch 100/100\n",
      "939/939 [==============================] - 10s 11ms/sample - loss: 0.0772 - accuracy: 0.9734 - val_loss: 0.1483 - val_accuracy: 0.9429\n",
      "261/261 - 1s - loss: 0.0938 - accuracy: 0.9770\n",
      "<tensorflow_quantum.python.layers.high_level.pqc.PQC object at 0x000001BF3C62D908>\n",
      "Train on 939 samples, validate on 105 samples\n",
      "Epoch 1/100\n",
      "939/939 [==============================] - 11s 12ms/sample - loss: 2.1428 - accuracy: 0.2748 - val_loss: 1.9096 - val_accuracy: 0.2857\n",
      "Epoch 2/100\n",
      "939/939 [==============================] - 10s 10ms/sample - loss: 1.4884 - accuracy: 0.5229 - val_loss: 1.1589 - val_accuracy: 0.6190\n",
      "Epoch 3/100\n",
      "939/939 [==============================] - 10s 10ms/sample - loss: 0.9273 - accuracy: 0.7263 - val_loss: 0.8313 - val_accuracy: 0.8095\n",
      "Epoch 4/100\n",
      "939/939 [==============================] - 10s 10ms/sample - loss: 0.7006 - accuracy: 0.8094 - val_loss: 0.7204 - val_accuracy: 0.7238\n",
      "Epoch 5/100\n",
      "939/939 [==============================] - 10s 10ms/sample - loss: 0.5921 - accuracy: 0.8466 - val_loss: 0.6009 - val_accuracy: 0.7810\n",
      "Epoch 6/100\n",
      "939/939 [==============================] - 10s 11ms/sample - loss: 0.4943 - accuracy: 0.8690 - val_loss: 0.4669 - val_accuracy: 0.8952\n",
      "Epoch 7/100\n",
      "939/939 [==============================] - 10s 11ms/sample - loss: 0.4404 - accuracy: 0.9052 - val_loss: 0.4307 - val_accuracy: 0.8762\n",
      "Epoch 8/100\n",
      "939/939 [==============================] - 10s 11ms/sample - loss: 0.3848 - accuracy: 0.9063 - val_loss: 0.4010 - val_accuracy: 0.8762\n",
      "Epoch 9/100\n",
      "939/939 [==============================] - 10s 11ms/sample - loss: 0.3492 - accuracy: 0.9105 - val_loss: 0.4175 - val_accuracy: 0.8762\n",
      "Epoch 10/100\n",
      "939/939 [==============================] - 10s 11ms/sample - loss: 0.3175 - accuracy: 0.9191 - val_loss: 0.3488 - val_accuracy: 0.8857\n",
      "Epoch 11/100\n",
      "939/939 [==============================] - 10s 11ms/sample - loss: 0.3005 - accuracy: 0.9329 - val_loss: 0.3299 - val_accuracy: 0.8952\n",
      "Epoch 12/100\n",
      "939/939 [==============================] - 10s 11ms/sample - loss: 0.2872 - accuracy: 0.9255 - val_loss: 0.2966 - val_accuracy: 0.9238\n",
      "Epoch 13/100\n",
      "939/939 [==============================] - 9s 10ms/sample - loss: 0.2785 - accuracy: 0.9297 - val_loss: 0.3244 - val_accuracy: 0.8952\n",
      "Epoch 14/100\n",
      "939/939 [==============================] - 10s 11ms/sample - loss: 0.2696 - accuracy: 0.9340 - val_loss: 0.2906 - val_accuracy: 0.9238\n",
      "Epoch 15/100\n",
      "939/939 [==============================] - 10s 10ms/sample - loss: 0.2536 - accuracy: 0.9361 - val_loss: 0.2676 - val_accuracy: 0.9238\n",
      "Epoch 16/100\n",
      "939/939 [==============================] - 10s 11ms/sample - loss: 0.2424 - accuracy: 0.9393 - val_loss: 0.2473 - val_accuracy: 0.9429\n",
      "Epoch 17/100\n",
      "939/939 [==============================] - 10s 11ms/sample - loss: 0.2371 - accuracy: 0.9382 - val_loss: 0.2357 - val_accuracy: 0.9619\n",
      "Epoch 18/100\n",
      "939/939 [==============================] - 9s 10ms/sample - loss: 0.2169 - accuracy: 0.9510 - val_loss: 0.3014 - val_accuracy: 0.9143\n",
      "Epoch 19/100\n",
      "939/939 [==============================] - 9s 10ms/sample - loss: 0.2234 - accuracy: 0.9393 - val_loss: 0.2664 - val_accuracy: 0.9238\n",
      "Epoch 20/100\n",
      "939/939 [==============================] - 10s 11ms/sample - loss: 0.2194 - accuracy: 0.9468 - val_loss: 0.2499 - val_accuracy: 0.9429\n",
      "Epoch 21/100\n",
      "939/939 [==============================] - 10s 10ms/sample - loss: 0.2207 - accuracy: 0.9478 - val_loss: 0.2527 - val_accuracy: 0.9333\n",
      "Epoch 22/100\n",
      "939/939 [==============================] - 10s 10ms/sample - loss: 0.2138 - accuracy: 0.9531 - val_loss: 0.2413 - val_accuracy: 0.9429\n",
      "Epoch 23/100\n",
      "939/939 [==============================] - 10s 10ms/sample - loss: 0.1947 - accuracy: 0.9553 - val_loss: 0.2633 - val_accuracy: 0.9143\n",
      "Epoch 24/100\n",
      "939/939 [==============================] - 10s 10ms/sample - loss: 0.1957 - accuracy: 0.9542 - val_loss: 0.1995 - val_accuracy: 0.9524\n",
      "Epoch 25/100\n",
      "939/939 [==============================] - 9s 10ms/sample - loss: 0.1811 - accuracy: 0.9595 - val_loss: 0.2129 - val_accuracy: 0.9333\n",
      "Epoch 26/100\n",
      "939/939 [==============================] - 10s 10ms/sample - loss: 0.1818 - accuracy: 0.9531 - val_loss: 0.2098 - val_accuracy: 0.9429\n",
      "Epoch 27/100\n",
      "939/939 [==============================] - 10s 11ms/sample - loss: 0.1789 - accuracy: 0.9585 - val_loss: 0.2444 - val_accuracy: 0.9524\n",
      "Epoch 28/100\n",
      "939/939 [==============================] - 10s 11ms/sample - loss: 0.1742 - accuracy: 0.9574 - val_loss: 0.1892 - val_accuracy: 0.9524\n",
      "Epoch 29/100\n",
      "939/939 [==============================] - 10s 10ms/sample - loss: 0.1770 - accuracy: 0.9510 - val_loss: 0.2180 - val_accuracy: 0.9333\n",
      "Epoch 30/100\n"
     ]
    },
    {
     "name": "stdout",
     "output_type": "stream",
     "text": [
      "939/939 [==============================] - 10s 10ms/sample - loss: 0.1819 - accuracy: 0.9478 - val_loss: 0.1962 - val_accuracy: 0.9524\n",
      "Epoch 31/100\n",
      "939/939 [==============================] - 9s 10ms/sample - loss: 0.1639 - accuracy: 0.9606 - val_loss: 0.2016 - val_accuracy: 0.9619\n",
      "Epoch 32/100\n",
      "939/939 [==============================] - 10s 10ms/sample - loss: 0.1751 - accuracy: 0.9489 - val_loss: 0.2275 - val_accuracy: 0.9333\n",
      "Epoch 33/100\n",
      "939/939 [==============================] - 9s 10ms/sample - loss: 0.1616 - accuracy: 0.9617 - val_loss: 0.1796 - val_accuracy: 0.9524\n",
      "Epoch 34/100\n",
      "939/939 [==============================] - 11s 11ms/sample - loss: 0.1470 - accuracy: 0.9670 - val_loss: 0.2114 - val_accuracy: 0.9143\n",
      "Epoch 35/100\n",
      "939/939 [==============================] - 10s 11ms/sample - loss: 0.1624 - accuracy: 0.9563 - val_loss: 0.1898 - val_accuracy: 0.9429\n",
      "Epoch 36/100\n",
      "939/939 [==============================] - 10s 11ms/sample - loss: 0.1513 - accuracy: 0.9617 - val_loss: 0.1771 - val_accuracy: 0.9429\n",
      "Epoch 37/100\n",
      "939/939 [==============================] - 10s 10ms/sample - loss: 0.1534 - accuracy: 0.9606 - val_loss: 0.1989 - val_accuracy: 0.9524\n",
      "Epoch 38/100\n",
      "939/939 [==============================] - 10s 11ms/sample - loss: 0.1537 - accuracy: 0.9585 - val_loss: 0.1713 - val_accuracy: 0.9524\n",
      "Epoch 39/100\n",
      "939/939 [==============================] - 10s 10ms/sample - loss: 0.1517 - accuracy: 0.9606 - val_loss: 0.1870 - val_accuracy: 0.9429\n",
      "Epoch 40/100\n",
      "939/939 [==============================] - 9s 10ms/sample - loss: 0.1460 - accuracy: 0.9606 - val_loss: 0.1604 - val_accuracy: 0.9619\n",
      "Epoch 41/100\n",
      "939/939 [==============================] - 9s 10ms/sample - loss: 0.1401 - accuracy: 0.9638 - val_loss: 0.1607 - val_accuracy: 0.9619\n",
      "Epoch 42/100\n",
      "939/939 [==============================] - 10s 10ms/sample - loss: 0.1326 - accuracy: 0.9659 - val_loss: 0.1466 - val_accuracy: 0.9619\n",
      "Epoch 43/100\n",
      "939/939 [==============================] - 10s 10ms/sample - loss: 0.1385 - accuracy: 0.9585 - val_loss: 0.1816 - val_accuracy: 0.9524\n",
      "Epoch 44/100\n",
      "939/939 [==============================] - 10s 10ms/sample - loss: 0.1366 - accuracy: 0.9681 - val_loss: 0.2041 - val_accuracy: 0.9333\n",
      "Epoch 45/100\n",
      "939/939 [==============================] - 10s 11ms/sample - loss: 0.1319 - accuracy: 0.9649 - val_loss: 0.1707 - val_accuracy: 0.9619\n",
      "Epoch 46/100\n",
      "939/939 [==============================] - 10s 10ms/sample - loss: 0.1424 - accuracy: 0.9585 - val_loss: 0.1615 - val_accuracy: 0.9619\n",
      "Epoch 47/100\n",
      "939/939 [==============================] - 10s 10ms/sample - loss: 0.1318 - accuracy: 0.9681 - val_loss: 0.1824 - val_accuracy: 0.9333\n",
      "Epoch 48/100\n",
      "939/939 [==============================] - 10s 10ms/sample - loss: 0.1204 - accuracy: 0.9712 - val_loss: 0.1502 - val_accuracy: 0.9524\n",
      "Epoch 49/100\n",
      "939/939 [==============================] - 10s 11ms/sample - loss: 0.1153 - accuracy: 0.9723 - val_loss: 0.1595 - val_accuracy: 0.9524\n",
      "Epoch 50/100\n",
      "939/939 [==============================] - 9s 10ms/sample - loss: 0.1224 - accuracy: 0.9681 - val_loss: 0.1489 - val_accuracy: 0.9524\n",
      "Epoch 51/100\n",
      "939/939 [==============================] - 10s 10ms/sample - loss: 0.1110 - accuracy: 0.9723 - val_loss: 0.1521 - val_accuracy: 0.9524\n",
      "Epoch 52/100\n",
      "939/939 [==============================] - 10s 11ms/sample - loss: 0.1067 - accuracy: 0.9691 - val_loss: 0.1752 - val_accuracy: 0.9333\n",
      "Epoch 53/100\n",
      "939/939 [==============================] - 10s 11ms/sample - loss: 0.1137 - accuracy: 0.9712 - val_loss: 0.1644 - val_accuracy: 0.9524\n",
      "Epoch 54/100\n",
      "939/939 [==============================] - 9s 10ms/sample - loss: 0.1194 - accuracy: 0.9681 - val_loss: 0.1352 - val_accuracy: 0.9619\n",
      "Epoch 55/100\n",
      "939/939 [==============================] - 10s 10ms/sample - loss: 0.1098 - accuracy: 0.9723 - val_loss: 0.2259 - val_accuracy: 0.9238\n",
      "Epoch 56/100\n",
      "939/939 [==============================] - 10s 10ms/sample - loss: 0.1273 - accuracy: 0.9617 - val_loss: 0.1543 - val_accuracy: 0.9524\n",
      "Epoch 57/100\n",
      "939/939 [==============================] - 10s 10ms/sample - loss: 0.1079 - accuracy: 0.9734 - val_loss: 0.1491 - val_accuracy: 0.9524\n",
      "Epoch 58/100\n",
      "939/939 [==============================] - 9s 10ms/sample - loss: 0.1091 - accuracy: 0.9734 - val_loss: 0.1384 - val_accuracy: 0.9619\n",
      "Epoch 59/100\n",
      "939/939 [==============================] - 10s 11ms/sample - loss: 0.1137 - accuracy: 0.9712 - val_loss: 0.1525 - val_accuracy: 0.9524\n",
      "Epoch 60/100\n",
      "939/939 [==============================] - 10s 11ms/sample - loss: 0.1037 - accuracy: 0.9670 - val_loss: 0.1850 - val_accuracy: 0.9524\n",
      "Epoch 61/100\n",
      "939/939 [==============================] - 9s 10ms/sample - loss: 0.1295 - accuracy: 0.9585 - val_loss: 0.1601 - val_accuracy: 0.9429\n",
      "Epoch 62/100\n",
      "939/939 [==============================] - 10s 10ms/sample - loss: 0.1039 - accuracy: 0.9691 - val_loss: 0.1553 - val_accuracy: 0.9429\n",
      "Epoch 63/100\n",
      "939/939 [==============================] - 10s 10ms/sample - loss: 0.1072 - accuracy: 0.9627 - val_loss: 0.1330 - val_accuracy: 0.9714\n",
      "Epoch 64/100\n",
      "939/939 [==============================] - 10s 11ms/sample - loss: 0.1082 - accuracy: 0.9744 - val_loss: 0.1361 - val_accuracy: 0.9619\n",
      "Epoch 65/100\n",
      "939/939 [==============================] - 10s 10ms/sample - loss: 0.1078 - accuracy: 0.9681 - val_loss: 0.1370 - val_accuracy: 0.9524\n",
      "Epoch 66/100\n",
      "939/939 [==============================] - 10s 10ms/sample - loss: 0.1045 - accuracy: 0.9691 - val_loss: 0.1458 - val_accuracy: 0.9429\n",
      "Epoch 67/100\n",
      "939/939 [==============================] - 10s 11ms/sample - loss: 0.0932 - accuracy: 0.9734 - val_loss: 0.1343 - val_accuracy: 0.9619\n",
      "Epoch 68/100\n",
      "939/939 [==============================] - 10s 11ms/sample - loss: 0.0950 - accuracy: 0.9723 - val_loss: 0.1397 - val_accuracy: 0.9429\n",
      "Epoch 69/100\n",
      "939/939 [==============================] - 10s 10ms/sample - loss: 0.0992 - accuracy: 0.9723 - val_loss: 0.1699 - val_accuracy: 0.9429\n",
      "Epoch 70/100\n",
      "939/939 [==============================] - 10s 11ms/sample - loss: 0.1116 - accuracy: 0.9670 - val_loss: 0.1434 - val_accuracy: 0.9524\n",
      "Epoch 71/100\n",
      "939/939 [==============================] - 10s 10ms/sample - loss: 0.0991 - accuracy: 0.9702 - val_loss: 0.1943 - val_accuracy: 0.9619\n",
      "Epoch 72/100\n",
      "939/939 [==============================] - 9s 10ms/sample - loss: 0.0984 - accuracy: 0.9744 - val_loss: 0.1349 - val_accuracy: 0.9619\n",
      "Epoch 73/100\n",
      "939/939 [==============================] - 10s 10ms/sample - loss: 0.0903 - accuracy: 0.9755 - val_loss: 0.1481 - val_accuracy: 0.9524\n",
      "Epoch 74/100\n",
      "939/939 [==============================] - 10s 11ms/sample - loss: 0.1017 - accuracy: 0.9744 - val_loss: 0.1240 - val_accuracy: 0.9619\n",
      "Epoch 75/100\n",
      "939/939 [==============================] - 10s 10ms/sample - loss: 0.0844 - accuracy: 0.9744 - val_loss: 0.1203 - val_accuracy: 0.9619\n",
      "Epoch 76/100\n",
      "939/939 [==============================] - 9s 10ms/sample - loss: 0.0951 - accuracy: 0.9755 - val_loss: 0.1472 - val_accuracy: 0.9524\n",
      "Epoch 77/100\n",
      "939/939 [==============================] - 10s 10ms/sample - loss: 0.1048 - accuracy: 0.9649 - val_loss: 0.1177 - val_accuracy: 0.9619\n",
      "Epoch 78/100\n",
      "939/939 [==============================] - 8s 9ms/sample - loss: 0.0911 - accuracy: 0.9766 - val_loss: 0.1441 - val_accuracy: 0.9524\n",
      "Epoch 79/100\n",
      "939/939 [==============================] - 9s 9ms/sample - loss: 0.0871 - accuracy: 0.9744 - val_loss: 0.1469 - val_accuracy: 0.9429\n",
      "Epoch 80/100\n",
      "939/939 [==============================] - 9s 9ms/sample - loss: 0.1033 - accuracy: 0.9712 - val_loss: 0.1706 - val_accuracy: 0.9429\n",
      "Epoch 81/100\n",
      "939/939 [==============================] - 10s 11ms/sample - loss: 0.0933 - accuracy: 0.9723 - val_loss: 0.1337 - val_accuracy: 0.9524\n",
      "Epoch 82/100\n",
      "939/939 [==============================] - 10s 10ms/sample - loss: 0.0934 - accuracy: 0.9723 - val_loss: 0.1324 - val_accuracy: 0.9619\n",
      "Epoch 83/100\n",
      "939/939 [==============================] - 10s 10ms/sample - loss: 0.0865 - accuracy: 0.9734 - val_loss: 0.1373 - val_accuracy: 0.9524\n",
      "Epoch 84/100\n",
      "939/939 [==============================] - 10s 11ms/sample - loss: 0.1010 - accuracy: 0.9712 - val_loss: 0.1633 - val_accuracy: 0.9429\n",
      "Epoch 85/100\n"
     ]
    },
    {
     "name": "stdout",
     "output_type": "stream",
     "text": [
      "939/939 [==============================] - 9s 10ms/sample - loss: 0.0864 - accuracy: 0.9691 - val_loss: 0.1300 - val_accuracy: 0.9619\n",
      "Epoch 86/100\n",
      "939/939 [==============================] - 10s 10ms/sample - loss: 0.0860 - accuracy: 0.9723 - val_loss: 0.1138 - val_accuracy: 0.9714\n",
      "Epoch 87/100\n",
      "939/939 [==============================] - 10s 10ms/sample - loss: 0.0864 - accuracy: 0.9734 - val_loss: 0.1115 - val_accuracy: 0.9619\n",
      "Epoch 88/100\n",
      "939/939 [==============================] - 11s 11ms/sample - loss: 0.0838 - accuracy: 0.9766 - val_loss: 0.1597 - val_accuracy: 0.9238\n",
      "Epoch 89/100\n",
      "939/939 [==============================] - 9s 10ms/sample - loss: 0.1103 - accuracy: 0.9649 - val_loss: 0.1688 - val_accuracy: 0.9524\n",
      "Epoch 90/100\n",
      "939/939 [==============================] - 9s 10ms/sample - loss: 0.1038 - accuracy: 0.9617 - val_loss: 0.1356 - val_accuracy: 0.9333\n",
      "Epoch 91/100\n",
      "939/939 [==============================] - 9s 10ms/sample - loss: 0.0821 - accuracy: 0.9776 - val_loss: 0.1468 - val_accuracy: 0.9524\n",
      "Epoch 92/100\n",
      "939/939 [==============================] - 10s 10ms/sample - loss: 0.1120 - accuracy: 0.9617 - val_loss: 0.1241 - val_accuracy: 0.9619\n",
      "Epoch 93/100\n",
      "939/939 [==============================] - 10s 10ms/sample - loss: 0.0833 - accuracy: 0.9712 - val_loss: 0.1519 - val_accuracy: 0.9619\n",
      "Epoch 94/100\n",
      "939/939 [==============================] - 9s 10ms/sample - loss: 0.0834 - accuracy: 0.9776 - val_loss: 0.1073 - val_accuracy: 0.9619\n",
      "Epoch 95/100\n",
      "939/939 [==============================] - 10s 11ms/sample - loss: 0.0741 - accuracy: 0.9798 - val_loss: 0.1221 - val_accuracy: 0.9524\n",
      "Epoch 96/100\n",
      "939/939 [==============================] - 10s 10ms/sample - loss: 0.0758 - accuracy: 0.9787 - val_loss: 0.1019 - val_accuracy: 0.9619\n",
      "Epoch 97/100\n",
      "939/939 [==============================] - 10s 10ms/sample - loss: 0.0801 - accuracy: 0.9744 - val_loss: 0.1070 - val_accuracy: 0.9619\n",
      "Epoch 98/100\n",
      "939/939 [==============================] - 9s 10ms/sample - loss: 0.0873 - accuracy: 0.9766 - val_loss: 0.1104 - val_accuracy: 0.9524\n",
      "Epoch 99/100\n",
      "939/939 [==============================] - 9s 10ms/sample - loss: 0.0684 - accuracy: 0.9808 - val_loss: 0.1384 - val_accuracy: 0.9524\n",
      "Epoch 100/100\n",
      "939/939 [==============================] - 10s 10ms/sample - loss: 0.0810 - accuracy: 0.9766 - val_loss: 0.1737 - val_accuracy: 0.9429\n",
      "261/261 - 1s - loss: 0.1331 - accuracy: 0.9655\n",
      "<tensorflow_quantum.python.layers.high_level.pqc.PQC object at 0x000001BF3D8913C8>\n",
      "Train on 939 samples, validate on 105 samples\n",
      "Epoch 1/100\n",
      "939/939 [==============================] - 12s 13ms/sample - loss: 1.9788 - accuracy: 0.3003 - val_loss: 1.6587 - val_accuracy: 0.3429\n",
      "Epoch 2/100\n",
      "939/939 [==============================] - 10s 11ms/sample - loss: 1.4286 - accuracy: 0.5037 - val_loss: 1.2398 - val_accuracy: 0.6095\n",
      "Epoch 3/100\n",
      "939/939 [==============================] - 10s 10ms/sample - loss: 1.0746 - accuracy: 0.6273 - val_loss: 1.0329 - val_accuracy: 0.6286\n",
      "Epoch 4/100\n",
      "939/939 [==============================] - 10s 11ms/sample - loss: 0.8699 - accuracy: 0.7007 - val_loss: 0.8898 - val_accuracy: 0.6571\n",
      "Epoch 5/100\n",
      "939/939 [==============================] - 9s 10ms/sample - loss: 0.7805 - accuracy: 0.7327 - val_loss: 0.8013 - val_accuracy: 0.6857\n",
      "Epoch 6/100\n",
      "939/939 [==============================] - 10s 10ms/sample - loss: 0.7016 - accuracy: 0.7604 - val_loss: 0.7693 - val_accuracy: 0.6857\n",
      "Epoch 7/100\n",
      "939/939 [==============================] - 10s 10ms/sample - loss: 0.6343 - accuracy: 0.7657 - val_loss: 0.6811 - val_accuracy: 0.7524\n",
      "Epoch 8/100\n",
      "939/939 [==============================] - 10s 11ms/sample - loss: 0.5795 - accuracy: 0.7796 - val_loss: 0.6235 - val_accuracy: 0.8286\n",
      "Epoch 9/100\n",
      "939/939 [==============================] - 10s 10ms/sample - loss: 0.5239 - accuracy: 0.8168 - val_loss: 0.5975 - val_accuracy: 0.8571\n",
      "Epoch 10/100\n",
      "939/939 [==============================] - 10s 11ms/sample - loss: 0.4893 - accuracy: 0.8275 - val_loss: 0.6050 - val_accuracy: 0.7333\n",
      "Epoch 11/100\n",
      "939/939 [==============================] - 10s 11ms/sample - loss: 0.4629 - accuracy: 0.8349 - val_loss: 0.5159 - val_accuracy: 0.8381\n",
      "Epoch 12/100\n",
      "939/939 [==============================] - 10s 10ms/sample - loss: 0.4378 - accuracy: 0.8637 - val_loss: 0.5120 - val_accuracy: 0.7810\n",
      "Epoch 13/100\n",
      "939/939 [==============================] - 10s 10ms/sample - loss: 0.4104 - accuracy: 0.8733 - val_loss: 0.4596 - val_accuracy: 0.8952\n",
      "Epoch 14/100\n",
      "939/939 [==============================] - 10s 10ms/sample - loss: 0.3755 - accuracy: 0.8871 - val_loss: 0.4902 - val_accuracy: 0.8571\n",
      "Epoch 15/100\n",
      "939/939 [==============================] - 11s 11ms/sample - loss: 0.3748 - accuracy: 0.8807 - val_loss: 0.5534 - val_accuracy: 0.8381\n",
      "Epoch 16/100\n",
      "939/939 [==============================] - 10s 11ms/sample - loss: 0.3778 - accuracy: 0.8807 - val_loss: 0.4301 - val_accuracy: 0.8762\n",
      "Epoch 17/100\n",
      "939/939 [==============================] - 10s 11ms/sample - loss: 0.3324 - accuracy: 0.8999 - val_loss: 0.3962 - val_accuracy: 0.9048\n",
      "Epoch 18/100\n",
      "939/939 [==============================] - 10s 10ms/sample - loss: 0.3120 - accuracy: 0.8935 - val_loss: 0.3876 - val_accuracy: 0.8952\n",
      "Epoch 19/100\n",
      "939/939 [==============================] - 9s 10ms/sample - loss: 0.3239 - accuracy: 0.9020 - val_loss: 0.3871 - val_accuracy: 0.9048\n",
      "Epoch 20/100\n",
      "939/939 [==============================] - 9s 10ms/sample - loss: 0.2829 - accuracy: 0.9148 - val_loss: 0.4843 - val_accuracy: 0.8190\n",
      "Epoch 21/100\n",
      "939/939 [==============================] - 9s 10ms/sample - loss: 0.2981 - accuracy: 0.9020 - val_loss: 0.3935 - val_accuracy: 0.8667\n",
      "Epoch 22/100\n",
      "939/939 [==============================] - 10s 10ms/sample - loss: 0.2636 - accuracy: 0.9255 - val_loss: 0.3882 - val_accuracy: 0.8762\n",
      "Epoch 23/100\n",
      "939/939 [==============================] - 10s 10ms/sample - loss: 0.2661 - accuracy: 0.9127 - val_loss: 0.4557 - val_accuracy: 0.8381\n",
      "Epoch 24/100\n",
      "939/939 [==============================] - 10s 10ms/sample - loss: 0.2683 - accuracy: 0.9020 - val_loss: 0.3997 - val_accuracy: 0.8762\n",
      "Epoch 25/100\n",
      "939/939 [==============================] - 10s 11ms/sample - loss: 0.2385 - accuracy: 0.9244 - val_loss: 0.3536 - val_accuracy: 0.8952\n",
      "Epoch 26/100\n",
      "939/939 [==============================] - 9s 10ms/sample - loss: 0.2350 - accuracy: 0.9265 - val_loss: 0.3497 - val_accuracy: 0.8952\n",
      "Epoch 27/100\n",
      "939/939 [==============================] - 10s 10ms/sample - loss: 0.2457 - accuracy: 0.9191 - val_loss: 0.3548 - val_accuracy: 0.8857\n",
      "Epoch 28/100\n",
      "939/939 [==============================] - 10s 10ms/sample - loss: 0.2170 - accuracy: 0.9361 - val_loss: 0.3590 - val_accuracy: 0.8667\n",
      "Epoch 29/100\n",
      "939/939 [==============================] - 10s 11ms/sample - loss: 0.2386 - accuracy: 0.9180 - val_loss: 0.3652 - val_accuracy: 0.8762\n",
      "Epoch 30/100\n",
      "939/939 [==============================] - 10s 11ms/sample - loss: 0.2350 - accuracy: 0.9276 - val_loss: 0.3338 - val_accuracy: 0.8952\n",
      "Epoch 31/100\n",
      "939/939 [==============================] - 10s 11ms/sample - loss: 0.2101 - accuracy: 0.9318 - val_loss: 0.3654 - val_accuracy: 0.8857\n",
      "Epoch 32/100\n",
      "939/939 [==============================] - 11s 11ms/sample - loss: 0.1987 - accuracy: 0.9425 - val_loss: 0.3187 - val_accuracy: 0.9048\n",
      "Epoch 33/100\n",
      "939/939 [==============================] - 10s 10ms/sample - loss: 0.1938 - accuracy: 0.9414 - val_loss: 0.2967 - val_accuracy: 0.9143\n",
      "Epoch 34/100\n",
      "939/939 [==============================] - 9s 10ms/sample - loss: 0.1944 - accuracy: 0.9457 - val_loss: 0.3081 - val_accuracy: 0.8857\n",
      "Epoch 35/100\n",
      "939/939 [==============================] - 9s 10ms/sample - loss: 0.1900 - accuracy: 0.9372 - val_loss: 0.3125 - val_accuracy: 0.8762\n",
      "Epoch 36/100\n",
      "939/939 [==============================] - 10s 10ms/sample - loss: 0.1846 - accuracy: 0.9372 - val_loss: 0.2876 - val_accuracy: 0.9048\n",
      "Epoch 37/100\n",
      "939/939 [==============================] - 9s 10ms/sample - loss: 0.1873 - accuracy: 0.9446 - val_loss: 0.3883 - val_accuracy: 0.8667\n",
      "Epoch 38/100\n",
      "939/939 [==============================] - 10s 10ms/sample - loss: 0.1862 - accuracy: 0.9372 - val_loss: 0.2994 - val_accuracy: 0.8857\n",
      "Epoch 39/100\n"
     ]
    },
    {
     "name": "stdout",
     "output_type": "stream",
     "text": [
      "939/939 [==============================] - 9s 10ms/sample - loss: 0.1708 - accuracy: 0.9446 - val_loss: 0.3028 - val_accuracy: 0.8857\n",
      "Epoch 40/100\n",
      "939/939 [==============================] - 10s 10ms/sample - loss: 0.1974 - accuracy: 0.9382 - val_loss: 0.2887 - val_accuracy: 0.9048\n",
      "Epoch 41/100\n",
      "939/939 [==============================] - 10s 10ms/sample - loss: 0.1785 - accuracy: 0.9393 - val_loss: 0.3033 - val_accuracy: 0.8952\n",
      "Epoch 42/100\n",
      "939/939 [==============================] - 9s 10ms/sample - loss: 0.1905 - accuracy: 0.9350 - val_loss: 0.2918 - val_accuracy: 0.9048\n",
      "Epoch 43/100\n",
      "939/939 [==============================] - 10s 10ms/sample - loss: 0.1834 - accuracy: 0.9414 - val_loss: 0.3641 - val_accuracy: 0.8667\n",
      "Epoch 44/100\n",
      "939/939 [==============================] - 10s 11ms/sample - loss: 0.1619 - accuracy: 0.9510 - val_loss: 0.2828 - val_accuracy: 0.9048\n",
      "Epoch 45/100\n",
      "939/939 [==============================] - 10s 10ms/sample - loss: 0.1835 - accuracy: 0.9382 - val_loss: 0.2763 - val_accuracy: 0.8952\n",
      "Epoch 46/100\n",
      "939/939 [==============================] - 10s 10ms/sample - loss: 0.1602 - accuracy: 0.9457 - val_loss: 0.3128 - val_accuracy: 0.8857\n",
      "Epoch 47/100\n",
      "939/939 [==============================] - 10s 11ms/sample - loss: 0.1517 - accuracy: 0.9478 - val_loss: 0.2601 - val_accuracy: 0.9143\n",
      "Epoch 48/100\n",
      "939/939 [==============================] - 10s 10ms/sample - loss: 0.1495 - accuracy: 0.9531 - val_loss: 0.3005 - val_accuracy: 0.8857\n",
      "Epoch 49/100\n",
      "939/939 [==============================] - 10s 10ms/sample - loss: 0.1685 - accuracy: 0.9414 - val_loss: 0.3000 - val_accuracy: 0.9048\n",
      "Epoch 50/100\n",
      "939/939 [==============================] - 9s 10ms/sample - loss: 0.1705 - accuracy: 0.9414 - val_loss: 0.2815 - val_accuracy: 0.8857\n",
      "Epoch 51/100\n",
      "939/939 [==============================] - 10s 10ms/sample - loss: 0.1678 - accuracy: 0.9414 - val_loss: 0.2791 - val_accuracy: 0.9048\n",
      "Epoch 52/100\n",
      "939/939 [==============================] - 10s 10ms/sample - loss: 0.1533 - accuracy: 0.9553 - val_loss: 0.2674 - val_accuracy: 0.8952\n",
      "Epoch 53/100\n",
      "939/939 [==============================] - 10s 11ms/sample - loss: 0.1551 - accuracy: 0.9510 - val_loss: 0.2638 - val_accuracy: 0.9048\n",
      "Epoch 54/100\n",
      "939/939 [==============================] - 10s 10ms/sample - loss: 0.1399 - accuracy: 0.9627 - val_loss: 0.2742 - val_accuracy: 0.8857\n",
      "Epoch 55/100\n",
      "939/939 [==============================] - 10s 11ms/sample - loss: 0.1474 - accuracy: 0.9531 - val_loss: 0.2574 - val_accuracy: 0.9143\n",
      "Epoch 56/100\n",
      "939/939 [==============================] - 9s 10ms/sample - loss: 0.1389 - accuracy: 0.9553 - val_loss: 0.2683 - val_accuracy: 0.8952\n",
      "Epoch 57/100\n",
      "939/939 [==============================] - 9s 10ms/sample - loss: 0.1476 - accuracy: 0.9563 - val_loss: 0.3307 - val_accuracy: 0.8762\n",
      "Epoch 58/100\n",
      "939/939 [==============================] - 9s 10ms/sample - loss: 0.1796 - accuracy: 0.9425 - val_loss: 0.3559 - val_accuracy: 0.8762\n",
      "Epoch 59/100\n",
      "939/939 [==============================] - 9s 10ms/sample - loss: 0.1641 - accuracy: 0.9446 - val_loss: 0.2836 - val_accuracy: 0.8762\n",
      "Epoch 60/100\n",
      "939/939 [==============================] - 10s 10ms/sample - loss: 0.1466 - accuracy: 0.9510 - val_loss: 0.2627 - val_accuracy: 0.9143\n",
      "Epoch 61/100\n",
      "939/939 [==============================] - 10s 10ms/sample - loss: 0.1531 - accuracy: 0.9531 - val_loss: 0.3000 - val_accuracy: 0.8952\n",
      "Epoch 62/100\n",
      "939/939 [==============================] - 10s 10ms/sample - loss: 0.1335 - accuracy: 0.9606 - val_loss: 0.3650 - val_accuracy: 0.8667\n",
      "Epoch 63/100\n",
      "939/939 [==============================] - 10s 11ms/sample - loss: 0.1613 - accuracy: 0.9457 - val_loss: 0.2676 - val_accuracy: 0.8952\n",
      "Epoch 64/100\n",
      "939/939 [==============================] - 10s 10ms/sample - loss: 0.1491 - accuracy: 0.9510 - val_loss: 0.2356 - val_accuracy: 0.9143\n",
      "Epoch 65/100\n",
      "939/939 [==============================] - 10s 10ms/sample - loss: 0.1245 - accuracy: 0.9627 - val_loss: 0.2475 - val_accuracy: 0.9238\n",
      "Epoch 66/100\n",
      "939/939 [==============================] - 10s 10ms/sample - loss: 0.1238 - accuracy: 0.9638 - val_loss: 0.2603 - val_accuracy: 0.9143\n",
      "Epoch 67/100\n",
      "939/939 [==============================] - 10s 10ms/sample - loss: 0.1289 - accuracy: 0.9585 - val_loss: 0.2376 - val_accuracy: 0.9238\n",
      "Epoch 68/100\n",
      "939/939 [==============================] - 9s 10ms/sample - loss: 0.1326 - accuracy: 0.9585 - val_loss: 0.2839 - val_accuracy: 0.8952\n",
      "Epoch 69/100\n",
      "939/939 [==============================] - 9s 10ms/sample - loss: 0.1448 - accuracy: 0.9489 - val_loss: 0.2618 - val_accuracy: 0.9048\n",
      "Epoch 70/100\n",
      "939/939 [==============================] - 10s 10ms/sample - loss: 0.1457 - accuracy: 0.9468 - val_loss: 0.2908 - val_accuracy: 0.8952\n",
      "Epoch 71/100\n",
      "939/939 [==============================] - 10s 10ms/sample - loss: 0.1319 - accuracy: 0.9585 - val_loss: 0.2520 - val_accuracy: 0.9048\n",
      "Epoch 72/100\n",
      "939/939 [==============================] - 9s 10ms/sample - loss: 0.1263 - accuracy: 0.9553 - val_loss: 0.2469 - val_accuracy: 0.9429\n",
      "Epoch 73/100\n",
      "939/939 [==============================] - 10s 10ms/sample - loss: 0.1319 - accuracy: 0.9563 - val_loss: 0.2587 - val_accuracy: 0.9238\n",
      "Epoch 74/100\n",
      "939/939 [==============================] - 10s 11ms/sample - loss: 0.1379 - accuracy: 0.9585 - val_loss: 0.3078 - val_accuracy: 0.9048\n",
      "Epoch 75/100\n",
      "939/939 [==============================] - 10s 11ms/sample - loss: 0.1165 - accuracy: 0.9638 - val_loss: 0.2408 - val_accuracy: 0.9048\n",
      "Epoch 76/100\n",
      "939/939 [==============================] - 10s 10ms/sample - loss: 0.1217 - accuracy: 0.9627 - val_loss: 0.2599 - val_accuracy: 0.9143\n",
      "Epoch 77/100\n",
      "939/939 [==============================] - 9s 9ms/sample - loss: 0.1295 - accuracy: 0.9627 - val_loss: 0.2240 - val_accuracy: 0.9143\n",
      "Epoch 78/100\n",
      "939/939 [==============================] - 9s 10ms/sample - loss: 0.1411 - accuracy: 0.9521 - val_loss: 0.2826 - val_accuracy: 0.9048\n",
      "Epoch 79/100\n",
      "939/939 [==============================] - 9s 9ms/sample - loss: 0.1534 - accuracy: 0.9489 - val_loss: 0.2830 - val_accuracy: 0.9143\n",
      "Epoch 80/100\n",
      "939/939 [==============================] - 10s 10ms/sample - loss: 0.1357 - accuracy: 0.9574 - val_loss: 0.2524 - val_accuracy: 0.9048\n",
      "Epoch 81/100\n",
      "939/939 [==============================] - 10s 11ms/sample - loss: 0.1260 - accuracy: 0.9627 - val_loss: 0.3050 - val_accuracy: 0.9143\n",
      "Epoch 82/100\n",
      "939/939 [==============================] - 9s 10ms/sample - loss: 0.1119 - accuracy: 0.9563 - val_loss: 0.2529 - val_accuracy: 0.9238\n",
      "Epoch 83/100\n",
      "939/939 [==============================] - 10s 10ms/sample - loss: 0.1094 - accuracy: 0.9659 - val_loss: 0.2544 - val_accuracy: 0.9333\n",
      "Epoch 84/100\n",
      "939/939 [==============================] - 10s 11ms/sample - loss: 0.1035 - accuracy: 0.9744 - val_loss: 0.2689 - val_accuracy: 0.8952\n",
      "Epoch 85/100\n",
      "939/939 [==============================] - 9s 10ms/sample - loss: 0.1281 - accuracy: 0.9574 - val_loss: 0.2342 - val_accuracy: 0.9238\n",
      "Epoch 86/100\n",
      "939/939 [==============================] - 10s 11ms/sample - loss: 0.1263 - accuracy: 0.9617 - val_loss: 0.2612 - val_accuracy: 0.9143\n",
      "Epoch 87/100\n",
      "939/939 [==============================] - 10s 11ms/sample - loss: 0.0990 - accuracy: 0.9744 - val_loss: 0.2158 - val_accuracy: 0.9333\n",
      "Epoch 88/100\n",
      "939/939 [==============================] - 10s 10ms/sample - loss: 0.0984 - accuracy: 0.9734 - val_loss: 0.2332 - val_accuracy: 0.9333\n",
      "Epoch 89/100\n",
      "939/939 [==============================] - 10s 10ms/sample - loss: 0.1273 - accuracy: 0.9617 - val_loss: 0.2371 - val_accuracy: 0.9238\n",
      "Epoch 90/100\n",
      "939/939 [==============================] - 10s 11ms/sample - loss: 0.1074 - accuracy: 0.9681 - val_loss: 0.3187 - val_accuracy: 0.9143\n",
      "Epoch 91/100\n",
      "939/939 [==============================] - 10s 11ms/sample - loss: 0.1265 - accuracy: 0.9542 - val_loss: 0.3046 - val_accuracy: 0.9048\n",
      "Epoch 92/100\n",
      "939/939 [==============================] - 10s 10ms/sample - loss: 0.0998 - accuracy: 0.9681 - val_loss: 0.2961 - val_accuracy: 0.9333\n",
      "Epoch 93/100\n",
      "939/939 [==============================] - 9s 10ms/sample - loss: 0.0910 - accuracy: 0.9755 - val_loss: 0.2602 - val_accuracy: 0.9048\n",
      "Epoch 94/100\n"
     ]
    },
    {
     "name": "stdout",
     "output_type": "stream",
     "text": [
      "939/939 [==============================] - 10s 11ms/sample - loss: 0.1059 - accuracy: 0.9734 - val_loss: 0.2647 - val_accuracy: 0.9333\n",
      "Epoch 95/100\n",
      "939/939 [==============================] - 10s 10ms/sample - loss: 0.0981 - accuracy: 0.9712 - val_loss: 0.2358 - val_accuracy: 0.9429\n",
      "Epoch 96/100\n",
      "939/939 [==============================] - 10s 10ms/sample - loss: 0.0930 - accuracy: 0.9734 - val_loss: 0.2970 - val_accuracy: 0.9143\n",
      "Epoch 97/100\n",
      "939/939 [==============================] - 10s 10ms/sample - loss: 0.1012 - accuracy: 0.9734 - val_loss: 0.3353 - val_accuracy: 0.9238\n",
      "Epoch 98/100\n",
      "939/939 [==============================] - 9s 10ms/sample - loss: 0.0976 - accuracy: 0.9766 - val_loss: 0.2597 - val_accuracy: 0.9048\n",
      "Epoch 99/100\n",
      "939/939 [==============================] - 10s 11ms/sample - loss: 0.1081 - accuracy: 0.9712 - val_loss: 0.3123 - val_accuracy: 0.8857\n",
      "Epoch 100/100\n",
      "939/939 [==============================] - 9s 10ms/sample - loss: 0.1330 - accuracy: 0.9521 - val_loss: 0.2342 - val_accuracy: 0.9143\n",
      "261/261 - 1s - loss: 0.1639 - accuracy: 0.9464\n",
      "Run time: 4011.8905425071716\n"
     ]
    }
   ],
   "source": [
    "# Training\n",
    "\n",
    "last_value = []\n",
    "best_value = []\n",
    "\n",
    "from tensorflow.keras import optimizers\n",
    "#o tf assume que todos os parametros vao ser otimizados, no pytorch nao (é mais flexivel)\n",
    "import time\n",
    "start = time.time()\n",
    "\n",
    "for i in range(5):\n",
    "    \n",
    "    # Code the Hybrid Quantum-Classical Neural Net:\n",
    "    #from tensorflow.keras.layers import Input\n",
    "\n",
    "    #criar o modelo sequencial\n",
    "    #iniciou com 5 características, mas sai com 3 - portanto a avaliação na rede é dessas características\n",
    "\n",
    "    nn = tf.keras.Sequential([tf.keras.layers.Dense(100,activation = 'relu'), \n",
    "    tf.keras.layers.Dense(10,activation = 'sigmoid')]) #sigmoid // softmax\n",
    "\n",
    "    #nn = tf.keras.Sequential([tf.keras.layers.Dense(10,activation = 'softmax')])\n",
    "\n",
    "    #Camada de entrada, define o shape para ser determinado depois; \n",
    "    #para poder encaixar circ quanticos ele precisa serializar a string em forma de bits - o ponto de entrada é um bitstring - isso é depois transformado para tensor (isso é uma deficiencia do tensorflow)  \n",
    "    circuit_input = tf.keras.Input(shape = (), dtype = tf.string, name = 'circuits_input')\n",
    "\n",
    "    #Criação das operações de medição \n",
    "    #O cirq faz as medições a partir da operação de Pauli Z \n",
    "\n",
    "    measurement_ops = [cirq.Z(q[i]) for i in range(qubits)] \n",
    "\n",
    "    #cria a camada de circuito quantica, a partir de agora usa tfq - circuito agregado as operações de medição\n",
    "    circuit_layer = tfq.layers.PQC(model_circuit, measurement_ops)\n",
    "\n",
    "\n",
    "    #Junta tudo\n",
    "    #a entrada é quantica, a saída é o nn - PQC do circuit input; \n",
    "    model = tf.keras.Model(inputs = circuit_input, outputs = nn(circuit_layer(circuit_input)))\n",
    "\n",
    "    #model.summary()\n",
    "\n",
    "    print(circuit_layer)\n",
    "\n",
    "    optimizer = tf.keras.optimizers.Adam(learning_rate = 0.01)\n",
    "\n",
    "    model.compile(optimizer = optimizer, loss = 'categorical_crossentropy', metrics = ['accuracy'])\n",
    "\n",
    "    history = model.fit(x = tfq.convert_to_tensor(x_train_q), y = y_train, epochs = 100, verbose = 1, validation_split = 0.1) #, callbacks=[es])\n",
    "    \n",
    "    acc = history.history['val_accuracy']\n",
    "    bestacc = max(acc)\n",
    "    best_value.append(bestacc)\n",
    "    last_value.append(acc[99])\n",
    "\n",
    "    i+=1\n",
    "\n",
    "\n",
    "    # Evaluate the model on the test dataset\n",
    "    loss, acc = model.evaluate(tfq.convert_to_tensor(x_test_q), y_test, verbose = 2)\n",
    "    \n",
    "    #acc_matrix.append(acc)\n",
    "\n",
    "end = time.time()\n",
    "print(\"Run time:\", end - start)\n"
   ]
  },
  {
   "cell_type": "code",
   "execution_count": 244,
   "metadata": {
    "colab": {
     "base_uri": "https://localhost:8080/"
    },
    "id": "LE8uwSA1Vv1G",
    "outputId": "d79f1a40-b1d1-48b4-aad1-377df25fd059",
    "scrolled": true
   },
   "outputs": [
    {
     "name": "stdout",
     "output_type": "stream",
     "text": [
      "MaxBest:  0.9809524\n",
      "MeanBest:  0.9657143\n",
      "MaxLast: 0.9714286\n",
      "MeanLast:  0.94285715\n"
     ]
    }
   ],
   "source": [
    "print(\"MaxBest: \",max(best_value))\n",
    "print(\"MeanBest: \",np.mean(best_value))\n",
    "\n",
    "print(\"MaxLast:\", max(last_value))\n",
    "print(\"MeanLast: \",np.mean(last_value))"
   ]
  },
  {
   "cell_type": "markdown",
   "metadata": {
    "id": "70fXIKUfHXuL"
   },
   "source": [
    "### Testing the Hybrid Quantum - Classical Model"
   ]
  },
  {
   "cell_type": "code",
   "execution_count": null,
   "metadata": {
    "id": "zmc_bLVyHXuL",
    "outputId": "f6f33db6-8428-4f6f-9f76-f811dd2faf6c"
   },
   "outputs": [
    {
     "name": "stdout",
     "output_type": "stream",
     "text": [
      "392/392 - 6s - loss: 0.2527 - accuracy: 0.9311\n",
      "[[78  0  0  0  0  0  0  0  0  0]\n",
      " [ 0 39  0  0  0  0  0  0  0  0]\n",
      " [ 0  0 29  0  0  0  0  0  0  0]\n",
      " [ 0  0  0 34  1  0  0  0  0  0]\n",
      " [ 0  0  0  1 33  2  0  0  0  0]\n",
      " [ 0  0  0  0  1 29  0  0  0  0]\n",
      " [ 0  0  0  0  0  1 29  0  0  0]\n",
      " [ 1  0  0  0  0  0  0 47  0  0]\n",
      " [ 0  2  5  0  0  1  5  3 21  0]\n",
      " [ 0  1  0  0  0  3  0  0  0 26]]\n"
     ]
    }
   ],
   "source": [
    "# Evaluate the model on the test dataset\n",
    "loss, acc = model.evaluate(tfq.convert_to_tensor(x_test_q), y_test, verbose = 2)\n",
    "\n",
    "y_test_ne = np.argmax(y_test, axis = 1)\n",
    "y_test_pred_ne = np.argmax(model.predict(tfq.convert_to_tensor(x_test_q)), axis = 1)\n",
    "\n",
    "cm = confusion_matrix(y_test_ne, y_test_pred_ne)\n",
    "\n",
    "print(cm)"
   ]
  },
  {
   "cell_type": "code",
   "execution_count": null,
   "metadata": {
    "colab": {
     "base_uri": "https://localhost:8080/",
     "height": 307
    },
    "id": "y1zQmlYqHXuM",
    "outputId": "252aa58b-0e58-4de9-d50c-a9dc16df70c0",
    "scrolled": false
   },
   "outputs": [
    {
     "data": {
      "image/png": "[encoded data removed]",
      "text/plain": [
       "<Figure size 432x288 with 2 Axes>"
      ]
     },
     "metadata": {},
     "output_type": "display_data"
    }
   ],
   "source": [
    "\n",
    "# Plot the confusion matrix\n",
    "\n",
    "import seaborn as sns\n",
    "\n",
    "ax = sns.heatmap(cm, annot=True, cmap='Blues')\n",
    "\n",
    "ax.set_title('CWRU Classification Case Study: Test Data');\n",
    "ax.set_xlabel('\\nPredicted Label')\n",
    "ax.set_ylabel('True Label');\n",
    "\n",
    "## Ticket labels - List must be in alphabetical order\n",
    "#ax.xaxis.set_ticklabels(['False','True'])\n",
    "#ax.yaxis.set_ticklabels(['False','True'])\n",
    "\n",
    "## Display the visualization of the Confusion Matrix.\n",
    "plt.show()\n",
    "\n",
    "\n",
    "#from sklearn.metrics import plot_confusion_matrix\n",
    "#from utils import plot_confusion_matrix\n",
    "\n",
    "#plot_confusion_matrix(cm, ['ND', 'OR', 'IR'], 0, title = 'CWRU Classification Case Study: Test Data', normalize = True)\n"
   ]
  },
  {
   "cell_type": "code",
   "execution_count": null,
   "metadata": {
    "colab": {
     "base_uri": "https://localhost:8080/",
     "height": 295
    },
    "id": "GJzFF7cUHXuM",
    "outputId": "642e0334-31a4-4d15-84bc-849ea0939dc1"
   },
   "outputs": [
    {
     "data": {
      "image/png": "[encoded data removed]",
      "text/plain": [
       "<Figure size 432x288 with 1 Axes>"
      ]
     },
     "metadata": {},
     "output_type": "display_data"
    }
   ],
   "source": [
    "plt.plot(history.history['loss'])\n",
    "plt.plot(history.history['val_loss'])\n",
    "plt.title(\"CWRU Classification Case Study\")\n",
    "plt.xlabel(\"Epochs\")\n",
    "plt.ylabel(\"Loss\")\n",
    "plt.legend(['train', 'validation'], loc='upper right')\n",
    "plt.grid()\n",
    "plt.show()"
   ]
  },
  {
   "cell_type": "code",
   "execution_count": null,
   "metadata": {
    "colab": {
     "base_uri": "https://localhost:8080/",
     "height": 295
    },
    "id": "UgZfu7B1uU-C",
    "outputId": "9357ccf2-22de-4cff-833f-699ed78daa29",
    "scrolled": true
   },
   "outputs": [
    {
     "data": {
      "image/png": "[encoded data removed]",
      "text/plain": [
       "<Figure size 432x288 with 1 Axes>"
      ]
     },
     "metadata": {},
     "output_type": "display_data"
    }
   ],
   "source": [
    "plt.plot(history.history['accuracy'])\n",
    "plt.plot(history.history['val_accuracy'])\n",
    "plt.title(\"CWRU Classification Case Study\")\n",
    "plt.xlabel(\"Epochs\")\n",
    "plt.ylabel(\"Accuracy\")\n",
    "plt.legend(['train', 'validation'], loc='lower right')\n",
    "plt.grid()\n",
    "plt.show()"
   ]
  },
  {
   "cell_type": "markdown",
   "metadata": {
    "id": "jakdfo6652c5"
   },
   "source": [
    "#CLASSICAL MLP\n"
   ]
  },
  {
   "cell_type": "code",
   "execution_count": 225,
   "metadata": {
    "colab": {
     "base_uri": "https://localhost:8080/"
    },
    "id": "bhAsfl3KeaZE",
    "outputId": "fd5648b8-8ef1-4971-e21f-98ac233a8c75"
   },
   "outputs": [
    {
     "name": "stdout",
     "output_type": "stream",
     "text": [
      "(1044, 8)\n"
     ]
    },
    {
     "data": {
      "text/plain": [
       "8"
      ]
     },
     "execution_count": 225,
     "metadata": {},
     "output_type": "execute_result"
    }
   ],
   "source": [
    "print(x_train.shape)\n",
    "feature_vector_length = x_train.shape[1]\n",
    "feature_vector_length"
   ]
  },
  {
   "cell_type": "code",
   "execution_count": 226,
   "metadata": {
    "id": "BYFnB_9xC1fG"
   },
   "outputs": [],
   "source": [
    "from sklearn.neural_network import MLPClassifier"
   ]
  },
  {
   "cell_type": "code",
   "execution_count": 227,
   "metadata": {
    "id": "J5TEowItecSt"
   },
   "outputs": [],
   "source": [
    "import tensorflow\n",
    "from tensorflow.keras.datasets import mnist\n",
    "from tensorflow.keras.models import Sequential\n",
    "from tensorflow.keras.layers import Dense\n",
    "from tensorflow.keras.utils import to_categorical"
   ]
  },
  {
   "cell_type": "code",
   "execution_count": 228,
   "metadata": {
    "colab": {
     "base_uri": "https://localhost:8080/"
    },
    "id": "tvpO0USJeexO",
    "outputId": "ff810f7f-bcf1-4bfc-a0d1-6b07574a14d4"
   },
   "outputs": [
    {
     "name": "stdout",
     "output_type": "stream",
     "text": [
      "Feature shape: (8,)\n"
     ]
    }
   ],
   "source": [
    "#configurate the model\n",
    "\n",
    "model = tensorflow.keras.models.Sequential()\n",
    "\n",
    "input_shape = (feature_vector_length,)\n",
    "print(f'Feature shape: {input_shape}')\n",
    "\n",
    "model.add(Dense(1024, input_shape=input_shape, activation='relu'))\n",
    "#model.add(Dense(50, activation='relu'))\n",
    "model.add(Dense(10, activation='sigmoid'))"
   ]
  },
  {
   "cell_type": "code",
   "execution_count": 229,
   "metadata": {
    "id": "VY5H5rCXeijV"
   },
   "outputs": [],
   "source": [
    "model.compile(optimizer = 'adam', loss = 'binary_crossentropy', metrics=['accuracy'])"
   ]
  },
  {
   "cell_type": "code",
   "execution_count": 230,
   "metadata": {
    "id": "3WHDfb25elCv"
   },
   "outputs": [],
   "source": [
    "#from keras.utils.vis_utils import plot_model\n",
    "#plot_model(model, show_shapes=True, show_layer_names=True)"
   ]
  },
  {
   "cell_type": "code",
   "execution_count": 231,
   "metadata": {
    "id": "daXdo6b2enKu"
   },
   "outputs": [],
   "source": [
    "es = tf.keras.callbacks.EarlyStopping(\n",
    "    monitor='val_accuracy', mode='max', patience = 10)"
   ]
  },
  {
   "cell_type": "code",
   "execution_count": 232,
   "metadata": {
    "colab": {
     "base_uri": "https://localhost:8080/"
    },
    "id": "j6NPat6QeqqA",
    "outputId": "704eb2ee-fb1c-49fa-c1c0-e02fca7d2865"
   },
   "outputs": [
    {
     "name": "stdout",
     "output_type": "stream",
     "text": [
      "Train on 939 samples, validate on 105 samples\n",
      "Epoch 1/100\n",
      "939/939 [==============================] - 1s 1ms/sample - loss: 0.6407 - accuracy: 0.7557 - val_loss: 0.5619 - val_accuracy: 0.9000\n",
      "Epoch 2/100\n",
      "939/939 [==============================] - 0s 133us/sample - loss: 0.5370 - accuracy: 0.9000 - val_loss: 0.4721 - val_accuracy: 0.9000\n",
      "Epoch 3/100\n",
      "939/939 [==============================] - 0s 52us/sample - loss: 0.4573 - accuracy: 0.9000 - val_loss: 0.4082 - val_accuracy: 0.9000\n",
      "Epoch 4/100\n",
      "939/939 [==============================] - 0s 92us/sample - loss: 0.4006 - accuracy: 0.9000 - val_loss: 0.3668 - val_accuracy: 0.9000\n",
      "Epoch 5/100\n",
      "939/939 [==============================] - 0s 136us/sample - loss: 0.3637 - accuracy: 0.9000 - val_loss: 0.3417 - val_accuracy: 0.9000\n",
      "Epoch 6/100\n",
      "939/939 [==============================] - 0s 126us/sample - loss: 0.3408 - accuracy: 0.9000 - val_loss: 0.3258 - val_accuracy: 0.9000\n",
      "Epoch 7/100\n",
      "939/939 [==============================] - 0s 39us/sample - loss: 0.3256 - accuracy: 0.9000 - val_loss: 0.3131 - val_accuracy: 0.9000\n",
      "Epoch 8/100\n",
      "939/939 [==============================] - 0s 45us/sample - loss: 0.3135 - accuracy: 0.9000 - val_loss: 0.3010 - val_accuracy: 0.9000\n",
      "Epoch 9/100\n",
      "939/939 [==============================] - 0s 144us/sample - loss: 0.3022 - accuracy: 0.9000 - val_loss: 0.2896 - val_accuracy: 0.9000\n",
      "Epoch 10/100\n",
      "939/939 [==============================] - 0s 85us/sample - loss: 0.2914 - accuracy: 0.9002 - val_loss: 0.2792 - val_accuracy: 0.9029\n",
      "Epoch 11/100\n",
      "939/939 [==============================] - 0s 76us/sample - loss: 0.2812 - accuracy: 0.9020 - val_loss: 0.2701 - val_accuracy: 0.9067\n",
      "Epoch 12/100\n",
      "939/939 [==============================] - 0s 242us/sample - loss: 0.2719 - accuracy: 0.9055 - val_loss: 0.2619 - val_accuracy: 0.9067\n",
      "Epoch 13/100\n",
      "939/939 [==============================] - 0s 30us/sample - loss: 0.2635 - accuracy: 0.9070 - val_loss: 0.2549 - val_accuracy: 0.9076\n",
      "Epoch 14/100\n",
      "939/939 [==============================] - 0s 282us/sample - loss: 0.2561 - accuracy: 0.9071 - val_loss: 0.2484 - val_accuracy: 0.9086\n",
      "Epoch 15/100\n",
      "939/939 [==============================] - 0s 63us/sample - loss: 0.2492 - accuracy: 0.9087 - val_loss: 0.2424 - val_accuracy: 0.9095\n",
      "Epoch 16/100\n",
      "939/939 [==============================] - 0s 58us/sample - loss: 0.2429 - accuracy: 0.9101 - val_loss: 0.2366 - val_accuracy: 0.9152\n",
      "Epoch 17/100\n",
      "939/939 [==============================] - 0s 230us/sample - loss: 0.2372 - accuracy: 0.9126 - val_loss: 0.2312 - val_accuracy: 0.9171\n",
      "Epoch 18/100\n",
      "939/939 [==============================] - 0s 80us/sample - loss: 0.2319 - accuracy: 0.9145 - val_loss: 0.2263 - val_accuracy: 0.9171\n",
      "Epoch 19/100\n",
      "939/939 [==============================] - 0s 70us/sample - loss: 0.2270 - accuracy: 0.9152 - val_loss: 0.2216 - val_accuracy: 0.9181\n",
      "Epoch 20/100\n",
      "939/939 [==============================] - 0s 120us/sample - loss: 0.2222 - accuracy: 0.9158 - val_loss: 0.2171 - val_accuracy: 0.9171\n",
      "Epoch 21/100\n",
      "939/939 [==============================] - 0s 31us/sample - loss: 0.2178 - accuracy: 0.9165 - val_loss: 0.2127 - val_accuracy: 0.9210\n",
      "Epoch 22/100\n",
      "939/939 [==============================] - 0s 281us/sample - loss: 0.2136 - accuracy: 0.9173 - val_loss: 0.2086 - val_accuracy: 0.9219\n",
      "Epoch 23/100\n",
      "939/939 [==============================] - 0s 19us/sample - loss: 0.2096 - accuracy: 0.9196 - val_loss: 0.2049 - val_accuracy: 0.9238\n",
      "Epoch 24/100\n",
      "939/939 [==============================] - 0s 99us/sample - loss: 0.2059 - accuracy: 0.9219 - val_loss: 0.2012 - val_accuracy: 0.9267\n",
      "Epoch 25/100\n",
      "939/939 [==============================] - 0s 151us/sample - loss: 0.2022 - accuracy: 0.9251 - val_loss: 0.1979 - val_accuracy: 0.9305\n",
      "Epoch 26/100\n",
      "939/939 [==============================] - 0s 84us/sample - loss: 0.1988 - accuracy: 0.9272 - val_loss: 0.1947 - val_accuracy: 0.9324\n",
      "Epoch 27/100\n",
      "939/939 [==============================] - 0s 66us/sample - loss: 0.1956 - accuracy: 0.9304 - val_loss: 0.1918 - val_accuracy: 0.9352\n",
      "Epoch 28/100\n",
      "939/939 [==============================] - 0s 140us/sample - loss: 0.1926 - accuracy: 0.9325 - val_loss: 0.1890 - val_accuracy: 0.9362\n",
      "Epoch 29/100\n",
      "939/939 [==============================] - 0s 83us/sample - loss: 0.1897 - accuracy: 0.9341 - val_loss: 0.1860 - val_accuracy: 0.9362\n",
      "Epoch 30/100\n",
      "939/939 [==============================] - 0s 46us/sample - loss: 0.1870 - accuracy: 0.9349 - val_loss: 0.1830 - val_accuracy: 0.9390\n",
      "Epoch 31/100\n",
      "939/939 [==============================] - 0s 75us/sample - loss: 0.1842 - accuracy: 0.9361 - val_loss: 0.1804 - val_accuracy: 0.9400\n",
      "Epoch 32/100\n",
      "939/939 [==============================] - 0s 197us/sample - loss: 0.1816 - accuracy: 0.9368 - val_loss: 0.1782 - val_accuracy: 0.9410\n",
      "Epoch 33/100\n",
      "939/939 [==============================] - 0s 77us/sample - loss: 0.1791 - accuracy: 0.9379 - val_loss: 0.1756 - val_accuracy: 0.9410\n",
      "Epoch 34/100\n",
      "939/939 [==============================] - 0s 81us/sample - loss: 0.1767 - accuracy: 0.9381 - val_loss: 0.1733 - val_accuracy: 0.9419\n",
      "Epoch 35/100\n",
      "939/939 [==============================] - 0s 114us/sample - loss: 0.1743 - accuracy: 0.9386 - val_loss: 0.1710 - val_accuracy: 0.9429\n",
      "Epoch 36/100\n",
      "939/939 [==============================] - 0s 58us/sample - loss: 0.1720 - accuracy: 0.9391 - val_loss: 0.1689 - val_accuracy: 0.9429\n",
      "Epoch 37/100\n",
      "939/939 [==============================] - 0s 185us/sample - loss: 0.1698 - accuracy: 0.9394 - val_loss: 0.1666 - val_accuracy: 0.9429\n",
      "Epoch 38/100\n",
      "939/939 [==============================] - 0s 89us/sample - loss: 0.1675 - accuracy: 0.9400 - val_loss: 0.1647 - val_accuracy: 0.9419\n",
      "Epoch 39/100\n",
      "939/939 [==============================] - 0s 28us/sample - loss: 0.1654 - accuracy: 0.9403 - val_loss: 0.1626 - val_accuracy: 0.9410\n",
      "Epoch 40/100\n",
      "939/939 [==============================] - 0s 187us/sample - loss: 0.1632 - accuracy: 0.9406 - val_loss: 0.1605 - val_accuracy: 0.9410\n",
      "Epoch 41/100\n",
      "939/939 [==============================] - 0s 65us/sample - loss: 0.1610 - accuracy: 0.9415 - val_loss: 0.1585 - val_accuracy: 0.9410\n",
      "Epoch 42/100\n",
      "939/939 [==============================] - 0s 162us/sample - loss: 0.1589 - accuracy: 0.9419 - val_loss: 0.1565 - val_accuracy: 0.9410\n",
      "Epoch 43/100\n",
      "939/939 [==============================] - 0s 130us/sample - loss: 0.1568 - accuracy: 0.9419 - val_loss: 0.1543 - val_accuracy: 0.9429\n",
      "Epoch 44/100\n",
      "939/939 [==============================] - 0s 86us/sample - loss: 0.1548 - accuracy: 0.9422 - val_loss: 0.1525 - val_accuracy: 0.9419\n",
      "Epoch 45/100\n",
      "939/939 [==============================] - 0s 119us/sample - loss: 0.1527 - accuracy: 0.9432 - val_loss: 0.1507 - val_accuracy: 0.9419\n",
      "Epoch 46/100\n",
      "939/939 [==============================] - 0s 73us/sample - loss: 0.1507 - accuracy: 0.9435 - val_loss: 0.1488 - val_accuracy: 0.9419\n",
      "Epoch 47/100\n",
      "939/939 [==============================] - 0s 124us/sample - loss: 0.1487 - accuracy: 0.9439 - val_loss: 0.1470 - val_accuracy: 0.9429\n",
      "Epoch 48/100\n",
      "939/939 [==============================] - 0s 186us/sample - loss: 0.1468 - accuracy: 0.9440 - val_loss: 0.1453 - val_accuracy: 0.9429\n",
      "Epoch 49/100\n",
      "939/939 [==============================] - 0s 146us/sample - loss: 0.1449 - accuracy: 0.9442 - val_loss: 0.1432 - val_accuracy: 0.9429\n",
      "Epoch 50/100\n",
      "939/939 [==============================] - 0s 198us/sample - loss: 0.1430 - accuracy: 0.9448 - val_loss: 0.1414 - val_accuracy: 0.9429\n",
      "Epoch 51/100\n",
      "939/939 [==============================] - 0s 87us/sample - loss: 0.1412 - accuracy: 0.9453 - val_loss: 0.1396 - val_accuracy: 0.9448\n",
      "Epoch 52/100\n",
      "939/939 [==============================] - 0s 102us/sample - loss: 0.1393 - accuracy: 0.9477 - val_loss: 0.1381 - val_accuracy: 0.9457\n",
      "Epoch 53/100\n",
      "939/939 [==============================] - 0s 99us/sample - loss: 0.1375 - accuracy: 0.9490 - val_loss: 0.1365 - val_accuracy: 0.9467\n",
      "Epoch 54/100\n",
      "939/939 [==============================] - 0s 65us/sample - loss: 0.1357 - accuracy: 0.9503 - val_loss: 0.1348 - val_accuracy: 0.9476\n",
      "Epoch 55/100\n",
      "939/939 [==============================] - 0s 142us/sample - loss: 0.1339 - accuracy: 0.9522 - val_loss: 0.1331 - val_accuracy: 0.9514\n",
      "Epoch 56/100\n"
     ]
    },
    {
     "name": "stdout",
     "output_type": "stream",
     "text": [
      "939/939 [==============================] - 0s 86us/sample - loss: 0.1323 - accuracy: 0.9531 - val_loss: 0.1313 - val_accuracy: 0.9514\n",
      "Epoch 57/100\n",
      "939/939 [==============================] - 0s 231us/sample - loss: 0.1305 - accuracy: 0.9543 - val_loss: 0.1298 - val_accuracy: 0.9514\n",
      "Epoch 58/100\n",
      "939/939 [==============================] - 0s 36us/sample - loss: 0.1289 - accuracy: 0.9547 - val_loss: 0.1283 - val_accuracy: 0.9524\n",
      "Epoch 59/100\n",
      "939/939 [==============================] - 0s 72us/sample - loss: 0.1273 - accuracy: 0.9554 - val_loss: 0.1267 - val_accuracy: 0.9524\n",
      "Epoch 60/100\n",
      "939/939 [==============================] - 0s 82us/sample - loss: 0.1257 - accuracy: 0.9553 - val_loss: 0.1251 - val_accuracy: 0.9524\n",
      "Epoch 61/100\n",
      "939/939 [==============================] - 0s 183us/sample - loss: 0.1241 - accuracy: 0.9556 - val_loss: 0.1235 - val_accuracy: 0.9524\n",
      "Epoch 62/100\n",
      "939/939 [==============================] - 0s 24us/sample - loss: 0.1226 - accuracy: 0.9557 - val_loss: 0.1220 - val_accuracy: 0.9524\n",
      "Epoch 63/100\n",
      "939/939 [==============================] - 0s 33us/sample - loss: 0.1210 - accuracy: 0.9560 - val_loss: 0.1207 - val_accuracy: 0.9524\n",
      "Epoch 64/100\n",
      "939/939 [==============================] - 0s 72us/sample - loss: 0.1196 - accuracy: 0.9560 - val_loss: 0.1193 - val_accuracy: 0.9533\n",
      "Epoch 65/100\n",
      "939/939 [==============================] - 0s 193us/sample - loss: 0.1183 - accuracy: 0.9562 - val_loss: 0.1180 - val_accuracy: 0.9533\n",
      "Epoch 66/100\n",
      "939/939 [==============================] - 0s 69us/sample - loss: 0.1168 - accuracy: 0.9563 - val_loss: 0.1168 - val_accuracy: 0.9533\n",
      "Epoch 67/100\n",
      "939/939 [==============================] - 0s 108us/sample - loss: 0.1155 - accuracy: 0.9573 - val_loss: 0.1153 - val_accuracy: 0.9533\n",
      "Epoch 68/100\n",
      "939/939 [==============================] - 0s 162us/sample - loss: 0.1141 - accuracy: 0.9579 - val_loss: 0.1139 - val_accuracy: 0.9533\n",
      "Epoch 69/100\n",
      "939/939 [==============================] - 0s 33us/sample - loss: 0.1129 - accuracy: 0.9580 - val_loss: 0.1126 - val_accuracy: 0.9533\n",
      "Epoch 70/100\n",
      "939/939 [==============================] - 0s 103us/sample - loss: 0.1116 - accuracy: 0.9581 - val_loss: 0.1116 - val_accuracy: 0.9533\n",
      "Epoch 71/100\n",
      "939/939 [==============================] - 0s 121us/sample - loss: 0.1103 - accuracy: 0.9585 - val_loss: 0.1104 - val_accuracy: 0.9543\n",
      "Epoch 72/100\n",
      "939/939 [==============================] - 0s 22us/sample - loss: 0.1091 - accuracy: 0.9589 - val_loss: 0.1091 - val_accuracy: 0.9543\n",
      "Epoch 73/100\n",
      "939/939 [==============================] - 0s 109us/sample - loss: 0.1079 - accuracy: 0.9594 - val_loss: 0.1079 - val_accuracy: 0.9543\n",
      "Epoch 74/100\n",
      "939/939 [==============================] - 0s 193us/sample - loss: 0.1068 - accuracy: 0.9597 - val_loss: 0.1065 - val_accuracy: 0.9552\n",
      "Epoch 75/100\n",
      "939/939 [==============================] - 0s 29us/sample - loss: 0.1056 - accuracy: 0.9596 - val_loss: 0.1054 - val_accuracy: 0.9552\n",
      "Epoch 76/100\n",
      "939/939 [==============================] - 0s 55us/sample - loss: 0.1046 - accuracy: 0.9600 - val_loss: 0.1046 - val_accuracy: 0.9552\n",
      "Epoch 77/100\n",
      "939/939 [==============================] - 0s 62us/sample - loss: 0.1035 - accuracy: 0.9610 - val_loss: 0.1035 - val_accuracy: 0.9552\n",
      "Epoch 78/100\n",
      "939/939 [==============================] - 0s 222us/sample - loss: 0.1023 - accuracy: 0.9611 - val_loss: 0.1024 - val_accuracy: 0.9552\n",
      "Epoch 79/100\n",
      "939/939 [==============================] - 0s 54us/sample - loss: 0.1013 - accuracy: 0.9612 - val_loss: 0.1013 - val_accuracy: 0.9552\n",
      "Epoch 80/100\n",
      "939/939 [==============================] - 0s 187us/sample - loss: 0.1004 - accuracy: 0.9611 - val_loss: 0.1000 - val_accuracy: 0.9562\n",
      "Epoch 81/100\n",
      "939/939 [==============================] - 0s 309us/sample - loss: 0.0993 - accuracy: 0.9623 - val_loss: 0.0991 - val_accuracy: 0.9581\n",
      "Epoch 82/100\n",
      "939/939 [==============================] - 0s 80us/sample - loss: 0.0984 - accuracy: 0.9628 - val_loss: 0.0983 - val_accuracy: 0.9590\n",
      "Epoch 83/100\n",
      "939/939 [==============================] - 0s 23us/sample - loss: 0.0974 - accuracy: 0.9636 - val_loss: 0.0974 - val_accuracy: 0.9610\n",
      "Epoch 84/100\n",
      "939/939 [==============================] - 0s 222us/sample - loss: 0.0966 - accuracy: 0.9652 - val_loss: 0.0966 - val_accuracy: 0.9619\n",
      "Epoch 85/100\n",
      "939/939 [==============================] - 0s 73us/sample - loss: 0.0956 - accuracy: 0.9654 - val_loss: 0.0956 - val_accuracy: 0.9610\n",
      "Epoch 86/100\n",
      "939/939 [==============================] - 0s 68us/sample - loss: 0.0948 - accuracy: 0.9646 - val_loss: 0.0949 - val_accuracy: 0.9610\n",
      "Epoch 87/100\n",
      "939/939 [==============================] - 0s 53us/sample - loss: 0.0939 - accuracy: 0.9653 - val_loss: 0.0937 - val_accuracy: 0.9619\n",
      "Epoch 88/100\n",
      "939/939 [==============================] - 0s 131us/sample - loss: 0.0930 - accuracy: 0.9670 - val_loss: 0.0927 - val_accuracy: 0.9629\n",
      "Epoch 89/100\n",
      "939/939 [==============================] - 0s 62us/sample - loss: 0.0923 - accuracy: 0.9679 - val_loss: 0.0918 - val_accuracy: 0.9629\n",
      "Epoch 90/100\n",
      "939/939 [==============================] - 0s 64us/sample - loss: 0.0914 - accuracy: 0.9668 - val_loss: 0.0912 - val_accuracy: 0.9610\n",
      "Epoch 91/100\n",
      "939/939 [==============================] - 0s 36us/sample - loss: 0.0907 - accuracy: 0.9670 - val_loss: 0.0905 - val_accuracy: 0.9619\n",
      "Epoch 92/100\n",
      "939/939 [==============================] - 0s 51us/sample - loss: 0.0899 - accuracy: 0.9692 - val_loss: 0.0898 - val_accuracy: 0.9648\n",
      "Epoch 93/100\n",
      "939/939 [==============================] - 0s 104us/sample - loss: 0.0891 - accuracy: 0.9705 - val_loss: 0.0888 - val_accuracy: 0.9657\n",
      "Epoch 94/100\n",
      "939/939 [==============================] - 0s 146us/sample - loss: 0.0884 - accuracy: 0.9703 - val_loss: 0.0879 - val_accuracy: 0.9648\n",
      "Epoch 95/100\n",
      "939/939 [==============================] - 0s 185us/sample - loss: 0.0877 - accuracy: 0.9706 - val_loss: 0.0871 - val_accuracy: 0.9676\n",
      "Epoch 96/100\n",
      "939/939 [==============================] - 0s 47us/sample - loss: 0.0871 - accuracy: 0.9717 - val_loss: 0.0864 - val_accuracy: 0.9686\n",
      "Epoch 97/100\n",
      "939/939 [==============================] - 0s 63us/sample - loss: 0.0864 - accuracy: 0.9714 - val_loss: 0.0859 - val_accuracy: 0.9667\n",
      "Epoch 98/100\n",
      "939/939 [==============================] - 0s 44us/sample - loss: 0.0857 - accuracy: 0.9716 - val_loss: 0.0853 - val_accuracy: 0.9686\n",
      "Epoch 99/100\n",
      "939/939 [==============================] - 0s 95us/sample - loss: 0.0850 - accuracy: 0.9735 - val_loss: 0.0845 - val_accuracy: 0.9686\n",
      "Epoch 100/100\n",
      "939/939 [==============================] - 0s 70us/sample - loss: 0.0844 - accuracy: 0.9739 - val_loss: 0.0837 - val_accuracy: 0.9695\n",
      "Run time: 11.687622785568237\n"
     ]
    }
   ],
   "source": [
    "last_value = []\n",
    "best_value = []\n",
    "\n",
    "from tensorflow.keras import optimizers\n",
    "#o tf assume que todos os parametros vao ser otimizados, no pytorch nao (é mais flexivel)\n",
    "import time\n",
    "start = time.time()\n",
    "\n",
    "for i in range(1):\n",
    "\n",
    "  history = model.fit(x_train, y_train, batch_size = 256, epochs = 100, validation_split=0.1, verbose=1)#, validation_data=(x_test, y_test))\n",
    "\n",
    "  acc = history.history['val_accuracy']\n",
    "  bestacc = max(acc)\n",
    "  best_value.append(bestacc)\n",
    "  last_value.append(acc[99])\n",
    "\n",
    "  i+=1\n",
    "\n",
    "\n",
    "  \n",
    "  #acc_matrix.append(acc)\n",
    "\n",
    "end = time.time()\n",
    "print(\"Run time:\", end - start)"
   ]
  },
  {
   "cell_type": "code",
   "execution_count": 233,
   "metadata": {
    "colab": {
     "base_uri": "https://localhost:8080/"
    },
    "id": "BLPEZK1bJ9xf",
    "outputId": "6ec6b7d8-c844-4b45-c7f8-612cf468f6e6"
   },
   "outputs": [
    {
     "name": "stdout",
     "output_type": "stream",
     "text": [
      "MaxBest:  0.9695238\n",
      "MeanBest:  0.9695238\n",
      "MaxLast: 0.9695238\n",
      "MeanLast:  0.9695238\n"
     ]
    }
   ],
   "source": [
    "print(\"MaxBest: \",max(best_value))\n",
    "print(\"MeanBest: \",np.mean(best_value))\n",
    "\n",
    "print(\"MaxLast:\", max(last_value))\n",
    "print(\"MeanLast: \",np.mean(last_value))"
   ]
  },
  {
   "cell_type": "code",
   "execution_count": 234,
   "metadata": {
    "colab": {
     "base_uri": "https://localhost:8080/"
    },
    "id": "zJJN3QC-esYE",
    "outputId": "2a326478-75af-42ee-85e2-3dc2d3ca3565"
   },
   "outputs": [
    {
     "name": "stdout",
     "output_type": "stream",
     "text": [
      "261/261 [==============================] - 0s 422us/sample - loss: 0.0897 - accuracy: 0.9693\n"
     ]
    }
   ],
   "source": [
    "score = model.evaluate(x_test, y_test)\n"
   ]
  },
  {
   "cell_type": "code",
   "execution_count": null,
   "metadata": {
    "colab": {
     "base_uri": "https://localhost:8080/",
     "height": 291
    },
    "id": "G_DeQUmyetR4",
    "outputId": "f52ae976-d612-44b9-aed8-b999daedd71f"
   },
   "outputs": [
    {
     "data": {
      "image/png": "[encoded data removed]",
      "text/plain": [
       "<Figure size 432x288 with 2 Axes>"
      ]
     },
     "metadata": {},
     "output_type": "display_data"
    }
   ],
   "source": [
    "previsao = model.predict(x_test)\n",
    "\n",
    "cm = confusion_matrix(y_test.argmax(1), previsao.argmax(1))\n",
    "\n",
    "# Plot the confusion matrix\n",
    "\n",
    "import seaborn as sns\n",
    "\n",
    "ax = sns.heatmap(cm, annot=True, cmap='Blues', fmt='.4g')\n",
    "\n",
    "\n",
    "ax.set_xlabel('\\nPredicted Label')\n",
    "ax.set_ylabel('True Label');\n",
    "\n",
    "plt.show()"
   ]
  },
  {
   "cell_type": "code",
   "execution_count": 80,
   "metadata": {
    "colab": {
     "base_uri": "https://localhost:8080/",
     "height": 295
    },
    "id": "QQeUizFIexQB",
    "outputId": "1d30ba9e-7288-448d-d7f5-c02d300c6b79"
   },
   "outputs": [
    {
     "data": {
      "image/png": "[encoded data removed]",
      "text/plain": [
       "<Figure size 432x288 with 1 Axes>"
      ]
     },
     "metadata": {
      "needs_background": "light"
     },
     "output_type": "display_data"
    }
   ],
   "source": [
    "import matplotlib.pyplot as plt\n",
    "\n",
    "\n",
    "plt.plot(history.history['accuracy'])\n",
    "plt.plot(history.history['val_accuracy'])\n",
    "plt.title('model accuracy')\n",
    "plt.ylabel('accuracy')\n",
    "plt.xlabel('epoch')\n",
    "plt.legend(['train', 'validation'], loc='upper left')\n",
    "plt.show()\n",
    "\n"
   ]
  },
  {
   "cell_type": "code",
   "execution_count": 81,
   "metadata": {
    "colab": {
     "base_uri": "https://localhost:8080/",
     "height": 295
    },
    "id": "KqZ0kOg5ezrL",
    "outputId": "c5040f48-2db6-4c02-d3bb-3991578e0ead"
   },
   "outputs": [
    {
     "data": {
      "image/png": "[encoded data removed]",
      "text/plain": [
       "<Figure size 432x288 with 1 Axes>"
      ]
     },
     "metadata": {
      "needs_background": "light"
     },
     "output_type": "display_data"
    }
   ],
   "source": [
    "# Plota gráfico de Loss\n",
    "plt.plot(history.history['loss'])\n",
    "plt.plot(history.history['val_loss'])\n",
    "plt.title('model loss')\n",
    "plt.ylabel('loss')\n",
    "plt.xlabel('epoch')\n",
    "plt.legend(['train', 'test'], loc='upper left')\n",
    "plt.show()"
   ]
  },
  {
   "cell_type": "markdown",
   "metadata": {
    "id": "nx8TrLlUg3Pa"
   },
   "source": [
    "#FRAMEWORK 2\n"
   ]
  },
  {
   "cell_type": "code",
   "execution_count": null,
   "metadata": {
    "id": "e4Uk74cYg2vZ"
   },
   "outputs": [],
   "source": [
    "dataset = np.load('CWRU_preprocess_STFT.npz')"
   ]
  },
  {
   "cell_type": "code",
   "execution_count": null,
   "metadata": {
    "id": "BfxScRf65Jr6"
   },
   "outputs": [],
   "source": [
    "X = dataset['data']\n",
    "y = dataset['label']"
   ]
  },
  {
   "cell_type": "code",
   "execution_count": null,
   "metadata": {
    "colab": {
     "base_uri": "https://localhost:8080/"
    },
    "id": "9vqMddTp5P8r",
    "outputId": "67bee8cb-9718-4b30-f3fa-b07282bddfb0"
   },
   "outputs": [
    {
     "name": "stdout",
     "output_type": "stream",
     "text": [
      "(1305, 33, 33)\n"
     ]
    }
   ],
   "source": [
    "print(X.shape)"
   ]
  },
  {
   "cell_type": "code",
   "execution_count": null,
   "metadata": {
    "colab": {
     "base_uri": "https://localhost:8080/",
     "height": 318
    },
    "id": "tVq_1Ery5RPC",
    "outputId": "efa63760-e20a-452d-9baa-0cb7311c5ef7"
   },
   "outputs": [
    {
     "name": "stderr",
     "output_type": "stream",
     "text": [
      "/usr/local/lib/python3.7/dist-packages/ipykernel_launcher.py:2: UserWarning: Only one segment is calculated since parameter NFFT (=256) >= signal length (=33).\n",
      "  \n"
     ]
    },
    {
     "data": {
      "image/png": "[encoded data removed]",
      "text/plain": [
       "<Figure size 432x288 with 1 Axes>"
      ]
     },
     "metadata": {},
     "output_type": "display_data"
    }
   ],
   "source": [
    "import matplotlib.pyplot  as plt\n",
    "plt.specgram(X[1], Fs=1, cmap=\"rainbow\")\n",
    "plt.xlabel(\"TIME\")\n",
    "plt.ylabel(\"DATA\")\n",
    "plt.show()"
   ]
  },
  {
   "cell_type": "code",
   "execution_count": null,
   "metadata": {
    "colab": {
     "base_uri": "https://localhost:8080/"
    },
    "id": "8fHlvVKW9Hwv",
    "outputId": "1319f9bf-7639-4de7-e2e7-623a42e02578"
   },
   "outputs": [
    {
     "name": "stdout",
     "output_type": "stream",
     "text": [
      "Looking in indexes: https://pypi.org/simple, https://us-python.pkg.dev/colab-wheels/public/simple/\n",
      "Collecting qiskit\n",
      "  Downloading qiskit-0.37.1.tar.gz (13 kB)\n",
      "  Preparing metadata (setup.py) ... \u001b[?25l\u001b[?25hdone\n",
      "Collecting qiskit-terra==0.21.1\n",
      "  Downloading qiskit_terra-0.21.1-cp37-cp37m-manylinux_2_17_x86_64.manylinux2014_x86_64.whl (6.7 MB)\n",
      "\u001b[2K     \u001b[90m━━━━━━━━━━━━━━━━━━━━━━━━━━━━━━━━━━━━━━━━\u001b[0m \u001b[32m6.7/6.7 MB\u001b[0m \u001b[31m74.4 MB/s\u001b[0m eta \u001b[36m0:00:00\u001b[0m\n",
      "\u001b[?25hCollecting qiskit-aer==0.10.4\n",
      "  Downloading qiskit_aer-0.10.4-cp37-cp37m-manylinux_2_12_x86_64.manylinux2010_x86_64.whl (18.0 MB)\n",
      "\u001b[2K     \u001b[90m━━━━━━━━━━━━━━━━━━━━━━━━━━━━━━━━━━━━━━━━\u001b[0m \u001b[32m18.0/18.0 MB\u001b[0m \u001b[31m62.5 MB/s\u001b[0m eta \u001b[36m0:00:00\u001b[0m\n",
      "\u001b[?25hCollecting qiskit-ibmq-provider==0.19.2\n",
      "  Downloading qiskit_ibmq_provider-0.19.2-py3-none-any.whl (240 kB)\n",
      "\u001b[2K     \u001b[90m━━━━━━━━━━━━━━━━━━━━━━━━━━━━━━━━━━━━━━\u001b[0m \u001b[32m240.4/240.4 kB\u001b[0m \u001b[31m25.0 MB/s\u001b[0m eta \u001b[36m0:00:00\u001b[0m\n",
      "\u001b[?25hRequirement already satisfied: scipy>=1.0 in /usr/local/lib/python3.7/dist-packages (from qiskit-aer==0.10.4->qiskit) (1.7.3)\n",
      "Requirement already satisfied: numpy>=1.16.3 in /usr/local/lib/python3.7/dist-packages (from qiskit-aer==0.10.4->qiskit) (1.21.6)\n",
      "Requirement already satisfied: urllib3>=1.21.1 in /usr/local/lib/python3.7/dist-packages (from qiskit-ibmq-provider==0.19.2->qiskit) (1.25.11)\n",
      "Collecting websocket-client>=1.0.1\n",
      "  Downloading websocket_client-1.3.3-py3-none-any.whl (54 kB)\n",
      "\u001b[2K     \u001b[90m━━━━━━━━━━━━━━━━━━━━━━━━━━━━━━━━━━━━━━━━\u001b[0m \u001b[32m54.3/54.3 kB\u001b[0m \u001b[31m7.1 MB/s\u001b[0m eta \u001b[36m0:00:00\u001b[0m\n",
      "\u001b[?25hCollecting websockets>=10.0\n",
      "  Downloading websockets-10.3-cp37-cp37m-manylinux_2_5_x86_64.manylinux1_x86_64.manylinux_2_12_x86_64.manylinux2010_x86_64.whl (112 kB)\n",
      "\u001b[2K     \u001b[90m━━━━━━━━━━━━━━━━━━━━━━━━━━━━━━━━━━━━━━\u001b[0m \u001b[32m112.1/112.1 kB\u001b[0m \u001b[31m13.8 MB/s\u001b[0m eta \u001b[36m0:00:00\u001b[0m\n",
      "\u001b[?25hRequirement already satisfied: python-dateutil>=2.8.0 in /usr/local/lib/python3.7/dist-packages (from qiskit-ibmq-provider==0.19.2->qiskit) (2.8.2)\n",
      "Requirement already satisfied: requests>=2.19 in /usr/local/lib/python3.7/dist-packages (from qiskit-ibmq-provider==0.19.2->qiskit) (2.23.0)\n",
      "Collecting requests-ntlm>=1.1.0\n",
      "  Downloading requests_ntlm-1.1.0-py2.py3-none-any.whl (5.7 kB)\n",
      "Collecting symengine>=0.9\n",
      "  Downloading symengine-0.9.2-cp37-cp37m-manylinux2010_x86_64.whl (37.5 MB)\n",
      "\u001b[2K     \u001b[90m━━━━━━━━━━━━━━━━━━━━━━━━━━━━━━━━━━━━━━━━\u001b[0m \u001b[32m37.5/37.5 MB\u001b[0m \u001b[31m11.8 MB/s\u001b[0m eta \u001b[36m0:00:00\u001b[0m\n",
      "\u001b[?25hCollecting stevedore>=3.0.0\n",
      "  Downloading stevedore-3.5.0-py3-none-any.whl (49 kB)\n",
      "\u001b[2K     \u001b[90m━━━━━━━━━━━━━━━━━━━━━━━━━━━━━━━━━━━━━━━━\u001b[0m \u001b[32m49.7/49.7 kB\u001b[0m \u001b[31m5.5 MB/s\u001b[0m eta \u001b[36m0:00:00\u001b[0m\n",
      "\u001b[?25hRequirement already satisfied: psutil>=5 in /usr/local/lib/python3.7/dist-packages (from qiskit-terra==0.21.1->qiskit) (5.4.8)\n",
      "Requirement already satisfied: sympy>=1.3 in /usr/local/lib/python3.7/dist-packages (from qiskit-terra==0.21.1->qiskit) (1.8)\n",
      "Collecting shared-memory38\n",
      "  Downloading shared_memory38-0.1.2-cp37-cp37m-manylinux_2_5_x86_64.manylinux1_x86_64.whl (25 kB)\n",
      "Collecting retworkx>=0.11.0\n",
      "  Downloading retworkx-0.11.0-cp37-cp37m-manylinux_2_5_x86_64.manylinux1_x86_64.manylinux_2_12_x86_64.manylinux2010_x86_64.whl (1.6 MB)\n",
      "\u001b[2K     \u001b[90m━━━━━━━━━━━━━━━━━━━━━━━━━━━━━━━━━━━━━━━━\u001b[0m \u001b[32m1.6/1.6 MB\u001b[0m \u001b[31m33.6 MB/s\u001b[0m eta \u001b[36m0:00:00\u001b[0m\n",
      "\u001b[?25hRequirement already satisfied: dill>=0.3 in /usr/local/lib/python3.7/dist-packages (from qiskit-terra==0.21.1->qiskit) (0.3.5.1)\n",
      "Collecting tweedledum<2.0,>=1.1\n",
      "  Downloading tweedledum-1.1.1-cp37-cp37m-manylinux_2_12_x86_64.manylinux2010_x86_64.whl (943 kB)\n",
      "\u001b[2K     \u001b[90m━━━━━━━━━━━━━━━━━━━━━━━━━━━━━━━━━━━━━━\u001b[0m \u001b[32m943.8/943.8 kB\u001b[0m \u001b[31m35.6 MB/s\u001b[0m eta \u001b[36m0:00:00\u001b[0m\n",
      "\u001b[?25hRequirement already satisfied: typing-extensions in /usr/local/lib/python3.7/dist-packages (from qiskit-terra==0.21.1->qiskit) (3.10.0.0)\n",
      "Collecting ply>=3.10\n",
      "  Downloading ply-3.11-py2.py3-none-any.whl (49 kB)\n",
      "\u001b[2K     \u001b[90m━━━━━━━━━━━━━━━━━━━━━━━━━━━━━━━━━━━━━━━━\u001b[0m \u001b[32m49.6/49.6 kB\u001b[0m \u001b[31m5.6 MB/s\u001b[0m eta \u001b[36m0:00:00\u001b[0m\n",
      "\u001b[?25hRequirement already satisfied: six>=1.5 in /usr/local/lib/python3.7/dist-packages (from python-dateutil>=2.8.0->qiskit-ibmq-provider==0.19.2->qiskit) (1.15.0)\n",
      "Requirement already satisfied: chardet<4,>=3.0.2 in /usr/local/lib/python3.7/dist-packages (from requests>=2.19->qiskit-ibmq-provider==0.19.2->qiskit) (3.0.4)\n",
      "Requirement already satisfied: certifi>=2017.4.17 in /usr/local/lib/python3.7/dist-packages (from requests>=2.19->qiskit-ibmq-provider==0.19.2->qiskit) (2022.6.15)\n",
      "Requirement already satisfied: idna<3,>=2.5 in /usr/local/lib/python3.7/dist-packages (from requests>=2.19->qiskit-ibmq-provider==0.19.2->qiskit) (2.10)\n",
      "Collecting ntlm-auth>=1.0.2\n",
      "  Downloading ntlm_auth-1.5.0-py2.py3-none-any.whl (29 kB)\n",
      "Collecting cryptography>=1.3\n",
      "  Downloading cryptography-37.0.4-cp36-abi3-manylinux_2_24_x86_64.whl (4.1 MB)\n",
      "\u001b[2K     \u001b[90m━━━━━━━━━━━━━━━━━━━━━━━━━━━━━━━━━━━━━━━━\u001b[0m \u001b[32m4.1/4.1 MB\u001b[0m \u001b[31m50.4 MB/s\u001b[0m eta \u001b[36m0:00:00\u001b[0m\n",
      "\u001b[?25hRequirement already satisfied: importlib-metadata>=1.7.0 in /usr/local/lib/python3.7/dist-packages (from stevedore>=3.0.0->qiskit-terra==0.21.1->qiskit) (4.12.0)\n",
      "Collecting pbr!=2.1.0,>=2.0.0\n",
      "  Downloading pbr-5.10.0-py2.py3-none-any.whl (112 kB)\n",
      "\u001b[2K     \u001b[90m━━━━━━━━━━━━━━━━━━━━━━━━━━━━━━━━━━━━━━\u001b[0m \u001b[32m112.4/112.4 kB\u001b[0m \u001b[31m11.2 MB/s\u001b[0m eta \u001b[36m0:00:00\u001b[0m\n",
      "\u001b[?25hRequirement already satisfied: mpmath>=0.19 in /usr/local/lib/python3.7/dist-packages (from sympy>=1.3->qiskit-terra==0.21.1->qiskit) (1.2.1)\n",
      "Requirement already satisfied: cffi>=1.12 in /usr/local/lib/python3.7/dist-packages (from cryptography>=1.3->requests-ntlm>=1.1.0->qiskit-ibmq-provider==0.19.2->qiskit) (1.15.1)\n",
      "Requirement already satisfied: zipp>=0.5 in /usr/local/lib/python3.7/dist-packages (from importlib-metadata>=1.7.0->stevedore>=3.0.0->qiskit-terra==0.21.1->qiskit) (3.8.1)\n",
      "Requirement already satisfied: pycparser in /usr/local/lib/python3.7/dist-packages (from cffi>=1.12->cryptography>=1.3->requests-ntlm>=1.1.0->qiskit-ibmq-provider==0.19.2->qiskit) (2.21)\n",
      "Building wheels for collected packages: qiskit\n",
      "  Building wheel for qiskit (setup.py) ... \u001b[?25l\u001b[?25hdone\n",
      "  Created wheel for qiskit: filename=qiskit-0.37.1-py3-none-any.whl size=12067 sha256=d308117e17fc16fb1725d8794906652d585d6d093bebec57bc465a641e5df323\n",
      "  Stored in directory: /root/.cache/pip/wheels/1c/3c/a3/bf8c2931e17937329c34a88b76cb88cbb7f9f2692fa7cfbcd1\n",
      "Successfully built qiskit\n",
      "Installing collected packages: shared-memory38, ply, websockets, websocket-client, tweedledum, symengine, retworkx, pbr, ntlm-auth, stevedore, cryptography, requests-ntlm, qiskit-terra, qiskit-ibmq-provider, qiskit-aer, qiskit\n",
      "Successfully installed cryptography-37.0.4 ntlm-auth-1.5.0 pbr-5.10.0 ply-3.11 qiskit-0.37.1 qiskit-aer-0.10.4 qiskit-ibmq-provider-0.19.2 qiskit-terra-0.21.1 requests-ntlm-1.1.0 retworkx-0.11.0 shared-memory38-0.1.2 stevedore-3.5.0 symengine-0.9.2 tweedledum-1.1.1 websocket-client-1.3.3 websockets-10.3\n",
      "\u001b[33mWARNING: Running pip as the 'root' user can result in broken permissions and conflicting behaviour with the system package manager. It is recommended to use a virtual environment instead: https://pip.pypa.io/warnings/venv\u001b[0m\u001b[33m\n",
      "\u001b[0m"
     ]
    }
   ],
   "source": [
    "!pip install qiskit"
   ]
  },
  {
   "cell_type": "code",
   "execution_count": null,
   "metadata": {
    "colab": {
     "base_uri": "https://localhost:8080/"
    },
    "id": "vvCGcJIJ6eU5",
    "outputId": "1f988d30-87da-487b-ce3b-b8bce575a40b"
   },
   "outputs": [
    {
     "data": {
      "text/plain": [
       "<torch._C.Generator at 0x7f43384e4350>"
      ]
     },
     "execution_count": 49,
     "metadata": {},
     "output_type": "execute_result"
    }
   ],
   "source": [
    "%matplotlib inline\n",
    "%config InlineBackend.figure_format = 'retina'\n",
    "\n",
    "import matplotlib.pyplot as plt\n",
    "import torch\n",
    "from torchvision import datasets, transforms\n",
    "import numpy as np\n",
    "from torch.autograd import Function\n",
    "import torch.optim as optim\n",
    "import torch.nn as nn\n",
    "import torch.nn.functional as F\n",
    "\n",
    "import qiskit\n",
    "from qiskit import transpile , assemble #transpile: otimização do circuito, assemble: monta o circuito\n",
    "from qiskit.visualization import *\n",
    "\n",
    "torch.manual_seed(1)"
   ]
  },
  {
   "cell_type": "markdown",
   "metadata": {
    "id": "vA9mV9Gc9W8Z"
   },
   "source": [
    "#### Preprocessing Stage\n",
    "* First, we load the image data using pytorch's dataloaders:\n",
    "    * They are very usefull functions that allow us to load, manipulate, transform and deliver data to deep learning pipelines in a very compact way\n",
    "* The images are of size 3x227x227:\n",
    "    * That is, 3 channels (color RGB)\n",
    "    * with 227 pixels in a square aspect ratio\n",
    "* Then, We apply some transformations to the image in order to work with it more easily:\n",
    "    * Reduce the size of the images and of power of 2 (note that this is _not_ neccesary, but it makes the computations easier)\n",
    "    * Transform the images from numpy (their input format) to torch tensor format\n",
    "    * Normalize the images"
   ]
  },
  {
   "cell_type": "markdown",
   "metadata": {
    "id": "8ytlEX-w9q4F"
   },
   "source": [
    "* __Train dataset preparation:__"
   ]
  },
  {
   "cell_type": "code",
   "execution_count": null,
   "metadata": {
    "id": "wVNQ_2FR-VbF"
   },
   "outputs": [],
   "source": [
    "from sklearn.model_selection import train_test_split\n",
    "\n",
    "x_train, x_test, y_train, y_test = train_test_split(X,y,test_size = 0.2,random_state = 1)"
   ]
  },
  {
   "cell_type": "code",
   "execution_count": null,
   "metadata": {
    "colab": {
     "base_uri": "https://localhost:8080/",
     "height": 380
    },
    "id": "WzdPd-WZ9VSD",
    "outputId": "53953690-b44f-4e0e-f5a2-0abe04636a33"
   },
   "outputs": [
    {
     "ename": "ValueError",
     "evalue": "ignored",
     "output_type": "error",
     "traceback": [
      "\u001b[0;31m---------------------------------------------------------------------------\u001b[0m",
      "\u001b[0;31mValueError\u001b[0m                                Traceback (most recent call last)",
      "\u001b[0;32m<ipython-input-51-c5f539e0b8d2>\u001b[0m in \u001b[0;36m<module>\u001b[0;34m\u001b[0m\n\u001b[1;32m      5\u001b[0m                                transforms.Normalize(0.67, 0.13)]) #média e desvio padrão das imagens que estão sendo tratadas\n\u001b[1;32m      6\u001b[0m \u001b[0;34m\u001b[0m\u001b[0m\n\u001b[0;32m----> 7\u001b[0;31m \u001b[0mtrain_dataset\u001b[0m \u001b[0;34m=\u001b[0m \u001b[0mdatasets\u001b[0m\u001b[0;34m.\u001b[0m\u001b[0mImageFolder\u001b[0m\u001b[0;34m(\u001b[0m\u001b[0mx_train\u001b[0m\u001b[0;34m,\u001b[0m \u001b[0mtransform\u001b[0m \u001b[0;34m=\u001b[0m \u001b[0mtransform\u001b[0m\u001b[0;34m)\u001b[0m\u001b[0;34m\u001b[0m\u001b[0;34m\u001b[0m\u001b[0m\n\u001b[0m\u001b[1;32m      8\u001b[0m \u001b[0;34m\u001b[0m\u001b[0m\n\u001b[1;32m      9\u001b[0m \u001b[0mtrain_dataset\u001b[0m \u001b[0;34m=\u001b[0m \u001b[0mtorch\u001b[0m\u001b[0;34m.\u001b[0m\u001b[0mutils\u001b[0m\u001b[0;34m.\u001b[0m\u001b[0mdata\u001b[0m\u001b[0;34m.\u001b[0m\u001b[0mSubset\u001b[0m\u001b[0;34m(\u001b[0m\u001b[0mtrain_dataset\u001b[0m\u001b[0;34m,\u001b[0m \u001b[0mnp\u001b[0m\u001b[0;34m.\u001b[0m\u001b[0mrandom\u001b[0m\u001b[0;34m.\u001b[0m\u001b[0mchoice\u001b[0m\u001b[0;34m(\u001b[0m\u001b[0mlen\u001b[0m\u001b[0;34m(\u001b[0m\u001b[0mtrain_dataset\u001b[0m\u001b[0;34m)\u001b[0m\u001b[0;34m,\u001b[0m \u001b[0;36m200\u001b[0m\u001b[0;34m,\u001b[0m \u001b[0mreplace\u001b[0m \u001b[0;34m=\u001b[0m \u001b[0;32mFalse\u001b[0m\u001b[0;34m)\u001b[0m\u001b[0;34m)\u001b[0m\u001b[0;34m\u001b[0m\u001b[0;34m\u001b[0m\u001b[0m\n",
      "\u001b[0;32m/usr/local/lib/python3.7/dist-packages/torchvision/datasets/folder.py\u001b[0m in \u001b[0;36m__init__\u001b[0;34m(self, root, transform, target_transform, loader, is_valid_file)\u001b[0m\n\u001b[1;32m    314\u001b[0m             \u001b[0mtransform\u001b[0m\u001b[0;34m=\u001b[0m\u001b[0mtransform\u001b[0m\u001b[0;34m,\u001b[0m\u001b[0;34m\u001b[0m\u001b[0;34m\u001b[0m\u001b[0m\n\u001b[1;32m    315\u001b[0m             \u001b[0mtarget_transform\u001b[0m\u001b[0;34m=\u001b[0m\u001b[0mtarget_transform\u001b[0m\u001b[0;34m,\u001b[0m\u001b[0;34m\u001b[0m\u001b[0;34m\u001b[0m\u001b[0m\n\u001b[0;32m--> 316\u001b[0;31m             \u001b[0mis_valid_file\u001b[0m\u001b[0;34m=\u001b[0m\u001b[0mis_valid_file\u001b[0m\u001b[0;34m,\u001b[0m\u001b[0;34m\u001b[0m\u001b[0;34m\u001b[0m\u001b[0m\n\u001b[0m\u001b[1;32m    317\u001b[0m         )\n\u001b[1;32m    318\u001b[0m         \u001b[0mself\u001b[0m\u001b[0;34m.\u001b[0m\u001b[0mimgs\u001b[0m \u001b[0;34m=\u001b[0m \u001b[0mself\u001b[0m\u001b[0;34m.\u001b[0m\u001b[0msamples\u001b[0m\u001b[0;34m\u001b[0m\u001b[0;34m\u001b[0m\u001b[0m\n",
      "\u001b[0;32m/usr/local/lib/python3.7/dist-packages/torchvision/datasets/folder.py\u001b[0m in \u001b[0;36m__init__\u001b[0;34m(self, root, loader, extensions, transform, target_transform, is_valid_file)\u001b[0m\n\u001b[1;32m    143\u001b[0m     ) -> None:\n\u001b[1;32m    144\u001b[0m         \u001b[0msuper\u001b[0m\u001b[0;34m(\u001b[0m\u001b[0;34m)\u001b[0m\u001b[0;34m.\u001b[0m\u001b[0m__init__\u001b[0m\u001b[0;34m(\u001b[0m\u001b[0mroot\u001b[0m\u001b[0;34m,\u001b[0m \u001b[0mtransform\u001b[0m\u001b[0;34m=\u001b[0m\u001b[0mtransform\u001b[0m\u001b[0;34m,\u001b[0m \u001b[0mtarget_transform\u001b[0m\u001b[0;34m=\u001b[0m\u001b[0mtarget_transform\u001b[0m\u001b[0;34m)\u001b[0m\u001b[0;34m\u001b[0m\u001b[0;34m\u001b[0m\u001b[0m\n\u001b[0;32m--> 145\u001b[0;31m         \u001b[0mclasses\u001b[0m\u001b[0;34m,\u001b[0m \u001b[0mclass_to_idx\u001b[0m \u001b[0;34m=\u001b[0m \u001b[0mself\u001b[0m\u001b[0;34m.\u001b[0m\u001b[0mfind_classes\u001b[0m\u001b[0;34m(\u001b[0m\u001b[0mself\u001b[0m\u001b[0;34m.\u001b[0m\u001b[0mroot\u001b[0m\u001b[0;34m)\u001b[0m\u001b[0;34m\u001b[0m\u001b[0;34m\u001b[0m\u001b[0m\n\u001b[0m\u001b[1;32m    146\u001b[0m         \u001b[0msamples\u001b[0m \u001b[0;34m=\u001b[0m \u001b[0mself\u001b[0m\u001b[0;34m.\u001b[0m\u001b[0mmake_dataset\u001b[0m\u001b[0;34m(\u001b[0m\u001b[0mself\u001b[0m\u001b[0;34m.\u001b[0m\u001b[0mroot\u001b[0m\u001b[0;34m,\u001b[0m \u001b[0mclass_to_idx\u001b[0m\u001b[0;34m,\u001b[0m \u001b[0mextensions\u001b[0m\u001b[0;34m,\u001b[0m \u001b[0mis_valid_file\u001b[0m\u001b[0;34m)\u001b[0m\u001b[0;34m\u001b[0m\u001b[0;34m\u001b[0m\u001b[0m\n\u001b[1;32m    147\u001b[0m \u001b[0;34m\u001b[0m\u001b[0m\n",
      "\u001b[0;32m/usr/local/lib/python3.7/dist-packages/torchvision/datasets/folder.py\u001b[0m in \u001b[0;36mfind_classes\u001b[0;34m(self, directory)\u001b[0m\n\u001b[1;32m    217\u001b[0m             \u001b[0;34m(\u001b[0m\u001b[0mTuple\u001b[0m\u001b[0;34m[\u001b[0m\u001b[0mList\u001b[0m\u001b[0;34m[\u001b[0m\u001b[0mstr\u001b[0m\u001b[0;34m]\u001b[0m\u001b[0;34m,\u001b[0m \u001b[0mDict\u001b[0m\u001b[0;34m[\u001b[0m\u001b[0mstr\u001b[0m\u001b[0;34m,\u001b[0m \u001b[0mint\u001b[0m\u001b[0;34m]\u001b[0m\u001b[0;34m]\u001b[0m\u001b[0;34m)\u001b[0m\u001b[0;34m:\u001b[0m \u001b[0mList\u001b[0m \u001b[0mof\u001b[0m \u001b[0mall\u001b[0m \u001b[0mclasses\u001b[0m \u001b[0;32mand\u001b[0m \u001b[0mdictionary\u001b[0m \u001b[0mmapping\u001b[0m \u001b[0meach\u001b[0m \u001b[0;32mclass\u001b[0m \u001b[0mto\u001b[0m \u001b[0man\u001b[0m \u001b[0mindex\u001b[0m\u001b[0;34m.\u001b[0m\u001b[0;34m\u001b[0m\u001b[0;34m\u001b[0m\u001b[0m\n\u001b[1;32m    218\u001b[0m         \"\"\"\n\u001b[0;32m--> 219\u001b[0;31m         \u001b[0;32mreturn\u001b[0m \u001b[0mfind_classes\u001b[0m\u001b[0;34m(\u001b[0m\u001b[0mdirectory\u001b[0m\u001b[0;34m)\u001b[0m\u001b[0;34m\u001b[0m\u001b[0;34m\u001b[0m\u001b[0m\n\u001b[0m\u001b[1;32m    220\u001b[0m \u001b[0;34m\u001b[0m\u001b[0m\n\u001b[1;32m    221\u001b[0m     \u001b[0;32mdef\u001b[0m \u001b[0m__getitem__\u001b[0m\u001b[0;34m(\u001b[0m\u001b[0mself\u001b[0m\u001b[0;34m,\u001b[0m \u001b[0mindex\u001b[0m\u001b[0;34m:\u001b[0m \u001b[0mint\u001b[0m\u001b[0;34m)\u001b[0m \u001b[0;34m->\u001b[0m \u001b[0mTuple\u001b[0m\u001b[0;34m[\u001b[0m\u001b[0mAny\u001b[0m\u001b[0;34m,\u001b[0m \u001b[0mAny\u001b[0m\u001b[0;34m]\u001b[0m\u001b[0;34m:\u001b[0m\u001b[0;34m\u001b[0m\u001b[0;34m\u001b[0m\u001b[0m\n",
      "\u001b[0;32m/usr/local/lib/python3.7/dist-packages/torchvision/datasets/folder.py\u001b[0m in \u001b[0;36mfind_classes\u001b[0;34m(directory)\u001b[0m\n\u001b[1;32m     39\u001b[0m     \u001b[0mSee\u001b[0m \u001b[0;34m:\u001b[0m\u001b[0;32mclass\u001b[0m\u001b[0;34m:\u001b[0m\u001b[0;31m`\u001b[0m\u001b[0mDatasetFolder\u001b[0m\u001b[0;31m`\u001b[0m \u001b[0;32mfor\u001b[0m \u001b[0mdetails\u001b[0m\u001b[0;34m.\u001b[0m\u001b[0;34m\u001b[0m\u001b[0;34m\u001b[0m\u001b[0m\n\u001b[1;32m     40\u001b[0m     \"\"\"\n\u001b[0;32m---> 41\u001b[0;31m     \u001b[0mclasses\u001b[0m \u001b[0;34m=\u001b[0m \u001b[0msorted\u001b[0m\u001b[0;34m(\u001b[0m\u001b[0mentry\u001b[0m\u001b[0;34m.\u001b[0m\u001b[0mname\u001b[0m \u001b[0;32mfor\u001b[0m \u001b[0mentry\u001b[0m \u001b[0;32min\u001b[0m \u001b[0mos\u001b[0m\u001b[0;34m.\u001b[0m\u001b[0mscandir\u001b[0m\u001b[0;34m(\u001b[0m\u001b[0mdirectory\u001b[0m\u001b[0;34m)\u001b[0m \u001b[0;32mif\u001b[0m \u001b[0mentry\u001b[0m\u001b[0;34m.\u001b[0m\u001b[0mis_dir\u001b[0m\u001b[0;34m(\u001b[0m\u001b[0;34m)\u001b[0m\u001b[0;34m)\u001b[0m\u001b[0;34m\u001b[0m\u001b[0;34m\u001b[0m\u001b[0m\n\u001b[0m\u001b[1;32m     42\u001b[0m     \u001b[0;32mif\u001b[0m \u001b[0;32mnot\u001b[0m \u001b[0mclasses\u001b[0m\u001b[0;34m:\u001b[0m\u001b[0;34m\u001b[0m\u001b[0;34m\u001b[0m\u001b[0m\n\u001b[1;32m     43\u001b[0m         \u001b[0;32mraise\u001b[0m \u001b[0mFileNotFoundError\u001b[0m\u001b[0;34m(\u001b[0m\u001b[0;34mf\"Couldn't find any class folder in {directory}.\"\u001b[0m\u001b[0;34m)\u001b[0m\u001b[0;34m\u001b[0m\u001b[0;34m\u001b[0m\u001b[0m\n",
      "\u001b[0;31mValueError\u001b[0m: scandir: embedded null character in path"
     ]
    }
   ],
   "source": [
    "# Operations that we will perform on the images when we load them. It saves time in the pipeline!\n",
    "transform = transforms.Compose([transforms.ToTensor(),\n",
    "                               transforms.Resize(28),\n",
    "                               transforms.Grayscale(num_output_channels = 1),\n",
    "                               transforms.Normalize(0.67, 0.13)]) #média e desvio padrão das imagens que estão sendo tratadas\n",
    "\n",
    "train_dataset = datasets.ImageFolder(x_train, transform = transform)\n",
    "\n",
    "train_dataset = torch.utils.data.Subset(train_dataset, np.random.choice(len(train_dataset), 200, replace = False))\n",
    "\n",
    "train_loader = torch.utils.data.DataLoader(train_dataset, batch_size = 1, shuffle = True)\n"
   ]
  },
  {
   "cell_type": "code",
   "execution_count": null,
   "metadata": {
    "id": "Zb6q_eAdqP_I"
   },
   "outputs": [],
   "source": []
  }
 ],
 "metadata": {
  "accelerator": "GPU",
  "colab": {
   "provenance": []
  },
  "gpuClass": "standard",
  "kernelspec": {
   "display_name": "Python 3",
   "language": "python",
   "name": "python3"
  },
  "language_info": {
   "codemirror_mode": {
    "name": "ipython",
    "version": 3
   },
   "file_extension": ".py",
   "mimetype": "text/x-python",
   "name": "python",
   "nbconvert_exporter": "python",
   "pygments_lexer": "ipython3",
   "version": "3.6.13"
  }
 },
 "nbformat": 4,
 "nbformat_minor": 1
}
