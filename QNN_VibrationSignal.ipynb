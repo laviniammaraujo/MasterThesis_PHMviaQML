{
 "cells": [
  {
   "cell_type": "code",
   "execution_count": null,
   "metadata": {
    "id": "M1UjBcbpnUDk"
   },
   "outputs": [],
   "source": [
    "import os\n",
    "import scipy\n",
    "import scipy.io as sio\n",
    "import numpy as np\n",
    "import pandas as pd\n",
    "import seaborn as sns\n",
    "sns.set_palette(\"tab10\")"
   ]
  },
  {
   "cell_type": "markdown",
   "metadata": {
    "id": "-Rp1bSytpzvq"
   },
   "source": [
    "## Data Generator\n",
    "\n",
    "1. Download the CWRU dataset [here.](https://engineering.case.edu/bearingdatacenter/download-data-file)\n",
    "1. Download the JNU dataset [here.](http://mad-net.org:8765/explore.html?t=0.5831516555847212)"
   ]
  },
  {
   "cell_type": "markdown",
   "metadata": {
    "id": "MtezCPimmLhw"
   },
   "source": [
    "# Load data"
   ]
  },
  {
   "cell_type": "code",
   "execution_count": null,
   "metadata": {
    "id": "URO628AqQgjI"
   },
   "outputs": [],
   "source": [
    "dataset = np.load('CWRU_Quantum_5.npz')"
   ]
  },
  {
   "cell_type": "code",
   "execution_count": null,
   "metadata": {
    "colab": {
     "base_uri": "https://localhost:8080/"
    },
    "id": "HayTObm5Qf9c",
    "outputId": "936d9c4b-7f9c-44d0-d9c7-3de08b22829b"
   },
   "outputs": [],
   "source": [
    "\n",
    "X = dataset['data']\n",
    "y = dataset['label']\n",
    "\n",
    "print(X)"
   ]
  },
  {
   "cell_type": "code",
   "execution_count": null,
   "metadata": {
    "colab": {
     "base_uri": "https://localhost:8080/"
    },
    "id": "p-LptPS5U2Do",
    "outputId": "0ffcea4e-f208-4eab-9220-e1d29de34a0b"
   },
   "outputs": [],
   "source": [
    "print(X.shape)"
   ]
  },
  {
   "cell_type": "markdown",
   "metadata": {
    "id": "71IScLhRHrNN"
   },
   "source": [
    "## Hybrid Quantum Classical Machine Learning"
   ]
  },
  {
   "cell_type": "code",
   "execution_count": null,
   "metadata": {
    "id": "gXwqvQU2HXuG"
   },
   "outputs": [],
   "source": [
    "import tensorflow as tf\n",
    "import tensorflow_quantum as tfq\n",
    "import cirq  \n",
    "import sympy\n",
    "from sklearn.model_selection import train_test_split\n",
    "from sklearn.preprocessing import MinMaxScaler\n",
    "from sklearn.metrics import confusion_matrix\n",
    "\n",
    "# visualization tools\n",
    "%matplotlib inline\n",
    "import matplotlib.pyplot as plt\n",
    "from cirq.contrib.svg import SVGCircuit #to print the circuit"
   ]
  },
  {
   "cell_type": "markdown",
   "metadata": {
    "id": "1R3ZxASAHXuG"
   },
   "source": [
    "### Classical Data Preprocessing"
   ]
  },
  {
   "cell_type": "code",
   "execution_count": null,
   "metadata": {
    "id": "OIyiR_5-HXuH"
   },
   "outputs": [],
   "source": [
    "# Code a function to perform preprocessing on the classical dataset\n",
    "def prepare_classic_dataset():\n",
    "    \n",
    "    #CWRU = 10 ; JNU = 12\n",
    "    n_modes = 10\n",
    "\n",
    "    x_train, x_test, y_train, y_test = train_test_split(X, y, test_size = 0.2, random_state =1)\n",
    "    \n",
    "    scaler = MinMaxScaler(feature_range = [0, np.pi])                                                  \n",
    "    x_train = scaler.fit_transform(x_train)\n",
    "    x_test = scaler.transform(x_test)                                                                  \n",
    "     \n",
    "    y_train = np.eye(n_modes)[y_train]                                                                      \n",
    "    y_test = np.eye(n_modes)[y_test]\n",
    "\n",
    "    \n",
    "    return x_train, x_test, y_train, y_test\n"
   ]
  },
  {
   "cell_type": "code",
   "execution_count": null,
   "metadata": {
    "colab": {
     "base_uri": "https://localhost:8080/"
    },
    "id": "MHZuKS7ZHXuH",
    "outputId": "6b8e1326-4b4b-41a6-dbd9-41b5a9ebbb4d"
   },
   "outputs": [],
   "source": [
    "# Prepare the classical dataset by calling the previous function\n",
    "\n",
    "x_train, x_test, y_train, y_test = prepare_classic_dataset()\n"
   ]
  },
  {
   "cell_type": "markdown",
   "metadata": {
    "id": "cfwLgphkHXuI"
   },
   "source": [
    "### Quantum Data Preprocessing: Encoding Schemas\n",
    "* Encoding schema: __Angle Encoding__\n",
    "    "
   ]
  },
  {
   "cell_type": "code",
   "execution_count": null,
   "metadata": {
    "id": "y3t9bQWeHXuI"
   },
   "outputs": [],
   "source": [
    "# Code a function to perform Angle Encoding of the preprocssed classical data\n",
    "\n",
    "def prepare_quantum_dataset(x):\n",
    "  \n",
    "    q = cirq.GridQubit.rect(1, len(x)) \n",
    "    \n",
    "    ops = [cirq.ry(2 * x[i]).on(q[i]) for i in range(len(x))]\n",
    "\n",
    "    circuit = cirq.Circuit(ops)\n",
    "    \n",
    "    return circuit\n",
    "    "
   ]
  },
  {
   "cell_type": "code",
   "execution_count": null,
   "metadata": {
    "colab": {
     "base_uri": "https://localhost:8080/",
     "height": 306
    },
    "id": "W8hKdJkAHXuI",
    "outputId": "32fe6f62-cee0-4bc1-97c4-bb138818c34e"
   },
   "outputs": [],
   "source": [
    "# Do the actual quantum dataset preparation from the preprocessed classical data\n",
    "\n",
    "x_train_q = [prepare_quantum_dataset(x) for x in x_train]\n",
    "x_test_q = [prepare_quantum_dataset(x) for x in x_test]\n",
    "\n",
    "print(x_train[0])\n",
    "SVGCircuit(x_train_q[0])\n"
   ]
  },
  {
   "cell_type": "markdown",
   "metadata": {
    "id": "IpLzbze5HXuJ"
   },
   "source": [
    "### Parameterized Quantum Circuit (PQC)"
   ]
  },
  {
   "cell_type": "code",
   "execution_count": null,
   "metadata": {
    "colab": {
     "base_uri": "https://localhost:8080/",
     "height": 291
    },
    "id": "icVbjoxCHXuJ",
    "outputId": "51c22515-5cba-4d1b-f83a-16bcb1ffb669",
    "scrolled": true
   },
   "outputs": [],
   "source": [
    "# Implement the PQC\n",
    "\n",
    "n_layers = 1\n",
    "qubits = X.shape[1]\n",
    "\n",
    "params = sympy.symbols('a b c')  \n",
    "\n",
    "q = cirq.GridQubit.rect(1, qubits)\n",
    "\n",
    "ops = [] \n",
    "\n",
    "'''\n",
    "# Only parameterized rotations architecture\n",
    "for j in range(n_layers):\n",
    "  for i in range(qubits):\n",
    "    ops.append(cirq.ry(params[0]).on(q[i])) \n",
    "    ops.append(cirq.rx(params[1]).on(q[i]))\n",
    "    ops.append(cirq.rz(params[2]).on(q[i]))\n",
    "    #ops.append(cirq.H(params[3]).on(q[i]))\n",
    "\n",
    "'''\n",
    "\n",
    "# Entanglement configuration\n",
    "\n",
    "\n",
    "for j in range(n_layers):\n",
    "  for i in range(qubits):\n",
    "      #Euler rotation\n",
    "      ops.append(cirq.ry(params[0]).on(q[i])) \n",
    "      ops.append(cirq.rz(params[1]).on(q[i]))\n",
    "      ops.append(cirq.ry(params[2]).on(q[i]))\n",
    "\n",
    "\n",
    "  ops.append(cirq.ISWAP(q[0], q[1]))\n",
    "  ops.append(cirq.ISWAP(q[1], q[2]))\n",
    "  ops.append(cirq.ISWAP(q[2], q[3]))\n",
    "  ops.append(cirq.ISWAP(q[3], q[4]))\n",
    "  ops.append(cirq.ISWAP(q[4], q[0]))\n",
    "\n",
    "\n",
    "\n",
    "# two-qubit gate architectures used in the paper:\n",
    "'''\n",
    "  #Cnot two-qubit gate\n",
    "  ops.append(cirq.CNOT(control=q[0], target=q[1]))\n",
    "  ops.append(cirq.CNOT(control=q[1], target=q[2]))\n",
    "  ops.append(cirq.CNOT(control=q[2], target=q[3]))\n",
    "  ops.append(cirq.CNOT(control=q[3], target=q[4]))\n",
    "  ops.append(cirq.CNOT(control=q[4], target=q[0]))\n",
    "\n",
    "'''\n",
    "\n",
    "'''\n",
    "  #CZ two-qubit gate\n",
    "  ops.append(cirq.CZ(q[0], q[1]))\n",
    "  ops.append(cirq.CZ(q[1], q[2]))\n",
    "  ops.append(cirq.CZ(q[2], q[3]))\n",
    "  ops.append(cirq.CZ(q[3], q[4]))\n",
    "  ops.append(cirq.CZ(q[4], q[0]))\n",
    "'''\n",
    "\n",
    "'''\n",
    "    #iSwap two-qubit gate\n",
    "  ops.append(cirq.ISWAP(q[0], q[1]))\n",
    "  ops.append(cirq.ISWAP(q[1], q[2]))\n",
    "  ops.append(cirq.ISWAP(q[2], q[3]))\n",
    "  ops.append(cirq.ISWAP(q[3], q[4]))\n",
    "  ops.append(cirq.ISWAP(q[4], q[0]))\n",
    "\n",
    "'''\n",
    "model_circuit = cirq.Circuit(ops)\n",
    "\n",
    "SVGCircuit(model_circuit) "
   ]
  },
  {
   "cell_type": "markdown",
   "metadata": {
    "id": "YgCBSD19HXuJ"
   },
   "source": [
    "### Measurement, Classical Neural Net and Hybrid Model"
   ]
  },
  {
   "cell_type": "markdown",
   "metadata": {
    "id": "43W_DtTxHXuK"
   },
   "source": [
    "### Training the Hybrid Quantum - Classical Model"
   ]
  },
  {
   "cell_type": "code",
   "execution_count": null,
   "metadata": {
    "id": "AEFlrdJ-MPEi"
   },
   "outputs": [],
   "source": [
    "# define our early stopping\n",
    "\n",
    "es = tf.keras.callbacks.EarlyStopping(\n",
    "    monitor='val_accuracy', mode='max', patience = 30)"
   ]
  },
  {
   "cell_type": "code",
   "execution_count": null,
   "metadata": {
    "colab": {
     "base_uri": "https://localhost:8080/"
    },
    "id": "vhPpXUYMHXuL",
    "outputId": "ed2a0834-8169-4392-eeb1-270cabde164a"
   },
   "outputs": [],
   "source": [
    "# Training\n",
    "\n",
    "from tensorflow.keras import optimizers\n",
    "\n",
    "import time\n",
    "\n",
    "start = time.time()\n",
    "\n",
    "# Neural Network configuration\n",
    "\n",
    "nn = tf.keras.Sequential([tf.keras.layers.Dense(100,activation = 'relu'), \n",
    "tf.keras.layers.Dense(10,activation = 'softmax')]) #sigmoid // softmax\n",
    "\n",
    "circuit_input = tf.keras.Input(shape = (), dtype = tf.string, name = 'circuits_input')\n",
    "\n",
    "measurement_ops = [cirq.Z(q[i]) for i in range(qubits)] \n",
    "\n",
    "circuit_layer = tfq.layers.PQC(model_circuit, measurement_ops)\n",
    "\n",
    "model = tf.keras.Model(inputs = circuit_input, outputs = nn(circuit_layer(circuit_input)))\n",
    "\n",
    "optimizer = tf.keras.optimizers.Adam(learning_rate = 0.01)\n",
    "\n",
    "model.compile(optimizer = optimizer, loss = 'categorical_crossentropy', metrics = ['accuracy'])#,'Precision','recall', 'f1score'])\n",
    "\n",
    "history = model.fit(x = tfq.convert_to_tensor(x_train_q), y = y_train, epochs = 300, verbose = 1, validation_split = 0.1, callbacks=[es])\n",
    "\n",
    "\n",
    "# Test set evaluation\n",
    "loss, acc = model.evaluate(tfq.convert_to_tensor(x_test_q), y_test, verbose = 2)\n",
    "\n",
    "\n",
    "end = time.time()\n",
    "print(\"Run time:\", end - start)\n"
   ]
  },
  {
   "cell_type": "markdown",
   "metadata": {
    "id": "70fXIKUfHXuL"
   },
   "source": [
    "### Testing the Hybrid Quantum - Classical Model"
   ]
  },
  {
   "cell_type": "code",
   "execution_count": null,
   "metadata": {
    "id": "zmc_bLVyHXuL",
    "outputId": "f6f33db6-8428-4f6f-9f76-f811dd2faf6c"
   },
   "outputs": [],
   "source": [
    "# Evaluate the model on the test dataset\n",
    "\n",
    "y_test_ne = np.argmax(y_test, axis = 1)\n",
    "y_test_pred_ne = np.argmax(model.predict(tfq.convert_to_tensor(x_test_q)), axis = 1)\n",
    "\n",
    "cm = confusion_matrix(y_test_ne, y_test_pred_ne)\n",
    "\n",
    "print(cm)"
   ]
  },
  {
   "cell_type": "code",
   "execution_count": null,
   "metadata": {
    "colab": {
     "base_uri": "https://localhost:8080/",
     "height": 307
    },
    "id": "y1zQmlYqHXuM",
    "outputId": "252aa58b-0e58-4de9-d50c-a9dc16df70c0",
    "scrolled": false
   },
   "outputs": [],
   "source": [
    "\n",
    "# Plot the confusion matrix\n",
    "\n",
    "import seaborn as sns\n",
    "\n",
    "ax = sns.heatmap(cm, annot=True, cmap='Blues')\n",
    "\n",
    "ax.set_title('CWRU Classification Case Study: Test Data');\n",
    "ax.set_xlabel('\\nPredicted Label')\n",
    "ax.set_ylabel('True Label');\n",
    "\n",
    "\n",
    "## Display the visualization of the Confusion Matrix.\n",
    "plt.show()\n"
   ]
  },
  {
   "cell_type": "code",
   "execution_count": null,
   "metadata": {},
   "outputs": [],
   "source": [
    "# Classification report (test set)\n",
    "\n",
    "from sklearn.metrics import classification_report\n",
    "\n",
    "class_report_best = classification_report(y_pred = y_test_pred_ne , y_true = y_test_ne, digits = 4)\n",
    "print(class_report_best)\n",
    "runtime = end - start\n",
    "print(runtime)"
   ]
  },
  {
   "cell_type": "code",
   "execution_count": null,
   "metadata": {
    "colab": {
     "base_uri": "https://localhost:8080/",
     "height": 295
    },
    "id": "GJzFF7cUHXuM",
    "outputId": "642e0334-31a4-4d15-84bc-849ea0939dc1"
   },
   "outputs": [],
   "source": [
    "# Loss plot\n",
    "plt.plot(history.history['loss'])\n",
    "plt.plot(history.history['val_loss'])\n",
    "plt.title(\"CWRU Classification Case Study\")\n",
    "plt.xlabel(\"Epochs\")\n",
    "plt.ylabel(\"Loss\")\n",
    "plt.legend(['train', 'validation'], loc='upper right')\n",
    "plt.grid()\n",
    "plt.show()"
   ]
  },
  {
   "cell_type": "code",
   "execution_count": null,
   "metadata": {
    "colab": {
     "base_uri": "https://localhost:8080/",
     "height": 295
    },
    "id": "UgZfu7B1uU-C",
    "outputId": "9357ccf2-22de-4cff-833f-699ed78daa29",
    "scrolled": true
   },
   "outputs": [],
   "source": [
    "# Accuracy plot\n",
    "plt.plot(history.history['accuracy'])\n",
    "plt.plot(history.history['val_accuracy'])\n",
    "plt.title(\"CWRU Classification Case Study\")\n",
    "plt.xlabel(\"Epochs\")\n",
    "plt.ylabel(\"Accuracy\")\n",
    "plt.legend(['train', 'validation'], loc='lower right')\n",
    "plt.grid()\n",
    "plt.show()"
   ]
  }
 ],
 "metadata": {
  "accelerator": "GPU",
  "colab": {
   "provenance": []
  },
  "gpuClass": "standard",
  "kernelspec": {
   "display_name": "Python 3 (ipykernel)",
   "language": "python",
   "name": "python3"
  },
  "language_info": {
   "codemirror_mode": {
    "name": "ipython",
    "version": 3
   },
   "file_extension": ".py",
   "mimetype": "text/x-python",
   "name": "python",
   "nbconvert_exporter": "python",
   "pygments_lexer": "ipython3",
   "version": "3.9.13"
  }
 },
 "nbformat": 4,
 "nbformat_minor": 1
}
