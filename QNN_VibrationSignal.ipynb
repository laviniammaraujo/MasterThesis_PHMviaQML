{
 "cells": [
  {
   "cell_type": "code",
   "execution_count": 12,
   "metadata": {
    "id": "M1UjBcbpnUDk"
   },
   "outputs": [],
   "source": [
    "import os\n",
    "import scipy\n",
    "import scipy.io as sio\n",
    "import numpy as np\n",
    "import pandas as pd\n",
    "import seaborn as sns\n",
    "sns.set_palette(\"tab10\")"
   ]
  },
  {
   "cell_type": "markdown",
   "metadata": {
    "id": "-Rp1bSytpzvq"
   },
   "source": [
    "## Data Generator\n",
    "\n",
    "1. Download the CWRU dataset [here.](https://engineering.case.edu/bearingdatacenter/download-data-file)\n",
    "1. Download the JNU dataset [here.](http://mad-net.org:8765/explore.html?t=0.5831516555847212)"
   ]
  },
  {
   "cell_type": "markdown",
   "metadata": {
    "id": "MtezCPimmLhw"
   },
   "source": [
    "# Load data"
   ]
  },
  {
   "cell_type": "code",
   "execution_count": 13,
   "metadata": {
    "id": "URO628AqQgjI"
   },
   "outputs": [],
   "source": [
    "dataset = np.load('CWRU_Quantum_5.npz')"
   ]
  },
  {
   "cell_type": "code",
   "execution_count": 14,
   "metadata": {
    "colab": {
     "base_uri": "https://localhost:8080/"
    },
    "id": "HayTObm5Qf9c",
    "outputId": "936d9c4b-7f9c-44d0-d9c7-3de08b22829b"
   },
   "outputs": [
    {
     "name": "stdout",
     "output_type": "stream",
     "text": [
      "[[1.24209681e-02 5.61899448e-03 7.59820698e-02 4.16396308e-01\n",
      "  2.17794462e-01]\n",
      " [1.15889513e-02 4.82543586e-03 7.04254191e-02 4.85030769e-01\n",
      "  2.12161846e-01]\n",
      " [1.46434147e-02 5.92844959e-03 7.83765219e-02 4.20568615e-01\n",
      "  2.12370462e-01]\n",
      " ...\n",
      " [4.27066385e-03 2.86213699e-01 5.35006484e-01 6.43608593e+00\n",
      "  3.13621627e+00]\n",
      " [4.59228223e-03 2.91095217e-01 5.39551950e-01 8.88195289e+00\n",
      "  4.94736796e+00]\n",
      " [5.00035291e-03 3.88521474e-01 6.23334964e-01 1.07430534e+01\n",
      "  5.85538034e+00]]\n"
     ]
    }
   ],
   "source": [
    "\n",
    "X = dataset['data']\n",
    "y = dataset['label']\n",
    "\n",
    "print(X)"
   ]
  },
  {
   "cell_type": "code",
   "execution_count": 15,
   "metadata": {
    "colab": {
     "base_uri": "https://localhost:8080/"
    },
    "id": "p-LptPS5U2Do",
    "outputId": "0ffcea4e-f208-4eab-9220-e1d29de34a0b"
   },
   "outputs": [
    {
     "name": "stdout",
     "output_type": "stream",
     "text": [
      "(1305, 5)\n"
     ]
    }
   ],
   "source": [
    "print(X.shape)"
   ]
  },
  {
   "cell_type": "markdown",
   "metadata": {
    "id": "71IScLhRHrNN"
   },
   "source": [
    "## Hybrid Quantum Classical Machine Learning"
   ]
  },
  {
   "cell_type": "code",
   "execution_count": 19,
   "metadata": {
    "id": "gXwqvQU2HXuG"
   },
   "outputs": [],
   "source": [
    "import tensorflow as tf\n",
    "import tensorflow_quantum as tfq\n",
    "import cirq  \n",
    "import sympy\n",
    "from sklearn.model_selection import train_test_split\n",
    "from sklearn.preprocessing import MinMaxScaler\n",
    "from sklearn.metrics import confusion_matrix\n",
    "\n",
    "# visualization tools\n",
    "%matplotlib inline\n",
    "import matplotlib.pyplot as plt\n",
    "from cirq.contrib.svg import SVGCircuit #to print the circuit"
   ]
  },
  {
   "cell_type": "markdown",
   "metadata": {
    "id": "1R3ZxASAHXuG"
   },
   "source": [
    "### Classical Data Preprocessing"
   ]
  },
  {
   "cell_type": "code",
   "execution_count": 26,
   "metadata": {
    "id": "OIyiR_5-HXuH"
   },
   "outputs": [],
   "source": [
    "# Code a function to perform preprocessing on the classical dataset\n",
    "def prepare_classic_dataset():\n",
    "    \n",
    "    #CWRU = 10 ; JNU = 12\n",
    "    n_modes = 10\n",
    "\n",
    "    x_train, x_test, y_train, y_test = train_test_split(X, y, test_size = 0.2, random_state =1)\n",
    "    \n",
    "    scaler = MinMaxScaler(feature_range = [0, np.pi])                                                  \n",
    "    x_train = scaler.fit_transform(x_train)\n",
    "    x_test = scaler.transform(x_test)                                                                  \n",
    "     \n",
    "    y_train = np.eye(n_modes)[y_train]                                                                      \n",
    "    y_test = np.eye(n_modes)[y_test]\n",
    "\n",
    "    \n",
    "    return x_train, x_test, y_train, y_test\n"
   ]
  },
  {
   "cell_type": "code",
   "execution_count": 27,
   "metadata": {
    "colab": {
     "base_uri": "https://localhost:8080/"
    },
    "id": "MHZuKS7ZHXuH",
    "outputId": "6b8e1326-4b4b-41a6-dbd9-41b5a9ebbb4d"
   },
   "outputs": [],
   "source": [
    "# Prepare the classical dataset by calling the previous function\n",
    "\n",
    "x_train, x_test, y_train, y_test = prepare_classic_dataset()\n"
   ]
  },
  {
   "cell_type": "markdown",
   "metadata": {
    "id": "cfwLgphkHXuI"
   },
   "source": [
    "### Quantum Data Preprocessing: Encoding Schemas\n",
    "* Encoding schema: __Angle Encoding__\n",
    "    "
   ]
  },
  {
   "cell_type": "code",
   "execution_count": 28,
   "metadata": {
    "id": "y3t9bQWeHXuI"
   },
   "outputs": [],
   "source": [
    "# Code a function to perform Angle Encoding of the preprocssed classical data\n",
    "\n",
    "def prepare_quantum_dataset(x):\n",
    "  \n",
    "    q = cirq.GridQubit.rect(1, len(x)) \n",
    "    \n",
    "    ops = [cirq.ry(2 * x[i]).on(q[i]) for i in range(len(x))]\n",
    "\n",
    "    circuit = cirq.Circuit(ops)\n",
    "    \n",
    "    return circuit\n",
    "    "
   ]
  },
  {
   "cell_type": "code",
   "execution_count": 32,
   "metadata": {
    "colab": {
     "base_uri": "https://localhost:8080/",
     "height": 306
    },
    "id": "W8hKdJkAHXuI",
    "outputId": "32fe6f62-cee0-4bc1-97c4-bb138818c34e"
   },
   "outputs": [
    {
     "name": "stdout",
     "output_type": "stream",
     "text": [
      "[1.61956594 1.46152269 2.05895785 1.13290918 1.21137884]\n"
     ]
    },
    {
     "data": {
      "image/svg+xml": [
       "<svg xmlns=\"http://www.w3.org/2000/svg\" width=\"204.0153515625\" height=\"250.0\"><line x1=\"32.246796875\" x2=\"174.0153515625\" y1=\"25.0\" y2=\"25.0\" stroke=\"#1967d2\" stroke-width=\"1\" /><line x1=\"32.246796875\" x2=\"174.0153515625\" y1=\"75.0\" y2=\"75.0\" stroke=\"#1967d2\" stroke-width=\"1\" /><line x1=\"32.246796875\" x2=\"174.0153515625\" y1=\"125.0\" y2=\"125.0\" stroke=\"#1967d2\" stroke-width=\"1\" /><line x1=\"32.246796875\" x2=\"174.0153515625\" y1=\"175.0\" y2=\"175.0\" stroke=\"#1967d2\" stroke-width=\"1\" /><line x1=\"32.246796875\" x2=\"174.0153515625\" y1=\"225.0\" y2=\"225.0\" stroke=\"#1967d2\" stroke-width=\"1\" /><rect x=\"10.0\" y=\"5.0\" width=\"44.49359375\" height=\"40\" stroke=\"black\" fill=\"white\" stroke-width=\"0\" /><text x=\"32.246796875\" y=\"25.0\" dominant-baseline=\"middle\" text-anchor=\"middle\" font-size=\"14px\">(0, 0): </text><rect x=\"10.0\" y=\"55.0\" width=\"44.49359375\" height=\"40\" stroke=\"black\" fill=\"white\" stroke-width=\"0\" /><text x=\"32.246796875\" y=\"75.0\" dominant-baseline=\"middle\" text-anchor=\"middle\" font-size=\"14px\">(0, 1): </text><rect x=\"10.0\" y=\"105.0\" width=\"44.49359375\" height=\"40\" stroke=\"black\" fill=\"white\" stroke-width=\"0\" /><text x=\"32.246796875\" y=\"125.0\" dominant-baseline=\"middle\" text-anchor=\"middle\" font-size=\"14px\">(0, 2): </text><rect x=\"10.0\" y=\"155.0\" width=\"44.49359375\" height=\"40\" stroke=\"black\" fill=\"white\" stroke-width=\"0\" /><text x=\"32.246796875\" y=\"175.0\" dominant-baseline=\"middle\" text-anchor=\"middle\" font-size=\"14px\">(0, 3): </text><rect x=\"10.0\" y=\"205.0\" width=\"44.49359375\" height=\"40\" stroke=\"black\" fill=\"white\" stroke-width=\"0\" /><text x=\"32.246796875\" y=\"225.0\" dominant-baseline=\"middle\" text-anchor=\"middle\" font-size=\"14px\">(0, 4): </text><rect x=\"74.49359375\" y=\"5.0\" width=\"79.5217578125\" height=\"40\" stroke=\"black\" fill=\"white\" stroke-width=\"1\" /><text x=\"114.25447265625\" y=\"25.0\" dominant-baseline=\"middle\" text-anchor=\"middle\" font-size=\"14px\">Ry(1.031π)</text><rect x=\"74.49359375\" y=\"55.0\" width=\"79.5217578125\" height=\"40\" stroke=\"black\" fill=\"white\" stroke-width=\"1\" /><text x=\"114.25447265625\" y=\"75.0\" dominant-baseline=\"middle\" text-anchor=\"middle\" font-size=\"14px\">Ry(0.93π)</text><rect x=\"74.49359375\" y=\"105.0\" width=\"79.5217578125\" height=\"40\" stroke=\"black\" fill=\"white\" stroke-width=\"1\" /><text x=\"114.25447265625\" y=\"125.0\" dominant-baseline=\"middle\" text-anchor=\"middle\" font-size=\"14px\">Ry(1.311π)</text><rect x=\"74.49359375\" y=\"155.0\" width=\"79.5217578125\" height=\"40\" stroke=\"black\" fill=\"white\" stroke-width=\"1\" /><text x=\"114.25447265625\" y=\"175.0\" dominant-baseline=\"middle\" text-anchor=\"middle\" font-size=\"14px\">Ry(0.721π)</text><rect x=\"74.49359375\" y=\"205.0\" width=\"79.5217578125\" height=\"40\" stroke=\"black\" fill=\"white\" stroke-width=\"1\" /><text x=\"114.25447265625\" y=\"225.0\" dominant-baseline=\"middle\" text-anchor=\"middle\" font-size=\"14px\">Ry(0.771π)</text></svg>"
      ],
      "text/plain": [
       "<cirq.contrib.svg.svg.SVGCircuit at 0x22207fe9c50>"
      ]
     },
     "execution_count": 32,
     "metadata": {},
     "output_type": "execute_result"
    }
   ],
   "source": [
    "# Do the actual quantum dataset preparation from the preprocessed classical data\n",
    "\n",
    "x_train_q = [prepare_quantum_dataset(x) for x in x_train]\n",
    "x_test_q = [prepare_quantum_dataset(x) for x in x_test]\n",
    "\n",
    "print(x_train[0])\n",
    "SVGCircuit(x_train_q[0])\n"
   ]
  },
  {
   "cell_type": "markdown",
   "metadata": {
    "id": "IpLzbze5HXuJ"
   },
   "source": [
    "### Parameterized Quantum Circuit (PQC)"
   ]
  },
  {
   "cell_type": "code",
   "execution_count": 33,
   "metadata": {
    "colab": {
     "base_uri": "https://localhost:8080/",
     "height": 291
    },
    "id": "icVbjoxCHXuJ",
    "outputId": "51c22515-5cba-4d1b-f83a-16bcb1ffb669",
    "scrolled": true
   },
   "outputs": [
    {
     "data": {
      "image/svg+xml": [
       "<svg xmlns=\"http://www.w3.org/2000/svg\" width=\"624.7528124999999\" height=\"250.0\"><line x1=\"32.246796875\" x2=\"594.7528124999999\" y1=\"25.0\" y2=\"25.0\" stroke=\"#1967d2\" stroke-width=\"1\" /><line x1=\"32.246796875\" x2=\"594.7528124999999\" y1=\"75.0\" y2=\"75.0\" stroke=\"#1967d2\" stroke-width=\"1\" /><line x1=\"32.246796875\" x2=\"594.7528124999999\" y1=\"125.0\" y2=\"125.0\" stroke=\"#1967d2\" stroke-width=\"1\" /><line x1=\"32.246796875\" x2=\"594.7528124999999\" y1=\"175.0\" y2=\"175.0\" stroke=\"#1967d2\" stroke-width=\"1\" /><line x1=\"32.246796875\" x2=\"594.7528124999999\" y1=\"225.0\" y2=\"225.0\" stroke=\"#1967d2\" stroke-width=\"1\" /><line x1=\"284.87123046875\" x2=\"284.87123046875\" y1=\"25.0\" y2=\"75.0\" stroke=\"black\" stroke-width=\"3\" /><line x1=\"351.51158203125\" x2=\"351.51158203125\" y1=\"75.0\" y2=\"125.0\" stroke=\"black\" stroke-width=\"3\" /><line x1=\"418.15193359374996\" x2=\"418.15193359374996\" y1=\"125.0\" y2=\"175.0\" stroke=\"black\" stroke-width=\"3\" /><line x1=\"484.79228515624993\" x2=\"484.79228515624993\" y1=\"175.0\" y2=\"225.0\" stroke=\"black\" stroke-width=\"3\" /><line x1=\"551.4326367187499\" x2=\"551.4326367187499\" y1=\"25.0\" y2=\"225.0\" stroke=\"black\" stroke-width=\"3\" /><rect x=\"10.0\" y=\"5.0\" width=\"44.49359375\" height=\"40\" stroke=\"black\" fill=\"white\" stroke-width=\"0\" /><text x=\"32.246796875\" y=\"25.0\" dominant-baseline=\"middle\" text-anchor=\"middle\" font-size=\"14px\">(0, 0): </text><rect x=\"10.0\" y=\"55.0\" width=\"44.49359375\" height=\"40\" stroke=\"black\" fill=\"white\" stroke-width=\"0\" /><text x=\"32.246796875\" y=\"75.0\" dominant-baseline=\"middle\" text-anchor=\"middle\" font-size=\"14px\">(0, 1): </text><rect x=\"10.0\" y=\"105.0\" width=\"44.49359375\" height=\"40\" stroke=\"black\" fill=\"white\" stroke-width=\"0\" /><text x=\"32.246796875\" y=\"125.0\" dominant-baseline=\"middle\" text-anchor=\"middle\" font-size=\"14px\">(0, 2): </text><rect x=\"10.0\" y=\"155.0\" width=\"44.49359375\" height=\"40\" stroke=\"black\" fill=\"white\" stroke-width=\"0\" /><text x=\"32.246796875\" y=\"175.0\" dominant-baseline=\"middle\" text-anchor=\"middle\" font-size=\"14px\">(0, 3): </text><rect x=\"10.0\" y=\"205.0\" width=\"44.49359375\" height=\"40\" stroke=\"black\" fill=\"white\" stroke-width=\"0\" /><text x=\"32.246796875\" y=\"225.0\" dominant-baseline=\"middle\" text-anchor=\"middle\" font-size=\"14px\">(0, 4): </text><rect x=\"74.49359375\" y=\"5.0\" width=\"42.61453125\" height=\"40\" stroke=\"black\" fill=\"white\" stroke-width=\"1\" /><text x=\"95.800859375\" y=\"25.0\" dominant-baseline=\"middle\" text-anchor=\"middle\" font-size=\"14px\">Ry(a)</text><rect x=\"74.49359375\" y=\"55.0\" width=\"42.61453125\" height=\"40\" stroke=\"black\" fill=\"white\" stroke-width=\"1\" /><text x=\"95.800859375\" y=\"75.0\" dominant-baseline=\"middle\" text-anchor=\"middle\" font-size=\"14px\">Ry(a)</text><rect x=\"74.49359375\" y=\"105.0\" width=\"42.61453125\" height=\"40\" stroke=\"black\" fill=\"white\" stroke-width=\"1\" /><text x=\"95.800859375\" y=\"125.0\" dominant-baseline=\"middle\" text-anchor=\"middle\" font-size=\"14px\">Ry(a)</text><rect x=\"74.49359375\" y=\"155.0\" width=\"42.61453125\" height=\"40\" stroke=\"black\" fill=\"white\" stroke-width=\"1\" /><text x=\"95.800859375\" y=\"175.0\" dominant-baseline=\"middle\" text-anchor=\"middle\" font-size=\"14px\">Ry(a)</text><rect x=\"74.49359375\" y=\"205.0\" width=\"42.61453125\" height=\"40\" stroke=\"black\" fill=\"white\" stroke-width=\"1\" /><text x=\"95.800859375\" y=\"225.0\" dominant-baseline=\"middle\" text-anchor=\"middle\" font-size=\"14px\">Ry(a)</text><rect x=\"137.10812499999997\" y=\"5.0\" width=\"42.61453125\" height=\"40\" stroke=\"black\" fill=\"white\" stroke-width=\"1\" /><text x=\"158.415390625\" y=\"25.0\" dominant-baseline=\"middle\" text-anchor=\"middle\" font-size=\"14px\">Rz(b)</text><rect x=\"137.10812499999997\" y=\"55.0\" width=\"42.61453125\" height=\"40\" stroke=\"black\" fill=\"white\" stroke-width=\"1\" /><text x=\"158.415390625\" y=\"75.0\" dominant-baseline=\"middle\" text-anchor=\"middle\" font-size=\"14px\">Rz(b)</text><rect x=\"137.10812499999997\" y=\"105.0\" width=\"42.61453125\" height=\"40\" stroke=\"black\" fill=\"white\" stroke-width=\"1\" /><text x=\"158.415390625\" y=\"125.0\" dominant-baseline=\"middle\" text-anchor=\"middle\" font-size=\"14px\">Rz(b)</text><rect x=\"137.10812499999997\" y=\"155.0\" width=\"42.61453125\" height=\"40\" stroke=\"black\" fill=\"white\" stroke-width=\"1\" /><text x=\"158.415390625\" y=\"175.0\" dominant-baseline=\"middle\" text-anchor=\"middle\" font-size=\"14px\">Rz(b)</text><rect x=\"137.10812499999997\" y=\"205.0\" width=\"42.61453125\" height=\"40\" stroke=\"black\" fill=\"white\" stroke-width=\"1\" /><text x=\"158.415390625\" y=\"225.0\" dominant-baseline=\"middle\" text-anchor=\"middle\" font-size=\"14px\">Rz(b)</text><rect x=\"199.72265625\" y=\"5.0\" width=\"41.8283984375\" height=\"40\" stroke=\"black\" fill=\"white\" stroke-width=\"1\" /><text x=\"220.63685546875\" y=\"25.0\" dominant-baseline=\"middle\" text-anchor=\"middle\" font-size=\"14px\">Ry(c)</text><rect x=\"199.72265625\" y=\"55.0\" width=\"41.8283984375\" height=\"40\" stroke=\"black\" fill=\"white\" stroke-width=\"1\" /><text x=\"220.63685546875\" y=\"75.0\" dominant-baseline=\"middle\" text-anchor=\"middle\" font-size=\"14px\">Ry(c)</text><rect x=\"199.72265625\" y=\"105.0\" width=\"41.8283984375\" height=\"40\" stroke=\"black\" fill=\"white\" stroke-width=\"1\" /><text x=\"220.63685546875\" y=\"125.0\" dominant-baseline=\"middle\" text-anchor=\"middle\" font-size=\"14px\">Ry(c)</text><rect x=\"199.72265625\" y=\"155.0\" width=\"41.8283984375\" height=\"40\" stroke=\"black\" fill=\"white\" stroke-width=\"1\" /><text x=\"220.63685546875\" y=\"175.0\" dominant-baseline=\"middle\" text-anchor=\"middle\" font-size=\"14px\">Ry(c)</text><rect x=\"199.72265625\" y=\"205.0\" width=\"41.8283984375\" height=\"40\" stroke=\"black\" fill=\"white\" stroke-width=\"1\" /><text x=\"220.63685546875\" y=\"225.0\" dominant-baseline=\"middle\" text-anchor=\"middle\" font-size=\"14px\">Ry(c)</text><rect x=\"261.5510546875\" y=\"5.0\" width=\"46.6403515625\" height=\"40\" stroke=\"black\" fill=\"white\" stroke-width=\"1\" /><text x=\"284.87123046875\" y=\"25.0\" dominant-baseline=\"middle\" text-anchor=\"middle\" font-size=\"14px\">iSwap</text><rect x=\"261.5510546875\" y=\"55.0\" width=\"46.6403515625\" height=\"40\" stroke=\"black\" fill=\"white\" stroke-width=\"1\" /><text x=\"284.87123046875\" y=\"75.0\" dominant-baseline=\"middle\" text-anchor=\"middle\" font-size=\"14px\">iSwap</text><rect x=\"328.19140625\" y=\"55.0\" width=\"46.6403515625\" height=\"40\" stroke=\"black\" fill=\"white\" stroke-width=\"1\" /><text x=\"351.51158203125\" y=\"75.0\" dominant-baseline=\"middle\" text-anchor=\"middle\" font-size=\"14px\">iSwap</text><rect x=\"328.19140625\" y=\"105.0\" width=\"46.6403515625\" height=\"40\" stroke=\"black\" fill=\"white\" stroke-width=\"1\" /><text x=\"351.51158203125\" y=\"125.0\" dominant-baseline=\"middle\" text-anchor=\"middle\" font-size=\"14px\">iSwap</text><rect x=\"394.8317578125\" y=\"105.0\" width=\"46.6403515625\" height=\"40\" stroke=\"black\" fill=\"white\" stroke-width=\"1\" /><text x=\"418.15193359374996\" y=\"125.0\" dominant-baseline=\"middle\" text-anchor=\"middle\" font-size=\"14px\">iSwap</text><rect x=\"394.8317578125\" y=\"155.0\" width=\"46.6403515625\" height=\"40\" stroke=\"black\" fill=\"white\" stroke-width=\"1\" /><text x=\"418.15193359374996\" y=\"175.0\" dominant-baseline=\"middle\" text-anchor=\"middle\" font-size=\"14px\">iSwap</text><rect x=\"461.47210937499995\" y=\"155.0\" width=\"46.6403515625\" height=\"40\" stroke=\"black\" fill=\"white\" stroke-width=\"1\" /><text x=\"484.79228515624993\" y=\"175.0\" dominant-baseline=\"middle\" text-anchor=\"middle\" font-size=\"14px\">iSwap</text><rect x=\"461.47210937499995\" y=\"205.0\" width=\"46.6403515625\" height=\"40\" stroke=\"black\" fill=\"white\" stroke-width=\"1\" /><text x=\"484.79228515624993\" y=\"225.0\" dominant-baseline=\"middle\" text-anchor=\"middle\" font-size=\"14px\">iSwap</text><rect x=\"528.1124609374999\" y=\"205.0\" width=\"46.6403515625\" height=\"40\" stroke=\"black\" fill=\"white\" stroke-width=\"1\" /><text x=\"551.4326367187499\" y=\"225.0\" dominant-baseline=\"middle\" text-anchor=\"middle\" font-size=\"14px\">iSwap</text><rect x=\"528.1124609374999\" y=\"5.0\" width=\"46.6403515625\" height=\"40\" stroke=\"black\" fill=\"white\" stroke-width=\"1\" /><text x=\"551.4326367187499\" y=\"25.0\" dominant-baseline=\"middle\" text-anchor=\"middle\" font-size=\"14px\">iSwap</text></svg>"
      ],
      "text/plain": [
       "<cirq.contrib.svg.svg.SVGCircuit at 0x22207a56d30>"
      ]
     },
     "execution_count": 33,
     "metadata": {},
     "output_type": "execute_result"
    }
   ],
   "source": [
    "# Implement the PQC\n",
    "\n",
    "n_layers = 1\n",
    "qubits = X.shape[1]\n",
    "\n",
    "params = sympy.symbols('a b c')  \n",
    "\n",
    "q = cirq.GridQubit.rect(1, qubits)\n",
    "\n",
    "ops = [] \n",
    "\n",
    "'''\n",
    "# Only parameterized rotations architecture\n",
    "for j in range(n_layers):\n",
    "  for i in range(qubits):\n",
    "    ops.append(cirq.ry(params[0]).on(q[i])) \n",
    "    ops.append(cirq.rx(params[1]).on(q[i]))\n",
    "    ops.append(cirq.rz(params[2]).on(q[i]))\n",
    "    #ops.append(cirq.H(params[3]).on(q[i]))\n",
    "\n",
    "'''\n",
    "\n",
    "# Entanglement configuration\n",
    "\n",
    "\n",
    "for j in range(n_layers):\n",
    "  for i in range(qubits):\n",
    "      #Euler rotation\n",
    "      ops.append(cirq.ry(params[0]).on(q[i])) \n",
    "      ops.append(cirq.rz(params[1]).on(q[i]))\n",
    "      ops.append(cirq.ry(params[2]).on(q[i]))\n",
    "\n",
    "\n",
    "  ops.append(cirq.ISWAP(q[0], q[1]))\n",
    "  ops.append(cirq.ISWAP(q[1], q[2]))\n",
    "  ops.append(cirq.ISWAP(q[2], q[3]))\n",
    "  ops.append(cirq.ISWAP(q[3], q[4]))\n",
    "  ops.append(cirq.ISWAP(q[4], q[0]))\n",
    "\n",
    "\n",
    "\n",
    "# two-qubit gate architectures used in the paper:\n",
    "'''\n",
    "  #Cnot two-qubit gate\n",
    "  ops.append(cirq.CNOT(control=q[0], target=q[1]))\n",
    "  ops.append(cirq.CNOT(control=q[1], target=q[2]))\n",
    "  ops.append(cirq.CNOT(control=q[2], target=q[3]))\n",
    "  ops.append(cirq.CNOT(control=q[3], target=q[4]))\n",
    "  ops.append(cirq.CNOT(control=q[4], target=q[0]))\n",
    "\n",
    "'''\n",
    "\n",
    "'''\n",
    "  #CZ two-qubit gate\n",
    "  ops.append(cirq.CZ(q[0], q[1]))\n",
    "  ops.append(cirq.CZ(q[1], q[2]))\n",
    "  ops.append(cirq.CZ(q[2], q[3]))\n",
    "  ops.append(cirq.CZ(q[3], q[4]))\n",
    "  ops.append(cirq.CZ(q[4], q[0]))\n",
    "'''\n",
    "\n",
    "'''\n",
    "    #iSwap two-qubit gate\n",
    "  ops.append(cirq.ISWAP(q[0], q[1]))\n",
    "  ops.append(cirq.ISWAP(q[1], q[2]))\n",
    "  ops.append(cirq.ISWAP(q[2], q[3]))\n",
    "  ops.append(cirq.ISWAP(q[3], q[4]))\n",
    "  ops.append(cirq.ISWAP(q[4], q[0]))\n",
    "\n",
    "'''\n",
    "model_circuit = cirq.Circuit(ops)\n",
    "\n",
    "SVGCircuit(model_circuit) "
   ]
  },
  {
   "cell_type": "markdown",
   "metadata": {
    "id": "YgCBSD19HXuJ"
   },
   "source": [
    "### Measurement, Classical Neural Net and Hybrid Model"
   ]
  },
  {
   "cell_type": "markdown",
   "metadata": {
    "id": "43W_DtTxHXuK"
   },
   "source": [
    "### Training the Hybrid Quantum - Classical Model"
   ]
  },
  {
   "cell_type": "code",
   "execution_count": 34,
   "metadata": {
    "id": "AEFlrdJ-MPEi"
   },
   "outputs": [],
   "source": [
    "# define our early stopping\n",
    "\n",
    "es = tf.keras.callbacks.EarlyStopping(\n",
    "    monitor='val_accuracy', mode='max', patience = 30)"
   ]
  },
  {
   "cell_type": "code",
   "execution_count": 35,
   "metadata": {
    "colab": {
     "base_uri": "https://localhost:8080/"
    },
    "id": "vhPpXUYMHXuL",
    "outputId": "ed2a0834-8169-4392-eeb1-270cabde164a"
   },
   "outputs": [
    {
     "name": "stdout",
     "output_type": "stream",
     "text": [
      "Train on 939 samples, validate on 105 samples\n",
      "Epoch 1/300\n",
      "939/939 [==============================] - 1s 2ms/sample - loss: 1.5476 - accuracy: 0.4590 - val_loss: 1.0619 - val_accuracy: 0.5810\n",
      "Epoch 2/300\n",
      "939/939 [==============================] - 0s 357us/sample - loss: 0.9128 - accuracy: 0.6858 - val_loss: 0.7888 - val_accuracy: 0.7333\n",
      "Epoch 3/300\n",
      "939/939 [==============================] - 0s 373us/sample - loss: 0.6782 - accuracy: 0.7923 - val_loss: 0.6985 - val_accuracy: 0.7048\n",
      "Epoch 4/300\n",
      "939/939 [==============================] - 0s 359us/sample - loss: 0.5034 - accuracy: 0.8392 - val_loss: 0.5712 - val_accuracy: 0.7524\n",
      "Epoch 5/300\n",
      "939/939 [==============================] - 0s 353us/sample - loss: 0.4185 - accuracy: 0.8605 - val_loss: 0.4862 - val_accuracy: 0.8190\n",
      "Epoch 6/300\n",
      "939/939 [==============================] - 0s 366us/sample - loss: 0.3494 - accuracy: 0.8924 - val_loss: 0.4395 - val_accuracy: 0.8667\n",
      "Epoch 7/300\n",
      "939/939 [==============================] - 0s 361us/sample - loss: 0.3167 - accuracy: 0.8903 - val_loss: 0.4614 - val_accuracy: 0.8762\n",
      "Epoch 8/300\n",
      "939/939 [==============================] - 0s 370us/sample - loss: 0.2799 - accuracy: 0.9255 - val_loss: 0.3397 - val_accuracy: 0.9048\n",
      "Epoch 9/300\n",
      "939/939 [==============================] - 0s 367us/sample - loss: 0.2384 - accuracy: 0.9436 - val_loss: 0.3327 - val_accuracy: 0.8952\n",
      "Epoch 10/300\n",
      "939/939 [==============================] - 0s 365us/sample - loss: 0.2413 - accuracy: 0.9265 - val_loss: 0.3038 - val_accuracy: 0.8857\n",
      "Epoch 11/300\n",
      "939/939 [==============================] - 0s 363us/sample - loss: 0.2004 - accuracy: 0.9478 - val_loss: 0.2886 - val_accuracy: 0.9048\n",
      "Epoch 12/300\n",
      "939/939 [==============================] - 0s 367us/sample - loss: 0.1921 - accuracy: 0.9468 - val_loss: 0.2695 - val_accuracy: 0.9143\n",
      "Epoch 13/300\n",
      "939/939 [==============================] - 0s 357us/sample - loss: 0.1758 - accuracy: 0.9489 - val_loss: 0.2858 - val_accuracy: 0.8762\n",
      "Epoch 14/300\n",
      "939/939 [==============================] - 0s 366us/sample - loss: 0.1666 - accuracy: 0.9457 - val_loss: 0.2362 - val_accuracy: 0.9048\n",
      "Epoch 15/300\n",
      "939/939 [==============================] - 0s 356us/sample - loss: 0.1746 - accuracy: 0.9446 - val_loss: 0.2368 - val_accuracy: 0.9143\n",
      "Epoch 16/300\n",
      "939/939 [==============================] - 0s 369us/sample - loss: 0.1564 - accuracy: 0.9499 - val_loss: 0.2292 - val_accuracy: 0.9143\n",
      "Epoch 17/300\n",
      "939/939 [==============================] - 0s 363us/sample - loss: 0.1456 - accuracy: 0.9606 - val_loss: 0.2095 - val_accuracy: 0.9429\n",
      "Epoch 18/300\n",
      "939/939 [==============================] - 0s 366us/sample - loss: 0.1404 - accuracy: 0.9585 - val_loss: 0.1998 - val_accuracy: 0.9333\n",
      "Epoch 19/300\n",
      "939/939 [==============================] - 0s 374us/sample - loss: 0.1257 - accuracy: 0.9595 - val_loss: 0.2651 - val_accuracy: 0.9048\n",
      "Epoch 20/300\n",
      "939/939 [==============================] - 0s 357us/sample - loss: 0.1257 - accuracy: 0.9595 - val_loss: 0.2045 - val_accuracy: 0.9333\n",
      "Epoch 21/300\n",
      "672/939 [====================>.........] - ETA: 0s - loss: 0.1531 - accuracy: 0.9479WARNING:tensorflow:Early stopping conditioned on metric `val_accuracy` which is not available. Available metrics are: loss,accuracy\n",
      "672/939 [====================>.........] - ETA: 0s - loss: 0.1530 - accuracy: 0.9479"
     ]
    },
    {
     "ename": "KeyboardInterrupt",
     "evalue": "",
     "output_type": "error",
     "traceback": [
      "\u001b[1;31m---------------------------------------------------------------------------\u001b[0m",
      "\u001b[1;31mKeyboardInterrupt\u001b[0m                         Traceback (most recent call last)",
      "\u001b[1;32m<ipython-input-35-bddb86d13bbd>\u001b[0m in \u001b[0;36m<module>\u001b[1;34m\u001b[0m\n\u001b[0;32m     25\u001b[0m \u001b[0mmodel\u001b[0m\u001b[1;33m.\u001b[0m\u001b[0mcompile\u001b[0m\u001b[1;33m(\u001b[0m\u001b[0moptimizer\u001b[0m \u001b[1;33m=\u001b[0m \u001b[0moptimizer\u001b[0m\u001b[1;33m,\u001b[0m \u001b[0mloss\u001b[0m \u001b[1;33m=\u001b[0m \u001b[1;34m'categorical_crossentropy'\u001b[0m\u001b[1;33m,\u001b[0m \u001b[0mmetrics\u001b[0m \u001b[1;33m=\u001b[0m \u001b[1;33m[\u001b[0m\u001b[1;34m'accuracy'\u001b[0m\u001b[1;33m]\u001b[0m\u001b[1;33m)\u001b[0m\u001b[1;31m#,'Precision','recall', 'f1score'])\u001b[0m\u001b[1;33m\u001b[0m\u001b[1;33m\u001b[0m\u001b[0m\n\u001b[0;32m     26\u001b[0m \u001b[1;33m\u001b[0m\u001b[0m\n\u001b[1;32m---> 27\u001b[1;33m \u001b[0mhistory\u001b[0m \u001b[1;33m=\u001b[0m \u001b[0mmodel\u001b[0m\u001b[1;33m.\u001b[0m\u001b[0mfit\u001b[0m\u001b[1;33m(\u001b[0m\u001b[0mx\u001b[0m \u001b[1;33m=\u001b[0m \u001b[0mtfq\u001b[0m\u001b[1;33m.\u001b[0m\u001b[0mconvert_to_tensor\u001b[0m\u001b[1;33m(\u001b[0m\u001b[0mx_train_q\u001b[0m\u001b[1;33m)\u001b[0m\u001b[1;33m,\u001b[0m \u001b[0my\u001b[0m \u001b[1;33m=\u001b[0m \u001b[0my_train\u001b[0m\u001b[1;33m,\u001b[0m \u001b[0mepochs\u001b[0m \u001b[1;33m=\u001b[0m \u001b[1;36m300\u001b[0m\u001b[1;33m,\u001b[0m \u001b[0mverbose\u001b[0m \u001b[1;33m=\u001b[0m \u001b[1;36m1\u001b[0m\u001b[1;33m,\u001b[0m \u001b[0mvalidation_split\u001b[0m \u001b[1;33m=\u001b[0m \u001b[1;36m0.1\u001b[0m\u001b[1;33m,\u001b[0m \u001b[0mcallbacks\u001b[0m\u001b[1;33m=\u001b[0m\u001b[1;33m[\u001b[0m\u001b[0mes\u001b[0m\u001b[1;33m]\u001b[0m\u001b[1;33m)\u001b[0m\u001b[1;33m\u001b[0m\u001b[1;33m\u001b[0m\u001b[0m\n\u001b[0m\u001b[0;32m     28\u001b[0m \u001b[1;33m\u001b[0m\u001b[0m\n\u001b[0;32m     29\u001b[0m \u001b[1;33m\u001b[0m\u001b[0m\n",
      "\u001b[1;32mC:\\Anaconda\\envs\\tensorflow_quantum\\lib\\site-packages\\tensorflow_core\\python\\keras\\engine\\training.py\u001b[0m in \u001b[0;36mfit\u001b[1;34m(self, x, y, batch_size, epochs, verbose, callbacks, validation_split, validation_data, shuffle, class_weight, sample_weight, initial_epoch, steps_per_epoch, validation_steps, validation_freq, max_queue_size, workers, use_multiprocessing, **kwargs)\u001b[0m\n\u001b[0;32m    817\u001b[0m         \u001b[0mmax_queue_size\u001b[0m\u001b[1;33m=\u001b[0m\u001b[0mmax_queue_size\u001b[0m\u001b[1;33m,\u001b[0m\u001b[1;33m\u001b[0m\u001b[1;33m\u001b[0m\u001b[0m\n\u001b[0;32m    818\u001b[0m         \u001b[0mworkers\u001b[0m\u001b[1;33m=\u001b[0m\u001b[0mworkers\u001b[0m\u001b[1;33m,\u001b[0m\u001b[1;33m\u001b[0m\u001b[1;33m\u001b[0m\u001b[0m\n\u001b[1;32m--> 819\u001b[1;33m         use_multiprocessing=use_multiprocessing)\n\u001b[0m\u001b[0;32m    820\u001b[0m \u001b[1;33m\u001b[0m\u001b[0m\n\u001b[0;32m    821\u001b[0m   def evaluate(self,\n",
      "\u001b[1;32mC:\\Anaconda\\envs\\tensorflow_quantum\\lib\\site-packages\\tensorflow_core\\python\\keras\\engine\\training_v2.py\u001b[0m in \u001b[0;36mfit\u001b[1;34m(self, model, x, y, batch_size, epochs, verbose, callbacks, validation_split, validation_data, shuffle, class_weight, sample_weight, initial_epoch, steps_per_epoch, validation_steps, validation_freq, max_queue_size, workers, use_multiprocessing, **kwargs)\u001b[0m\n\u001b[0;32m    340\u001b[0m                 \u001b[0mmode\u001b[0m\u001b[1;33m=\u001b[0m\u001b[0mModeKeys\u001b[0m\u001b[1;33m.\u001b[0m\u001b[0mTRAIN\u001b[0m\u001b[1;33m,\u001b[0m\u001b[1;33m\u001b[0m\u001b[1;33m\u001b[0m\u001b[0m\n\u001b[0;32m    341\u001b[0m                 \u001b[0mtraining_context\u001b[0m\u001b[1;33m=\u001b[0m\u001b[0mtraining_context\u001b[0m\u001b[1;33m,\u001b[0m\u001b[1;33m\u001b[0m\u001b[1;33m\u001b[0m\u001b[0m\n\u001b[1;32m--> 342\u001b[1;33m                 total_epochs=epochs)\n\u001b[0m\u001b[0;32m    343\u001b[0m             \u001b[0mcbks\u001b[0m\u001b[1;33m.\u001b[0m\u001b[0mmake_logs\u001b[0m\u001b[1;33m(\u001b[0m\u001b[0mmodel\u001b[0m\u001b[1;33m,\u001b[0m \u001b[0mepoch_logs\u001b[0m\u001b[1;33m,\u001b[0m \u001b[0mtraining_result\u001b[0m\u001b[1;33m,\u001b[0m \u001b[0mModeKeys\u001b[0m\u001b[1;33m.\u001b[0m\u001b[0mTRAIN\u001b[0m\u001b[1;33m)\u001b[0m\u001b[1;33m\u001b[0m\u001b[1;33m\u001b[0m\u001b[0m\n\u001b[0;32m    344\u001b[0m \u001b[1;33m\u001b[0m\u001b[0m\n",
      "\u001b[1;32mC:\\Anaconda\\envs\\tensorflow_quantum\\lib\\site-packages\\tensorflow_core\\python\\keras\\engine\\training_v2.py\u001b[0m in \u001b[0;36mrun_one_epoch\u001b[1;34m(model, iterator, execution_function, dataset_size, batch_size, strategy, steps_per_epoch, num_samples, mode, training_context, total_epochs)\u001b[0m\n\u001b[0;32m    179\u001b[0m             batch_end=step * batch_size + current_batch_size)\n\u001b[0;32m    180\u001b[0m       \u001b[0mcbks\u001b[0m\u001b[1;33m.\u001b[0m\u001b[0mmake_logs\u001b[0m\u001b[1;33m(\u001b[0m\u001b[0mmodel\u001b[0m\u001b[1;33m,\u001b[0m \u001b[0mbatch_logs\u001b[0m\u001b[1;33m,\u001b[0m \u001b[0mbatch_outs\u001b[0m\u001b[1;33m,\u001b[0m \u001b[0mmode\u001b[0m\u001b[1;33m)\u001b[0m\u001b[1;33m\u001b[0m\u001b[1;33m\u001b[0m\u001b[0m\n\u001b[1;32m--> 181\u001b[1;33m       \u001b[0mstep\u001b[0m \u001b[1;33m+=\u001b[0m \u001b[1;36m1\u001b[0m\u001b[1;33m\u001b[0m\u001b[1;33m\u001b[0m\u001b[0m\n\u001b[0m\u001b[0;32m    182\u001b[0m \u001b[1;33m\u001b[0m\u001b[0m\n\u001b[0;32m    183\u001b[0m     \u001b[1;32mif\u001b[0m \u001b[0mcallbacks\u001b[0m\u001b[1;33m.\u001b[0m\u001b[0mmodel\u001b[0m\u001b[1;33m.\u001b[0m\u001b[0mstop_training\u001b[0m\u001b[1;33m:\u001b[0m\u001b[1;33m\u001b[0m\u001b[1;33m\u001b[0m\u001b[0m\n",
      "\u001b[1;32mC:\\Anaconda\\envs\\tensorflow_quantum\\lib\\contextlib.py\u001b[0m in \u001b[0;36m__exit__\u001b[1;34m(self, type, value, traceback)\u001b[0m\n\u001b[0;32m     86\u001b[0m         \u001b[1;32mif\u001b[0m \u001b[0mtype\u001b[0m \u001b[1;32mis\u001b[0m \u001b[1;32mNone\u001b[0m\u001b[1;33m:\u001b[0m\u001b[1;33m\u001b[0m\u001b[1;33m\u001b[0m\u001b[0m\n\u001b[0;32m     87\u001b[0m             \u001b[1;32mtry\u001b[0m\u001b[1;33m:\u001b[0m\u001b[1;33m\u001b[0m\u001b[1;33m\u001b[0m\u001b[0m\n\u001b[1;32m---> 88\u001b[1;33m                 \u001b[0mnext\u001b[0m\u001b[1;33m(\u001b[0m\u001b[0mself\u001b[0m\u001b[1;33m.\u001b[0m\u001b[0mgen\u001b[0m\u001b[1;33m)\u001b[0m\u001b[1;33m\u001b[0m\u001b[1;33m\u001b[0m\u001b[0m\n\u001b[0m\u001b[0;32m     89\u001b[0m             \u001b[1;32mexcept\u001b[0m \u001b[0mStopIteration\u001b[0m\u001b[1;33m:\u001b[0m\u001b[1;33m\u001b[0m\u001b[1;33m\u001b[0m\u001b[0m\n\u001b[0;32m     90\u001b[0m                 \u001b[1;32mreturn\u001b[0m \u001b[1;32mFalse\u001b[0m\u001b[1;33m\u001b[0m\u001b[1;33m\u001b[0m\u001b[0m\n",
      "\u001b[1;32mC:\\Anaconda\\envs\\tensorflow_quantum\\lib\\site-packages\\tensorflow_core\\python\\keras\\engine\\training_v2.py\u001b[0m in \u001b[0;36mon_batch\u001b[1;34m(self, step, mode, size)\u001b[0m\n\u001b[0;32m    787\u001b[0m           self.callbacks._call_batch_hook(\n\u001b[0;32m    788\u001b[0m               mode, 'end', step, batch_logs)\n\u001b[1;32m--> 789\u001b[1;33m           \u001b[0mself\u001b[0m\u001b[1;33m.\u001b[0m\u001b[0mprogbar\u001b[0m\u001b[1;33m.\u001b[0m\u001b[0mon_batch_end\u001b[0m\u001b[1;33m(\u001b[0m\u001b[0mstep\u001b[0m\u001b[1;33m,\u001b[0m \u001b[0mbatch_logs\u001b[0m\u001b[1;33m)\u001b[0m\u001b[1;33m\u001b[0m\u001b[1;33m\u001b[0m\u001b[0m\n\u001b[0m",
      "\u001b[1;32mC:\\Anaconda\\envs\\tensorflow_quantum\\lib\\site-packages\\tensorflow_core\\python\\keras\\callbacks.py\u001b[0m in \u001b[0;36mon_batch_end\u001b[1;34m(self, batch, logs)\u001b[0m\n\u001b[0;32m    779\u001b[0m     \u001b[1;31m# will be handled by on_epoch_end.\u001b[0m\u001b[1;33m\u001b[0m\u001b[1;33m\u001b[0m\u001b[1;33m\u001b[0m\u001b[0m\n\u001b[0;32m    780\u001b[0m     \u001b[1;32mif\u001b[0m \u001b[0mself\u001b[0m\u001b[1;33m.\u001b[0m\u001b[0mverbose\u001b[0m \u001b[1;32mand\u001b[0m \u001b[1;33m(\u001b[0m\u001b[0mself\u001b[0m\u001b[1;33m.\u001b[0m\u001b[0mtarget\u001b[0m \u001b[1;32mis\u001b[0m \u001b[1;32mNone\u001b[0m \u001b[1;32mor\u001b[0m \u001b[0mself\u001b[0m\u001b[1;33m.\u001b[0m\u001b[0mseen\u001b[0m \u001b[1;33m<\u001b[0m \u001b[0mself\u001b[0m\u001b[1;33m.\u001b[0m\u001b[0mtarget\u001b[0m\u001b[1;33m)\u001b[0m\u001b[1;33m:\u001b[0m\u001b[1;33m\u001b[0m\u001b[1;33m\u001b[0m\u001b[0m\n\u001b[1;32m--> 781\u001b[1;33m       \u001b[0mself\u001b[0m\u001b[1;33m.\u001b[0m\u001b[0mprogbar\u001b[0m\u001b[1;33m.\u001b[0m\u001b[0mupdate\u001b[0m\u001b[1;33m(\u001b[0m\u001b[0mself\u001b[0m\u001b[1;33m.\u001b[0m\u001b[0mseen\u001b[0m\u001b[1;33m,\u001b[0m \u001b[0mself\u001b[0m\u001b[1;33m.\u001b[0m\u001b[0mlog_values\u001b[0m\u001b[1;33m)\u001b[0m\u001b[1;33m\u001b[0m\u001b[1;33m\u001b[0m\u001b[0m\n\u001b[0m\u001b[0;32m    782\u001b[0m \u001b[1;33m\u001b[0m\u001b[0m\n\u001b[0;32m    783\u001b[0m   \u001b[1;32mdef\u001b[0m \u001b[0mon_epoch_end\u001b[0m\u001b[1;33m(\u001b[0m\u001b[0mself\u001b[0m\u001b[1;33m,\u001b[0m \u001b[0mepoch\u001b[0m\u001b[1;33m,\u001b[0m \u001b[0mlogs\u001b[0m\u001b[1;33m=\u001b[0m\u001b[1;32mNone\u001b[0m\u001b[1;33m)\u001b[0m\u001b[1;33m:\u001b[0m\u001b[1;33m\u001b[0m\u001b[1;33m\u001b[0m\u001b[0m\n",
      "\u001b[1;32mC:\\Anaconda\\envs\\tensorflow_quantum\\lib\\site-packages\\tensorflow_core\\python\\keras\\utils\\generic_utils.py\u001b[0m in \u001b[0;36mupdate\u001b[1;34m(self, current, values)\u001b[0m\n\u001b[0;32m    573\u001b[0m \u001b[1;33m\u001b[0m\u001b[0m\n\u001b[0;32m    574\u001b[0m       \u001b[0msys\u001b[0m\u001b[1;33m.\u001b[0m\u001b[0mstdout\u001b[0m\u001b[1;33m.\u001b[0m\u001b[0mwrite\u001b[0m\u001b[1;33m(\u001b[0m\u001b[0minfo\u001b[0m\u001b[1;33m)\u001b[0m\u001b[1;33m\u001b[0m\u001b[1;33m\u001b[0m\u001b[0m\n\u001b[1;32m--> 575\u001b[1;33m       \u001b[0msys\u001b[0m\u001b[1;33m.\u001b[0m\u001b[0mstdout\u001b[0m\u001b[1;33m.\u001b[0m\u001b[0mflush\u001b[0m\u001b[1;33m(\u001b[0m\u001b[1;33m)\u001b[0m\u001b[1;33m\u001b[0m\u001b[1;33m\u001b[0m\u001b[0m\n\u001b[0m\u001b[0;32m    576\u001b[0m \u001b[1;33m\u001b[0m\u001b[0m\n\u001b[0;32m    577\u001b[0m     \u001b[1;32melif\u001b[0m \u001b[0mself\u001b[0m\u001b[1;33m.\u001b[0m\u001b[0mverbose\u001b[0m \u001b[1;33m==\u001b[0m \u001b[1;36m2\u001b[0m\u001b[1;33m:\u001b[0m\u001b[1;33m\u001b[0m\u001b[1;33m\u001b[0m\u001b[0m\n",
      "\u001b[1;32mC:\\Anaconda\\envs\\tensorflow_quantum\\lib\\site-packages\\ipykernel\\iostream.py\u001b[0m in \u001b[0;36mflush\u001b[1;34m(self)\u001b[0m\n\u001b[0;32m    348\u001b[0m                 \u001b[0mself\u001b[0m\u001b[1;33m.\u001b[0m\u001b[0mpub_thread\u001b[0m\u001b[1;33m.\u001b[0m\u001b[0mschedule\u001b[0m\u001b[1;33m(\u001b[0m\u001b[0mevt\u001b[0m\u001b[1;33m.\u001b[0m\u001b[0mset\u001b[0m\u001b[1;33m)\u001b[0m\u001b[1;33m\u001b[0m\u001b[1;33m\u001b[0m\u001b[0m\n\u001b[0;32m    349\u001b[0m                 \u001b[1;31m# and give a timeout to avoid\u001b[0m\u001b[1;33m\u001b[0m\u001b[1;33m\u001b[0m\u001b[1;33m\u001b[0m\u001b[0m\n\u001b[1;32m--> 350\u001b[1;33m                 \u001b[1;32mif\u001b[0m \u001b[1;32mnot\u001b[0m \u001b[0mevt\u001b[0m\u001b[1;33m.\u001b[0m\u001b[0mwait\u001b[0m\u001b[1;33m(\u001b[0m\u001b[0mself\u001b[0m\u001b[1;33m.\u001b[0m\u001b[0mflush_timeout\u001b[0m\u001b[1;33m)\u001b[0m\u001b[1;33m:\u001b[0m\u001b[1;33m\u001b[0m\u001b[1;33m\u001b[0m\u001b[0m\n\u001b[0m\u001b[0;32m    351\u001b[0m                     \u001b[1;31m# write directly to __stderr__ instead of warning because\u001b[0m\u001b[1;33m\u001b[0m\u001b[1;33m\u001b[0m\u001b[1;33m\u001b[0m\u001b[0m\n\u001b[0;32m    352\u001b[0m                     \u001b[1;31m# if this is happening sys.stderr may be the problem.\u001b[0m\u001b[1;33m\u001b[0m\u001b[1;33m\u001b[0m\u001b[1;33m\u001b[0m\u001b[0m\n",
      "\u001b[1;32mC:\\Anaconda\\envs\\tensorflow_quantum\\lib\\threading.py\u001b[0m in \u001b[0;36mwait\u001b[1;34m(self, timeout)\u001b[0m\n\u001b[0;32m    549\u001b[0m             \u001b[0msignaled\u001b[0m \u001b[1;33m=\u001b[0m \u001b[0mself\u001b[0m\u001b[1;33m.\u001b[0m\u001b[0m_flag\u001b[0m\u001b[1;33m\u001b[0m\u001b[1;33m\u001b[0m\u001b[0m\n\u001b[0;32m    550\u001b[0m             \u001b[1;32mif\u001b[0m \u001b[1;32mnot\u001b[0m \u001b[0msignaled\u001b[0m\u001b[1;33m:\u001b[0m\u001b[1;33m\u001b[0m\u001b[1;33m\u001b[0m\u001b[0m\n\u001b[1;32m--> 551\u001b[1;33m                 \u001b[0msignaled\u001b[0m \u001b[1;33m=\u001b[0m \u001b[0mself\u001b[0m\u001b[1;33m.\u001b[0m\u001b[0m_cond\u001b[0m\u001b[1;33m.\u001b[0m\u001b[0mwait\u001b[0m\u001b[1;33m(\u001b[0m\u001b[0mtimeout\u001b[0m\u001b[1;33m)\u001b[0m\u001b[1;33m\u001b[0m\u001b[1;33m\u001b[0m\u001b[0m\n\u001b[0m\u001b[0;32m    552\u001b[0m             \u001b[1;32mreturn\u001b[0m \u001b[0msignaled\u001b[0m\u001b[1;33m\u001b[0m\u001b[1;33m\u001b[0m\u001b[0m\n\u001b[0;32m    553\u001b[0m \u001b[1;33m\u001b[0m\u001b[0m\n",
      "\u001b[1;32mC:\\Anaconda\\envs\\tensorflow_quantum\\lib\\threading.py\u001b[0m in \u001b[0;36mwait\u001b[1;34m(self, timeout)\u001b[0m\n\u001b[0;32m    297\u001b[0m             \u001b[1;32melse\u001b[0m\u001b[1;33m:\u001b[0m\u001b[1;33m\u001b[0m\u001b[1;33m\u001b[0m\u001b[0m\n\u001b[0;32m    298\u001b[0m                 \u001b[1;32mif\u001b[0m \u001b[0mtimeout\u001b[0m \u001b[1;33m>\u001b[0m \u001b[1;36m0\u001b[0m\u001b[1;33m:\u001b[0m\u001b[1;33m\u001b[0m\u001b[1;33m\u001b[0m\u001b[0m\n\u001b[1;32m--> 299\u001b[1;33m                     \u001b[0mgotit\u001b[0m \u001b[1;33m=\u001b[0m \u001b[0mwaiter\u001b[0m\u001b[1;33m.\u001b[0m\u001b[0macquire\u001b[0m\u001b[1;33m(\u001b[0m\u001b[1;32mTrue\u001b[0m\u001b[1;33m,\u001b[0m \u001b[0mtimeout\u001b[0m\u001b[1;33m)\u001b[0m\u001b[1;33m\u001b[0m\u001b[1;33m\u001b[0m\u001b[0m\n\u001b[0m\u001b[0;32m    300\u001b[0m                 \u001b[1;32melse\u001b[0m\u001b[1;33m:\u001b[0m\u001b[1;33m\u001b[0m\u001b[1;33m\u001b[0m\u001b[0m\n\u001b[0;32m    301\u001b[0m                     \u001b[0mgotit\u001b[0m \u001b[1;33m=\u001b[0m \u001b[0mwaiter\u001b[0m\u001b[1;33m.\u001b[0m\u001b[0macquire\u001b[0m\u001b[1;33m(\u001b[0m\u001b[1;32mFalse\u001b[0m\u001b[1;33m)\u001b[0m\u001b[1;33m\u001b[0m\u001b[1;33m\u001b[0m\u001b[0m\n",
      "\u001b[1;31mKeyboardInterrupt\u001b[0m: "
     ]
    }
   ],
   "source": [
    "# Training\n",
    "\n",
    "from tensorflow.keras import optimizers\n",
    "\n",
    "import time\n",
    "\n",
    "start = time.time()\n",
    "\n",
    "nn = tf.keras.Sequential([tf.keras.layers.Dense(100,activation = 'relu'), \n",
    "tf.keras.layers.Dense(10,activation = 'softmax')]) #sigmoid // softmax\n",
    "\n",
    "circuit_input = tf.keras.Input(shape = (), dtype = tf.string, name = 'circuits_input')\n",
    "\n",
    "\n",
    "measurement_ops = [cirq.Z(q[i]) for i in range(qubits)] \n",
    "\n",
    "circuit_layer = tfq.layers.PQC(model_circuit, measurement_ops)\n",
    "\n",
    "\n",
    "model = tf.keras.Model(inputs = circuit_input, outputs = nn(circuit_layer(circuit_input)))\n",
    "\n",
    "\n",
    "optimizer = tf.keras.optimizers.Adam(learning_rate = 0.01)\n",
    "\n",
    "model.compile(optimizer = optimizer, loss = 'categorical_crossentropy', metrics = ['accuracy'])#,'Precision','recall', 'f1score'])\n",
    "\n",
    "history = model.fit(x = tfq.convert_to_tensor(x_train_q), y = y_train, epochs = 300, verbose = 1, validation_split = 0.1, callbacks=[es])\n",
    "\n",
    "loss, acc = model.evaluate(tfq.convert_to_tensor(x_test_q), y_test, verbose = 2)\n",
    "\n",
    "\n",
    "end = time.time()\n",
    "print(\"Run time:\", end - start)\n"
   ]
  },
  {
   "cell_type": "markdown",
   "metadata": {
    "id": "70fXIKUfHXuL"
   },
   "source": [
    "### Testing the Hybrid Quantum - Classical Model"
   ]
  },
  {
   "cell_type": "code",
   "execution_count": 118,
   "metadata": {
    "id": "zmc_bLVyHXuL",
    "outputId": "f6f33db6-8428-4f6f-9f76-f811dd2faf6c"
   },
   "outputs": [
    {
     "name": "stdout",
     "output_type": "stream",
     "text": [
      "261/261 - 0s - loss: 0.0726 - accuracy: 0.9655\n",
      "[[53  0  0  0  0  0  0  0  0  0]\n",
      " [ 0 28  0  0  0  0  0  0  0  0]\n",
      " [ 0  0 17  0  0  0  0  0  0  0]\n",
      " [ 0  0  0 21  0  0  0  0  0  0]\n",
      " [ 0  0  0  0 20  1  0  0  0  0]\n",
      " [ 0  0  0  0  1 16  0  0  2  0]\n",
      " [ 0  0  0  0  0  0 21  0  1  0]\n",
      " [ 0  0  0  0  0  0  0 34  0  2]\n",
      " [ 0  0  1  0  0  0  1  0 24  0]\n",
      " [ 0  0  0  0  0  0  0  0  0 18]]\n"
     ]
    }
   ],
   "source": [
    "# Evaluate the model on the test dataset\n",
    "\n",
    "y_test_ne = np.argmax(y_test, axis = 1)\n",
    "y_test_pred_ne = np.argmax(model.predict(tfq.convert_to_tensor(x_test_q)), axis = 1)\n",
    "\n",
    "cm = confusion_matrix(y_test_ne, y_test_pred_ne)\n",
    "\n",
    "print(cm)"
   ]
  },
  {
   "cell_type": "code",
   "execution_count": 119,
   "metadata": {
    "colab": {
     "base_uri": "https://localhost:8080/",
     "height": 307
    },
    "id": "y1zQmlYqHXuM",
    "outputId": "252aa58b-0e58-4de9-d50c-a9dc16df70c0",
    "scrolled": false
   },
   "outputs": [
    {
     "data": {
      "image/png": "[encoded data removed]",
      "text/plain": [
       "<Figure size 432x288 with 2 Axes>"
      ]
     },
     "metadata": {
      "needs_background": "light"
     },
     "output_type": "display_data"
    }
   ],
   "source": [
    "\n",
    "# Plot the confusion matrix\n",
    "\n",
    "import seaborn as sns\n",
    "\n",
    "ax = sns.heatmap(cm, annot=True, cmap='Blues')\n",
    "\n",
    "ax.set_title('CWRU Classification Case Study: Test Data');\n",
    "ax.set_xlabel('\\nPredicted Label')\n",
    "ax.set_ylabel('True Label');\n",
    "\n",
    "\n",
    "## Display the visualization of the Confusion Matrix.\n",
    "plt.show()\n",
    "\n",
    "\n"
   ]
  },
  {
   "cell_type": "code",
   "execution_count": null,
   "metadata": {},
   "outputs": [],
   "source": [
    "# Classification report (test set)\n",
    "\n",
    "from sklearn.metrics import classification_report\n",
    "\n",
    "class_report_best = classification_report(y_pred = y_test_pred_ne , y_true = y_test_ne, digits = 4)\n",
    "print(class_report_best)\n",
    "runtime = end - start\n",
    "print(runtime)"
   ]
  },
  {
   "cell_type": "code",
   "execution_count": 122,
   "metadata": {
    "colab": {
     "base_uri": "https://localhost:8080/",
     "height": 295
    },
    "id": "GJzFF7cUHXuM",
    "outputId": "642e0334-31a4-4d15-84bc-849ea0939dc1"
   },
   "outputs": [
    {
     "data": {
      "image/png": "[encoded data removed]",
      "text/plain": [
       "<Figure size 432x288 with 1 Axes>"
      ]
     },
     "metadata": {
      "needs_background": "light"
     },
     "output_type": "display_data"
    }
   ],
   "source": [
    "plt.plot(history.history['loss'])\n",
    "plt.plot(history.history['val_loss'])\n",
    "plt.title(\"CWRU Classification Case Study\")\n",
    "plt.xlabel(\"Epochs\")\n",
    "plt.ylabel(\"Loss\")\n",
    "plt.legend(['train', 'validation'], loc='upper right')\n",
    "plt.grid()\n",
    "plt.show()"
   ]
  },
  {
   "cell_type": "code",
   "execution_count": 123,
   "metadata": {
    "colab": {
     "base_uri": "https://localhost:8080/",
     "height": 295
    },
    "id": "UgZfu7B1uU-C",
    "outputId": "9357ccf2-22de-4cff-833f-699ed78daa29",
    "scrolled": true
   },
   "outputs": [
    {
     "data": {
      "image/png": "[encoded data removed]",
      "text/plain": [
       "<Figure size 432x288 with 1 Axes>"
      ]
     },
     "metadata": {
      "needs_background": "light"
     },
     "output_type": "display_data"
    }
   ],
   "source": [
    "plt.plot(history.history['accuracy'])\n",
    "plt.plot(history.history['val_accuracy'])\n",
    "plt.title(\"CWRU Classification Case Study\")\n",
    "plt.xlabel(\"Epochs\")\n",
    "plt.ylabel(\"Accuracy\")\n",
    "plt.legend(['train', 'validation'], loc='lower right')\n",
    "plt.grid()\n",
    "#plt.show()\n",
    "plt.savefig(r\"C:\\Users\\User\\Documents\\Lavinia\\images\\CWRU\\CWRU_5feat\\iswap1_accuracy.jpg\")"
   ]
  }
 ],
 "metadata": {
  "accelerator": "GPU",
  "colab": {
   "provenance": []
  },
  "gpuClass": "standard",
  "kernelspec": {
   "display_name": "Python 3",
   "language": "python",
   "name": "python3"
  },
  "language_info": {
   "codemirror_mode": {
    "name": "ipython",
    "version": 3
   },
   "file_extension": ".py",
   "mimetype": "text/x-python",
   "name": "python",
   "nbconvert_exporter": "python",
   "pygments_lexer": "ipython3",
   "version": "3.6.13"
  }
 },
 "nbformat": 4,
 "nbformat_minor": 1
}
